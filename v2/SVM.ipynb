{
  "cells": [
    {
      "cell_type": "markdown",
      "metadata": {
        "id": "1hhLTQhy1YY7"
      },
      "source": [
        "BY: **RIYA JOSHI**\n",
        "\n",
        "EMAIL: riya.joshi@somaiya.edu"
      ]
    },
    {
      "cell_type": "markdown",
      "metadata": {
        "id": "7La9O7cZ1cze"
      },
      "source": [
        "\n",
        "\n",
        "---\n",
        "\n",
        "\n",
        "### **Basic idea behind SVM(Support Vector Machine) algorithm**:\n",
        "\n",
        "*   SVM (Support Vector Machine) is a supervised machine learning algorithm that can be used for both classification and regression tasks.\n",
        "*   The algorithm works by finding a hyperplane (or decision boundary) which have the following properties:\n",
        "  - It creates separation between data points of two classes with a maximum margin\n",
        "  - Its equation (w.x + b = 0) yields a value ≥ 1 for examples from +ve class and ≤-1 for examples from -ve class\n",
        "  \n",
        "* It finds this hyperplane by finding the optimal values w (weights/normal) and b (intercept) which define this hyperplane. The optimal values are found by minimizing a cost function. \n",
        "\n",
        "* The data points above or on the hyperplane are classified as class +1 and the points be low are classified as class -1. In other words, the equation (w.x+b=0) yields a value ≥ 1 for +ve class and ≤ -1 for -ve class.\n",
        "\n",
        "\n",
        "### **Applications of SVM**:\n",
        "\n",
        "* Face detection \n",
        "* Text and hypertext categorization \n",
        "* Classification of images \n",
        "* Bioinformatics\n",
        "* Protein fold and remote homology detection \n",
        "* Handwriting recognition \n",
        "* Generalized predictive control(GPC) \n",
        "\n",
        "\n",
        "\n",
        "\n",
        "\n",
        "---\n",
        "\n",
        "\n"
      ]
    },
    {
      "cell_type": "code",
      "execution_count": 15,
      "metadata": {
        "id": "tPARGFfH1Mt5"
      },
      "outputs": [],
      "source": [
        "# Importing required libraries\n",
        "import numpy as np\n",
        "import pandas as pd\n",
        "\n",
        "from sklearn.metrics import accuracy_score,confusion_matrix\n",
        "from sklearn.preprocessing import LabelEncoder\n",
        "\n",
        "import warnings\n",
        "warnings.filterwarnings('ignore')"
      ]
    },
    {
      "cell_type": "code",
      "execution_count": 16,
      "metadata": {
        "colab": {
          "base_uri": "https://localhost:8080/",
          "height": 502
        },
        "id": "-FdftdHL2AmP",
        "outputId": "12288bf8-8e3d-4f9a-d9f2-ad42affe83b5"
      },
      "outputs": [
        {
          "data": {
            "text/html": [
              "<div>\n",
              "<style scoped>\n",
              "    .dataframe tbody tr th:only-of-type {\n",
              "        vertical-align: middle;\n",
              "    }\n",
              "\n",
              "    .dataframe tbody tr th {\n",
              "        vertical-align: top;\n",
              "    }\n",
              "\n",
              "    .dataframe thead th {\n",
              "        text-align: right;\n",
              "    }\n",
              "</style>\n",
              "<table border=\"1\" class=\"dataframe\">\n",
              "  <thead>\n",
              "    <tr style=\"text-align: right;\">\n",
              "      <th></th>\n",
              "      <th>Unnamed: 0</th>\n",
              "      <th>UTC</th>\n",
              "      <th>Temperature[C]</th>\n",
              "      <th>Humidity[%]</th>\n",
              "      <th>TVOC[ppb]</th>\n",
              "      <th>eCO2[ppm]</th>\n",
              "      <th>Raw H2</th>\n",
              "      <th>Raw Ethanol</th>\n",
              "      <th>Pressure[hPa]</th>\n",
              "      <th>PM1.0</th>\n",
              "      <th>PM2.5</th>\n",
              "      <th>NC0.5</th>\n",
              "      <th>NC1.0</th>\n",
              "      <th>NC2.5</th>\n",
              "      <th>CNT</th>\n",
              "      <th>Fire Alarm</th>\n",
              "    </tr>\n",
              "  </thead>\n",
              "  <tbody>\n",
              "    <tr>\n",
              "      <th>0</th>\n",
              "      <td>0</td>\n",
              "      <td>1654733331</td>\n",
              "      <td>20.000</td>\n",
              "      <td>57.36</td>\n",
              "      <td>0</td>\n",
              "      <td>400</td>\n",
              "      <td>12306</td>\n",
              "      <td>18520</td>\n",
              "      <td>939.735</td>\n",
              "      <td>0.0</td>\n",
              "      <td>0.0</td>\n",
              "      <td>0.0</td>\n",
              "      <td>0.0</td>\n",
              "      <td>0.0</td>\n",
              "      <td>0</td>\n",
              "      <td>0</td>\n",
              "    </tr>\n",
              "    <tr>\n",
              "      <th>1</th>\n",
              "      <td>1</td>\n",
              "      <td>1654733332</td>\n",
              "      <td>20.015</td>\n",
              "      <td>56.67</td>\n",
              "      <td>0</td>\n",
              "      <td>400</td>\n",
              "      <td>12345</td>\n",
              "      <td>18651</td>\n",
              "      <td>939.744</td>\n",
              "      <td>0.0</td>\n",
              "      <td>0.0</td>\n",
              "      <td>0.0</td>\n",
              "      <td>0.0</td>\n",
              "      <td>0.0</td>\n",
              "      <td>1</td>\n",
              "      <td>0</td>\n",
              "    </tr>\n",
              "    <tr>\n",
              "      <th>2</th>\n",
              "      <td>2</td>\n",
              "      <td>1654733333</td>\n",
              "      <td>20.029</td>\n",
              "      <td>55.96</td>\n",
              "      <td>0</td>\n",
              "      <td>400</td>\n",
              "      <td>12374</td>\n",
              "      <td>18764</td>\n",
              "      <td>939.738</td>\n",
              "      <td>0.0</td>\n",
              "      <td>0.0</td>\n",
              "      <td>0.0</td>\n",
              "      <td>0.0</td>\n",
              "      <td>0.0</td>\n",
              "      <td>2</td>\n",
              "      <td>0</td>\n",
              "    </tr>\n",
              "    <tr>\n",
              "      <th>3</th>\n",
              "      <td>3</td>\n",
              "      <td>1654733334</td>\n",
              "      <td>20.044</td>\n",
              "      <td>55.28</td>\n",
              "      <td>0</td>\n",
              "      <td>400</td>\n",
              "      <td>12390</td>\n",
              "      <td>18849</td>\n",
              "      <td>939.736</td>\n",
              "      <td>0.0</td>\n",
              "      <td>0.0</td>\n",
              "      <td>0.0</td>\n",
              "      <td>0.0</td>\n",
              "      <td>0.0</td>\n",
              "      <td>3</td>\n",
              "      <td>0</td>\n",
              "    </tr>\n",
              "    <tr>\n",
              "      <th>4</th>\n",
              "      <td>4</td>\n",
              "      <td>1654733335</td>\n",
              "      <td>20.059</td>\n",
              "      <td>54.69</td>\n",
              "      <td>0</td>\n",
              "      <td>400</td>\n",
              "      <td>12403</td>\n",
              "      <td>18921</td>\n",
              "      <td>939.744</td>\n",
              "      <td>0.0</td>\n",
              "      <td>0.0</td>\n",
              "      <td>0.0</td>\n",
              "      <td>0.0</td>\n",
              "      <td>0.0</td>\n",
              "      <td>4</td>\n",
              "      <td>0</td>\n",
              "    </tr>\n",
              "  </tbody>\n",
              "</table>\n",
              "</div>"
            ],
            "text/plain": [
              "   Unnamed: 0         UTC  Temperature[C]  Humidity[%]  TVOC[ppb]  eCO2[ppm]  \\\n",
              "0           0  1654733331          20.000        57.36          0        400   \n",
              "1           1  1654733332          20.015        56.67          0        400   \n",
              "2           2  1654733333          20.029        55.96          0        400   \n",
              "3           3  1654733334          20.044        55.28          0        400   \n",
              "4           4  1654733335          20.059        54.69          0        400   \n",
              "\n",
              "   Raw H2  Raw Ethanol  Pressure[hPa]  PM1.0  PM2.5  NC0.5  NC1.0  NC2.5  CNT  \\\n",
              "0   12306        18520        939.735    0.0    0.0    0.0    0.0    0.0    0   \n",
              "1   12345        18651        939.744    0.0    0.0    0.0    0.0    0.0    1   \n",
              "2   12374        18764        939.738    0.0    0.0    0.0    0.0    0.0    2   \n",
              "3   12390        18849        939.736    0.0    0.0    0.0    0.0    0.0    3   \n",
              "4   12403        18921        939.744    0.0    0.0    0.0    0.0    0.0    4   \n",
              "\n",
              "   Fire Alarm  \n",
              "0           0  \n",
              "1           0  \n",
              "2           0  \n",
              "3           0  \n",
              "4           0  "
            ]
          },
          "execution_count": 16,
          "metadata": {},
          "output_type": "execute_result"
        }
      ],
      "source": [
        "df = pd.read_csv('./smoke.csv') #importing dataset\n",
        "df.head() # displaying first five records"
      ]
    },
    {
      "cell_type": "code",
      "execution_count": 17,
      "metadata": {
        "id": "8oN3XT0l2DAk"
      },
      "outputs": [],
      "source": [
        "# replacing null values with 0\n",
        "df = df.fillna(value= 0)"
      ]
    },
    {
      "cell_type": "code",
      "execution_count": 18,
      "metadata": {
        "id": "Tntms7dh2E10"
      },
      "outputs": [],
      "source": [
        "# Shuffling dataset ( to remove any biases in the dataset if any )\n",
        "df = df.sample(frac=1)"
      ]
    },
    {
      "cell_type": "code",
      "execution_count": 19,
      "metadata": {
        "colab": {
          "base_uri": "https://localhost:8080/",
          "height": 205
        },
        "id": "SwBfywg8XOsj",
        "outputId": "a9e2e514-c4d4-4a4b-cd9d-42be554e8984"
      },
      "outputs": [
        {
          "data": {
            "text/html": [
              "<div>\n",
              "<style scoped>\n",
              "    .dataframe tbody tr th:only-of-type {\n",
              "        vertical-align: middle;\n",
              "    }\n",
              "\n",
              "    .dataframe tbody tr th {\n",
              "        vertical-align: top;\n",
              "    }\n",
              "\n",
              "    .dataframe thead th {\n",
              "        text-align: right;\n",
              "    }\n",
              "</style>\n",
              "<table border=\"1\" class=\"dataframe\">\n",
              "  <thead>\n",
              "    <tr style=\"text-align: right;\">\n",
              "      <th></th>\n",
              "      <th>UTC</th>\n",
              "      <th>Temperature[C]</th>\n",
              "      <th>Humidity[%]</th>\n",
              "      <th>TVOC[ppb]</th>\n",
              "      <th>eCO2[ppm]</th>\n",
              "      <th>Raw H2</th>\n",
              "      <th>Raw Ethanol</th>\n",
              "      <th>Pressure[hPa]</th>\n",
              "      <th>PM1.0</th>\n",
              "      <th>PM2.5</th>\n",
              "      <th>NC0.5</th>\n",
              "      <th>NC1.0</th>\n",
              "      <th>NC2.5</th>\n",
              "      <th>CNT</th>\n",
              "      <th>Fire Alarm</th>\n",
              "    </tr>\n",
              "  </thead>\n",
              "  <tbody>\n",
              "    <tr>\n",
              "      <th>24438</th>\n",
              "      <td>1654757769</td>\n",
              "      <td>-3.123</td>\n",
              "      <td>48.17</td>\n",
              "      <td>1306</td>\n",
              "      <td>407</td>\n",
              "      <td>12995</td>\n",
              "      <td>19404</td>\n",
              "      <td>938.798</td>\n",
              "      <td>2.10</td>\n",
              "      <td>2.18</td>\n",
              "      <td>14.43</td>\n",
              "      <td>2.250</td>\n",
              "      <td>0.051</td>\n",
              "      <td>24438</td>\n",
              "      <td>1</td>\n",
              "    </tr>\n",
              "    <tr>\n",
              "      <th>19480</th>\n",
              "      <td>1654752811</td>\n",
              "      <td>19.955</td>\n",
              "      <td>52.29</td>\n",
              "      <td>1243</td>\n",
              "      <td>411</td>\n",
              "      <td>12919</td>\n",
              "      <td>19429</td>\n",
              "      <td>938.699</td>\n",
              "      <td>1.54</td>\n",
              "      <td>1.60</td>\n",
              "      <td>10.57</td>\n",
              "      <td>1.648</td>\n",
              "      <td>0.037</td>\n",
              "      <td>19480</td>\n",
              "      <td>1</td>\n",
              "    </tr>\n",
              "    <tr>\n",
              "      <th>18390</th>\n",
              "      <td>1654751721</td>\n",
              "      <td>19.712</td>\n",
              "      <td>47.29</td>\n",
              "      <td>1230</td>\n",
              "      <td>404</td>\n",
              "      <td>12905</td>\n",
              "      <td>19418</td>\n",
              "      <td>938.728</td>\n",
              "      <td>1.82</td>\n",
              "      <td>1.89</td>\n",
              "      <td>12.51</td>\n",
              "      <td>1.951</td>\n",
              "      <td>0.044</td>\n",
              "      <td>18390</td>\n",
              "      <td>1</td>\n",
              "    </tr>\n",
              "    <tr>\n",
              "      <th>8408</th>\n",
              "      <td>1654741739</td>\n",
              "      <td>-4.648</td>\n",
              "      <td>53.20</td>\n",
              "      <td>343</td>\n",
              "      <td>400</td>\n",
              "      <td>13091</td>\n",
              "      <td>19926</td>\n",
              "      <td>939.360</td>\n",
              "      <td>0.31</td>\n",
              "      <td>0.33</td>\n",
              "      <td>2.15</td>\n",
              "      <td>0.336</td>\n",
              "      <td>0.008</td>\n",
              "      <td>8408</td>\n",
              "      <td>1</td>\n",
              "    </tr>\n",
              "    <tr>\n",
              "      <th>42825</th>\n",
              "      <td>1654779174</td>\n",
              "      <td>26.740</td>\n",
              "      <td>48.58</td>\n",
              "      <td>1111</td>\n",
              "      <td>400</td>\n",
              "      <td>12909</td>\n",
              "      <td>19456</td>\n",
              "      <td>938.715</td>\n",
              "      <td>1.72</td>\n",
              "      <td>1.79</td>\n",
              "      <td>11.87</td>\n",
              "      <td>1.851</td>\n",
              "      <td>0.042</td>\n",
              "      <td>17831</td>\n",
              "      <td>1</td>\n",
              "    </tr>\n",
              "  </tbody>\n",
              "</table>\n",
              "</div>"
            ],
            "text/plain": [
              "              UTC  Temperature[C]  Humidity[%]  TVOC[ppb]  eCO2[ppm]  Raw H2  \\\n",
              "24438  1654757769          -3.123        48.17       1306        407   12995   \n",
              "19480  1654752811          19.955        52.29       1243        411   12919   \n",
              "18390  1654751721          19.712        47.29       1230        404   12905   \n",
              "8408   1654741739          -4.648        53.20        343        400   13091   \n",
              "42825  1654779174          26.740        48.58       1111        400   12909   \n",
              "\n",
              "       Raw Ethanol  Pressure[hPa]  PM1.0  PM2.5  NC0.5  NC1.0  NC2.5    CNT  \\\n",
              "24438        19404        938.798   2.10   2.18  14.43  2.250  0.051  24438   \n",
              "19480        19429        938.699   1.54   1.60  10.57  1.648  0.037  19480   \n",
              "18390        19418        938.728   1.82   1.89  12.51  1.951  0.044  18390   \n",
              "8408         19926        939.360   0.31   0.33   2.15  0.336  0.008   8408   \n",
              "42825        19456        938.715   1.72   1.79  11.87  1.851  0.042  17831   \n",
              "\n",
              "       Fire Alarm  \n",
              "24438           1  \n",
              "19480           1  \n",
              "18390           1  \n",
              "8408            1  \n",
              "42825           1  "
            ]
          },
          "execution_count": 19,
          "metadata": {},
          "output_type": "execute_result"
        }
      ],
      "source": [
        "new_df=df[['UTC', 'Temperature[C]', 'Humidity[%]', 'TVOC[ppb]', 'eCO2[ppm]', 'Raw H2','Raw Ethanol', 'Pressure[hPa]', 'PM1.0', 'PM2.5', 'NC0.5', 'NC1.0', 'NC2.5', 'CNT', 'Fire Alarm']]\n",
        "new_df.head()"
      ]
    },
    {
      "cell_type": "code",
      "execution_count": 20,
      "metadata": {
        "id": "MDrpnRlGXuX8"
      },
      "outputs": [],
      "source": [
        "# converting type from object to string to be able to apply Label Encoder\n",
        "new_df['Fire Alarm']=new_df['Fire Alarm'].astype(dtype='string',copy=True)"
      ]
    },
    {
      "cell_type": "code",
      "execution_count": 21,
      "metadata": {
        "id": "VXJEISmAXtH6"
      },
      "outputs": [],
      "source": [
        "# converting catagorical column 'Fire Alarm' to numerical column by LabelEncoding\n",
        "new_df['Fire Alarm'] = LabelEncoder().fit_transform(new_df['Fire Alarm'])"
      ]
    },
    {
      "cell_type": "code",
      "execution_count": 22,
      "metadata": {
        "id": "zpErCVyvX0Sb"
      },
      "outputs": [],
      "source": [
        "# changing data type of whole dataset to int\n",
        "new_df = new_df.astype(int)"
      ]
    },
    {
      "cell_type": "code",
      "execution_count": 23,
      "metadata": {
        "id": "OuUTK9mNX3xU"
      },
      "outputs": [],
      "source": [
        "# splitting dataset into 70:30 ratio\n",
        "\n",
        "# Defining train size\n",
        "train_size = int(0.7 * len(new_df))\n",
        "\n",
        "# Splitting dataset\n",
        "train_set = new_df[:train_size]\n",
        "test_set = new_df[train_size:]"
      ]
    },
    {
      "cell_type": "code",
      "execution_count": 24,
      "metadata": {
        "id": "pfJSZpG-X6ga"
      },
      "outputs": [],
      "source": [
        "# separating train_set into X and Y\n",
        "X_train=train_set.drop('Fire Alarm', axis=1)\n",
        "y_train=train_set['Fire Alarm']\n",
        "\n",
        "# separating test_set into X and Y\n",
        "X_test=test_set.drop('Fire Alarm', axis=1)\n",
        "y_test=test_set['Fire Alarm']"
      ]
    },
    {
      "cell_type": "code",
      "execution_count": 25,
      "metadata": {
        "id": "OG__R5MuXMaJ"
      },
      "outputs": [],
      "source": [
        "class SVM:\n",
        "\n",
        "\tdef __init__(self, kernel = \"linear\", learning_rate = 1e-4, regularization_strength = 1.0, max_iter = 2000):\n",
        " \n",
        "\t\tself.num_feats = int\n",
        "\t\tself.train_size = int\n",
        "\t\tself.weights = np.array \n",
        "\t\tself.y_train = np.array \n",
        "\t\tself.input_matrix = np.array\n",
        "\n",
        "\t\tself.kernel = kernel\n",
        "\t\tself.kernel_matrix = np.array\n",
        "\t\tself.support_vectors = np.array\n",
        "\t\tself.learning_rate = learning_rate \t# Learning rate for gradient descent\n",
        "\t\tself.regularization_strength = regularization_strength \t# Regularization parameter, to control bias-variance tradeoff\n",
        "\t\tself.max_iter = max_iter\t# Maximum Number of iterations to run gradient descent\n",
        "\t\tself.cost_threshold = 0.1 * learning_rate  # stopping criterion for gradient descent\n",
        "\n",
        "\tdef fit(self, X, y):\n",
        "\n",
        "\t\t\"\"\" Adjust weights to training data \"\"\"\n",
        "\n",
        "\t\tself.train_size = X.shape[0]\n",
        "\t\tself.num_feats = X.shape[1]\n",
        "\t\tself.input_matrix = np.append(X, np.ones(self.train_size).reshape(-1, 1), axis = 1)   #Add Column with Ones for intercept term \n",
        "\t\tself.y_train = np.where(y == 0, -1, 1)\n",
        "\t\tself.weights = np.zeros(self.num_feats + 1) #Extra +1 for the intercept\n",
        "\n",
        "\t\t# optimize weights\n",
        "\t\tprev_cost = float(\"inf\")\n",
        "\t\tfor i in range(self.max_iter):\n",
        "\t\t\tcost = self._update_weights()\n",
        "\t\t\t\n",
        "\t\t\tif i%100 ==0 or i == self.max_iter:\n",
        "\t\t\t\tprint(\"Cost after {} iterations is: {}\".format(i, cost))\n",
        "\t\t\tif abs(prev_cost -cost) < self.cost_threshold*prev_cost:\n",
        "\t\t\t\tprint(\"Cost after {} iterations is: {}\".format(i, cost))\n",
        "\t\t\t\tbreak\n",
        "\t\t\tprev_cost = cost\n",
        "\n",
        "\tdef _update_weights(self):\n",
        "\n",
        "\t\t\"\"\"\n",
        "\t\t\tCost Function:\n",
        "\t\t\t\tl(w) = sum(max(0, 1 - y(wX + b))) + (lambda/2)(||w||)^2\n",
        "\t\t\t\tFirst Term is Hinge Loss, Second is Regularization term\n",
        "\t\t\tGradient:\n",
        "\t\t\t    delta_w = dl/dw = (1/n) * ( if y(wX+b) < 1: -yX + lambda*w else: lambda*w )\n",
        "\t\t\tGradient Descent\n",
        "\t\t\t\tw = w - (learning_rate * delta_w)\n",
        "\t\t\"\"\"\n",
        "\t\ty_pred = (self.weights * self.input_matrix).sum(axis = 1) # y_pred = wX+b\n",
        "\n",
        "\n",
        "\t\tdist = (1 - (self.y_train * y_pred))\n",
        "\t\tdist[dist < 0] = 0\n",
        "\t\thinge_loss = np.sum(dist)/self.train_size\n",
        "\t\tregularization_term = (1/2) * self.regularization_strength * (np.dot(self.weights, self.weights))\n",
        "\t\tcost = hinge_loss  + regularization_term\n",
        "\n",
        "\t\tdelta_w =  self.regularization_strength * (self.weights)\n",
        "\n",
        "\t\tfor y, yhat, X in zip(self.y_train, y_pred, self.input_matrix):\n",
        "\n",
        "\t\t\tif y*yhat < 1:\n",
        "\t\t\t\tdelta_w -= y*X\n",
        "\n",
        "\t\tdelta_w /= self.train_size\n",
        "\t\tself.weights = self.weights - (self.learning_rate * delta_w)\n",
        "\n",
        "\t\treturn cost\n",
        "\n",
        "\tdef predict(self, X):\n",
        "\n",
        "\t\t\"\"\" Make predictions on given X using trained model \"\"\"\n",
        "\n",
        "\t\tsize = X.shape[0]\n",
        "\t\tX = np.append(X, np.ones(size).reshape(-1, 1), axis = 1)\n",
        "\n",
        "\t\ty_pred = np.sign((self.weights * X).sum(axis = 1))\n",
        "\n",
        "\t\ty_pred[np.where(y_pred == -1)] = 0.0\n",
        "\n",
        "\t\treturn y_pred "
      ]
    },
    {
      "cell_type": "code",
      "execution_count": 26,
      "metadata": {
        "colab": {
          "base_uri": "https://localhost:8080/"
        },
        "id": "9BHkyG9D28Vi",
        "outputId": "3c62f29a-9052-4b7d-9ff3-5a8243bc2bf8"
      },
      "outputs": [
        {
          "name": "stdout",
          "output_type": "stream",
          "text": [
            "Cost after 0 iterations is: 1.0\n",
            "Cost after 100 iterations is: 1663357175255.456\n",
            "Cost after 200 iterations is: 5551815682561.569\n",
            "Cost after 300 iterations is: 1634179982000.7266\n",
            "Cost after 400 iterations is: 5522633142537.887\n",
            "Cost after 500 iterations is: 1605002824457.9653\n",
            "Cost after 600 iterations is: 5493450638225.304\n",
            "Cost after 700 iterations is: 1575825702627.2136\n",
            "Cost after 800 iterations is: 5464268169623.829\n",
            "Cost after 900 iterations is: 1546648616508.481\n",
            "Cost after 1000 iterations is: 5435085736733.499\n",
            "Cost after 1100 iterations is: 1517471584795.6877\n",
            "Cost after 1200 iterations is: 5405903358251.653\n",
            "Cost after 1300 iterations is: 1488294588794.9038\n",
            "Cost after 1400 iterations is: 5376721015480.932\n",
            "Cost after 1500 iterations is: 1459117628506.141\n",
            "Cost after 1600 iterations is: 5347538708421.34\n",
            "Cost after 1700 iterations is: 1429940703929.4302\n",
            "Cost after 1800 iterations is: 5318356437072.923\n",
            "Cost after 1900 iterations is: 1400763833758.5771\n"
          ]
        }
      ],
      "source": [
        "svm_clf = SVM(learning_rate = 1e-5, regularization_strength = 10.5)\n",
        "\n",
        "svm_clf.fit(X_train, y_train)"
      ]
    },
    {
      "cell_type": "code",
      "execution_count": 27,
      "metadata": {
        "colab": {
          "base_uri": "https://localhost:8080/"
        },
        "id": "Z8cxExzr2_rr",
        "outputId": "c3810199-4700-4fee-95fa-364c6ee28674"
      },
      "outputs": [
        {
          "name": "stdout",
          "output_type": "stream",
          "text": [
            "Coefficients: [ 1.12128754e+04 -2.10285221e-02  3.27671783e-02 -1.55641265e+01\n",
            " -1.74887714e+00  3.63828631e-01 -1.69263298e+00  9.46116429e-03\n",
            " -1.00484911e+00 -1.68143278e+00 -5.31510104e+00 -1.84088708e+00\n",
            " -6.42969431e-01  4.62129491e+01]\n"
          ]
        }
      ],
      "source": [
        "print(\"Coefficients: {}\".format(svm_clf.weights[:-1]))"
      ]
    },
    {
      "cell_type": "code",
      "execution_count": 28,
      "metadata": {
        "colab": {
          "base_uri": "https://localhost:8080/"
        },
        "id": "5kg7_Yrp3BI7",
        "outputId": "f05d5f1a-0e7d-4f8d-98ed-bbc9fc2dcd0b"
      },
      "outputs": [
        {
          "name": "stdout",
          "output_type": "stream",
          "text": [
            "Intercept: 7.0062162723936404e-06\n"
          ]
        }
      ],
      "source": [
        "print(\"Intercept: {}\".format(svm_clf.weights[-1]))"
      ]
    },
    {
      "cell_type": "code",
      "execution_count": 29,
      "metadata": {
        "id": "ECs_JNcF3Umn"
      },
      "outputs": [],
      "source": [
        "def accuracy_score(y_true, y_pred):\n",
        "\n",
        "\t\"\"\"\tscore = (y_true - y_pred) / len(y_true) \"\"\"\n",
        "\n",
        "\treturn round(float(sum(y_pred == y_true))/float(len(y_true)) * 100 ,2)"
      ]
    },
    {
      "cell_type": "code",
      "execution_count": 30,
      "metadata": {
        "colab": {
          "base_uri": "https://localhost:8080/"
        },
        "id": "033wDvXd3NZB",
        "outputId": "edf39f74-23d3-4ee9-893a-69c861f8e804"
      },
      "outputs": [
        {
          "name": "stdout",
          "output_type": "stream",
          "text": [
            "Train Accuracy: 71.5\n",
            "Test Accuracy: 71.38\n"
          ]
        }
      ],
      "source": [
        "print(\"Train Accuracy: {}\".format(accuracy_score(y_train, svm_clf.predict(X_train))))\n",
        "print(\"Test Accuracy: {}\".format(accuracy_score(y_test, svm_clf.predict(X_test))))"
      ]
    }
  ],
  "metadata": {
    "colab": {
      "collapsed_sections": [],
      "name": "(6) SVM.ipynb",
      "provenance": []
    },
    "kernelspec": {
      "display_name": "Python 3.10.8 64-bit",
      "language": "python",
      "name": "python3"
    },
    "language_info": {
      "codemirror_mode": {
        "name": "ipython",
        "version": 3
      },
      "file_extension": ".py",
      "mimetype": "text/x-python",
      "name": "python",
      "nbconvert_exporter": "python",
      "pygments_lexer": "ipython3",
      "version": "3.10.8"
    },
    "vscode": {
      "interpreter": {
        "hash": "b0fa6594d8f4cbf19f97940f81e996739fb7646882a419484c72d19e05852a7e"
      }
    }
  },
  "nbformat": 4,
  "nbformat_minor": 0
}
