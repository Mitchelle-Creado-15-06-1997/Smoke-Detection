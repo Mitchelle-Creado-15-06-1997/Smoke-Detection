{
  "cells": [
    {
      "cell_type": "code",
      "execution_count": 1,
      "metadata": {
        "id": "tPARGFfH1Mt5"
      },
      "outputs": [],
      "source": [
        "# Importing required libraries\n",
        "import numpy as np\n",
        "import pandas as pd\n",
        "\n",
        "from sklearn.metrics import accuracy_score,confusion_matrix\n",
        "from sklearn.preprocessing import LabelEncoder\n",
        "\n",
        "import warnings\n",
        "warnings.filterwarnings('ignore')"
      ]
    },
    {
      "cell_type": "code",
      "execution_count": 2,
      "metadata": {
        "colab": {
          "base_uri": "https://localhost:8080/",
          "height": 502
        },
        "id": "-FdftdHL2AmP",
        "outputId": "12288bf8-8e3d-4f9a-d9f2-ad42affe83b5"
      },
      "outputs": [
        {
          "data": {
            "text/html": [
              "<div>\n",
              "<style scoped>\n",
              "    .dataframe tbody tr th:only-of-type {\n",
              "        vertical-align: middle;\n",
              "    }\n",
              "\n",
              "    .dataframe tbody tr th {\n",
              "        vertical-align: top;\n",
              "    }\n",
              "\n",
              "    .dataframe thead th {\n",
              "        text-align: right;\n",
              "    }\n",
              "</style>\n",
              "<table border=\"1\" class=\"dataframe\">\n",
              "  <thead>\n",
              "    <tr style=\"text-align: right;\">\n",
              "      <th></th>\n",
              "      <th>Unnamed: 0</th>\n",
              "      <th>UTC</th>\n",
              "      <th>Temperature[C]</th>\n",
              "      <th>Humidity[%]</th>\n",
              "      <th>TVOC[ppb]</th>\n",
              "      <th>eCO2[ppm]</th>\n",
              "      <th>Raw H2</th>\n",
              "      <th>Raw Ethanol</th>\n",
              "      <th>Pressure[hPa]</th>\n",
              "      <th>PM1.0</th>\n",
              "      <th>PM2.5</th>\n",
              "      <th>NC0.5</th>\n",
              "      <th>NC1.0</th>\n",
              "      <th>NC2.5</th>\n",
              "      <th>CNT</th>\n",
              "      <th>Fire Alarm</th>\n",
              "    </tr>\n",
              "  </thead>\n",
              "  <tbody>\n",
              "    <tr>\n",
              "      <th>0</th>\n",
              "      <td>0</td>\n",
              "      <td>1654733331</td>\n",
              "      <td>20.000</td>\n",
              "      <td>57.36</td>\n",
              "      <td>0</td>\n",
              "      <td>400</td>\n",
              "      <td>12306</td>\n",
              "      <td>18520</td>\n",
              "      <td>939.735</td>\n",
              "      <td>0.0</td>\n",
              "      <td>0.0</td>\n",
              "      <td>0.0</td>\n",
              "      <td>0.0</td>\n",
              "      <td>0.0</td>\n",
              "      <td>0</td>\n",
              "      <td>0</td>\n",
              "    </tr>\n",
              "    <tr>\n",
              "      <th>1</th>\n",
              "      <td>1</td>\n",
              "      <td>1654733332</td>\n",
              "      <td>20.015</td>\n",
              "      <td>56.67</td>\n",
              "      <td>0</td>\n",
              "      <td>400</td>\n",
              "      <td>12345</td>\n",
              "      <td>18651</td>\n",
              "      <td>939.744</td>\n",
              "      <td>0.0</td>\n",
              "      <td>0.0</td>\n",
              "      <td>0.0</td>\n",
              "      <td>0.0</td>\n",
              "      <td>0.0</td>\n",
              "      <td>1</td>\n",
              "      <td>0</td>\n",
              "    </tr>\n",
              "    <tr>\n",
              "      <th>2</th>\n",
              "      <td>2</td>\n",
              "      <td>1654733333</td>\n",
              "      <td>20.029</td>\n",
              "      <td>55.96</td>\n",
              "      <td>0</td>\n",
              "      <td>400</td>\n",
              "      <td>12374</td>\n",
              "      <td>18764</td>\n",
              "      <td>939.738</td>\n",
              "      <td>0.0</td>\n",
              "      <td>0.0</td>\n",
              "      <td>0.0</td>\n",
              "      <td>0.0</td>\n",
              "      <td>0.0</td>\n",
              "      <td>2</td>\n",
              "      <td>0</td>\n",
              "    </tr>\n",
              "    <tr>\n",
              "      <th>3</th>\n",
              "      <td>3</td>\n",
              "      <td>1654733334</td>\n",
              "      <td>20.044</td>\n",
              "      <td>55.28</td>\n",
              "      <td>0</td>\n",
              "      <td>400</td>\n",
              "      <td>12390</td>\n",
              "      <td>18849</td>\n",
              "      <td>939.736</td>\n",
              "      <td>0.0</td>\n",
              "      <td>0.0</td>\n",
              "      <td>0.0</td>\n",
              "      <td>0.0</td>\n",
              "      <td>0.0</td>\n",
              "      <td>3</td>\n",
              "      <td>0</td>\n",
              "    </tr>\n",
              "    <tr>\n",
              "      <th>4</th>\n",
              "      <td>4</td>\n",
              "      <td>1654733335</td>\n",
              "      <td>20.059</td>\n",
              "      <td>54.69</td>\n",
              "      <td>0</td>\n",
              "      <td>400</td>\n",
              "      <td>12403</td>\n",
              "      <td>18921</td>\n",
              "      <td>939.744</td>\n",
              "      <td>0.0</td>\n",
              "      <td>0.0</td>\n",
              "      <td>0.0</td>\n",
              "      <td>0.0</td>\n",
              "      <td>0.0</td>\n",
              "      <td>4</td>\n",
              "      <td>0</td>\n",
              "    </tr>\n",
              "  </tbody>\n",
              "</table>\n",
              "</div>"
            ],
            "text/plain": [
              "   Unnamed: 0         UTC  Temperature[C]  Humidity[%]  TVOC[ppb]  eCO2[ppm]  \\\n",
              "0           0  1654733331          20.000        57.36          0        400   \n",
              "1           1  1654733332          20.015        56.67          0        400   \n",
              "2           2  1654733333          20.029        55.96          0        400   \n",
              "3           3  1654733334          20.044        55.28          0        400   \n",
              "4           4  1654733335          20.059        54.69          0        400   \n",
              "\n",
              "   Raw H2  Raw Ethanol  Pressure[hPa]  PM1.0  PM2.5  NC0.5  NC1.0  NC2.5  CNT  \\\n",
              "0   12306        18520        939.735    0.0    0.0    0.0    0.0    0.0    0   \n",
              "1   12345        18651        939.744    0.0    0.0    0.0    0.0    0.0    1   \n",
              "2   12374        18764        939.738    0.0    0.0    0.0    0.0    0.0    2   \n",
              "3   12390        18849        939.736    0.0    0.0    0.0    0.0    0.0    3   \n",
              "4   12403        18921        939.744    0.0    0.0    0.0    0.0    0.0    4   \n",
              "\n",
              "   Fire Alarm  \n",
              "0           0  \n",
              "1           0  \n",
              "2           0  \n",
              "3           0  \n",
              "4           0  "
            ]
          },
          "execution_count": 2,
          "metadata": {},
          "output_type": "execute_result"
        }
      ],
      "source": [
        "df = pd.read_csv('./smoke.csv') #importing dataset\n",
        "df.head() # displaying first five records"
      ]
    },
    {
      "cell_type": "code",
      "execution_count": 3,
      "metadata": {
        "id": "8oN3XT0l2DAk"
      },
      "outputs": [],
      "source": [
        "# replacing null values with 0\n",
        "df = df.fillna(value= 0)"
      ]
    },
    {
      "cell_type": "code",
      "execution_count": 4,
      "metadata": {
        "id": "Tntms7dh2E10"
      },
      "outputs": [],
      "source": [
        "# Shuffling dataset ( to remove any biases in the dataset if any )\n",
        "df = df.sample(frac=1)"
      ]
    },
    {
      "cell_type": "code",
      "execution_count": 5,
      "metadata": {
        "colab": {
          "base_uri": "https://localhost:8080/",
          "height": 205
        },
        "id": "SwBfywg8XOsj",
        "outputId": "a9e2e514-c4d4-4a4b-cd9d-42be554e8984"
      },
      "outputs": [
        {
          "data": {
            "text/html": [
              "<div>\n",
              "<style scoped>\n",
              "    .dataframe tbody tr th:only-of-type {\n",
              "        vertical-align: middle;\n",
              "    }\n",
              "\n",
              "    .dataframe tbody tr th {\n",
              "        vertical-align: top;\n",
              "    }\n",
              "\n",
              "    .dataframe thead th {\n",
              "        text-align: right;\n",
              "    }\n",
              "</style>\n",
              "<table border=\"1\" class=\"dataframe\">\n",
              "  <thead>\n",
              "    <tr style=\"text-align: right;\">\n",
              "      <th></th>\n",
              "      <th>UTC</th>\n",
              "      <th>Temperature[C]</th>\n",
              "      <th>Humidity[%]</th>\n",
              "      <th>TVOC[ppb]</th>\n",
              "      <th>eCO2[ppm]</th>\n",
              "      <th>Raw H2</th>\n",
              "      <th>Raw Ethanol</th>\n",
              "      <th>Pressure[hPa]</th>\n",
              "      <th>PM1.0</th>\n",
              "      <th>PM2.5</th>\n",
              "      <th>NC0.5</th>\n",
              "      <th>NC1.0</th>\n",
              "      <th>NC2.5</th>\n",
              "      <th>CNT</th>\n",
              "      <th>Fire Alarm</th>\n",
              "    </tr>\n",
              "  </thead>\n",
              "  <tbody>\n",
              "    <tr>\n",
              "      <th>14816</th>\n",
              "      <td>1654748147</td>\n",
              "      <td>13.856</td>\n",
              "      <td>53.38</td>\n",
              "      <td>1136</td>\n",
              "      <td>465</td>\n",
              "      <td>12857</td>\n",
              "      <td>19440</td>\n",
              "      <td>938.841</td>\n",
              "      <td>1.64</td>\n",
              "      <td>1.70</td>\n",
              "      <td>11.26</td>\n",
              "      <td>1.756</td>\n",
              "      <td>0.040</td>\n",
              "      <td>14816</td>\n",
              "      <td>1</td>\n",
              "    </tr>\n",
              "    <tr>\n",
              "      <th>31129</th>\n",
              "      <td>1654767478</td>\n",
              "      <td>21.670</td>\n",
              "      <td>49.76</td>\n",
              "      <td>145</td>\n",
              "      <td>400</td>\n",
              "      <td>13185</td>\n",
              "      <td>20120</td>\n",
              "      <td>939.688</td>\n",
              "      <td>1.36</td>\n",
              "      <td>1.41</td>\n",
              "      <td>9.33</td>\n",
              "      <td>1.454</td>\n",
              "      <td>0.033</td>\n",
              "      <td>6135</td>\n",
              "      <td>1</td>\n",
              "    </tr>\n",
              "    <tr>\n",
              "      <th>26307</th>\n",
              "      <td>1654762656</td>\n",
              "      <td>17.230</td>\n",
              "      <td>49.77</td>\n",
              "      <td>0</td>\n",
              "      <td>400</td>\n",
              "      <td>13105</td>\n",
              "      <td>19988</td>\n",
              "      <td>939.719</td>\n",
              "      <td>0.46</td>\n",
              "      <td>0.48</td>\n",
              "      <td>3.19</td>\n",
              "      <td>0.497</td>\n",
              "      <td>0.011</td>\n",
              "      <td>1313</td>\n",
              "      <td>0</td>\n",
              "    </tr>\n",
              "    <tr>\n",
              "      <th>50979</th>\n",
              "      <td>1654903996</td>\n",
              "      <td>33.330</td>\n",
              "      <td>17.47</td>\n",
              "      <td>0</td>\n",
              "      <td>1050</td>\n",
              "      <td>13005</td>\n",
              "      <td>20846</td>\n",
              "      <td>930.926</td>\n",
              "      <td>0.97</td>\n",
              "      <td>1.00</td>\n",
              "      <td>6.65</td>\n",
              "      <td>1.037</td>\n",
              "      <td>0.023</td>\n",
              "      <td>991</td>\n",
              "      <td>1</td>\n",
              "    </tr>\n",
              "    <tr>\n",
              "      <th>430</th>\n",
              "      <td>1654733761</td>\n",
              "      <td>24.831</td>\n",
              "      <td>50.81</td>\n",
              "      <td>29</td>\n",
              "      <td>400</td>\n",
              "      <td>12720</td>\n",
              "      <td>19731</td>\n",
              "      <td>939.844</td>\n",
              "      <td>0.15</td>\n",
              "      <td>0.18</td>\n",
              "      <td>0.94</td>\n",
              "      <td>0.194</td>\n",
              "      <td>0.032</td>\n",
              "      <td>430</td>\n",
              "      <td>0</td>\n",
              "    </tr>\n",
              "  </tbody>\n",
              "</table>\n",
              "</div>"
            ],
            "text/plain": [
              "              UTC  Temperature[C]  Humidity[%]  TVOC[ppb]  eCO2[ppm]  Raw H2  \\\n",
              "14816  1654748147          13.856        53.38       1136        465   12857   \n",
              "31129  1654767478          21.670        49.76        145        400   13185   \n",
              "26307  1654762656          17.230        49.77          0        400   13105   \n",
              "50979  1654903996          33.330        17.47          0       1050   13005   \n",
              "430    1654733761          24.831        50.81         29        400   12720   \n",
              "\n",
              "       Raw Ethanol  Pressure[hPa]  PM1.0  PM2.5  NC0.5  NC1.0  NC2.5    CNT  \\\n",
              "14816        19440        938.841   1.64   1.70  11.26  1.756  0.040  14816   \n",
              "31129        20120        939.688   1.36   1.41   9.33  1.454  0.033   6135   \n",
              "26307        19988        939.719   0.46   0.48   3.19  0.497  0.011   1313   \n",
              "50979        20846        930.926   0.97   1.00   6.65  1.037  0.023    991   \n",
              "430          19731        939.844   0.15   0.18   0.94  0.194  0.032    430   \n",
              "\n",
              "       Fire Alarm  \n",
              "14816           1  \n",
              "31129           1  \n",
              "26307           0  \n",
              "50979           1  \n",
              "430             0  "
            ]
          },
          "execution_count": 5,
          "metadata": {},
          "output_type": "execute_result"
        }
      ],
      "source": [
        "new_df=df[['UTC', 'Temperature[C]', 'Humidity[%]', 'TVOC[ppb]', 'eCO2[ppm]', 'Raw H2','Raw Ethanol', 'Pressure[hPa]', 'PM1.0', 'PM2.5', 'NC0.5', 'NC1.0', 'NC2.5', 'CNT', 'Fire Alarm']]\n",
        "new_df.head()"
      ]
    },
    {
      "cell_type": "code",
      "execution_count": 6,
      "metadata": {
        "id": "MDrpnRlGXuX8"
      },
      "outputs": [],
      "source": [
        "# converting type from object to string to be able to apply Label Encoder\n",
        "new_df['Fire Alarm']=new_df['Fire Alarm'].astype(dtype='string',copy=True)"
      ]
    },
    {
      "cell_type": "code",
      "execution_count": 7,
      "metadata": {
        "id": "VXJEISmAXtH6"
      },
      "outputs": [],
      "source": [
        "# converting catagorical column 'Fire Alarm' to numerical column by LabelEncoding\n",
        "new_df['Fire Alarm'] = LabelEncoder().fit_transform(new_df['Fire Alarm'])"
      ]
    },
    {
      "cell_type": "code",
      "execution_count": 8,
      "metadata": {
        "id": "zpErCVyvX0Sb"
      },
      "outputs": [],
      "source": [
        "# changing data type of whole dataset to int\n",
        "new_df = new_df.astype(int)"
      ]
    },
    {
      "cell_type": "code",
      "execution_count": 9,
      "metadata": {
        "id": "OuUTK9mNX3xU"
      },
      "outputs": [],
      "source": [
        "# splitting dataset into 70:30 ratio\n",
        "\n",
        "# Defining train size\n",
        "train_size = int(0.7 * len(new_df))\n",
        "\n",
        "# Splitting dataset\n",
        "train_set = new_df[:train_size]\n",
        "test_set = new_df[train_size:]"
      ]
    },
    {
      "cell_type": "code",
      "execution_count": 10,
      "metadata": {
        "id": "pfJSZpG-X6ga"
      },
      "outputs": [],
      "source": [
        "# separating train_set into X and Y\n",
        "X_train=train_set.drop('Fire Alarm', axis=1)\n",
        "y_train=train_set['Fire Alarm']\n",
        "\n",
        "# separating test_set into X and Y\n",
        "X_test=test_set.drop('Fire Alarm', axis=1)\n",
        "y_test=test_set['Fire Alarm']"
      ]
    },
    {
      "cell_type": "code",
      "execution_count": 11,
      "metadata": {
        "id": "OG__R5MuXMaJ"
      },
      "outputs": [],
      "source": [
        "class SVM:\n",
        "\n",
        "\tdef __init__(self, kernel = \"linear\", learning_rate = 1e-4, regularization_strength = 1.0, max_iter = 2000):\n",
        " \n",
        "\t\tself.num_feats = int\n",
        "\t\tself.train_size = int\n",
        "\t\tself.weights = np.array \n",
        "\t\tself.y_train = np.array \n",
        "\t\tself.input_matrix = np.array\n",
        "\n",
        "\t\tself.kernel = kernel\n",
        "\t\tself.kernel_matrix = np.array\n",
        "\t\tself.support_vectors = np.array\n",
        "\t\tself.learning_rate = learning_rate \t# Learning rate for gradient descent\n",
        "\t\tself.regularization_strength = regularization_strength \t# Regularization parameter, to control bias-variance tradeoff\n",
        "\t\tself.max_iter = max_iter\t# Maximum Number of iterations to run gradient descent\n",
        "\t\tself.cost_threshold = 0.1 * learning_rate  # stopping criterion for gradient descent\n",
        "\n",
        "\tdef fit(self, X, y):\n",
        "\n",
        "\t\t\"\"\" Adjust weights to training data \"\"\"\n",
        "\n",
        "\t\tself.train_size = X.shape[0]\n",
        "\t\tself.num_feats = X.shape[1]\n",
        "\t\tself.input_matrix = np.append(X, np.ones(self.train_size).reshape(-1, 1), axis = 1)   #Add Column with Ones for intercept term \n",
        "\t\tself.y_train = np.where(y == 0, -1, 1)\n",
        "\t\tself.weights = np.zeros(self.num_feats + 1) #Extra +1 for the intercept\n",
        "\n",
        "\t\t# optimize weights\n",
        "\t\tprev_cost = float(\"inf\")\n",
        "\t\tfor i in range(self.max_iter):\n",
        "\t\t\tcost = self._update_weights()\n",
        "\t\t\t\n",
        "\t\t\tif i%100 ==0 or i == self.max_iter:\n",
        "\t\t\t\tprint(\"Cost after {} iterations is: {}\".format(i, cost))\n",
        "\t\t\tif abs(prev_cost -cost) < self.cost_threshold*prev_cost:\n",
        "\t\t\t\tprint(\"Cost after {} iterations is: {}\".format(i, cost))\n",
        "\t\t\t\tbreak\n",
        "\t\t\tprev_cost = cost\n",
        "\n",
        "\tdef _update_weights(self):\n",
        "\n",
        "\t\t\"\"\"\n",
        "\t\t\tCost Function:\n",
        "\t\t\t\tl(w) = sum(max(0, 1 - y(wX + b))) + (lambda/2)(||w||)^2\n",
        "\t\t\t\tFirst Term is Hinge Loss, Second is Regularization term\n",
        "\t\t\tGradient:\n",
        "\t\t\t    delta_w = dl/dw = (1/n) * ( if y(wX+b) < 1: -yX + lambda*w else: lambda*w )\n",
        "\t\t\tGradient Descent\n",
        "\t\t\t\tw = w - (learning_rate * delta_w)\n",
        "\t\t\"\"\"\n",
        "\t\ty_pred = (self.weights * self.input_matrix).sum(axis = 1) # y_pred = wX+b\n",
        "\n",
        "\n",
        "\t\tdist = (1 - (self.y_train * y_pred))\n",
        "\t\tdist[dist < 0] = 0\n",
        "\t\thinge_loss = np.sum(dist)/self.train_size\n",
        "\t\tregularization_term = (1/2) * self.regularization_strength * (np.dot(self.weights, self.weights))\n",
        "\t\tcost = hinge_loss  + regularization_term\n",
        "\n",
        "\t\tdelta_w =  self.regularization_strength * (self.weights)\n",
        "\n",
        "\t\tfor y, yhat, X in zip(self.y_train, y_pred, self.input_matrix):\n",
        "\n",
        "\t\t\tif y*yhat < 1:\n",
        "\t\t\t\tdelta_w -= y*X\n",
        "\n",
        "\t\tdelta_w /= self.train_size\n",
        "\t\tself.weights = self.weights - (self.learning_rate * delta_w)\n",
        "\n",
        "\t\treturn cost\n",
        "\n",
        "\tdef predict(self, X):\n",
        "\n",
        "\t\t\"\"\" Make predictions on given X using trained model \"\"\"\n",
        "\n",
        "\t\tsize = X.shape[0]\n",
        "\t\tX = np.append(X, np.ones(size).reshape(-1, 1), axis = 1)\n",
        "\n",
        "\t\ty_pred = np.sign((self.weights * X).sum(axis = 1))\n",
        "\n",
        "\t\ty_pred[np.where(y_pred == -1)] = 0.0\n",
        "\n",
        "\t\treturn y_pred "
      ]
    },
    {
      "cell_type": "code",
      "execution_count": 12,
      "metadata": {
        "colab": {
          "base_uri": "https://localhost:8080/"
        },
        "id": "9BHkyG9D28Vi",
        "outputId": "3c62f29a-9052-4b7d-9ff3-5a8243bc2bf8"
      },
      "outputs": [
        {
          "name": "stdout",
          "output_type": "stream",
          "text": [
            "Cost after 0 iterations is: 1.0\n",
            "Cost after 100 iterations is: 875014370705.9464\n",
            "Cost after 200 iterations is: 3990570685204.454\n",
            "Cost after 300 iterations is: 1814433932081.0535\n",
            "Cost after 400 iterations is: 2388469326843.182\n",
            "Cost after 500 iterations is: 5504246675802.76\n",
            "Cost after 600 iterations is: 786488104084.8137\n",
            "Cost after 700 iterations is: 3902031514742.0396\n",
            "Cost after 800 iterations is: 2035409992427.797\n",
            "Cost after 900 iterations is: 2299936845750.3525\n",
            "Cost after 1000 iterations is: 5415701197063.265\n",
            "Cost after 1100 iterations is: 697962218560.6111\n",
            "Cost after 1200 iterations is: 3813492725378.156\n",
            "Cost after 1300 iterations is: 2256386391164.7305\n",
            "Cost after 1400 iterations is: 2211404726994.403\n",
            "Cost after 1500 iterations is: 5327156099423.418\n",
            "Cost after 1600 iterations is: 609436714133.1702\n",
            "Cost after 1700 iterations is: 3724954317112.6562\n",
            "Cost after 1800 iterations is: 2477363128291.633\n",
            "Cost after 1900 iterations is: 2122872914294.6018\n"
          ]
        }
      ],
      "source": [
        "svm_clf = SVM(learning_rate = 1e-5, regularization_strength = 10.5)\n",
        "\n",
        "svm_clf.fit(X_train, y_train)"
      ]
    },
    {
      "cell_type": "code",
      "execution_count": 13,
      "metadata": {
        "colab": {
          "base_uri": "https://localhost:8080/"
        },
        "id": "Z8cxExzr2_rr",
        "outputId": "c3810199-4700-4fee-95fa-364c6ee28674"
      },
      "outputs": [
        {
          "name": "stdout",
          "output_type": "stream",
          "text": [
            "Coefficients: [ 1.10667227e+04 -2.08004663e-02  3.25390442e-02 -1.51859018e+01\n",
            " -1.67441061e+00  3.42750048e-01 -1.73941696e+00  9.38540763e-03\n",
            " -9.17467643e-01 -1.51048795e+00 -4.91513774e+00 -1.65124016e+00\n",
            " -5.63054299e-01  4.65107888e+01]\n"
          ]
        }
      ],
      "source": [
        "print(\"Coefficients: {}\".format(svm_clf.weights[:-1]))"
      ]
    },
    {
      "cell_type": "code",
      "execution_count": 14,
      "metadata": {
        "colab": {
          "base_uri": "https://localhost:8080/"
        },
        "id": "5kg7_Yrp3BI7",
        "outputId": "f05d5f1a-0e7d-4f8d-98ed-bbc9fc2dcd0b"
      },
      "outputs": [
        {
          "name": "stdout",
          "output_type": "stream",
          "text": [
            "Intercept: 6.923644977691104e-06\n"
          ]
        }
      ],
      "source": [
        "print(\"Intercept: {}\".format(svm_clf.weights[-1]))"
      ]
    },
    {
      "cell_type": "code",
      "execution_count": 15,
      "metadata": {
        "id": "ECs_JNcF3Umn"
      },
      "outputs": [],
      "source": [
        "def accuracy_score(y_true, y_pred):\n",
        "\n",
        "\t\"\"\"\tscore = (y_true - y_pred) / len(y_true) \"\"\"\n",
        "\n",
        "\treturn round(float(sum(y_pred == y_true))/float(len(y_true)) * 100 ,2)"
      ]
    },
    {
      "cell_type": "code",
      "execution_count": 16,
      "metadata": {
        "colab": {
          "base_uri": "https://localhost:8080/"
        },
        "id": "033wDvXd3NZB",
        "outputId": "edf39f74-23d3-4ee9-893a-69c861f8e804"
      },
      "outputs": [
        {
          "name": "stdout",
          "output_type": "stream",
          "text": [
            "Train Accuracy: 71.4\n",
            "Test Accuracy: 71.61\n"
          ]
        }
      ],
      "source": [
        "print(\"Train Accuracy: {}\".format(accuracy_score(y_train, svm_clf.predict(X_train))))\n",
        "print(\"Test Accuracy: {}\".format(accuracy_score(y_test, svm_clf.predict(X_test))))"
      ]
    }
  ],
  "metadata": {
    "colab": {
      "collapsed_sections": [],
      "name": "(6) SVM.ipynb",
      "provenance": []
    },
    "kernelspec": {
      "display_name": "Python 3.10.8 64-bit",
      "language": "python",
      "name": "python3"
    },
    "language_info": {
      "codemirror_mode": {
        "name": "ipython",
        "version": 3
      },
      "file_extension": ".py",
      "mimetype": "text/x-python",
      "name": "python",
      "nbconvert_exporter": "python",
      "pygments_lexer": "ipython3",
      "version": "3.10.8"
    },
    "vscode": {
      "interpreter": {
        "hash": "b0fa6594d8f4cbf19f97940f81e996739fb7646882a419484c72d19e05852a7e"
      }
    }
  },
  "nbformat": 4,
  "nbformat_minor": 0
}
