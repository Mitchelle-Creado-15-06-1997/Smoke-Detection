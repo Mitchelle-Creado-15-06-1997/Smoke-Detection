{
 "cells": [
  {
   "cell_type": "markdown",
   "id": "2c310532",
   "metadata": {
    "papermill": {
     "duration": 0.02248,
     "end_time": "2022-10-19T14:18:58.335600",
     "exception": false,
     "start_time": "2022-10-19T14:18:58.313120",
     "status": "completed"
    },
    "tags": []
   },
   "source": [
    "# Import packages"
   ]
  },
  {
   "cell_type": "code",
   "execution_count": 1,
   "id": "aebf51ec",
   "metadata": {
    "execution": {
     "iopub.execute_input": "2022-10-19T14:18:58.381748Z",
     "iopub.status.busy": "2022-10-19T14:18:58.380836Z",
     "iopub.status.idle": "2022-10-19T14:19:07.331441Z",
     "shell.execute_reply": "2022-10-19T14:19:07.330045Z"
    },
    "papermill": {
     "duration": 8.976682,
     "end_time": "2022-10-19T14:19:07.334423",
     "exception": false,
     "start_time": "2022-10-19T14:18:58.357741",
     "status": "completed"
    },
    "tags": []
   },
   "outputs": [],
   "source": [
    "import pandas as pd\n",
    "import numpy as np\n",
    "import tensorflow as tf\n",
    "from matplotlib import pyplot as plt\n",
    "import seaborn as sns\n",
    "import plotly.express as px\n",
    "from sklearn.model_selection import train_test_split\n",
    "from sklearn.preprocessing import StandardScaler\n",
    "from sklearn.model_selection import train_test_split\n",
    "from sklearn.naive_bayes import GaussianNB\n",
    "from sklearn.metrics import classification_report\n",
    "from sklearn.metrics import classification_report, confusion_matrix\n",
    "%matplotlib inline"
   ]
  },
  {
   "cell_type": "markdown",
   "id": "9be86409",
   "metadata": {
    "papermill": {
     "duration": 0.013245,
     "end_time": "2022-10-19T14:19:07.361362",
     "exception": false,
     "start_time": "2022-10-19T14:19:07.348117",
     "status": "completed"
    },
    "tags": []
   },
   "source": [
    "# Import data"
   ]
  },
  {
   "cell_type": "code",
   "execution_count": 2,
   "id": "a2699d7d",
   "metadata": {
    "execution": {
     "iopub.execute_input": "2022-10-19T14:19:07.390155Z",
     "iopub.status.busy": "2022-10-19T14:19:07.389716Z",
     "iopub.status.idle": "2022-10-19T14:19:07.715649Z",
     "shell.execute_reply": "2022-10-19T14:19:07.714475Z"
    },
    "papermill": {
     "duration": 0.34389,
     "end_time": "2022-10-19T14:19:07.718762",
     "exception": false,
     "start_time": "2022-10-19T14:19:07.374872",
     "status": "completed"
    },
    "tags": []
   },
   "outputs": [],
   "source": [
    "data=pd.read_csv(\"./smoke.csv")"
   ]
  },
  {
   "cell_type": "markdown",
   "id": "b27fb3f6",
   "metadata": {
    "papermill": {
     "duration": 0.013439,
     "end_time": "2022-10-19T14:19:07.745806",
     "exception": false,
     "start_time": "2022-10-19T14:19:07.732367",
     "status": "completed"
    },
    "tags": []
   },
   "source": [
    "# Columns explanation"
   ]
  },
  {
   "cell_type": "markdown",
   "id": "0824831b",
   "metadata": {
    "papermill": {
     "duration": 0.013235,
     "end_time": "2022-10-19T14:19:07.773254",
     "exception": false,
     "start_time": "2022-10-19T14:19:07.760019",
     "status": "completed"
    },
    "tags": []
   },
   "source": [
    "#### Air Temperature\n",
    "#### Air Humidity\n",
    "#### TVOC: Total Volatile Organic Compounds; measured in parts per billion (Source)\n",
    "#### eCO2: co2 equivalent concentration; calculated from different values like TVCO\n",
    "#### Raw H2: raw molecular hydrogen; not compensated (Bias, temperature, etc.)\n",
    "#### Raw Ethanol: raw ethanol gas (Source)\n",
    "#### Air Pressure\n",
    "#### PM 1.0 and PM 2.5: particulate matter size < 1.0 µm (PM1.0). 1.0 µm < 2.5 µm (PM2.5)\n",
    "#### Fire Alarm: ground truth is \"1\" if a fire is there\n",
    "#### CNT: Sample counter\n",
    "#### UTC: Timestamp UTC seconds\n",
    "#### NC0.5/NC1.0 and NC2.5: Number concentration of particulate matter. This differs from PM because NC gives the actual number of particles in the air. The raw NC is also classified by the particle size: < 0.5 µm (NC0.5); 0.5 µm < 1.0 µm (NC1.0); 1.0 µm < 2.5 µm (NC2.5)"
   ]
  },
  {
   "cell_type": "code",
   "execution_count": 3,
   "id": "55bf7c92",
   "metadata": {
    "execution": {
     "iopub.execute_input": "2022-10-19T14:19:07.803245Z",
     "iopub.status.busy": "2022-10-19T14:19:07.801878Z",
     "iopub.status.idle": "2022-10-19T14:19:07.842370Z",
     "shell.execute_reply": "2022-10-19T14:19:07.841174Z"
    },
    "papermill": {
     "duration": 0.058346,
     "end_time": "2022-10-19T14:19:07.845307",
     "exception": false,
     "start_time": "2022-10-19T14:19:07.786961",
     "status": "completed"
    },
    "tags": []
   },
   "outputs": [
    {
     "data": {
      "text/html": [
       "<div>\n",
       "<style scoped>\n",
       "    .dataframe tbody tr th:only-of-type {\n",
       "        vertical-align: middle;\n",
       "    }\n",
       "\n",
       "    .dataframe tbody tr th {\n",
       "        vertical-align: top;\n",
       "    }\n",
       "\n",
       "    .dataframe thead th {\n",
       "        text-align: right;\n",
       "    }\n",
       "</style>\n",
       "<table border=\"1\" class=\"dataframe\">\n",
       "  <thead>\n",
       "    <tr style=\"text-align: right;\">\n",
       "      <th></th>\n",
       "      <th>Unnamed: 0</th>\n",
       "      <th>UTC</th>\n",
       "      <th>Temperature[C]</th>\n",
       "      <th>Humidity[%]</th>\n",
       "      <th>TVOC[ppb]</th>\n",
       "      <th>eCO2[ppm]</th>\n",
       "      <th>Raw H2</th>\n",
       "      <th>Raw Ethanol</th>\n",
       "      <th>Pressure[hPa]</th>\n",
       "      <th>PM1.0</th>\n",
       "      <th>PM2.5</th>\n",
       "      <th>NC0.5</th>\n",
       "      <th>NC1.0</th>\n",
       "      <th>NC2.5</th>\n",
       "      <th>CNT</th>\n",
       "      <th>Fire Alarm</th>\n",
       "    </tr>\n",
       "  </thead>\n",
       "  <tbody>\n",
       "    <tr>\n",
       "      <th>0</th>\n",
       "      <td>0</td>\n",
       "      <td>1654733331</td>\n",
       "      <td>20.000</td>\n",
       "      <td>57.36</td>\n",
       "      <td>0</td>\n",
       "      <td>400</td>\n",
       "      <td>12306</td>\n",
       "      <td>18520</td>\n",
       "      <td>939.735</td>\n",
       "      <td>0.00</td>\n",
       "      <td>0.00</td>\n",
       "      <td>0.00</td>\n",
       "      <td>0.000</td>\n",
       "      <td>0.000</td>\n",
       "      <td>0</td>\n",
       "      <td>0</td>\n",
       "    </tr>\n",
       "    <tr>\n",
       "      <th>1</th>\n",
       "      <td>1</td>\n",
       "      <td>1654733332</td>\n",
       "      <td>20.015</td>\n",
       "      <td>56.67</td>\n",
       "      <td>0</td>\n",
       "      <td>400</td>\n",
       "      <td>12345</td>\n",
       "      <td>18651</td>\n",
       "      <td>939.744</td>\n",
       "      <td>0.00</td>\n",
       "      <td>0.00</td>\n",
       "      <td>0.00</td>\n",
       "      <td>0.000</td>\n",
       "      <td>0.000</td>\n",
       "      <td>1</td>\n",
       "      <td>0</td>\n",
       "    </tr>\n",
       "    <tr>\n",
       "      <th>2</th>\n",
       "      <td>2</td>\n",
       "      <td>1654733333</td>\n",
       "      <td>20.029</td>\n",
       "      <td>55.96</td>\n",
       "      <td>0</td>\n",
       "      <td>400</td>\n",
       "      <td>12374</td>\n",
       "      <td>18764</td>\n",
       "      <td>939.738</td>\n",
       "      <td>0.00</td>\n",
       "      <td>0.00</td>\n",
       "      <td>0.00</td>\n",
       "      <td>0.000</td>\n",
       "      <td>0.000</td>\n",
       "      <td>2</td>\n",
       "      <td>0</td>\n",
       "    </tr>\n",
       "    <tr>\n",
       "      <th>3</th>\n",
       "      <td>3</td>\n",
       "      <td>1654733334</td>\n",
       "      <td>20.044</td>\n",
       "      <td>55.28</td>\n",
       "      <td>0</td>\n",
       "      <td>400</td>\n",
       "      <td>12390</td>\n",
       "      <td>18849</td>\n",
       "      <td>939.736</td>\n",
       "      <td>0.00</td>\n",
       "      <td>0.00</td>\n",
       "      <td>0.00</td>\n",
       "      <td>0.000</td>\n",
       "      <td>0.000</td>\n",
       "      <td>3</td>\n",
       "      <td>0</td>\n",
       "    </tr>\n",
       "    <tr>\n",
       "      <th>4</th>\n",
       "      <td>4</td>\n",
       "      <td>1654733335</td>\n",
       "      <td>20.059</td>\n",
       "      <td>54.69</td>\n",
       "      <td>0</td>\n",
       "      <td>400</td>\n",
       "      <td>12403</td>\n",
       "      <td>18921</td>\n",
       "      <td>939.744</td>\n",
       "      <td>0.00</td>\n",
       "      <td>0.00</td>\n",
       "      <td>0.00</td>\n",
       "      <td>0.000</td>\n",
       "      <td>0.000</td>\n",
       "      <td>4</td>\n",
       "      <td>0</td>\n",
       "    </tr>\n",
       "    <tr>\n",
       "      <th>...</th>\n",
       "      <td>...</td>\n",
       "      <td>...</td>\n",
       "      <td>...</td>\n",
       "      <td>...</td>\n",
       "      <td>...</td>\n",
       "      <td>...</td>\n",
       "      <td>...</td>\n",
       "      <td>...</td>\n",
       "      <td>...</td>\n",
       "      <td>...</td>\n",
       "      <td>...</td>\n",
       "      <td>...</td>\n",
       "      <td>...</td>\n",
       "      <td>...</td>\n",
       "      <td>...</td>\n",
       "      <td>...</td>\n",
       "    </tr>\n",
       "    <tr>\n",
       "      <th>62625</th>\n",
       "      <td>62625</td>\n",
       "      <td>1655130047</td>\n",
       "      <td>18.438</td>\n",
       "      <td>15.79</td>\n",
       "      <td>625</td>\n",
       "      <td>400</td>\n",
       "      <td>13723</td>\n",
       "      <td>20569</td>\n",
       "      <td>936.670</td>\n",
       "      <td>0.63</td>\n",
       "      <td>0.65</td>\n",
       "      <td>4.32</td>\n",
       "      <td>0.673</td>\n",
       "      <td>0.015</td>\n",
       "      <td>5739</td>\n",
       "      <td>0</td>\n",
       "    </tr>\n",
       "    <tr>\n",
       "      <th>62626</th>\n",
       "      <td>62626</td>\n",
       "      <td>1655130048</td>\n",
       "      <td>18.653</td>\n",
       "      <td>15.87</td>\n",
       "      <td>612</td>\n",
       "      <td>400</td>\n",
       "      <td>13731</td>\n",
       "      <td>20588</td>\n",
       "      <td>936.678</td>\n",
       "      <td>0.61</td>\n",
       "      <td>0.63</td>\n",
       "      <td>4.18</td>\n",
       "      <td>0.652</td>\n",
       "      <td>0.015</td>\n",
       "      <td>5740</td>\n",
       "      <td>0</td>\n",
       "    </tr>\n",
       "    <tr>\n",
       "      <th>62627</th>\n",
       "      <td>62627</td>\n",
       "      <td>1655130049</td>\n",
       "      <td>18.867</td>\n",
       "      <td>15.84</td>\n",
       "      <td>627</td>\n",
       "      <td>400</td>\n",
       "      <td>13725</td>\n",
       "      <td>20582</td>\n",
       "      <td>936.687</td>\n",
       "      <td>0.57</td>\n",
       "      <td>0.60</td>\n",
       "      <td>3.95</td>\n",
       "      <td>0.617</td>\n",
       "      <td>0.014</td>\n",
       "      <td>5741</td>\n",
       "      <td>0</td>\n",
       "    </tr>\n",
       "    <tr>\n",
       "      <th>62628</th>\n",
       "      <td>62628</td>\n",
       "      <td>1655130050</td>\n",
       "      <td>19.083</td>\n",
       "      <td>16.04</td>\n",
       "      <td>638</td>\n",
       "      <td>400</td>\n",
       "      <td>13712</td>\n",
       "      <td>20566</td>\n",
       "      <td>936.680</td>\n",
       "      <td>0.57</td>\n",
       "      <td>0.59</td>\n",
       "      <td>3.92</td>\n",
       "      <td>0.611</td>\n",
       "      <td>0.014</td>\n",
       "      <td>5742</td>\n",
       "      <td>0</td>\n",
       "    </tr>\n",
       "    <tr>\n",
       "      <th>62629</th>\n",
       "      <td>62629</td>\n",
       "      <td>1655130051</td>\n",
       "      <td>19.299</td>\n",
       "      <td>16.52</td>\n",
       "      <td>643</td>\n",
       "      <td>400</td>\n",
       "      <td>13696</td>\n",
       "      <td>20543</td>\n",
       "      <td>936.676</td>\n",
       "      <td>0.57</td>\n",
       "      <td>0.59</td>\n",
       "      <td>3.90</td>\n",
       "      <td>0.607</td>\n",
       "      <td>0.014</td>\n",
       "      <td>5743</td>\n",
       "      <td>0</td>\n",
       "    </tr>\n",
       "  </tbody>\n",
       "</table>\n",
       "<p>62630 rows × 16 columns</p>\n",
       "</div>"
      ],
      "text/plain": [
       "       Unnamed: 0         UTC  Temperature[C]  Humidity[%]  TVOC[ppb]  \\\n",
       "0               0  1654733331          20.000        57.36          0   \n",
       "1               1  1654733332          20.015        56.67          0   \n",
       "2               2  1654733333          20.029        55.96          0   \n",
       "3               3  1654733334          20.044        55.28          0   \n",
       "4               4  1654733335          20.059        54.69          0   \n",
       "...           ...         ...             ...          ...        ...   \n",
       "62625       62625  1655130047          18.438        15.79        625   \n",
       "62626       62626  1655130048          18.653        15.87        612   \n",
       "62627       62627  1655130049          18.867        15.84        627   \n",
       "62628       62628  1655130050          19.083        16.04        638   \n",
       "62629       62629  1655130051          19.299        16.52        643   \n",
       "\n",
       "       eCO2[ppm]  Raw H2  Raw Ethanol  Pressure[hPa]  PM1.0  PM2.5  NC0.5  \\\n",
       "0            400   12306        18520        939.735   0.00   0.00   0.00   \n",
       "1            400   12345        18651        939.744   0.00   0.00   0.00   \n",
       "2            400   12374        18764        939.738   0.00   0.00   0.00   \n",
       "3            400   12390        18849        939.736   0.00   0.00   0.00   \n",
       "4            400   12403        18921        939.744   0.00   0.00   0.00   \n",
       "...          ...     ...          ...            ...    ...    ...    ...   \n",
       "62625        400   13723        20569        936.670   0.63   0.65   4.32   \n",
       "62626        400   13731        20588        936.678   0.61   0.63   4.18   \n",
       "62627        400   13725        20582        936.687   0.57   0.60   3.95   \n",
       "62628        400   13712        20566        936.680   0.57   0.59   3.92   \n",
       "62629        400   13696        20543        936.676   0.57   0.59   3.90   \n",
       "\n",
       "       NC1.0  NC2.5   CNT  Fire Alarm  \n",
       "0      0.000  0.000     0           0  \n",
       "1      0.000  0.000     1           0  \n",
       "2      0.000  0.000     2           0  \n",
       "3      0.000  0.000     3           0  \n",
       "4      0.000  0.000     4           0  \n",
       "...      ...    ...   ...         ...  \n",
       "62625  0.673  0.015  5739           0  \n",
       "62626  0.652  0.015  5740           0  \n",
       "62627  0.617  0.014  5741           0  \n",
       "62628  0.611  0.014  5742           0  \n",
       "62629  0.607  0.014  5743           0  \n",
       "\n",
       "[62630 rows x 16 columns]"
      ]
     },
     "execution_count": 3,
     "metadata": {},
     "output_type": "execute_result"
    }
   ],
   "source": [
    "data"
   ]
  },
  {
   "cell_type": "code",
   "execution_count": 4,
   "id": "ffe991a3",
   "metadata": {
    "execution": {
     "iopub.execute_input": "2022-10-19T14:19:07.875049Z",
     "iopub.status.busy": "2022-10-19T14:19:07.874691Z",
     "iopub.status.idle": "2022-10-19T14:19:07.975481Z",
     "shell.execute_reply": "2022-10-19T14:19:07.974346Z"
    },
    "papermill": {
     "duration": 0.118498,
     "end_time": "2022-10-19T14:19:07.977978",
     "exception": false,
     "start_time": "2022-10-19T14:19:07.859480",
     "status": "completed"
    },
    "tags": []
   },
   "outputs": [
    {
     "data": {
      "text/html": [
       "<div>\n",
       "<style scoped>\n",
       "    .dataframe tbody tr th:only-of-type {\n",
       "        vertical-align: middle;\n",
       "    }\n",
       "\n",
       "    .dataframe tbody tr th {\n",
       "        vertical-align: top;\n",
       "    }\n",
       "\n",
       "    .dataframe thead th {\n",
       "        text-align: right;\n",
       "    }\n",
       "</style>\n",
       "<table border=\"1\" class=\"dataframe\">\n",
       "  <thead>\n",
       "    <tr style=\"text-align: right;\">\n",
       "      <th></th>\n",
       "      <th>count</th>\n",
       "      <th>mean</th>\n",
       "      <th>std</th>\n",
       "      <th>min</th>\n",
       "      <th>25%</th>\n",
       "      <th>50%</th>\n",
       "      <th>75%</th>\n",
       "      <th>max</th>\n",
       "    </tr>\n",
       "  </thead>\n",
       "  <tbody>\n",
       "    <tr>\n",
       "      <th>Unnamed: 0</th>\n",
       "      <td>62630.0</td>\n",
       "      <td>3.131450e+04</td>\n",
       "      <td>18079.868017</td>\n",
       "      <td>0.000000e+00</td>\n",
       "      <td>1.565725e+04</td>\n",
       "      <td>3.131450e+04</td>\n",
       "      <td>4.697175e+04</td>\n",
       "      <td>6.262900e+04</td>\n",
       "    </tr>\n",
       "    <tr>\n",
       "      <th>UTC</th>\n",
       "      <td>62630.0</td>\n",
       "      <td>1.654792e+09</td>\n",
       "      <td>110002.488078</td>\n",
       "      <td>1.654712e+09</td>\n",
       "      <td>1.654743e+09</td>\n",
       "      <td>1.654762e+09</td>\n",
       "      <td>1.654778e+09</td>\n",
       "      <td>1.655130e+09</td>\n",
       "    </tr>\n",
       "    <tr>\n",
       "      <th>Temperature[C]</th>\n",
       "      <td>62630.0</td>\n",
       "      <td>1.597042e+01</td>\n",
       "      <td>14.359576</td>\n",
       "      <td>-2.201000e+01</td>\n",
       "      <td>1.099425e+01</td>\n",
       "      <td>2.013000e+01</td>\n",
       "      <td>2.540950e+01</td>\n",
       "      <td>5.993000e+01</td>\n",
       "    </tr>\n",
       "    <tr>\n",
       "      <th>Humidity[%]</th>\n",
       "      <td>62630.0</td>\n",
       "      <td>4.853950e+01</td>\n",
       "      <td>8.865367</td>\n",
       "      <td>1.074000e+01</td>\n",
       "      <td>4.753000e+01</td>\n",
       "      <td>5.015000e+01</td>\n",
       "      <td>5.324000e+01</td>\n",
       "      <td>7.520000e+01</td>\n",
       "    </tr>\n",
       "    <tr>\n",
       "      <th>TVOC[ppb]</th>\n",
       "      <td>62630.0</td>\n",
       "      <td>1.942058e+03</td>\n",
       "      <td>7811.589055</td>\n",
       "      <td>0.000000e+00</td>\n",
       "      <td>1.300000e+02</td>\n",
       "      <td>9.810000e+02</td>\n",
       "      <td>1.189000e+03</td>\n",
       "      <td>6.000000e+04</td>\n",
       "    </tr>\n",
       "    <tr>\n",
       "      <th>eCO2[ppm]</th>\n",
       "      <td>62630.0</td>\n",
       "      <td>6.700210e+02</td>\n",
       "      <td>1905.885439</td>\n",
       "      <td>4.000000e+02</td>\n",
       "      <td>4.000000e+02</td>\n",
       "      <td>4.000000e+02</td>\n",
       "      <td>4.380000e+02</td>\n",
       "      <td>6.000000e+04</td>\n",
       "    </tr>\n",
       "    <tr>\n",
       "      <th>Raw H2</th>\n",
       "      <td>62630.0</td>\n",
       "      <td>1.294245e+04</td>\n",
       "      <td>272.464305</td>\n",
       "      <td>1.066800e+04</td>\n",
       "      <td>1.283000e+04</td>\n",
       "      <td>1.292400e+04</td>\n",
       "      <td>1.310900e+04</td>\n",
       "      <td>1.380300e+04</td>\n",
       "    </tr>\n",
       "    <tr>\n",
       "      <th>Raw Ethanol</th>\n",
       "      <td>62630.0</td>\n",
       "      <td>1.975426e+04</td>\n",
       "      <td>609.513156</td>\n",
       "      <td>1.531700e+04</td>\n",
       "      <td>1.943500e+04</td>\n",
       "      <td>1.950100e+04</td>\n",
       "      <td>2.007800e+04</td>\n",
       "      <td>2.141000e+04</td>\n",
       "    </tr>\n",
       "    <tr>\n",
       "      <th>Pressure[hPa]</th>\n",
       "      <td>62630.0</td>\n",
       "      <td>9.386276e+02</td>\n",
       "      <td>1.331344</td>\n",
       "      <td>9.308520e+02</td>\n",
       "      <td>9.387000e+02</td>\n",
       "      <td>9.388160e+02</td>\n",
       "      <td>9.394180e+02</td>\n",
       "      <td>9.398610e+02</td>\n",
       "    </tr>\n",
       "    <tr>\n",
       "      <th>PM1.0</th>\n",
       "      <td>62630.0</td>\n",
       "      <td>1.005943e+02</td>\n",
       "      <td>922.524245</td>\n",
       "      <td>0.000000e+00</td>\n",
       "      <td>1.280000e+00</td>\n",
       "      <td>1.810000e+00</td>\n",
       "      <td>2.090000e+00</td>\n",
       "      <td>1.433369e+04</td>\n",
       "    </tr>\n",
       "    <tr>\n",
       "      <th>PM2.5</th>\n",
       "      <td>62630.0</td>\n",
       "      <td>1.844678e+02</td>\n",
       "      <td>1976.305615</td>\n",
       "      <td>0.000000e+00</td>\n",
       "      <td>1.340000e+00</td>\n",
       "      <td>1.880000e+00</td>\n",
       "      <td>2.180000e+00</td>\n",
       "      <td>4.543226e+04</td>\n",
       "    </tr>\n",
       "    <tr>\n",
       "      <th>NC0.5</th>\n",
       "      <td>62630.0</td>\n",
       "      <td>4.914636e+02</td>\n",
       "      <td>4265.661251</td>\n",
       "      <td>0.000000e+00</td>\n",
       "      <td>8.820000e+00</td>\n",
       "      <td>1.245000e+01</td>\n",
       "      <td>1.442000e+01</td>\n",
       "      <td>6.148203e+04</td>\n",
       "    </tr>\n",
       "    <tr>\n",
       "      <th>NC1.0</th>\n",
       "      <td>62630.0</td>\n",
       "      <td>2.035865e+02</td>\n",
       "      <td>2214.738556</td>\n",
       "      <td>0.000000e+00</td>\n",
       "      <td>1.384000e+00</td>\n",
       "      <td>1.943000e+00</td>\n",
       "      <td>2.249000e+00</td>\n",
       "      <td>5.191468e+04</td>\n",
       "    </tr>\n",
       "    <tr>\n",
       "      <th>NC2.5</th>\n",
       "      <td>62630.0</td>\n",
       "      <td>8.004904e+01</td>\n",
       "      <td>1083.383189</td>\n",
       "      <td>0.000000e+00</td>\n",
       "      <td>3.300000e-02</td>\n",
       "      <td>4.400000e-02</td>\n",
       "      <td>5.100000e-02</td>\n",
       "      <td>3.002644e+04</td>\n",
       "    </tr>\n",
       "    <tr>\n",
       "      <th>CNT</th>\n",
       "      <td>62630.0</td>\n",
       "      <td>1.051139e+04</td>\n",
       "      <td>7597.870997</td>\n",
       "      <td>0.000000e+00</td>\n",
       "      <td>3.625250e+03</td>\n",
       "      <td>9.336000e+03</td>\n",
       "      <td>1.716475e+04</td>\n",
       "      <td>2.499300e+04</td>\n",
       "    </tr>\n",
       "    <tr>\n",
       "      <th>Fire Alarm</th>\n",
       "      <td>62630.0</td>\n",
       "      <td>7.146256e-01</td>\n",
       "      <td>0.451596</td>\n",
       "      <td>0.000000e+00</td>\n",
       "      <td>0.000000e+00</td>\n",
       "      <td>1.000000e+00</td>\n",
       "      <td>1.000000e+00</td>\n",
       "      <td>1.000000e+00</td>\n",
       "    </tr>\n",
       "  </tbody>\n",
       "</table>\n",
       "</div>"
      ],
      "text/plain": [
       "                  count          mean            std           min  \\\n",
       "Unnamed: 0      62630.0  3.131450e+04   18079.868017  0.000000e+00   \n",
       "UTC             62630.0  1.654792e+09  110002.488078  1.654712e+09   \n",
       "Temperature[C]  62630.0  1.597042e+01      14.359576 -2.201000e+01   \n",
       "Humidity[%]     62630.0  4.853950e+01       8.865367  1.074000e+01   \n",
       "TVOC[ppb]       62630.0  1.942058e+03    7811.589055  0.000000e+00   \n",
       "eCO2[ppm]       62630.0  6.700210e+02    1905.885439  4.000000e+02   \n",
       "Raw H2          62630.0  1.294245e+04     272.464305  1.066800e+04   \n",
       "Raw Ethanol     62630.0  1.975426e+04     609.513156  1.531700e+04   \n",
       "Pressure[hPa]   62630.0  9.386276e+02       1.331344  9.308520e+02   \n",
       "PM1.0           62630.0  1.005943e+02     922.524245  0.000000e+00   \n",
       "PM2.5           62630.0  1.844678e+02    1976.305615  0.000000e+00   \n",
       "NC0.5           62630.0  4.914636e+02    4265.661251  0.000000e+00   \n",
       "NC1.0           62630.0  2.035865e+02    2214.738556  0.000000e+00   \n",
       "NC2.5           62630.0  8.004904e+01    1083.383189  0.000000e+00   \n",
       "CNT             62630.0  1.051139e+04    7597.870997  0.000000e+00   \n",
       "Fire Alarm      62630.0  7.146256e-01       0.451596  0.000000e+00   \n",
       "\n",
       "                         25%           50%           75%           max  \n",
       "Unnamed: 0      1.565725e+04  3.131450e+04  4.697175e+04  6.262900e+04  \n",
       "UTC             1.654743e+09  1.654762e+09  1.654778e+09  1.655130e+09  \n",
       "Temperature[C]  1.099425e+01  2.013000e+01  2.540950e+01  5.993000e+01  \n",
       "Humidity[%]     4.753000e+01  5.015000e+01  5.324000e+01  7.520000e+01  \n",
       "TVOC[ppb]       1.300000e+02  9.810000e+02  1.189000e+03  6.000000e+04  \n",
       "eCO2[ppm]       4.000000e+02  4.000000e+02  4.380000e+02  6.000000e+04  \n",
       "Raw H2          1.283000e+04  1.292400e+04  1.310900e+04  1.380300e+04  \n",
       "Raw Ethanol     1.943500e+04  1.950100e+04  2.007800e+04  2.141000e+04  \n",
       "Pressure[hPa]   9.387000e+02  9.388160e+02  9.394180e+02  9.398610e+02  \n",
       "PM1.0           1.280000e+00  1.810000e+00  2.090000e+00  1.433369e+04  \n",
       "PM2.5           1.340000e+00  1.880000e+00  2.180000e+00  4.543226e+04  \n",
       "NC0.5           8.820000e+00  1.245000e+01  1.442000e+01  6.148203e+04  \n",
       "NC1.0           1.384000e+00  1.943000e+00  2.249000e+00  5.191468e+04  \n",
       "NC2.5           3.300000e-02  4.400000e-02  5.100000e-02  3.002644e+04  \n",
       "CNT             3.625250e+03  9.336000e+03  1.716475e+04  2.499300e+04  \n",
       "Fire Alarm      0.000000e+00  1.000000e+00  1.000000e+00  1.000000e+00  "
      ]
     },
     "execution_count": 4,
     "metadata": {},
     "output_type": "execute_result"
    }
   ],
   "source": [
    "data.describe().transpose()"
   ]
  },
  {
   "cell_type": "code",
   "execution_count": 5,
   "id": "a00bee40",
   "metadata": {
    "execution": {
     "iopub.execute_input": "2022-10-19T14:19:08.011548Z",
     "iopub.status.busy": "2022-10-19T14:19:08.009452Z",
     "iopub.status.idle": "2022-10-19T14:19:08.091965Z",
     "shell.execute_reply": "2022-10-19T14:19:08.090842Z"
    },
    "papermill": {
     "duration": 0.102245,
     "end_time": "2022-10-19T14:19:08.094545",
     "exception": false,
     "start_time": "2022-10-19T14:19:07.992300",
     "status": "completed"
    },
    "tags": []
   },
   "outputs": [
    {
     "data": {
      "text/html": [
       "<div>\n",
       "<style scoped>\n",
       "    .dataframe tbody tr th:only-of-type {\n",
       "        vertical-align: middle;\n",
       "    }\n",
       "\n",
       "    .dataframe tbody tr th {\n",
       "        vertical-align: top;\n",
       "    }\n",
       "\n",
       "    .dataframe thead th {\n",
       "        text-align: right;\n",
       "    }\n",
       "</style>\n",
       "<table border=\"1\" class=\"dataframe\">\n",
       "  <thead>\n",
       "    <tr style=\"text-align: right;\">\n",
       "      <th></th>\n",
       "      <th>Unnamed: 0</th>\n",
       "      <th>UTC</th>\n",
       "      <th>Temperature[C]</th>\n",
       "      <th>Humidity[%]</th>\n",
       "      <th>TVOC[ppb]</th>\n",
       "      <th>eCO2[ppm]</th>\n",
       "      <th>Raw H2</th>\n",
       "      <th>Raw Ethanol</th>\n",
       "      <th>Pressure[hPa]</th>\n",
       "      <th>PM1.0</th>\n",
       "      <th>PM2.5</th>\n",
       "      <th>NC0.5</th>\n",
       "      <th>NC1.0</th>\n",
       "      <th>NC2.5</th>\n",
       "      <th>CNT</th>\n",
       "      <th>Fire Alarm</th>\n",
       "    </tr>\n",
       "  </thead>\n",
       "  <tbody>\n",
       "    <tr>\n",
       "      <th>Unnamed: 0</th>\n",
       "      <td>1.000000</td>\n",
       "      <td>0.551987</td>\n",
       "      <td>0.425636</td>\n",
       "      <td>-0.498121</td>\n",
       "      <td>0.248813</td>\n",
       "      <td>0.160665</td>\n",
       "      <td>-0.232854</td>\n",
       "      <td>0.083094</td>\n",
       "      <td>-0.580829</td>\n",
       "      <td>0.151785</td>\n",
       "      <td>0.128487</td>\n",
       "      <td>0.162053</td>\n",
       "      <td>0.126418</td>\n",
       "      <td>0.100300</td>\n",
       "      <td>-0.053262</td>\n",
       "      <td>-0.361351</td>\n",
       "    </tr>\n",
       "    <tr>\n",
       "      <th>UTC</th>\n",
       "      <td>0.551987</td>\n",
       "      <td>1.000000</td>\n",
       "      <td>-0.164174</td>\n",
       "      <td>-0.391907</td>\n",
       "      <td>0.180731</td>\n",
       "      <td>0.132100</td>\n",
       "      <td>-0.151088</td>\n",
       "      <td>0.166555</td>\n",
       "      <td>-0.434375</td>\n",
       "      <td>0.123168</td>\n",
       "      <td>0.105304</td>\n",
       "      <td>0.130288</td>\n",
       "      <td>0.103695</td>\n",
       "      <td>0.083234</td>\n",
       "      <td>-0.251595</td>\n",
       "      <td>-0.389404</td>\n",
       "    </tr>\n",
       "    <tr>\n",
       "      <th>Temperature[C]</th>\n",
       "      <td>0.425636</td>\n",
       "      <td>-0.164174</td>\n",
       "      <td>1.000000</td>\n",
       "      <td>-0.243986</td>\n",
       "      <td>0.082442</td>\n",
       "      <td>0.079265</td>\n",
       "      <td>-0.135540</td>\n",
       "      <td>-0.037343</td>\n",
       "      <td>-0.251203</td>\n",
       "      <td>0.037330</td>\n",
       "      <td>0.032084</td>\n",
       "      <td>0.039291</td>\n",
       "      <td>0.031608</td>\n",
       "      <td>0.025526</td>\n",
       "      <td>-0.089850</td>\n",
       "      <td>-0.163902</td>\n",
       "    </tr>\n",
       "    <tr>\n",
       "      <th>Humidity[%]</th>\n",
       "      <td>-0.498121</td>\n",
       "      <td>-0.391907</td>\n",
       "      <td>-0.243986</td>\n",
       "      <td>1.000000</td>\n",
       "      <td>-0.488878</td>\n",
       "      <td>-0.369095</td>\n",
       "      <td>0.247199</td>\n",
       "      <td>0.068782</td>\n",
       "      <td>0.694614</td>\n",
       "      <td>-0.236538</td>\n",
       "      <td>-0.178882</td>\n",
       "      <td>-0.277389</td>\n",
       "      <td>-0.174224</td>\n",
       "      <td>-0.118502</td>\n",
       "      <td>0.251965</td>\n",
       "      <td>0.399846</td>\n",
       "    </tr>\n",
       "    <tr>\n",
       "      <th>TVOC[ppb]</th>\n",
       "      <td>0.248813</td>\n",
       "      <td>0.180731</td>\n",
       "      <td>0.082442</td>\n",
       "      <td>-0.488878</td>\n",
       "      <td>1.000000</td>\n",
       "      <td>0.606118</td>\n",
       "      <td>-0.653053</td>\n",
       "      <td>-0.673715</td>\n",
       "      <td>-0.220004</td>\n",
       "      <td>0.597366</td>\n",
       "      <td>0.477424</td>\n",
       "      <td>0.670657</td>\n",
       "      <td>0.467386</td>\n",
       "      <td>0.344721</td>\n",
       "      <td>-0.057703</td>\n",
       "      <td>-0.214743</td>\n",
       "    </tr>\n",
       "    <tr>\n",
       "      <th>eCO2[ppm]</th>\n",
       "      <td>0.160665</td>\n",
       "      <td>0.132100</td>\n",
       "      <td>0.079265</td>\n",
       "      <td>-0.369095</td>\n",
       "      <td>0.606118</td>\n",
       "      <td>1.000000</td>\n",
       "      <td>-0.682785</td>\n",
       "      <td>-0.506695</td>\n",
       "      <td>-0.326043</td>\n",
       "      <td>0.665482</td>\n",
       "      <td>0.572691</td>\n",
       "      <td>0.699604</td>\n",
       "      <td>0.564252</td>\n",
       "      <td>0.456323</td>\n",
       "      <td>-0.106681</td>\n",
       "      <td>-0.097006</td>\n",
       "    </tr>\n",
       "    <tr>\n",
       "      <th>Raw H2</th>\n",
       "      <td>-0.232854</td>\n",
       "      <td>-0.151088</td>\n",
       "      <td>-0.135540</td>\n",
       "      <td>0.247199</td>\n",
       "      <td>-0.653053</td>\n",
       "      <td>-0.682785</td>\n",
       "      <td>1.000000</td>\n",
       "      <td>0.631495</td>\n",
       "      <td>0.303090</td>\n",
       "      <td>-0.530714</td>\n",
       "      <td>-0.431079</td>\n",
       "      <td>-0.587769</td>\n",
       "      <td>-0.422626</td>\n",
       "      <td>-0.318518</td>\n",
       "      <td>-0.031036</td>\n",
       "      <td>0.107007</td>\n",
       "    </tr>\n",
       "    <tr>\n",
       "      <th>Raw Ethanol</th>\n",
       "      <td>0.083094</td>\n",
       "      <td>0.166555</td>\n",
       "      <td>-0.037343</td>\n",
       "      <td>0.068782</td>\n",
       "      <td>-0.673715</td>\n",
       "      <td>-0.506695</td>\n",
       "      <td>0.631495</td>\n",
       "      <td>1.000000</td>\n",
       "      <td>-0.075926</td>\n",
       "      <td>-0.480698</td>\n",
       "      <td>-0.393192</td>\n",
       "      <td>-0.529186</td>\n",
       "      <td>-0.385720</td>\n",
       "      <td>-0.293351</td>\n",
       "      <td>-0.511995</td>\n",
       "      <td>-0.340652</td>\n",
       "    </tr>\n",
       "    <tr>\n",
       "      <th>Pressure[hPa]</th>\n",
       "      <td>-0.580829</td>\n",
       "      <td>-0.434375</td>\n",
       "      <td>-0.251203</td>\n",
       "      <td>0.694614</td>\n",
       "      <td>-0.220004</td>\n",
       "      <td>-0.326043</td>\n",
       "      <td>0.303090</td>\n",
       "      <td>-0.075926</td>\n",
       "      <td>1.000000</td>\n",
       "      <td>-0.258938</td>\n",
       "      <td>-0.243071</td>\n",
       "      <td>-0.248657</td>\n",
       "      <td>-0.241148</td>\n",
       "      <td>-0.213390</td>\n",
       "      <td>0.186290</td>\n",
       "      <td>0.249797</td>\n",
       "    </tr>\n",
       "    <tr>\n",
       "      <th>PM1.0</th>\n",
       "      <td>0.151785</td>\n",
       "      <td>0.123168</td>\n",
       "      <td>0.037330</td>\n",
       "      <td>-0.236538</td>\n",
       "      <td>0.597366</td>\n",
       "      <td>0.665482</td>\n",
       "      <td>-0.530714</td>\n",
       "      <td>-0.480698</td>\n",
       "      <td>-0.258938</td>\n",
       "      <td>1.000000</td>\n",
       "      <td>0.956118</td>\n",
       "      <td>0.940045</td>\n",
       "      <td>0.949860</td>\n",
       "      <td>0.854901</td>\n",
       "      <td>-0.093700</td>\n",
       "      <td>-0.110552</td>\n",
       "    </tr>\n",
       "    <tr>\n",
       "      <th>PM2.5</th>\n",
       "      <td>0.128487</td>\n",
       "      <td>0.105304</td>\n",
       "      <td>0.032084</td>\n",
       "      <td>-0.178882</td>\n",
       "      <td>0.477424</td>\n",
       "      <td>0.572691</td>\n",
       "      <td>-0.431079</td>\n",
       "      <td>-0.393192</td>\n",
       "      <td>-0.243071</td>\n",
       "      <td>0.956118</td>\n",
       "      <td>1.000000</td>\n",
       "      <td>0.798873</td>\n",
       "      <td>0.999787</td>\n",
       "      <td>0.969382</td>\n",
       "      <td>-0.083869</td>\n",
       "      <td>-0.084916</td>\n",
       "    </tr>\n",
       "    <tr>\n",
       "      <th>NC0.5</th>\n",
       "      <td>0.162053</td>\n",
       "      <td>0.130288</td>\n",
       "      <td>0.039291</td>\n",
       "      <td>-0.277389</td>\n",
       "      <td>0.670657</td>\n",
       "      <td>0.699604</td>\n",
       "      <td>-0.587769</td>\n",
       "      <td>-0.529186</td>\n",
       "      <td>-0.248657</td>\n",
       "      <td>0.940045</td>\n",
       "      <td>0.798873</td>\n",
       "      <td>1.000000</td>\n",
       "      <td>0.786274</td>\n",
       "      <td>0.626711</td>\n",
       "      <td>-0.094741</td>\n",
       "      <td>-0.128118</td>\n",
       "    </tr>\n",
       "    <tr>\n",
       "      <th>NC1.0</th>\n",
       "      <td>0.126418</td>\n",
       "      <td>0.103695</td>\n",
       "      <td>0.031608</td>\n",
       "      <td>-0.174224</td>\n",
       "      <td>0.467386</td>\n",
       "      <td>0.564252</td>\n",
       "      <td>-0.422626</td>\n",
       "      <td>-0.385720</td>\n",
       "      <td>-0.241148</td>\n",
       "      <td>0.949860</td>\n",
       "      <td>0.999787</td>\n",
       "      <td>0.786274</td>\n",
       "      <td>1.000000</td>\n",
       "      <td>0.974249</td>\n",
       "      <td>-0.082898</td>\n",
       "      <td>-0.082828</td>\n",
       "    </tr>\n",
       "    <tr>\n",
       "      <th>NC2.5</th>\n",
       "      <td>0.100300</td>\n",
       "      <td>0.083234</td>\n",
       "      <td>0.025526</td>\n",
       "      <td>-0.118502</td>\n",
       "      <td>0.344721</td>\n",
       "      <td>0.456323</td>\n",
       "      <td>-0.318518</td>\n",
       "      <td>-0.293351</td>\n",
       "      <td>-0.213390</td>\n",
       "      <td>0.854901</td>\n",
       "      <td>0.969382</td>\n",
       "      <td>0.626711</td>\n",
       "      <td>0.974249</td>\n",
       "      <td>1.000000</td>\n",
       "      <td>-0.069977</td>\n",
       "      <td>-0.057707</td>\n",
       "    </tr>\n",
       "    <tr>\n",
       "      <th>CNT</th>\n",
       "      <td>-0.053262</td>\n",
       "      <td>-0.251595</td>\n",
       "      <td>-0.089850</td>\n",
       "      <td>0.251965</td>\n",
       "      <td>-0.057703</td>\n",
       "      <td>-0.106681</td>\n",
       "      <td>-0.031036</td>\n",
       "      <td>-0.511995</td>\n",
       "      <td>0.186290</td>\n",
       "      <td>-0.093700</td>\n",
       "      <td>-0.083869</td>\n",
       "      <td>-0.094741</td>\n",
       "      <td>-0.082898</td>\n",
       "      <td>-0.069977</td>\n",
       "      <td>1.000000</td>\n",
       "      <td>0.673762</td>\n",
       "    </tr>\n",
       "    <tr>\n",
       "      <th>Fire Alarm</th>\n",
       "      <td>-0.361351</td>\n",
       "      <td>-0.389404</td>\n",
       "      <td>-0.163902</td>\n",
       "      <td>0.399846</td>\n",
       "      <td>-0.214743</td>\n",
       "      <td>-0.097006</td>\n",
       "      <td>0.107007</td>\n",
       "      <td>-0.340652</td>\n",
       "      <td>0.249797</td>\n",
       "      <td>-0.110552</td>\n",
       "      <td>-0.084916</td>\n",
       "      <td>-0.128118</td>\n",
       "      <td>-0.082828</td>\n",
       "      <td>-0.057707</td>\n",
       "      <td>0.673762</td>\n",
       "      <td>1.000000</td>\n",
       "    </tr>\n",
       "  </tbody>\n",
       "</table>\n",
       "</div>"
      ],
      "text/plain": [
       "                Unnamed: 0       UTC  Temperature[C]  Humidity[%]  TVOC[ppb]  \\\n",
       "Unnamed: 0        1.000000  0.551987        0.425636    -0.498121   0.248813   \n",
       "UTC               0.551987  1.000000       -0.164174    -0.391907   0.180731   \n",
       "Temperature[C]    0.425636 -0.164174        1.000000    -0.243986   0.082442   \n",
       "Humidity[%]      -0.498121 -0.391907       -0.243986     1.000000  -0.488878   \n",
       "TVOC[ppb]         0.248813  0.180731        0.082442    -0.488878   1.000000   \n",
       "eCO2[ppm]         0.160665  0.132100        0.079265    -0.369095   0.606118   \n",
       "Raw H2           -0.232854 -0.151088       -0.135540     0.247199  -0.653053   \n",
       "Raw Ethanol       0.083094  0.166555       -0.037343     0.068782  -0.673715   \n",
       "Pressure[hPa]    -0.580829 -0.434375       -0.251203     0.694614  -0.220004   \n",
       "PM1.0             0.151785  0.123168        0.037330    -0.236538   0.597366   \n",
       "PM2.5             0.128487  0.105304        0.032084    -0.178882   0.477424   \n",
       "NC0.5             0.162053  0.130288        0.039291    -0.277389   0.670657   \n",
       "NC1.0             0.126418  0.103695        0.031608    -0.174224   0.467386   \n",
       "NC2.5             0.100300  0.083234        0.025526    -0.118502   0.344721   \n",
       "CNT              -0.053262 -0.251595       -0.089850     0.251965  -0.057703   \n",
       "Fire Alarm       -0.361351 -0.389404       -0.163902     0.399846  -0.214743   \n",
       "\n",
       "                eCO2[ppm]    Raw H2  Raw Ethanol  Pressure[hPa]     PM1.0  \\\n",
       "Unnamed: 0       0.160665 -0.232854     0.083094      -0.580829  0.151785   \n",
       "UTC              0.132100 -0.151088     0.166555      -0.434375  0.123168   \n",
       "Temperature[C]   0.079265 -0.135540    -0.037343      -0.251203  0.037330   \n",
       "Humidity[%]     -0.369095  0.247199     0.068782       0.694614 -0.236538   \n",
       "TVOC[ppb]        0.606118 -0.653053    -0.673715      -0.220004  0.597366   \n",
       "eCO2[ppm]        1.000000 -0.682785    -0.506695      -0.326043  0.665482   \n",
       "Raw H2          -0.682785  1.000000     0.631495       0.303090 -0.530714   \n",
       "Raw Ethanol     -0.506695  0.631495     1.000000      -0.075926 -0.480698   \n",
       "Pressure[hPa]   -0.326043  0.303090    -0.075926       1.000000 -0.258938   \n",
       "PM1.0            0.665482 -0.530714    -0.480698      -0.258938  1.000000   \n",
       "PM2.5            0.572691 -0.431079    -0.393192      -0.243071  0.956118   \n",
       "NC0.5            0.699604 -0.587769    -0.529186      -0.248657  0.940045   \n",
       "NC1.0            0.564252 -0.422626    -0.385720      -0.241148  0.949860   \n",
       "NC2.5            0.456323 -0.318518    -0.293351      -0.213390  0.854901   \n",
       "CNT             -0.106681 -0.031036    -0.511995       0.186290 -0.093700   \n",
       "Fire Alarm      -0.097006  0.107007    -0.340652       0.249797 -0.110552   \n",
       "\n",
       "                   PM2.5     NC0.5     NC1.0     NC2.5       CNT  Fire Alarm  \n",
       "Unnamed: 0      0.128487  0.162053  0.126418  0.100300 -0.053262   -0.361351  \n",
       "UTC             0.105304  0.130288  0.103695  0.083234 -0.251595   -0.389404  \n",
       "Temperature[C]  0.032084  0.039291  0.031608  0.025526 -0.089850   -0.163902  \n",
       "Humidity[%]    -0.178882 -0.277389 -0.174224 -0.118502  0.251965    0.399846  \n",
       "TVOC[ppb]       0.477424  0.670657  0.467386  0.344721 -0.057703   -0.214743  \n",
       "eCO2[ppm]       0.572691  0.699604  0.564252  0.456323 -0.106681   -0.097006  \n",
       "Raw H2         -0.431079 -0.587769 -0.422626 -0.318518 -0.031036    0.107007  \n",
       "Raw Ethanol    -0.393192 -0.529186 -0.385720 -0.293351 -0.511995   -0.340652  \n",
       "Pressure[hPa]  -0.243071 -0.248657 -0.241148 -0.213390  0.186290    0.249797  \n",
       "PM1.0           0.956118  0.940045  0.949860  0.854901 -0.093700   -0.110552  \n",
       "PM2.5           1.000000  0.798873  0.999787  0.969382 -0.083869   -0.084916  \n",
       "NC0.5           0.798873  1.000000  0.786274  0.626711 -0.094741   -0.128118  \n",
       "NC1.0           0.999787  0.786274  1.000000  0.974249 -0.082898   -0.082828  \n",
       "NC2.5           0.969382  0.626711  0.974249  1.000000 -0.069977   -0.057707  \n",
       "CNT            -0.083869 -0.094741 -0.082898 -0.069977  1.000000    0.673762  \n",
       "Fire Alarm     -0.084916 -0.128118 -0.082828 -0.057707  0.673762    1.000000  "
      ]
     },
     "execution_count": 5,
     "metadata": {},
     "output_type": "execute_result"
    }
   ],
   "source": [
    "data.corr()"
   ]
  },
  {
   "cell_type": "code",
   "execution_count": 6,
   "id": "cf7706cf",
   "metadata": {
    "execution": {
     "iopub.execute_input": "2022-10-19T14:19:08.126412Z",
     "iopub.status.busy": "2022-10-19T14:19:08.126014Z",
     "iopub.status.idle": "2022-10-19T14:19:08.184588Z",
     "shell.execute_reply": "2022-10-19T14:19:08.183347Z"
    },
    "papermill": {
     "duration": 0.077419,
     "end_time": "2022-10-19T14:19:08.187036",
     "exception": false,
     "start_time": "2022-10-19T14:19:08.109617",
     "status": "completed"
    },
    "tags": []
   },
   "outputs": [
    {
     "data": {
      "text/plain": [
       "UTC              -0.389404\n",
       "Unnamed: 0       -0.361351\n",
       "Raw Ethanol      -0.340652\n",
       "TVOC[ppb]        -0.214743\n",
       "Temperature[C]   -0.163902\n",
       "NC0.5            -0.128118\n",
       "PM1.0            -0.110552\n",
       "eCO2[ppm]        -0.097006\n",
       "PM2.5            -0.084916\n",
       "NC1.0            -0.082828\n",
       "NC2.5            -0.057707\n",
       "Raw H2            0.107007\n",
       "Pressure[hPa]     0.249797\n",
       "Humidity[%]       0.399846\n",
       "CNT               0.673762\n",
       "Fire Alarm        1.000000\n",
       "Name: Fire Alarm, dtype: float64"
      ]
     },
     "execution_count": 6,
     "metadata": {},
     "output_type": "execute_result"
    }
   ],
   "source": [
    "data.corr()['Fire Alarm'].sort_values()"
   ]
  },
  {
   "cell_type": "code",
   "execution_count": 7,
   "id": "171675b7",
   "metadata": {
    "execution": {
     "iopub.execute_input": "2022-10-19T14:19:08.219337Z",
     "iopub.status.busy": "2022-10-19T14:19:08.218894Z",
     "iopub.status.idle": "2022-10-19T14:19:08.604489Z",
     "shell.execute_reply": "2022-10-19T14:19:08.603249Z"
    },
    "papermill": {
     "duration": 0.405339,
     "end_time": "2022-10-19T14:19:08.607543",
     "exception": false,
     "start_time": "2022-10-19T14:19:08.202204",
     "status": "completed"
    },
    "tags": []
   },
   "outputs": [
    {
     "data": {
      "text/plain": [
       "<AxesSubplot:>"
      ]
     },
     "execution_count": 7,
     "metadata": {},
     "output_type": "execute_result"
    },
    {
     "data": {
      "image/png": "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\n",
      "text/plain": [
       "<Figure size 432x288 with 1 Axes>"
      ]
     },
     "metadata": {
      "needs_background": "light"
     },
     "output_type": "display_data"
    }
   ],
   "source": [
    "data.corr()['Fire Alarm'].sort_values().plot(kind='bar')"
   ]
  },
  {
   "cell_type": "code",
   "execution_count": 8,
   "id": "81e20a2e",
   "metadata": {
    "execution": {
     "iopub.execute_input": "2022-10-19T14:19:08.640708Z",
     "iopub.status.busy": "2022-10-19T14:19:08.640323Z",
     "iopub.status.idle": "2022-10-19T14:19:08.645916Z",
     "shell.execute_reply": "2022-10-19T14:19:08.644784Z"
    },
    "papermill": {
     "duration": 0.025121,
     "end_time": "2022-10-19T14:19:08.648323",
     "exception": false,
     "start_time": "2022-10-19T14:19:08.623202",
     "status": "completed"
    },
    "tags": []
   },
   "outputs": [],
   "source": [
    "cols=['Unnamed: 0' , 'CNT' , 'Raw Ethanol', 'Pressure[hPa]', 'UTC' ,'Humidity[%]' , 'PM1.0', 'PM1.0' , 'NC0.5' ,'NC1.0' ,'NC2.5']"
   ]
  },
  {
   "cell_type": "code",
   "execution_count": 9,
   "id": "64b61c8d",
   "metadata": {
    "execution": {
     "iopub.execute_input": "2022-10-19T14:19:08.682699Z",
     "iopub.status.busy": "2022-10-19T14:19:08.681745Z",
     "iopub.status.idle": "2022-10-19T14:19:08.689937Z",
     "shell.execute_reply": "2022-10-19T14:19:08.688502Z"
    },
    "papermill": {
     "duration": 0.028335,
     "end_time": "2022-10-19T14:19:08.692810",
     "exception": false,
     "start_time": "2022-10-19T14:19:08.664475",
     "status": "completed"
    },
    "tags": []
   },
   "outputs": [],
   "source": [
    "data.drop(cols, axis=1, inplace=True) "
   ]
  },
  {
   "cell_type": "code",
   "execution_count": 10,
   "id": "ef98be7f",
   "metadata": {
    "execution": {
     "iopub.execute_input": "2022-10-19T14:19:08.726083Z",
     "iopub.status.busy": "2022-10-19T14:19:08.725666Z",
     "iopub.status.idle": "2022-10-19T14:19:08.732840Z",
     "shell.execute_reply": "2022-10-19T14:19:08.731539Z"
    },
    "papermill": {
     "duration": 0.027035,
     "end_time": "2022-10-19T14:19:08.735435",
     "exception": false,
     "start_time": "2022-10-19T14:19:08.708400",
     "status": "completed"
    },
    "tags": []
   },
   "outputs": [
    {
     "data": {
      "text/plain": [
       "(62630, 6)"
      ]
     },
     "execution_count": 10,
     "metadata": {},
     "output_type": "execute_result"
    }
   ],
   "source": [
    "data.shape"
   ]
  },
  {
   "cell_type": "code",
   "execution_count": 11,
   "id": "580fdb33",
   "metadata": {
    "execution": {
     "iopub.execute_input": "2022-10-19T14:19:08.769234Z",
     "iopub.status.busy": "2022-10-19T14:19:08.768817Z",
     "iopub.status.idle": "2022-10-19T14:19:08.778696Z",
     "shell.execute_reply": "2022-10-19T14:19:08.777741Z"
    },
    "papermill": {
     "duration": 0.029663,
     "end_time": "2022-10-19T14:19:08.780834",
     "exception": false,
     "start_time": "2022-10-19T14:19:08.751171",
     "status": "completed"
    },
    "tags": []
   },
   "outputs": [
    {
     "data": {
      "text/plain": [
       "1    44757\n",
       "0    17873\n",
       "Name: Fire Alarm, dtype: int64"
      ]
     },
     "execution_count": 11,
     "metadata": {},
     "output_type": "execute_result"
    }
   ],
   "source": [
    "data[\"Fire Alarm\"].value_counts()"
   ]
  },
  {
   "cell_type": "code",
   "execution_count": 12,
   "id": "53f192ae",
   "metadata": {
    "execution": {
     "iopub.execute_input": "2022-10-19T14:19:08.814327Z",
     "iopub.status.busy": "2022-10-19T14:19:08.813848Z",
     "iopub.status.idle": "2022-10-19T14:19:08.832377Z",
     "shell.execute_reply": "2022-10-19T14:19:08.830954Z"
    },
    "papermill": {
     "duration": 0.038629,
     "end_time": "2022-10-19T14:19:08.835251",
     "exception": false,
     "start_time": "2022-10-19T14:19:08.796622",
     "status": "completed"
    },
    "tags": []
   },
   "outputs": [
    {
     "name": "stdout",
     "output_type": "stream",
     "text": [
      "<class 'pandas.core.frame.DataFrame'>\n",
      "RangeIndex: 62630 entries, 0 to 62629\n",
      "Data columns (total 6 columns):\n",
      " #   Column          Non-Null Count  Dtype  \n",
      "---  ------          --------------  -----  \n",
      " 0   Temperature[C]  62630 non-null  float64\n",
      " 1   TVOC[ppb]       62630 non-null  int64  \n",
      " 2   eCO2[ppm]       62630 non-null  int64  \n",
      " 3   Raw H2          62630 non-null  int64  \n",
      " 4   PM2.5           62630 non-null  float64\n",
      " 5   Fire Alarm      62630 non-null  int64  \n",
      "dtypes: float64(2), int64(4)\n",
      "memory usage: 2.9 MB\n"
     ]
    }
   ],
   "source": [
    "data.info()"
   ]
  },
  {
   "cell_type": "markdown",
   "id": "a1b2dccf",
   "metadata": {
    "papermill": {
     "duration": 0.015735,
     "end_time": "2022-10-19T14:19:08.867458",
     "exception": false,
     "start_time": "2022-10-19T14:19:08.851723",
     "status": "completed"
    },
    "tags": []
   },
   "source": [
    "# Null values detection"
   ]
  },
  {
   "cell_type": "code",
   "execution_count": 13,
   "id": "885be020",
   "metadata": {
    "execution": {
     "iopub.execute_input": "2022-10-19T14:19:08.901227Z",
     "iopub.status.busy": "2022-10-19T14:19:08.900751Z",
     "iopub.status.idle": "2022-10-19T14:19:08.912327Z",
     "shell.execute_reply": "2022-10-19T14:19:08.910823Z"
    },
    "papermill": {
     "duration": 0.030943,
     "end_time": "2022-10-19T14:19:08.914734",
     "exception": false,
     "start_time": "2022-10-19T14:19:08.883791",
     "status": "completed"
    },
    "tags": []
   },
   "outputs": [
    {
     "data": {
      "text/plain": [
       "Temperature[C]    0\n",
       "TVOC[ppb]         0\n",
       "eCO2[ppm]         0\n",
       "Raw H2            0\n",
       "PM2.5             0\n",
       "Fire Alarm        0\n",
       "dtype: int64"
      ]
     },
     "execution_count": 13,
     "metadata": {},
     "output_type": "execute_result"
    }
   ],
   "source": [
    "data.isnull().sum()"
   ]
  },
  {
   "cell_type": "markdown",
   "id": "77586e8f",
   "metadata": {
    "execution": {
     "iopub.execute_input": "2022-10-15T14:40:38.218393Z",
     "iopub.status.busy": "2022-10-15T14:40:38.218062Z",
     "iopub.status.idle": "2022-10-15T14:40:38.223001Z",
     "shell.execute_reply": "2022-10-15T14:40:38.221315Z",
     "shell.execute_reply.started": "2022-10-15T14:40:38.218368Z"
    },
    "papermill": {
     "duration": 0.015626,
     "end_time": "2022-10-19T14:19:08.946240",
     "exception": false,
     "start_time": "2022-10-19T14:19:08.930614",
     "status": "completed"
    },
    "tags": []
   },
   "source": [
    "# Outliers detection"
   ]
  },
  {
   "cell_type": "code",
   "execution_count": 14,
   "id": "906395f0",
   "metadata": {
    "execution": {
     "iopub.execute_input": "2022-10-19T14:19:08.980867Z",
     "iopub.status.busy": "2022-10-19T14:19:08.980475Z",
     "iopub.status.idle": "2022-10-19T14:19:10.879841Z",
     "shell.execute_reply": "2022-10-19T14:19:10.878414Z"
    },
    "papermill": {
     "duration": 1.920968,
     "end_time": "2022-10-19T14:19:10.883027",
     "exception": false,
     "start_time": "2022-10-19T14:19:08.962059",
     "status": "completed"
    },
    "tags": []
   },
   "outputs": [
    {
     "data": {
      "text/plain": [
       "Temperature[C]       AxesSubplot(0.125,0.799681;0.133621x0.0803191)\n",
       "TVOC[ppb]         AxesSubplot(0.285345,0.799681;0.133621x0.0803191)\n",
       "eCO2[ppm]          AxesSubplot(0.44569,0.799681;0.133621x0.0803191)\n",
       "Raw H2            AxesSubplot(0.606034,0.799681;0.133621x0.0803191)\n",
       "PM2.5             AxesSubplot(0.766379,0.799681;0.133621x0.0803191)\n",
       "Fire Alarm           AxesSubplot(0.125,0.703298;0.133621x0.0803191)\n",
       "dtype: object"
      ]
     },
     "execution_count": 14,
     "metadata": {},
     "output_type": "execute_result"
    },
    {
     "data": {
      "image/png": "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\n",
      "text/plain": [
       "<Figure size 1224x1440 with 40 Axes>"
      ]
     },
     "metadata": {
      "needs_background": "light"
     },
     "output_type": "display_data"
    }
   ],
   "source": [
    "data.plot(kind='box', subplots=True, layout=(8,5), figsize=(17,20))"
   ]
  },
  {
   "cell_type": "code",
   "execution_count": 15,
   "id": "4ed1a21f",
   "metadata": {
    "execution": {
     "iopub.execute_input": "2022-10-19T14:19:10.919518Z",
     "iopub.status.busy": "2022-10-19T14:19:10.919078Z",
     "iopub.status.idle": "2022-10-19T14:19:10.923841Z",
     "shell.execute_reply": "2022-10-19T14:19:10.922668Z"
    },
    "papermill": {
     "duration": 0.025192,
     "end_time": "2022-10-19T14:19:10.926432",
     "exception": false,
     "start_time": "2022-10-19T14:19:10.901240",
     "status": "completed"
    },
    "tags": []
   },
   "outputs": [],
   "source": [
    "col = data.columns"
   ]
  },
  {
   "cell_type": "code",
   "execution_count": 16,
   "id": "97cb4218",
   "metadata": {
    "execution": {
     "iopub.execute_input": "2022-10-19T14:19:10.962943Z",
     "iopub.status.busy": "2022-10-19T14:19:10.962562Z",
     "iopub.status.idle": "2022-10-19T14:19:10.968266Z",
     "shell.execute_reply": "2022-10-19T14:19:10.967235Z"
    },
    "papermill": {
     "duration": 0.027001,
     "end_time": "2022-10-19T14:19:10.970705",
     "exception": false,
     "start_time": "2022-10-19T14:19:10.943704",
     "status": "completed"
    },
    "tags": []
   },
   "outputs": [],
   "source": [
    "def remove_outlier(col):\n",
    "    sorted(col)\n",
    "    Q1,Q3=np.percentile(col,[25,75])\n",
    "    IQR=Q3-Q1\n",
    "    lower_range= Q1-(1.5 * IQR)\n",
    "    upper_range= Q3+(1.5 * IQR)\n",
    "    return lower_range, upper_range"
   ]
  },
  {
   "cell_type": "code",
   "execution_count": 17,
   "id": "a171f26b",
   "metadata": {
    "execution": {
     "iopub.execute_input": "2022-10-19T14:19:11.009532Z",
     "iopub.status.busy": "2022-10-19T14:19:11.008455Z",
     "iopub.status.idle": "2022-10-19T14:19:11.019120Z",
     "shell.execute_reply": "2022-10-19T14:19:11.018096Z"
    },
    "papermill": {
     "duration": 0.032722,
     "end_time": "2022-10-19T14:19:11.021901",
     "exception": false,
     "start_time": "2022-10-19T14:19:10.989179",
     "status": "completed"
    },
    "tags": []
   },
   "outputs": [],
   "source": [
    "data_df=data.copy()\n",
    "df0=data[data['Fire Alarm']==0.0]\n",
    "df1=data[data['Fire Alarm']==1.0]"
   ]
  },
  {
   "cell_type": "code",
   "execution_count": 18,
   "id": "642d68a7",
   "metadata": {
    "execution": {
     "iopub.execute_input": "2022-10-19T14:19:11.060245Z",
     "iopub.status.busy": "2022-10-19T14:19:11.059622Z",
     "iopub.status.idle": "2022-10-19T14:19:11.248043Z",
     "shell.execute_reply": "2022-10-19T14:19:11.246595Z"
    },
    "papermill": {
     "duration": 0.211639,
     "end_time": "2022-10-19T14:19:11.251408",
     "exception": false,
     "start_time": "2022-10-19T14:19:11.039769",
     "status": "completed"
    },
    "tags": []
   },
   "outputs": [],
   "source": [
    "dec={\"Colume\":[],\"outliers\":[],\"u_range\":[] , 'l_range':[] ,\"upper\":[] , 'lower':[] ,\n",
    "     \"Nu_range\":[] , 'Nl_range':[] ,\"N_upper\":[] , 'N_lower':[] \n",
    "    }\n",
    "for column in data.iloc[:,:-1].columns:\n",
    "    lr,ur=remove_outlier(df0[column])\n",
    "    u_data=(data_df[(data_df['Fire Alarm']==0)&(data_df[column] > ur)])[column]\n",
    "    l_data=(data_df[(data_df['Fire Alarm']==0)&(data_df[column] < lr)])[column]\n",
    "    dec['Colume'].append(column + \" 0\")\n",
    "    dec['outliers'].append(len(u_data)+len(l_data))\n",
    "    dec['upper'].append(len(u_data))\n",
    "    dec['lower'].append(len(l_data))\n",
    "    dec['u_range'].append(ur)\n",
    "    dec['l_range'].append(lr)\n",
    "    \n",
    "    if not u_data.empty:\n",
    "        u_data=sorted(u_data)\n",
    "        index=int(round(len(u_data)*0.7,0))\n",
    "        ur=u_data[index]\n",
    "        dec['N_upper'].append(len(u_data[index:]))\n",
    "    else:\n",
    "        dec['N_upper'].append(len(u_data))\n",
    "        \n",
    "    if not l_data.empty:\n",
    "        l_data=sorted(l_data)\n",
    "        index=int(round(len(l_data)*0.3,0))\n",
    "        lr=l_data[index]\n",
    "        dec['N_lower'].append(len(l_data[:index]))\n",
    "    else:\n",
    "        dec['N_lower'].append(len(l_data))\n",
    "        \n",
    "    index=(data_df[(data_df['Fire Alarm']==0)&((data_df[column] < lr)|(data_df[column] > ur))]).index\n",
    "    index=index.to_list()\n",
    "    \n",
    "    dec['Nu_range'].append(ur)\n",
    "    dec['Nl_range'].append(lr)\n",
    "    \n",
    "    data_df.drop(index,inplace=True)\n",
    "    \n",
    "    lr,ur=remove_outlier(df1[column])\n",
    "    u_data=(data_df[(data_df['Fire Alarm']==1)&(data_df[column] > ur)])[column]\n",
    "    l_data=(data_df[(data_df['Fire Alarm']==1)&(data_df[column] < lr)])[column]\n",
    "    dec['Colume'].append(column + \" 1\")\n",
    "    dec['outliers'].append(len(u_data)+len(l_data))\n",
    "    dec['upper'].append(len(u_data))\n",
    "    dec['lower'].append(len(l_data))\n",
    "    dec['u_range'].append(ur)\n",
    "    dec['l_range'].append(lr)\n",
    "    \n",
    "    if not u_data.empty:\n",
    "        u_data=sorted(u_data)\n",
    "        index=int(round(len(u_data)*0.7,0))\n",
    "        ur=u_data[index]\n",
    "        dec['N_upper'].append(len(u_data[index:]))\n",
    "    else:\n",
    "        dec['N_upper'].append(len(u_data))\n",
    "        \n",
    "    if not l_data.empty:\n",
    "        l_data=sorted(l_data)\n",
    "        index=int(round(len(l_data)*0.3,0))\n",
    "        lr=l_data[index]\n",
    "        dec['N_lower'].append(len(l_data[:index]))\n",
    "    else:\n",
    "        dec['N_lower'].append(len(l_data))\n",
    "        \n",
    "        \n",
    "    index=(data_df[(data_df['Fire Alarm']==1)&((data_df[column] < lr)|(data_df[column] > ur))]).index\n",
    "    index=index.to_list()\n",
    "    \n",
    "    dec['Nu_range'].append(ur)\n",
    "    dec['Nl_range'].append(lr)\n",
    "    \n",
    "    data_df.drop(index,inplace=True)\n",
    "    "
   ]
  },
  {
   "cell_type": "code",
   "execution_count": 19,
   "id": "2ff9a949",
   "metadata": {
    "execution": {
     "iopub.execute_input": "2022-10-19T14:19:11.291648Z",
     "iopub.status.busy": "2022-10-19T14:19:11.290900Z",
     "iopub.status.idle": "2022-10-19T14:19:11.298178Z",
     "shell.execute_reply": "2022-10-19T14:19:11.296977Z"
    },
    "papermill": {
     "duration": 0.030451,
     "end_time": "2022-10-19T14:19:11.300843",
     "exception": false,
     "start_time": "2022-10-19T14:19:11.270392",
     "status": "completed"
    },
    "tags": []
   },
   "outputs": [
    {
     "data": {
      "text/plain": [
       "(57505, 6)"
      ]
     },
     "execution_count": 19,
     "metadata": {},
     "output_type": "execute_result"
    }
   ],
   "source": [
    "data_df.shape"
   ]
  },
  {
   "cell_type": "markdown",
   "id": "293ebfe3",
   "metadata": {
    "papermill": {
     "duration": 0.01934,
     "end_time": "2022-10-19T14:19:11.338827",
     "exception": false,
     "start_time": "2022-10-19T14:19:11.319487",
     "status": "completed"
    },
    "tags": []
   },
   "source": [
    "# EDA"
   ]
  },
  {
   "cell_type": "code",
   "execution_count": 20,
   "id": "a957a103",
   "metadata": {
    "execution": {
     "iopub.execute_input": "2022-10-19T14:19:11.377942Z",
     "iopub.status.busy": "2022-10-19T14:19:11.377550Z",
     "iopub.status.idle": "2022-10-19T14:19:11.573773Z",
     "shell.execute_reply": "2022-10-19T14:19:11.572569Z"
    },
    "papermill": {
     "duration": 0.218536,
     "end_time": "2022-10-19T14:19:11.576873",
     "exception": false,
     "start_time": "2022-10-19T14:19:11.358337",
     "status": "completed"
    },
    "tags": []
   },
   "outputs": [
    {
     "data": {
      "text/plain": [
       "<AxesSubplot:xlabel='Fire Alarm', ylabel='count'>"
      ]
     },
     "execution_count": 20,
     "metadata": {},
     "output_type": "execute_result"
    },
    {
     "data": {
      "image/png": "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\n",
      "text/plain": [
       "<Figure size 432x288 with 1 Axes>"
      ]
     },
     "metadata": {
      "needs_background": "light"
     },
     "output_type": "display_data"
    }
   ],
   "source": [
    "sns.countplot(x='Fire Alarm',data=data)"
   ]
  },
  {
   "cell_type": "code",
   "execution_count": 21,
   "id": "e7e52725",
   "metadata": {
    "execution": {
     "iopub.execute_input": "2022-10-19T14:19:11.615395Z",
     "iopub.status.busy": "2022-10-19T14:19:11.614971Z",
     "iopub.status.idle": "2022-10-19T14:19:12.534828Z",
     "shell.execute_reply": "2022-10-19T14:19:12.533477Z"
    },
    "papermill": {
     "duration": 0.941348,
     "end_time": "2022-10-19T14:19:12.537443",
     "exception": false,
     "start_time": "2022-10-19T14:19:11.596095",
     "status": "completed"
    },
    "tags": []
   },
   "outputs": [
    {
     "data": {
      "image/png": "iVBORw0KGgoAAAANSUhEUgAAAsgAAAIlCAYAAADIcQ4qAAAAOXRFWHRTb2Z0d2FyZQBNYXRwbG90bGliIHZlcnNpb24zLjUuMywgaHR0cHM6Ly9tYXRwbG90bGliLm9yZy/NK7nSAAAACXBIWXMAAAsTAAALEwEAmpwYAABc2UlEQVR4nO3deZhlVX3v//cHGhBFBKRDENAm2upFEhBbwFlBmRwgUQk40CoRc4WoMbkK5uaHgkQc4oBRclFawAmJQ0AFsUWcZWgUQUBCiyCNDC3NICog+P39sVfptqjuru6u4dTp9+t5zlN7r732Od9dp1ad71l77bVTVUiSJEnqrDPdAUiSJEmDxARZkiRJ6jFBliRJknpMkCVJkqQeE2RJkiSpxwRZkiRJ6jFB1rgkuSbJb5N8fIKe7xtJ/m452zZIcmeS3yV5+0S8nrQ2SfLMJL9v7WivaXj9Z7fX/n2SZ0/160vSmjJBHnDtQ+bO3ofNb3vrL22Ja0btMyvJzUme19a3S3JGktuT/CrJuUmePGqf9ZO8NclVSX7dnndBkjm9as+vqpdP9jFX1d1VtRHwycl+LWk6JHl0kv9K8svWLi9J8sYk67btGyR5R5KftzZ/VZL/02/rSd7Tyn+V5CdJDhr1Mr+oqo2q6itTenBAVX2tteGfT/VrS1Ol13F0Z5Ibk5yUZKNJfs2TRnccJZmTpJLMauv/J8mP2/+GnyX5P5MZ07AyQR5w7QNuo96HzfN7658DNgGeMWq3vYACvpLkkcB3gUuBbYGHAV8AvprkSb19Pgu8AHgJ8BBgB+AiYPfJOjZpbdTa5PnAdcBfVtVDgBcD84AHt2r/Rdf29mllLwcOAT7Qe6pfA8+na6/zgQ+M/uIradI9v30e7wg8HjhiesMBIMBBwKZ0+cBhSQ6Y3pBmHhPkGayq7gJOo2sIfQcBn6qqe4G3At+vqn+pqmVV9auqOg74OPBO6E6HAs8B9q2qC6vq3qq6vao+VFUnLu/12zfW1yW5uvWEvTvJOm3bK5J8N8l/tB6ynyQZnWw/MskFSe5IcnqSzSbi9yINgiQPS/K5JEtbL87r2qa3Ad+rqjdW1Q0AVXVlVb2kqm5r7WQP4IVV9ePWHs8DXgYcmuRRbZ8jq+onVfX7qjof+DbwpPtH8od4Vtgm27Cnd4zVJns9VK9Mcl2SW5P8fZIntt7v25L8x2T8HqWZoKpuBM6mS5QBSHJ4kp+2ntzLk/x1b9u1SZ7Qll/a2tfj2vrBSf57DWJ5V1X9oP3vuBI4HXjK6j7f2soEeeY7GXhRkg0BkjyErlfp5Lb9OXS9UaOdBjyl7fds4IKqum41Xv+v6Xq+dgL2BV7V27YL8FNgc+BI4POjkuCDWv0tgXuB41bj9aWB074ofhH4EbAVXW/wG5LsSdfePruC3Z8DnD+6PbYkeAljnNVp7fiJwGUrCW1N2+QuwFzgb4H3A//SjudxwP5JRp/NktYKSbYG9gYW94p/CjyN7izP24BPJNmybfsm8My2/AzgauDpvfVvTlBcaTGs7H+DRjFBnuGq6rvATXSJKsD+wP9U1cVtfXPghjF2vYHu/d8MeOhy6ozHO1vP9M/pPjAP7G27GXh/Vf2uqj4DXAk8t7f9462H7NfAv9J9wK67mnFIg+SJwOyqOqqq7qmqq4GPAAew8va2vDZLK998jPL/pEvGz15JXGvaJo+uqruq6qt0Qzw+XVU3V9X1dD3Yj1/J60vD5r+T/IpuyNTNdF88Aaiq/6qqX7SzPJ8BrgJ2bpu/yR+HRz4NeEdvfWUJ8j+3sza3JbkNuGQFdd9K91n/sVU6KpkgD4lT+OMwi5e39RG/pOsNGm1L4PfArcAty6kzHv1ermvpxjiPuL6qagXbR++7HmN/+EszzSOAh436EHsLsAUrb2/La7O08l/2C5K8G9ge2H9UexvLmrbJm3rLvx1jfVIvUJIG0H5V9WC63uDH0msvSQ5KcnHvf8D2ve3fBJ7WepTX5Y9ndefQ9ThfvILXfE9VbTLyAP5qrEpJDqPLDZ5bVXev9hGupUyQh8PHgd3bRXe78qezP3yN7gKg0fanG5v8m1Zn53aKaFVt01t+OPCL3vpW/avux9g+et/fMerDX5qhrgN+1v8Qq6oHV9U+dO3thSvY92vALkn67YMku9C1ma/3yt5Gd1p3j6q6Yxxx2SalSVBV3wROAt4DkOQRdGeNDgMe2hLZH9NdQEdVLQZ+A/wD8K3Wfm+kuxj3O1X1+zWJJ8mrgMOB3atqyZo819rKBHkIVNU1wHeATwML28UCI94GPDnJMUk2S/LgJP9A963yzW3/rwELgS8keUK6aeIe3C7CeRUr9n+SbNo+zF8PfKa37c+A1yVZL8mLgf8FnNnb/rJ0U9A9EDgK+GxV3be6vwdpgFwA/CrJm5NsmGTdJNsneSLdKdgnt4ta/xwgyaOSfCLJJq09ngN8Lsnj2r67Ap8Ajq+qq9o+R9DNOvPsqrplnHHZJqXJ837gOUl2AB5EN5vUUoAkr6TrQe77Jl0CPTKc4huj1ldLkpcC/wY8pw3v0mowQR4eJ9Od1u0Pr6B9mD6Vbtq2a+jGML4Q2LONXx7xIroPys8At9N9051H15u1IqfTTQd3MfBloD/rxfl0F/T8EjgGeNGoD/KP033jvhF4APA6pCHQksrn0V3R/jO6NvBR4CFV9VO62SbmAJcluZ1uysZFwK/aU7wQOBf4CnAnXXJ8Il1v04h/o+vlXZw/zo3+lpWEZpuUJklVLaX7DP7/qupy4N+B79MNRfpLuilX+75JN43jt5azvrreTnetw4W9/w3/uYbPudbJyoesSZDkSrrxj1+oqvmtrIC57VTR6PqvAP6uqp66Gq+1Ad0/lPWAd1XV29Ykdmltk+TpdBfs3Q38bVWdvbI2meQbwCeq6qMT8Pq70yX9GwD7VNW5a/qckjSVZk13AJoZquoxU/had9PdAEXSaqiqbwEbTuPrn4NtWNIM5hALSZIkqcchFpIkSVKPPciSJElSz4wdg7z55pvXnDlzpjsMaUJddNFFv6yq2dMdx2Sx3WpY2XalmWl5bXfGJshz5sxh0aJF0x2GNKGSXDvdMUwm262GlW1XmpmW13YdYiFJkiT1mCBLkiRJPSbIkiRJUo8JsiRJktRjgixJkiT1mCBLkiRJPSbIkiRJUs+4EuQkmyT5bJKfJLkiyZOSbJZkYZKr2s9NW90kOS7J4iSXJNmp9zzzW/2rkszvlT8hyaVtn+OSZOIPVZIkSVq58d4o5APAV6rqRUnWBx4IvAU4p6qOTXI4cDjwZmBvYG577AIcD+ySZDPgSGAeUMBFSc6oqltbnVcD5wNnAnsBZ63Jgc05/MtrsjvXHPvcNdpf0uqx7UrS9Fvb/xevtAc5yUOApwMnAlTVPVV1G7AvcHKrdjKwX1veFzilOucBmyTZEtgTWFhVy1pSvBDYq23buKrOq6oCTuk9lyRJkjSlxjPEYltgKfCxJD9M8tEkDwK2qKobWp0bgS3a8lbAdb39l7SyFZUvGaP8fpIckmRRkkVLly4dR+iSJEnSqhlPgjwL2Ak4vqoeD/yabjjFH7Se35r48P5UVZ1QVfOqat7s2bMn++WkGc/rByRJWnXjSZCXAEuq6vy2/lm6hPmmNjyC9vPmtv16YJve/lu3shWVbz1GuaQ1N3L9wGOBHYAr6L7gnlNVc4Fz+OMX3v71A4fQXRtA7/qBXYCdgSNHkmr+eP3AyH57TcExSZI0qVaaIFfVjcB1SR7TinYHLgfOAEZ6kuYDp7flM4CDWm/UrsDtbSjG2cAeSTZtH657AGe3bXck2bX1Ph3Uey5Jq8nrByRJWj3jncXiH4BPthksrgZeSZdcn5bkYOBaYP9W90xgH2Ax8JtWl6paluRo4MJW76iqWtaWXwucBGxIN3vFGs1gIQn40+sHdgAuAl7PFF8/kOQQuh5pHv7wh6/ZEUmSNAXGlSBX1cV007ONtvsYdQs4dDnPswBYMEb5ImD78cQiadxGrh/4h6o6P8kHGOP6gSSTev1AVZ0AnAAwb968Sb9WQZKkNeWd9KTh5fUDkiStBhNkaUh5/YAkSatnvGOQJc1MXj8gSdIqMkGWhpjXD0iStOocYiFJkiT1mCBLkiRJPSbIkiQNkCQPSHJBkh8luSzJ21r5tknOb7d2/0y7toAkG7T1xW37nN5zHdHKr0yyZ698r1a2OMnh9wtCWsuZIEuSNFjuBnarqh2AHenuXLkr8E7gfVX1KOBW4OBW/2Dg1lb+vlaPJNsBBwCPo7sN/IeTrJtkXeBDdLeX3w44sNWV1JggS5I0QNrt3u9sq+u1RwG70c1nDve/TfzI7eM/C+zepl7cFzi1qu6uqp/RzVCzc3ssrqqrq+oe4NRWV1JjgixJ0oBpPb0X093IZyHwU+C2qrq3Venf2v0Pt4Nv228HHsqq3z5+dAyHJFmUZNHSpUsn6MikmcEEWZKkAVNV91XVjnR3qNwZeOw0xHBCVc2rqnmzZ8+e6peXppUJsiRJA6qqbgPOBZ4EbJJk5P4F/Vu7/+F28G37Q4BbWPXbx0tqTJAlSRogSWYn2aQtbwg8B7iCLlF+Uas2+jbxI7ePfxHw9XbjnzOAA9osF9sCc4EL6O6KObfNirE+3YV8Z0z6gUkziHfSkyRpsGwJnNxmm1gHOK2qvpTkcuDUJG8Hfgic2OqfCHw8yWJgGV3CS1VdluQ04HLgXuDQqroPIMlhwNnAusCCqrps6g5PGnwmyJIkDZCqugR4/BjlV9ONRx5dfhfw4uU81zHAMWOUnwmcucbBSkPKIRaSJElSjwmyJEmS1GOCLEmSJPWYIEuSJEk9JsiSJElSjwmyJEmS1GOCLEmSJPWYIEuSJEk9JsiSJElSz7gS5CTXJLk0ycVJFrWyzZIsTHJV+7lpK0+S45IsTnJJkp16zzO/1b8qyfxe+RPa8y9u+2aiD1SSJEkaj1XpQX5WVe1YVfPa+uHAOVU1FzinrQPsDcxtj0OA46FLqIEjgV3obpV55EhS3eq8urffXqt9RJIkSdIaWJMhFvsCJ7flk4H9euWnVOc8YJMkWwJ7AgurallV3QosBPZq2zauqvOqqoBTes8lSZIkTanxJsgFfDXJRUkOaWVbVNUNbflGYIu2vBVwXW/fJa1sReVLxii/nySHJFmUZNHSpUvHGbokSZI0fuNNkJ9aVTvRDZ84NMnT+xtbz29NdHCjVdUJVTWvqubNnj17sl9OmvG8fkCSpFU3rgS5qq5vP28GvkA3hvimNjyC9vPmVv16YJve7lu3shWVbz1GuaSJ4fUDkiStgpUmyEkelOTBI8vAHsCPgTOAkZ6k+cDpbfkM4KDWG7UrcHsbinE2sEeSTduH6x7A2W3bHUl2bb1PB/WeS9LE8/oBSZJWYNY46mwBfKGdOZ0FfKqqvpLkQuC0JAcD1wL7t/pnAvsAi4HfAK8EqKplSY4GLmz1jqqqZW35tcBJwIbAWe0hac2NXD9QwP+rqhOY4usH2nULhwA8/OEPX9PjkSRp0q00Qa6qq4Edxii/Bdh9jPICDl3Ocy0AFoxRvgjYfhzxSlo1T62q65P8GbAwyU/6G6uqWvI8aVpSfgLAvHnzJv1aBUmS1pR30pOGmNcPSJK06kyQpSHl9QOSJK2e8YxBljQzef2AJEmrwQRZGlJePyBJ0upxiIUkSQMiyTZJzk1yeZLLkry+lb81yfXtpj8XJ9mnt88R7WY9VybZs1e+VytbnOTwXvm2Sc5v5Z9Jsv7UHqU0+EyQJUkaHPcC/1RV2wG70t29dru27X3tpj87VtWZAG3bAcDj6G7U8+Ek6yZZF/gQ3Q2AtgMO7D3PO9tzPQq4FTh4qg5OmilMkCVJGhBVdUNV/aAt/wq4gjHmF+/ZFzi1qu6uqp/RXUOwc3ssrqqrq+oe4FRg33ZB7W7AZ9v+/ZsFSWpMkCVJGkBJ5gCPB85vRYcluSTJgt7t3lf1Bj8PBW6rqntHlY/1+ockWZRk0dKlSyfikKQZwwRZkqQBk2Qj4HPAG6rqDuB44JHAjsANwL9PdgxVdUJVzauqebNnz57sl5MGirNYSJI0QJKsR5ccf7KqPg9QVTf1tn8E+FJbXd6NfFhO+S3AJklmtV5kb/AjjcEeZEmSBkQbI3wicEVVvbdXvmWv2l/T3fQHuhv8HJBkgyTbAnOBC+jmLZ/bZqxYn+5CvjPadI7nAi9q+/dvFiSpsQdZkqTB8RTg5cClSS5uZW+hm4ViR6CAa4DXAFTVZUlOAy6nmwHj0Kq6DyDJYXR3wlwXWFBVl7XnezNwapK3Az+kS8gl9ZggS5I0IKrqO0DG2HTmCvY5BjhmjPIzx9qv3URo5zUIUxp6DrGQJEmSekyQJUmSpB4TZEmSJKnHBFmSJEnqMUGWJEmSekyQJUmSpB4TZEmSJKnHBFmSJEnqMUGWJEmSekyQJUmSpB4TZEmSJKln3AlyknWT/DDJl9r6tknOT7I4yWeSrN/KN2jri9v2Ob3nOKKVX5lkz175Xq1scZLDJ/D4JEmSpFWyKj3Irweu6K2/E3hfVT0KuBU4uJUfDNzayt/X6pFkO+AA4HHAXsCHW9K9LvAhYG9gO+DAVleSJEmacuNKkJNsDTwX+GhbD7Ab8NlW5WRgv7a8b1unbd+91d8XOLWq7q6qnwGLgZ3bY3FVXV1V9wCntrqSJEnSlBtvD/L7gTcBv2/rDwVuq6p72/oSYKu2vBVwHUDbfnur/4fyUfssr/x+khySZFGSRUuXLh1n6NLazeFRkiStmpUmyEmeB9xcVRdNQTwrVFUnVNW8qpo3e/bs6Q5HmikcHiVJ0ioYTw/yU4AXJLmGbvjDbsAHgE2SzGp1tgaub8vXA9sAtO0PAW7pl4/aZ3nlktaQw6MkSVp1K02Qq+qIqtq6qubQ9SJ9vapeCpwLvKhVmw+c3pbPaOu07V+vqmrlB7TTuNsCc4ELgAuBue207/rtNc6YkKOT9H6meXiUQ6MkSTPNmsyD/GbgjUkW032IntjKTwQe2srfCBwOUFWXAacBlwNfAQ6tqvvaB/FhwNl0p4FPa3UlrYFBGR7l0ChJ0kwza+VV/qiqvgF8oy1fTXeKdXSdu4AXL2f/Y4Bjxig/EzhzVWKRtFIjw6P2AR4AbExveFT7cjrW8Kgl4xwexQrKJUmasbyTnjSkHB4lSdLqMUGW1j4Oj5IGWJJtkpyb5PIklyV5fSvfLMnCJFe1n5u28iQ5rk23eEmSnXrPNb/VvyrJ/F75E5Jc2vY5rl2QK6lZpSEWkmYmh0dJM8q9wD9V1Q+SPBi4KMlC4BXAOVV1bJt3/HC6L7x7053ZmQvsAhwP7JJkM+BIYB5Q7XnOqKpbW51XA+fTteG9gLOm8BilgWYPsiRJA6SqbqiqH7TlX9GdodmKP52KcfQUjadU5zy66wy2BPYEFlbVspYULwT2ats2rqrz2jCqU3rPJQkTZEmSBla7o+Xj6Xp6t6iqG9qmG4Et2vKqTsW4VVseXT76tZ2iUWstE2RJkgZQko2AzwFvqKo7+ttaz29N5us7RaPWZibIkiQNmCTr0SXHn6yqz7fim9rwCNrPm1v5qt6p9vq2PLpcUmOCLEnSAGkzSpwIXFFV7+1t6k/FOHqKxoPabBa7Are3oRhnA3sk2bTNeLEHcHbbdkeSXdtrHdR7Lkk4i4UkSYPmKcDLgUuTXNzK3gIcC5yW5GDgWmD/tu1MYB9gMfAb4JUAVbUsydF0c5YDHFVVy9rya4GTgA3pZq9wBoshMufwL093CDOeCbIkSQOkqr4DLG9e4t3HqF/Aoct5rgXAgjHKFwHbr0GY0lBziIUkSZLUY4IsSZIk9ZggS5IkST0myJIkSVKPCbIkSZLUY4IsSZIk9ZggS5IkST0myJIkSVKPCbIkSZLUY4IsSZIk9ZggS5IkST0myJIkSVKPCbIkSZLUY4IsSZIk9aw0QU7ygCQXJPlRksuSvK2Vb5vk/CSLk3wmyfqtfIO2vrhtn9N7riNa+ZVJ9uyV79XKFic5fBKOU5IkSRqX8fQg3w3sVlU7ADsCeyXZFXgn8L6qehRwK3Bwq38wcGsrf1+rR5LtgAOAxwF7AR9Osm6SdYEPAXsD2wEHtrqSJEnSlFtpglydO9vqeu1RwG7AZ1v5ycB+bXnftk7bvnuStPJTq+ruqvoZsBjYuT0WV9XVVXUPcGqrK2kNePZHkqTVM64xyK2n92LgZmAh8FPgtqq6t1VZAmzVlrcCrgNo228HHtovH7XP8srHiuOQJIuSLFq6dOl4QpfWZp79kSRpNYwrQa6q+6pqR2Bruh7fx05mUCuI44SqmldV82bPnj0dIUgzhmd/JElaPas0i0VV3QacCzwJ2CTJrLZpa+D6tnw9sA1A2/4Q4JZ++ah9llcuaQ0Nwtkfz/xIkmaa8cxiMTvJJm15Q+A5wBV0ifKLWrX5wOlt+Yy2Ttv+9aqqVn5AG+e4LTAXuAC4EJjbxkWuT3cq94wJODZprTcIZ3888yNJmmlmrbwKWwInt/GG6wCnVdWXklwOnJrk7cAPgRNb/ROBjydZDCyjS3ipqsuSnAZcDtwLHFpV9wEkOQw4G1gXWFBVl03YEUqiqm5L8idnf1ov8Vhnf5aM8+wPKyiXJGnGGs8sFpdU1eOr6q+qavuqOqqVX11VO1fVo6rqxVV1dyu/q60/qm2/uvdcx1TVI6vqMVV1Vq/8zKp6dNt2zGQcqLS28eyPNDMlWZDk5iQ/7pW9Ncn1SS5uj31621ZplpnlzWQj6Y+8k540vLYEzk1yCV0yu7CqvgS8GXhjO8vzUP707M9DW/kbgcOhO/sDjJz9+Qrt7E/rgR45+3MF3dklz/5Ia+4kuhljRntfVe3YHmfCas8ys7yZbCQ14xliIWkGqqpLgMePUX413Xjk0eV3AS9eznMdA9zv7E77kD5zjYOV9AdV9a3+POQr8YdZZoCftS+4I+178chZ3CSnAvsmuYJuJpuXtDonA28Fjp+g8KWhYA+yJEkzw2FJLmlDMDZtZas6y8xDWf5MNn/CGWi0NjNBliRp8B0PPJLupj83AP8+2S/oDDRamznEQpKkAVdVN40sJ/kI8KW2uqqzzNzC8meykdTYgyxJ0oBLsmVv9a+BkRkuVmmWmTYzzfJmspHU2IMsSdIASfJp4JnA5kmWAEcCz0yyI93t4q8BXgOrfY+BNzP2fQwkNSbIkiQNkKo6cIzi5SaxqzrLzPJmspH0Rw6xkCRJknpMkCVJkqQeE2RJkiSpxwRZkiRJ6jFBliRJknpMkCVJkqQeE2RJkiSpxwRZkiRJ6jFBliRJknpMkCVJkqQeE2RJkiSpxwRZkiRJ6jFBliRJknpMkCVJkqQeE2RJkiSpxwRZkiRJ6llpgpxkmyTnJrk8yWVJXt/KN0uyMMlV7eemrTxJjkuyOMklSXbqPdf8Vv+qJPN75U9Icmnb57gkmYyDlSRJklZmPD3I9wL/VFXbAbsChybZDjgcOKeq5gLntHWAvYG57XEIcDx0CTVwJLALsDNw5EhS3eq8urffXmt+aJIkSdKqW2mCXFU3VNUP2vKvgCuArYB9gZNbtZOB/dryvsAp1TkP2CTJlsCewMKqWlZVtwILgb3ato2r6ryqKuCU3nNJWk2e/ZEkafWs0hjkJHOAxwPnA1tU1Q1t043AFm15K+C63m5LWtmKypeMUT7W6x+SZFGSRUuXLl2V0KW1kWd/JElaDeNOkJNsBHwOeENV3dHf1np+a4Jju5+qOqGq5lXVvNmzZ0/2y0kzmmd/JElaPeNKkJOsR5ccf7KqPt+Kb2ofkLSfN7fy64Ftertv3cpWVL71GOWSJsh0nv3xzI+0apIsSHJzkh/3yhwaJU2h8cxiEeBE4Iqqem9v0xnASIObD5zeKz+oNdpdgdvbh/HZwB5JNm0New/g7LbtjiS7ttc6qPdcktbQdJ/98cyPtMpO4v7DlRwaJU2h8fQgPwV4ObBbkovbYx/gWOA5Sa4Cnt3WAc4ErgYWAx8BXgtQVcuAo4EL2+OoVkar89G2z0+Bsybg2KS1nmd/pJmnqr4FLBtV7NAoaQrNWlmFqvoOsLzTL7uPUb+AQ5fzXAuABWOULwK2X1ksksZvHGd/juX+Z38OS3IqXa/T7VV1Q5KzgX/r9T7tARxRVcuS3NHOFJ1Pd/bng5N+YNLaaVoujKfrlebhD3/4GoYvzSwrTZAlzVgjZ38uTXJxK3sLXWJ8WpKDgWuB/du2M4F96M7k/AZ4JXRnf5KMnP2B+5/9OQnYkO7Mj2d/pElWVZVkSi6MB04AmDdv3qS/njRITJClIeXZH2mo3JRky3ZWZ7xDo545qvwbODRKGpdVmgdZkiRNCy+Ml6aQPciSJA2QJJ+m6/3dPMkSutkoHBolTSETZEmSBkhVHbicTQ6NkqaIQywkSZKkHhNkSZIkqccEWZIkSeoxQZYkSZJ6TJAlSZKkHhNkSZIkqcdp3iRJkjSh5hz+5TV+jmuOfe4ERLJ67EGWJEmSekyQJUmSpB4TZEmSJKnHBFmSJEnqMUGWJEmSekyQJUmSpB4TZEmSJKnHBFmSJEnqMUGWJEmSekyQJUmSpB4TZEmSJKnHBFmSJEnqWWmCnGRBkpuT/LhXtlmShUmuaj83beVJclySxUkuSbJTb5/5rf5VSeb3yp+Q5NK2z3FJMtEHKUmSJI3XeHqQTwL2GlV2OHBOVc0FzmnrAHsDc9vjEOB46BJq4EhgF2Bn4MiRpLrVeXVvv9GvJWk1+OVWkqTVs9IEuaq+BSwbVbwvcHJbPhnYr1d+SnXOAzZJsiWwJ7CwqpZV1a3AQmCvtm3jqjqvqgo4pfdcktbMSfjlVpKkVba6Y5C3qKob2vKNwBZteSvgul69Ja1sReVLxigfU5JDkixKsmjp0qWrGbq0dvDLrTR8klzTztxcnGRRK5uwM0OSOmt8kV77cKwJiGU8r3VCVc2rqnmzZ8+eipeUhs2Uf7n1i6004Z5VVTtW1by2PpFnhiSx+gnyTa0Hifbz5lZ+PbBNr97WrWxF5VuPUS5pkk3Vl1u/2EqTbkLODE1xzNJAW90E+Qxg5JTMfOD0XvlB7bTOrsDtrbfqbGCPJJu2b6l7AGe3bXck2bVd4HNQ77kkTTy/3EozWwFfTXJRkkNa2USdGfoTnv3R2mw807x9Gvg+8JgkS5IcDBwLPCfJVcCz2zrAmcDVwGLgI8BrAapqGXA0cGF7HNXKaHU+2vb5KXDWxByapDH45Vaa2Z5aVTvRDZ84NMnT+xsn8syQZ3+0Npu1sgpVdeByNu0+Rt0CDl3O8ywAFoxRvgjYfmVxSFo17cvtM4HNkyyhG3N4LHBa+6J7LbB/q34msA/dF9XfAK+E7sttkpEvt3D/L7cnARvSfbH1y600yarq+vbz5iRfoBtDfFOSLavqhlU4M/TMUeXfmOTQpRllpQmypJnJL7fScEnyIGCdqvpVW94DOIo/nhk6lvufGTosyal0F+Td3pLos4F/612YtwdwxBQeijTwTJAlSZoZtgC+0O7JMwv4VFV9JcmFTNyZIUmYIEuSNCNU1dXADmOU38IEnRmS1FnjeZAlSZKkYWKCLEmSJPWYIEuSJEk9JsiSJElSjwmyJEmS1GOCLEmSJPWYIEuSJEk9JsiSJElSjwmyJEmS1GOCLEmSJPWYIEuSJEk9JsiSJElSjwmyJEmS1GOCLEmSJPWYIEuSJEk9JsiSJElSjwmyJEmS1GOCLEmSJPWYIEuSJEk9s6Y7AEmSJGm0OYd/eY32v+bY5672vvYgS5IkST0D04OcZC/gA8C6wEer6thpDkn6E2v6TRbW7NvsoLLtSjOTbXcwTcRnjdbcQPQgJ1kX+BCwN7AdcGCS7aY3KkkrY9uVZibbrrRig9KDvDOwuKquBkhyKrAvcPl0BWRvoTQuQ9l215RtXzOAbVdagUFJkLcCruutLwF2GV0pySHAIW31ziRXruA5Nwd+OWERroa8c9KeetqPbRIN87GRd670+B4xVbFMkJW23ZnWbifCctr+UBzbCgzz8Y3n2Nb2tjtRhvHvyGOaJuPMw8Zsu4OSII9LVZ0AnDCeukkWVdW8SQ5pWnhsM9ewH99YbLedYT42GO7jG+ZjW5FVabsTZRh/1x7TzDQQY5CB64FteutbtzJJg822K81Mtl1pBQYlQb4QmJtk2yTrAwcAZ0xzTJJWzrYrzUy2XWkFBmKIRVXdm+Qw4Gy66WYWVNVla/i0U3paaIp5bDPXUB3fJLTdofr9jDLMxwbDfXxDd2yT9Lk7EYbud43HNCOlqqY7BkmSJGlgDMoQC0mSJGkgmCBLkiRJPSbIkiRJUs/QJMhJHpPkSUnWa7fQXKslyXTHoFW3tr1vtts/tba9/8PE927yDOPv1mMafAMxi8WaSvI3wL/RzeF4PbAoyUlVdcf0RjZ1kvwVMBu4DLilqn6XJDUEV2EmeRTwEOAHAFVVQ3RsQ/u+rYztdrjf/2FutzDc790ACvCH3+uQ/J6H7phmevyjzfhZLJKsB3wCOK6qvpvkhcCuwD3AO9eGD9sk+wHvAK4CltLd/vHoqrpzpje69n4eRXdMVwEXASdV1W+H4Nj2Y0jft5Wx3Q73+z/M7RaG+70bNEmeAxwInAdcV1VntfIZ+3se0mN6JrAn3fzaV1fVxdMZz0QYliEWGwNz2/IXgC8B6wEvGbYu/9GSrAO8EPjHqnoB8FG6MwP/kWSjkV6baQ1yNSXZAHgZ8HdV9Qzga3Tv85uSbDhT/5HAcL9vq8B2O4Tv/zC3Wxju927QJHkqcCJdIrkp8Pokb4GZ21s5pMe0G/Bp4Ba6JPmNSQ6e3qjW3IxPkKvqd8B7gb9J8rSq+j3wHeBi4KnTGdsUWYfuNM1Wbf0C4MN0f6iHJ5k1Uxsd3bE9mD8e2+eAL9MlVi+ZrqAmyDC/bytlux3q93+Y2y0M93s3aDYCPl1VJwAfAP4ZeEGSI6Y3rDUyjMe0JfDuqnoPcCTwKWDfJK+a3rDWzIxPkJtvA18FXp7k6VV1X1V9CngYsMP0hjY5kjwoyQOq6l7gY3TfQp9dVfcB19LdMvRhdB9UM0qSdduHzG/pPnhenmTnllR9G7gEePK0Brmahvl9Ww222yF6/4e53cJwv3cDrIBnJFm/qu6qqh8Dfwc8Ncnu0xzb6hrGY9oAOKC1/xuBbwHHA09L8r+mN7TVNxQJclXdBXwS+BFwRJJDkswHtgBumNbgJkG7uOnjwFlJ9qUbB/c24B+TPKeq7q2qb9L1cMyoP84kfw0sAD6f5MnAD+mSqFcl2aWq7qmqk4FHJXncdMa6qob5fVsdttvhef+Hud3CcL93gybJY5M8rSVbZ9MNRTgnyQNalauBRXS9ljPCkB7TI5JsD1BVC+iO6WNJNqiq39D9X58FzJm+KNfMUMxiAVBVtyb5CHA58BrgLuBlVXXT9EY2sZJsCxwLvBR4DLAH8Fd039hOBN6f5IPAunT/rK+dplBXWZLtgHfRfZveEXgz3djUn9B9635rklPo/m43AW6elkBXwzC/b2vCdjvz3/9hbrcw3O/doGlfRI4FfgbcluRbdKfs30KXUD6nqn6TpICdk3wSBnvs7pAe0wvpZiC6IcnNdF8ejwdeASxI8sqq+kWSG4DHA2dNW7BrYMbPYjGWdPOpVhvXOFSS7AC8r6p2a+tPBF4A3A38P7reixcCGwIfqqofTVesqyrJs4A3VdXebX1v4G/oxqZ+FdgZOIjuWN9dVT+crlhX1TC/bxPFdjsz3/9hbrcw3O/dIEkyCzgZ+M+q+na6mUKeQvd7PhY4GpgHXAE8G3huVV0xTeGOy5Ae04PoxhgfXVWLkrwB2AZYDHwdOAzYBTiX7kvlblX1P9MU7hoZygR52CX5PHBuVX2wre8MvBr4QlWdmczMqWKSrE93yv3jVXVGK9sb+AfgrVV1QbrpwX7fxv3NKMP6vml8hvX9H/Z2C8P73g2S9jfyBeDMqvpwK3sq3ZeRq6rqI0meQjc09BdV9dPpi3Z8hvSYNgS+Any4qj7Tyl4K7AR8tarOTvIiuik7r6yqK6cv2jUzFGOQh12SZybZP8nLW9EpwCOSHABQVRcA3wf+vg38nzH/qJM8Jcmz013scg/dxTxPTvIkgOrmh/w6cFiSdavqdzPlQ3aY3zet3DC//8PcbmG437tBk2T9dBc//o5uqM6eSZ7dNn+Xbg7tPduXkO9W1bcHPZEc0mNKa8u/BT4IPD3JTm3zp4CbgEMAquqzVXXGTE6OwQR54LXTl58GHg68Icl7gSvpxjM9Mck/taq/BX41PVGuniR70B3bHsAxSd5F90FUdFPEvLhVXQb8Gpgxp96H+X3Tyg3z+z/M7RaG+70bNG0s66eAM5I8H/g53Wwg+7exudV6KTcBnjB9kY7fkB7TvnQX4X609XifT3ctwQuSPKEd07uATZI8cjpjnUgOsRhgSQK8E7ihqt6X7orXjwHXACcBf0F3YdOD6a5+felMGd/XxpsuAL5VVSe2cU1fo+t1GrkgZg+6Y9sGOKBmyJ15hvl908oN8/s/zO0Whvu9GzRJHg2cDryKbqaDA+ku5vofui8nLwbOBu4A3gQ8q7opxAbWkB7TDsBngDcCjwBeC/wrcDvwNLp2/i3gXuD/Ak+rqmXTE+3EGppZLIZRVVWSHwDPTLJFVd2U7u40JwF/X1X/SDft0FxgWVXdMp3xjsfIWL2qui/JBcBm7VTUr9PdfvPrwKyqenO62Q2eAPx80P+J9A3j+6bxG8b3f21otzCc790A2wS4qaq+D3w/ybV0syAUXZL5P3TJ2G+Al8yQv6VNGb5j+nPgJ1V1JkA7psPoLlD9f3QX5B1CdzblZcOSHINDLAZSkm2SbJBuMPz36Xor/irdbVp/Q9fgnp5u7lGq6qoZ9I/6z3rLl9JdufsIgKq6s60/NcmTqrtxxAUz5J/IsL9vWokhf/+Htt3C0L93g+oi4GdtrPesqvoe3YwP+wI7VtV36WY/ec1M6aWvqvOBnw/TMdHNaX5Hkl2SrNMS5f+gm+btL6q7MPeFwPwZdEzjYoI8YJI8l+6UzAfpTmXeQzce7vV0d6XZsv3DPqdtmzGSPA/47yQfSXIU3W2FvwCckm4i9Q2r6g66OXFn1N/mML9vWrlhfv+Hud3CcL93gybJxr3VokuSd6b7crVeSyBPBV7Z1u+rAZ/2MclOSZ6aZJdW9G1gV2b2MT0pyV5Jdq+qm4Hr6ZLgh6e7UO9Mut7jF7ezS3dXd7HuUHGIxYBoY9+2phvHdxjdvIjzgQvoGtvxwMta3euBlwAfnZZgV0MbuH8c3dis+4BnAWcCz6f7R/le4Pwkvwd2p/s9zAhJtqIbtzh075tWzHY7c9st2HanUrobZhyZ5BBgURuucxLdWNzn0o1l/Tjd39VdzICLO9uXx6Ppzqo8MMkX6HqM/y8z95j2Ad5BN1b6L5PcS9dGPkDXTk6n+xLwe2CDGuIL2UyQB0Qb+/YLutN7VwE3V9W72h/n9+j+Yf8QeCKwA7B7zazJt39JN4/oN1pS8R26Qf2nA88DLgEeSzdp+nNrwKe8GdFOyf6S7h/G/zB875tWwHY7M9st2HanUpI5dBd53Qz8I/CeJBdX1Z3pZkF5CbB7G+/9UOCgGvBpAZM8nm6Ywcur6kfpZm95WlV9Msm76S7Qm2nHtBNwFN14++8neTuwGd1sNH8HHA68Jsm/0CX/L5m2YKeAs1gMgCSPohvcfzXwYeCi6qZMGdl+BDAX+N9Vdff0RLl60k2KPofuRgLfAr5cVce2bevQ3XLzrqp6RyubMRPup5v6Zg/gPXQ9Z5dU1TG97TP2fdPK2W5nZrsF2+5US/JwYNuq+maS/4/uC9VRwKVVdXcb2/r7JDvS3TBj4G9HnuTJwF9V1X+29UfRTe+2f1VdM9ImZtgx7QysU1XnJdkM+DHdMJg7gaur6l+SPITuC+PVVbVkGsOdfFXlYxof/LEX5pt0A99fQDel0BG9OnOAE2hfaGbCg24s4kbAZXRziO5HNy3SpcDre/X2BI6f7nhX4/ieAfwE2LOtPxy4FnjjTH7ffIz7/bfdzsB222K37U7d7/rRveWH9Jb/Ffgi8MS2vsN0x7qaxzS7/VwXeGA7po1H1xv0x6hjWrf9HziU7sI7gK3a/7pnTHesU/lwiMU0at9A30033csPk5xAd8HCk4Hz0s05eirwVLrbOG4C3DpN4a6S6i5CuDPJyXRjF/en623bDfheknur6kN0H76PTvLgqppJk+4/AfhodbfVfDhdUvF/gQ8nuYvugp4nMcPeN62c7XZGt1uw7U6JNj73tCSnV9WBVXV7ursO3lNVRyf5V+Afk/wc2CfdXRkHupe1d0xnVNUBVbW09X7f1/52ZrV6L6e7gG1+VQ30388Y79N9rfyj1c6eVNX1SRYDv5vOWKeaQyymUfugfXRVndTWZwMnVdVzk/wF3T/tu+jmGXxFVV06bcGupiRvpOuh+SLwarqeqccDm9PdmWpnulNSM+rYkrwOWL+q3pPke8AvgJ/STZx+M12P1JOBV820Y9OK2W5nbrsF2+5USHcDmc8Bn6f7Xc6qqpELHjcYSbySfAN4NF1v/kD/rldyTCO9rp+iu4HGjnRjji+fnmjHZyXHNKuq7m3LfwMcAbyoqq6drninmgnyNGqN6kFVdUdb3pLuA2mfqrohySPopld5UFXdPp2xrq52FfyLq+rYdLdoPRZ4e1W9Lcn6dKejfjm9Ua66JH8JfJbuIp6zq+pj6e6i9ErgvKo6Pcmmg957oFVnu5257RZsu1MlycPo7hj3AOA/6casv6y3/dF0d2h7RVX9aHqiXDXjOKb/pkv4/7qqrpyWIFfRio4pyXp0NwF5Fd1wix9PW6DTYMbNWTlMqpsP8Y62GuA2ursz3ZDkZcBbgPVm6ods81vgMUleDfw98HZg5yR/3061zcgP2dbb8c90vYTbtrL/obuhwkNatdumJThNKtvtzG23YNudKlX1i6q6s/2tvAbYMMknANqFa38OPGemJMew0mOaSzcX+ItmSnIMKz4m4JF0w0b+dm1LjsEe5IGTbl7IG+iusJ6Rp2dHS3dzgVcAh1bVF5M8C1hcVddNb2RrJsksumlu3gqMXAH/v+n+mcyY6a605my3M4ttd+ol2Zxu7P6T6C4Ee0ZV/WJ6o1ozvWN6Sit6WlXdNI0hrbHeMT2ZrgPg6TWD7oo5kUyQB0SSAOvRTVa/Ht2cm1dNb1QTI8k2wJ9V1UVtfZ0a8DsJrYp0c0e+CNiAbizqjE+OND6225nNtju1kvwj8Ga6nuOh+F17TMPLBHnAJHkFcGFVXTbdsUy0kXkhpzsOaaLZbqUVS7IpcBrwT1V1yXTHMxE8puFmgjxg/DCSZh7brbRySR5QVXdNdxwTyWMaXibIkiRJUo+zWEiSJEk9JsiSJElSjwmyJEmS1GOCLEmSJPWYIEuSJEk9JsiSJElSjwmyJEmS1GOCLEmSJPWYIEuSJEk9JsiSJElSjwmyJE2TJHcm+Yspeq1XJPnOVLyWJM10JshDLsk1SX7bPohvSnJSko2SfCNJJdlhVP0vtPJntvX5SS5KckeSJUnelWTWCl6vkvy6vd6dST46uUcoDb5R7XDk8bCq2qiqrp7g13pra4e7TOTzStLaxAR57fD8qtoI2AmYB/zfVv4/wEEjlZI8FHgSsLS37wOBNwCbA7sAuwP/vJLX26F98G9UVX83IUcgzXzP77WLjarqFyuqnGTdVX2BJKFr08vote01taIvxZI0jEyQ1yJVdT1wFrB9K/ok8Le9D+IDgS8A9/T2Ob6qvl1V97T9Pwk8ZQrDloZW6+l9VFs+KcnxSc5M8mvgWUkeluRzSZYm+VmS163kKZ8GbAm8DjggyforeO0PJLmunR26KMnTetvemuSzST6R5A7gFe2s09uTfK/1gH8xyUOTfLI9x4VJ5qzxL0WSBoAJ8lokyTbAPsAPW9EvgMuBPdr6QcApK3mapwOXraTOt5LcmOTzfmBKq+QlwDHAg4HvAV8EfgRsRXf25g1J9lzB/vPbPqe19eevoO6FwI7AZsCngP9K8oDe9n2BzwKb0H0xBjgAeHmL55HA94GPtee4Ajhy5YcoSYPPBHnt8N9JbgO+A3wT+LfetlOAg5I8Ftikqr6/vCdJ8iq6IRrvWcFrPQOYAzyWLgH/kqdnJaC1w/b47+XUOb2qvltVvwf+EphdVUe1MzhXAx+hS1LvJ8kDgRcDn6qq39Elt8sdZlFVn6iqW6rq3qr6d2AD4DG9Kt+vqv+uqt9X1W9b2ceq6qdVdTvd2aifVtXXqupe4L+Ax4/3lyFJg8zEZe2wX1V9rV/QDVUE4PPAvwO3AB9f3hMk2Q94B/Dsqvrl8upV1bfa4j1JXg/cAfwv4NLVDV4aEvdrh2O4rrf8COBh7cvtiHWBby9n378G7gXObOufBL6WZHZVLR1dOck/AwcDDwMK2JjuWoOxYhlxU2/5t2Osb7Sc2CRpRjFBXstV1W+SnAX8b7pTpveTZC+6nqvnVtWqJroFZKW1JEHXXkZcB/ysquaOc9/5dAnqz9sX4ADr0Q3b+EC/Yhtv/Ca6YRuXVdXvk9zKn7bVfiyStFZxiIUA3gI8o6quGb0hyW50PVEvrKoLVvQkSR6XZMck6ybZiK5n+nq6sYmSVs0FwK+SvDnJhq1dbZ/kiaMrJhkZo/w8unHFOwI7AO9k7GEWD6brbV4KzEry/9H1IEuSMEEWUFW/qKrl3UDgX4GHAGf25m89a2RjkrOSvKWtbgF8hm5YxdV0Y5Gf18ZDSloFVXUff0x4fwb8EvgoXXsc7eXAxVX11aq6ceQBHAf8VZLtR9U/G/gK3VSP1wJ3MfaQCklaK6XKs2iSJEnSCHuQJUmSpB4TZEmSJKnHBFmSJEnqMUGWJEmSembsPMibb755zZkzZ7rDkCbURRdd9Muqmj3dcUwW262G1bC3XWltM2MT5Dlz5rBo0aLpDkOaUEmune4YJpPtVsNq2NuutLZxiIUkSZLUY4IsSZIk9ZggS5IkST0myJIkSVKPCbIkSZLUY4IsSZIk9ZggS5IkST0myJIkSVLPjL1RyMrMOfzLa7T/Ncc+d4IikSRNJz8PJK0qe5AlSZKkHhNkSZIkqccEWZIkSeoZV4KcZJMkn03ykyRXJHlSks2SLExyVfu5aaubJMclWZzkkiQ79Z5nfqt/VZL5vfInJLm07XNckkz8oUqSJEkrN94e5A8AX6mqxwI7AFcAhwPnVNVc4Jy2DrA3MLc9DgGOB0iyGXAksAuwM3DkSFLd6ry6t99ea3ZYkiRJ0upZaYKc5CHA04ETAarqnqq6DdgXOLlVOxnYry3vC5xSnfOATZJsCewJLKyqZVV1K7AQ2Ktt27iqzquqAk7pPZckSZI0pcbTg7wtsBT4WJIfJvlokgcBW1TVDa3OjcAWbXkr4Lre/kta2YrKl4xRfj9JDkmyKMmipUuXjiN0SZIkadWMJ0GeBewEHF9Vjwd+zR+HUwDQen5r4sP7U1V1QlXNq6p5s2fPnuyXkyRJ0lpoPAnyEmBJVZ3f1j9LlzDf1IZH0H7e3LZfD2zT23/rVrai8q3HKJckSZKm3EoT5Kq6EbguyWNa0e7A5cAZwMhMFPOB09vyGcBBbTaLXYHb21CMs4E9kmzaLs7bAzi7bbsjya5t9oqDes8lSZIkTanx3mr6H4BPJlkfuBp4JV1yfVqSg4Frgf1b3TOBfYDFwG9aXapqWZKjgQtbvaOqallbfi1wErAhcFZ7SJIkSVNuXAlyVV0MzBtj0+5j1C3g0OU8zwJgwRjli4DtxxOLJEmSNJm8k54kSZLUY4IsSZIk9ZggS5IkST0myJIkSVKPCbIkSZLUY4IsSZIk9ZggS0MuybpJfpjkS2192yTnJ1mc5DNtfnOSbNDWF7ftc3rPcUQrvzLJnr3yvVrZ4iSH3+/FJUmagUyQpeH3euCK3vo7gfdV1aOAW4GDW/nBwK2t/H2tHkm2Aw4AHgfsBXy4Jd3rAh8C9ga2Aw5sdSVJmtFMkKUhlmRr4LnAR9t6gN2Az7YqJwP7teV92zpt++6t/r7AqVV1d1X9jO4umTu3x+Kqurqq7gFObXUlSZrRTJCl4fZ+4E3A79v6Q4Hbquretr4E2KotbwVcB9C2397q/6F81D7LK/8TSQ5JsijJoqVLl07AIUmSNLlMkKUhleR5wM1VddF0xlFVJ1TVvKqaN3v27OkMRZKkcZk13QFImjRPAV6QZB/gAcDGwAeATZLMar3EWwPXt/rXA9sAS5LMAh4C3NIrH9HfZ3nlkiTNWPYgS0Oqqo6oqq2rag7dRXZfr6qXAucCL2rV5gOnt+Uz2jpt+9erqlr5AW2Wi22BucAFwIXA3DYrxvrtNc6YgkOTJGlS2YMsrX3eDJya5O3AD4ETW/mJwMeTLAaW0SW8VNVlSU4DLgfuBQ6tqvsAkhwGnA2sCyyoqsum9EgkSZoEJsjSWqCqvgF8oy1fTTcDxeg6dwEvXs7+xwDHjFF+JnDmBIYqSdK0c4iFJEmS1GOCLEmSJPWYIEuSJEk9JsiSJElSjwmyJEmS1GOCLEmSJPWYIEuSJEk9JsiSJElSz7gS5CTXJLk0ycVJFrWyzZIsTHJV+7lpK0+S45IsTnJJkp16zzO/1b8qyfxe+RPa8y9u+2aiD1SSJEkaj1XpQX5WVe1YVfPa+uHAOVU1FzinrQPsDcxtj0OA46FLqIEjgV3o7uJ15EhS3eq8urffXqt9RJIkSdIaWJMhFvsCJ7flk4H9euWnVOc8YJMkWwJ7AgurallV3QosBPZq2zauqvOqqoBTes8lSZIkTanxJsgFfDXJRUkOaWVbVNUNbflGYIu2vBVwXW/fJa1sReVLxii/nySHJFmUZNHSpUvHGbokSZI0frPGWe+pVXV9kj8DFib5SX9jVVWSmvjw/lRVnQCcADBv3rxJfz1JkiStfcbVg1xV17efNwNfoBtDfFMbHkH7eXOrfj2wTW/3rVvZisq3HqNckiRJmnIrTZCTPCjJg0eWgT2AHwNnACMzUcwHTm/LZwAHtdksdgVub0Mxzgb2SLJpuzhvD+Dstu2OJLu22SsO6j2XJEmSNKXGM8RiC+ALbea1WcCnquorSS4ETktyMHAtsH+rfyawD7AY+A3wSoCqWpbkaODCVu+oqlrWll8LnARsCJzVHpIkSdKUW2mCXFVXAzuMUX4LsPsY5QUcupznWgAsGKN8EbD9OOKVJEmSJpV30pMkSZJ6TJAlSZKkHhNkSZIkqccEWZIkSeoxQZYkSZJ6TJAlSZKkHhNkSZIkqccEWZIkSeoxQZYkSZJ6TJAlSZKkHhNkSZIkqccEWZIkSeoxQZYkSZJ6TJAlSZKkHhNkSZIkqccEWZIkSeoxQZYkSZJ6TJAlSZKkHhNkaUgleUCSC5L8KMllSd7WyrdNcn6SxUk+k2T9Vr5BW1/cts/pPdcRrfzKJHv2yvdqZYuTHD7lBylJ0iQwQZaG193AblW1A7AjsFeSXYF3Au+rqkcBtwIHt/oHA7e28ve1eiTZDjgAeBywF/DhJOsmWRf4ELA3sB1wYKsrSdKMZoIsDanq3NlW12uPAnYDPtvKTwb2a8v7tnXa9t2TpJWfWlV3V9XPgMXAzu2xuKqurqp7gFNbXUmSZjQTZGmItZ7ei4GbgYXAT4HbqureVmUJsFVb3gq4DqBtvx14aL981D7LKx8dwyFJFiVZtHTp0gk6MkmSJo8JsjTEquq+qtoR2Jqux/ex0xDDCVU1r6rmzZ49e6pfXpKkVTbuBLn1RP0wyZfauhf6SDNEVd0GnAs8Cdgkyay2aWvg+rZ8PbANQNv+EOCWfvmofZZXLknSjLYqPcivB67orXuhjzTAksxOsklb3hB4Dl0bPhd4Uas2Hzi9LZ/R1mnbv15V1coPaF9+twXmAhcAFwJz25fl9ena9xmTfmCSJE2ycSXISbYGngt8tK0HL/SRBt2WwLlJLqFLZhdW1ZeANwNvTLKYbozxia3+icBDW/kbgcMBquoy4DTgcuArwKFt6Ma9wGHA2XSJ92mtriRJM9qslVcB4P3Am4AHt/WHMs4LfZL0L/Q5r/ec/X1GX+izy1hBJDkEOATg4Q9/+DhDl9ZOVXUJ8Pgxyq+m+2I6uvwu4MXLea5jgGPGKD8TOHONg5UkaYCstAc5yfOAm6vqoimIZ4W82EeSJEmTbTw9yE8BXpBkH+ABwMbAB2gX+rRe5LEu9Fkyzgt9WEG5JEmSNKVW2oNcVUdU1dZVNYfuIpyvV9VL8UIfSZIkDaHxjkEey5uBU5O8Hfghf3qhz8fbhT7L6BJequqyJCMX+txLu9AHIMnIhT7rAgu80EeSJEnTZZUS5Kr6BvCNtuyFPpIkSRo63klPkiRJ6jFBliRJknpMkCVJkqQeE2RJkiSpxwRZkiRJ6jFBliRJknpMkCVJkqQeE2RJkiSpxwRZkiRJ6jFBliRJknpMkCVJkqQeE2RJkiSpxwRZkiRJ6jFBliRJknpMkCVJkqQeE2RJkiSpxwRZkiRJ6jFBliRJknpMkCVJkqQeE2RJkiSpxwRZkiRJ6jFBliRJknpMkCVJkqQeE2RJkiSpZ6UJcpIHJLkgyY+SXJbkba182yTnJ1mc5DNJ1m/lG7T1xW37nN5zHdHKr0yyZ698r1a2OMnhk3CckiRJ0riMpwf5bmC3qtoB2BHYK8muwDuB91XVo4BbgYNb/YOBW1v5+1o9kmwHHAA8DtgL+HCSdZOsC3wI2BvYDjiw1ZUkSZKm3EoT5Orc2VbXa48CdgM+28pPBvZry/u2ddr23ZOklZ9aVXdX1c+AxcDO7bG4qq6uqnuAU1tdSZIkacqNawxy6+m9GLgZWAj8FLitqu5tVZYAW7XlrYDrANr224GH9stH7bO88rHiOCTJoiSLli5dOp7QJUmSpFUyrgS5qu6rqh2Brel6fB87mUGtII4TqmpeVc2bPXv2dIQgSZKkIbdKs1hU1W3AucCTgE2SzGqbtgaub8vXA9sAtO0PAW7pl4/aZ3nlkiRJ0pQbzywWs5Ns0pY3BJ4DXEGXKL+oVZsPnN6Wz2jrtO1fr6pq5Qe0WS62BeYCFwAXAnPbrBjr013Id8YEHJskSZK0ysbTg7wlcG6SS+iS2YVV9SXgzcAbkyymG2N8Yqt/IvDQVv5G4HCAqroMOA24HPgKcGgbunEvcBhwNl3ifVqrK2kNJNkmyblJLm9TNL6+lW+WZGGSq9rPTVt5khzXplu8JMlOveea3+pflWR+r/wJSS5t+xzXLsiVJGlGm7WyClV1CfD4McqvphuPPLr8LuDFy3muY4Bjxig/EzhzHPFKGr97gX+qqh8keTBwUZKFwCuAc6rq2Dbv+OF0X3j3pjuzMxfYBTge2CXJZsCRwDy6GWwuSnJGVd3a6rwaOJ+uDe8FnDWFxyhJ0oTzTnrSkKqqG6rqB235V3RnaLbiT6diHD1F4yltasfz6K4z2BLYk+7M0bKWFC+kmw99S2DjqjqvDaM6pfdckiTNWCbI0lqg3dHy8XQ9vVtU1Q1t043AFm15Vadi3Kotjy4f/dpOzyhJmlFMkKUhl2Qj4HPAG6rqjv621vNbk/n6Ts8oSZppTJClIZZkPbrk+JNV9flWfFMbHkH7eXMrX9WpGK9vy6PLJUma0UyQpSHVZpQ4Ebiiqt7b29SfinH0FI0HtdksdgVub0Mxzgb2SLJpm/FiD+Dstu2OJLu21zqo91ySJM1YK53FQtKM9RTg5cCl7VbxAG8BjgVOS3IwcC2wf9t2JrAPsBj4DfBKgKpaluRoumkeAY6qqmVt+bXAScCGdLNXOIOFJGnGM0GWhlRVfQdY3rzEu49Rv4BDl/NcC4AFY5QvArZfgzAlSRo4DrGQJEmSekyQJUmSpB4TZEmSJKnHBFmSJEnq8SI9SQNlzuFfXqP9rzn2uRMUiSRpbWUPsiRJktRjgixJkiT1mCBLkiRJPSbIkiRJUo8JsiRJktRjgixJkiT1mCBLkiRJPSbIkiRJUo8JsiRJktRjgixJkiT1mCBLkiRJPStNkJNsk+TcJJcnuSzJ61v5ZkkWJrmq/dy0lSfJcUkWJ7kkyU6955rf6l+VZH6v/AlJLm37HJckk3GwkiRJ0sqMpwf5XuCfqmo7YFfg0CTbAYcD51TVXOCctg6wNzC3PQ4BjocuoQaOBHYBdgaOHEmqW51X9/bba80PTZIkSVp1K02Qq+qGqvpBW/4VcAWwFbAvcHKrdjKwX1veFzilOucBmyTZEtgTWFhVy6rqVmAhsFfbtnFVnVdVBZzSey5JkiRpSq3SGOQkc4DHA+cDW1TVDW3TjcAWbXkr4Lrebkta2YrKl4xRPtbrH5JkUZJFS5cuXZXQJUmSpHEZd4KcZCPgc8AbquqO/rbW81sTHNv9VNUJVTWvqubNnj17sl9OkiRJa6FxJchJ1qNLjj9ZVZ9vxTe14RG0nze38uuBbXq7b93KVlS+9RjlkiRJ0pQbzywWAU4Erqiq9/Y2nQGMzEQxHzi9V35Qm81iV+D2NhTjbGCPJJu2i/P2AM5u2+5Ismt7rYN6zyVJkiRNqVnjqPMU4OXApUkubmVvAY4FTktyMHAtsH/bdiawD7AY+A3wSoCqWpbkaODCVu+oqlrWll8LnARsCJzVHpIkSdKUW2mCXFXfAZY3L/HuY9Qv4NDlPNcCYMEY5YuA7VcWiyRJkjTZvJOeJEmS1GOCLEmSJPWYIEuSJEk9JsiSJElSjwmyJEmS1GOCLEmSJPWYIEuSJEk9JsiSJElSjwmyJEmS1GOCLEmSJPWYIEuSJEk9JsjSkEqyIMnNSX7cK9ssycIkV7Wfm7byJDkuyeIklyTZqbfP/Fb/qiTze+VPSHJp2+e4JJnaI5QkaXKYIEvD6yRgr1FlhwPnVNVc4Jy2DrA3MLc9DgGOhy6hBo4EdgF2Bo4cSapbnVf39hv9WpIkzUgmyNKQqqpvActGFe8LnNyWTwb265WfUp3zgE2SbAnsCSysqmVVdSuwENirbdu4qs6rqgJO6T2XJEkzmgmytHbZoqpuaMs3Alu05a2A63r1lrSyFZUvGaP8fpIckmRRkkVLly5d8yOQJGmSmSBLa6nW81tT8DonVNW8qpo3e/bsyX45SZLWmAmytHa5qQ2PoP28uZVfD2zTq7d1K1tR+dZjlEuSNOOZIEtrlzOAkZko5gOn98oParNZ7Arc3oZinA3skWTTdnHeHsDZbdsdSXZts1cc1HsuSZJmtFnTHYCkyZHk08Azgc2TLKGbjeJY4LQkBwPXAvu36mcC+wCLgd8ArwSoqmVJjgYubPWOqqqRC/9eSzdTxobAWe0hSdKMZ4IsDamqOnA5m3Yfo24Bhy7neRYAC8YoXwRsvyYxSpI0iBxiIUmSJPWYIEuSJEk9JsiSJElSz0oT5CQLktyc5Me9ss2SLExyVfu5aStPkuOSLE5ySZKdevvMb/WvSjK/V/6EJJe2fY5rV8RLkiRJ02I8PcgnAXuNKjscOKeq5gLntHWAvYG57XEIcDx0CTXdFfS7ADsDR44k1a3Oq3v7jX4tSZIkacqsNEGuqm8By0YV7wuc3JZPBvbrlZ9SnfOATdrNCPYEFlbVsqq6FVgI7NW2bVxV57Wr6E/pPZckSZI05VZ3DPIW7UYBADcCW7TlrYDrevWWtLIVlS8Zo3xMSQ5JsijJoqVLl65m6JIkSdLyrfFFeq3ntyYglvG81glVNa+q5s2ePXsqXlKSJElrmdVNkG9qwyNoP29u5dcD2/Tqbd3KVlS+9RjlkiRJ0rRY3QT5DGBkJor5wOm98oPabBa7Are3oRhnA3sk2bRdnLcHcHbbdkeSXdvsFQf1nkuSJEmaciu91XSSTwPPBDZPsoRuNopjgdOSHAxcC+zfqp8J7AMsBn4DvBKgqpYlORq4sNU7qqpGLvx7Ld1MGRsCZ7WHJEmSNC1WmiBX1YHL2bT7GHULOHQ5z7MAWDBG+SJg+5XFIUmSJE0F76QnSZIk9ZggS5IkST0myJIkSVKPCbIkSZLUY4IsSZIk9ZggS5IkST0myJIkSVKPCbIkSZLUY4IsSZIk9ZggS5IkST0myJIkSVKPCbIkSZLUY4IsSZIk9ZggS5IkST0myJIkSVKPCbIkSZLUY4IsSZIk9ZggS5IkST0myJIkSVKPCbIkSZLUY4IsSZIk9ZggS5IkST0myJIkSVKPCbIkSZLUMzAJcpK9klyZZHGSw6c7HknjY9uVJA2bgUiQk6wLfAjYG9gOODDJdtMblaSVse1KkobRrOkOoNkZWFxVVwMkORXYF7h8ugKac/iXp+ulNaCuOfa50x3CIBq4titJ0poalAR5K+C63voSYJfRlZIcAhzSVu9McuUKnnNz4JcTFuGaG7R4YPBiGrR4oBdT3jklr/eIKXmVibPStruK7RbW8O9ggt6nQfhbNIYBiSHvHFcMM63tSlqBQUmQx6WqTgBOGE/dJIuqat4khzRugxYPDF5MgxYPDGZMM82qtFsYjN+5MRjDoMUgaWoNxBhk4Hpgm9761q1M0mCz7UqShs6gJMgXAnOTbJtkfeAA4IxpjknSytl2JUlDZyCGWFTVvUkOA84G1gUWVNVla/i04z6lO0UGLR4YvJgGLR4YzJgGxhC3XWPoGENnEGKQNIVSVdMdgyRJkjQwBmWIhSRJkjQQTJAlSWNKkumOQZKmgwnyNBv0D6BBj0/SpHrIdAcgSdNhaMYgJ3kMsBmwCPh9Vd03zSHNSEn+CpgNXAbcUlW/S5Kapj+UJI+i+5D+AcB0xbGieKbz9zNskuwI3A1QVVdMUwzbA78D1pnGGJ4N3At8e7r+lyXZE3g18Nqqunk6YmhxPBl4GHB7VS2crjh68axTVb+f7jgkTa6hSJCT/A3wb3Tzr15PlySfVFV3TGtgK5HkmcCedFNlXV1VF09zPPsB7wCuApbS3Tnq6Kq6czqSwCQvBI5qcVwFXET3vv52KuMYTzwmyWsuyd50swX8N/As4N+r6mNTHMM+wDuB7wN/Cbytqr4yxTGsB3wPuAf4Z+DCqrp3imN4BnAy8JqqOnsqX3tUHHsA/wF8Engj8Pyq+tYUx/Bculuqrw+8p6pumcrXlzQ9ZvwQi/Zh8rfAwVW1O3A63Y0L3pxk42kNbgWS7AZ8GriFLkl+Y5KDpzGedYAXAv9YVS8APko3DeB/JNlopKd0CuPZAHgZ8HdV9Qzga8Bc4E1JNpyqOMYbj8nx6ktnI+AfgEOr6h+AvwP+JcnfT2Ec84D3ttd+DXA8sHeLbyr/V94LnNd+/gvw1BbfVA53egzwzqo6O8mfJ3lykqdP4euTZDbdF9I3VNXbgKOBdZLMncIYdqFL0K8ENgXOaL+L9aYqBknTY8YnyM3GdMkKwBeALwHrAS8Z4DG0WwLvrqr3AEcCnwL2TfKqaYpnHaCArdr6BcCH6RL4w5PMmuIkcB3gwb14Pgd8me69fskUxjGo8QyN6txJd+Zn4yTrVdV5dDcdeXOSV0xRKJsDx1TV+e1v/Wrgr+iGWkzZKfX22mcCb6X7O/vHJK8D3pBk3SkK4x7gCUm2bbEcAHw8yT9P0esD3EZ3du2eNuzlLcDBwDeTvHaKYtge+GpVfaqq/p7u/XgT8AT4Q8eCpCE04xt3Vf2Ortfnb5I8rX2QfQe4mNbzMqA2AA5oieeNwLfoeqyeluR/TVUQSR6U5AHtFO7HgNcneXYb93gt3V3RHkaXHE5FPOu238lv6RL0lyfZub3P3wYuAZ48FbEMYjxD7kZgd2BDgKpaBLwcOKwlapOqDaX4Wq/oYuC3I2OAk/z5ZMcwyj+0ISbXA+8DHjiF45EvBH4LvBT4eFW9DtgHeE0bCjPpWhu7EzgQOA34QFW9HHgB8PYkU/H//UJgwySPbTG9l+7z5X1JNnEssjS8ZnyC3Hwb+Cpd8vL0qrqvqj5Fl9jtML2h/VGSR7SeEKpqAd1p1I8l2aCqfgP8iG5Yw5wpiudvgI8DZyXZl25c7dvoeqyeU1X3VtU36XpNJz1pT/LXwALg8+3CnB/Sva+vSrJLVd1TVScDj0ryuLUtnmE1cpanqj4MPBA4PslDWk/yd+i+hEzq2YteDDf0imcBW7cvSa8ATkzywMk8K9V77oXAJUmeRPel4URgt/Z3OOna3RBvo0tGt2zDrC4DPkv7AjOZRnpmq+oI4H/TdR58u5UtAj7B1NwJ9ka6oS7PSbJ5e/33AD+mG4YjaUgNxK2m11RV3ZXkk3Qfoke0b/t3A1sAN6xw5ynSLvD6N+CGJDfTJabHA68AFiR5ZVX9IskNwOOBsyY5nm2BY+l6iB4D7EF3OvlbdB/G70/yQbrbB29F15s8mfFsB7yLbvznjsCb6YbL/ITufX1rklPo/mY3ASb1qvpBi2fYZNSsM8B9AFX1t0k+DbwfOC/JLOAZdEnKpMeQP52h4Ld0wyzeTJcoHty+yE5aDFV1X7vg894kTwT+P2DfqvpikkOBJRP5+suLAaCq/jXJPcDDgdcluZNuqMVHJzqGseJoZamqe9oXh4OTLAGeBjybrld9MuJYt/c7uLn9Hzy6bftGVV0K/JRJ/tImaXoNxSwWI5KsDzyF7pv9XXSn5H44vVF1wxjoxhgfXVWLkryB7kLCxcDXgcOAXYBz6RLW3arqfyY5ph2A91XVbm39iXRJwN3A/6PrMX4hXW/Rh6rqR5Mcz7OAN1XV3m19b+Bv6E5nfpXuKvKDWnzvnuz3ddDiGSYZx6wzbSz+yBmgt7beyymJoZ8kJ/k+3bR+L5zoKd9W9ntId+HiY6rqool83VWJodXZDXgksB1wwmRMfTfOOD5F197mAodU1eUTHMOjR/7vjiTJLUGvJI+n+1zZhC4x3hnYryXLkobQUCXII9qFLDUo48PSzbrwFeDDVfWZVvZSYCe6C0DOTvIiugtjrqyqK6cors8D51bVB9v6znTznn6hqs4c+XCYoljWp5vK6eNVdUYr25tuZoO3VtUF6a4cn5I5rgctnmHRfmefAI6rqu+2Myu70v3tv6uqbh9Vf4Oqunu6YkjyFuDzVfWTKYzh3VV126j6E36h4Gq8F7NqEqabW8X3Yx3gQVX1qwmO4Xl045z/u6pe0spGkuR1qur3bYjFpsATge9X1c8mMgZJg2VYxiD/iTYGedqT43TWbRd4fRB4epKd2uZPATcBhwBU1Wer6ozJTI6TPDPJ/kle3opOAR6R5IAWwwV087/+fZL1Jzs5TvKUJM9Od1HgPXRjDJ/cxl1SVWfRetjb7/F3k5mMDlo8Q2x5s84cCN0XtV47uWeaYtil9Sj+20Qnx+OI4YAWw7x0N05hEv+frez38MTeezGZf+vjeT92rKrfT0Jy/CC6s3hvoJsx4xPQfY60LwUjv/t7q+qq6ma0MDmWhtxQJsiDIN1FbwuAjyZ5CnA+3TjVFyR5QnXeBWyS5JFTEM+z6OZdfjjddFHvpZvb82fAE5P8U6v6W2BCP4CWE88eLZ49gGOSvIsuYS+66e5e3KouA35NG5O4tsQzrGrFs848vZ1teQrwi1Z/wr+kjTOGJzOJ7WCcMTyN7iKx6YzhqUzie7EKcTyZSfpdVNWvgVfRdVr8M/CAXpJ8L/xhSNrLkjygjYeWNOSGcojFdGv/TD9Dd+enRwCvBf4VuJ3uQ28buovh7gX+L/C0qlo2ifGE7u5gN1TV+5I8gG5Kt2uAk4C/oBtf92C6+ZlfOpljatsQmAXAt6rqxNaD8zW63tmRCwf3aPFsAxxQk3iXwUGLZ9i1v7+/o7so9BPV7oyW5Bt0F8L91BjWnhgGKY72mg+lu6Pjb6vqZUn+iq53+9s1jbfcljS1hmIWiwH058BPqupMgCTX0p3C+3/tsQvd0IpfAS+bzOQYup6fJD8Anplki6q6Kd1d+04C/r6q/pFuqre5wLKapFupjoxpbqcuLwA2SzcH86+TPIcuIZ1VVW9O8hG6yfh/Xt080UMfz9qilj/rzGy6eW+NYS2KYZDiaLHckuQ1wLuTXEl3pvXpJsfS2sUe5EmQZAvg3cCHgAvbBR77tLK/q6rvp7t1cbWxrpMVxzZ0wzrWAf6M7irxk4DvVNVvkzyQbpzt26vqC5MVRy+eLarqprb8dLrb6L5uZNx1uluDnwX8c1V9f22LZ22TAZh1xhgGJ4ZBiqPF8o90U/w9p5ytQlrr2IM8QZLsAjwA+HV1U7ldA/wtcFOS66qbFeJRwIuTnFcTfGX+GPE8l25Yxffohga8kW6M7eu7zbm0qm5Icg6TdyFUP57nAf+S5Md0c1O/h+5inFOSzAeurW6KrcuZgrHxgxbP2qh9OTw3ybeYpllnjGFwYhikOJJsSnfnwD1MjqW1kwnyBEg3/ddxdPMY/3mSxVX1xiT/CbyOLvH6Nt2FXRtM1sUuLZYAW9ONnT0MuAKYD1xAN3XS8cDLWt3rgZcwSRP/92J6JN3v51V0V8I/CzgTeD7dKdX3Aucn+T3dXcOOXZviWdsNwkwgxjA4McD0x1FVtyZ5flXdNZ1xSJo+JshrqF3gNR84qqo+3k7LfzXJR6rq1Un+FXhNkn+hu8DrJZMZTxtv/Au66dquAm6uqncluZeuN3lXulsmP5HuJgy71yTflAS4hW6+52+0BP47dBcong48j+5Wwo8F5gHPnYILcn5JN//zoMQjacCYHEtrN8cgT4AkbwZ+UVUf75V9D/huVf2fdrpue+BnVTXht4rtveaj6Cayvxr4MHBRdVPJjWw/gu5q7P892UM82us9DticbnqmjwOnVdV72rZ1gCOBu6rqHa1sUm9MkuSpwBy6G4B8C/hyVR07XfFIkqTBZA/yakrvtqR0t0Y9PMk3q+rnrewFwAlJtqvulqjfnuR4nkd3Ed6twKV0SeBx6W5o8Y5W7dPAW5iaMcd7042BvgZYChwOfDDJXVX1H+3Cxe8B+43sM1nJaEt+H0g3g8gsuqvi96fr6f9tVX1gKuORJEmDzQR5NbRk9LQkZ1TVAVX1iSSPAb6b5ClV9fOq+mWSe4CNpiCeJ9PNkPGSqvphkhOAnekm1z+vDQM5lW7S/52ATegS6cmK55nAB+imsLsgyRfpprR7OfBfLWH9IN2cy49O8uCa4Ltj9bULfe5McjLdmOP96XradwO+l+TeqvrQVMUjSZIGm0MsVlG6m0h8Dvg8XQK6QVWN3A71aLqe4w/TDS14Kd0Y1km9LWlLkB9dVSe19dnASVX13CR/QXczkrvo5l9+xWRflZ3kfwF/XlXnJvlz4AfAIuDHQIBn0vVyPw3Yf6quEk/yRro7CX4ReDVwGfB4uvfqZ3RfKqYsHkmSNJhMkFdDkocBd9BN6/afwO96SfJf090o5AnA+6vqx1MQz7rAg9q0ZOvS9YR+EdinTeX2CLphIA+qqtsnO55Rsf0L3d/Z25OM3Cnrg8B1wEZV9cspjOWRwIur6th0t9Y+lm4O6Le1+Vc3nsp4JEnSYDJBXkP5421J76mqA9uFaXdW1bXTFM8susT99KraPcnL6Hpq31BVv52OmPqSfAX4l6q6aBpe+2HAMXSzebwJ+ARdr/EXq+o/pzoeSZI0mByDvIbq/rclXZduCMF0xXMv3Xjb65K8A9iDbljFlCfHo2eBSPJCulvHXj/VsQBU1S+SXAf8K3BoVX0xybOAxdMRjyRJGkz2IE+QQbktaZvXdz26G4SsRzfP8VXTFU+LaQO6m5O8EfjbqRh2soJYtgH+bKQHO8k603W3LkmSNJhMkCdAm+f4NOCfquqS6Y4HIMkrgAur6rIBiGU94DnAT6vqyumOB5zjWJIkLZ8J8gRJ8oBBuvOSCaAkSdLqMUGWJEmSetaZ7gAkSZKkQWKCLEmSJPWYIEuSJEk9JsiSJElSjwmyJEmS1GOCLEmSJPX8/4nlbUCmqmAxAAAAAElFTkSuQmCC\n",
      "text/plain": [
       "<Figure size 720x2160 with 5 Axes>"
      ]
     },
     "metadata": {
      "needs_background": "light"
     },
     "output_type": "display_data"
    }
   ],
   "source": [
    "cols = list(data_df.columns)\n",
    "cols_df=cols[1:]\n",
    "plt.figure(figsize=(10,30))\n",
    "for i in range(len(cols_df)):\n",
    "    plt.subplot(8,3,i+1)\n",
    "    plt.title(cols_df[i])\n",
    "    plt.xticks(rotation=45)\n",
    "    plt.hist(data[cols_df[i]])\n",
    "    \n",
    "plt.tight_layout()"
   ]
  },
  {
   "cell_type": "code",
   "execution_count": 22,
   "id": "acf82800",
   "metadata": {
    "execution": {
     "iopub.execute_input": "2022-10-19T14:19:12.578248Z",
     "iopub.status.busy": "2022-10-19T14:19:12.576960Z",
     "iopub.status.idle": "2022-10-19T14:19:13.480014Z",
     "shell.execute_reply": "2022-10-19T14:19:13.478559Z"
    },
    "papermill": {
     "duration": 0.926417,
     "end_time": "2022-10-19T14:19:13.483238",
     "exception": false,
     "start_time": "2022-10-19T14:19:12.556821",
     "status": "completed"
    },
    "tags": []
   },
   "outputs": [
    {
     "data": {
      "image/png": "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\n",
      "text/plain": [
       "<Figure size 720x2160 with 5 Axes>"
      ]
     },
     "metadata": {
      "needs_background": "light"
     },
     "output_type": "display_data"
    }
   ],
   "source": [
    "cols = list(data_df.columns)\n",
    "cols_df=cols[1:]\n",
    "plt.figure(figsize=(10,30))\n",
    "for i in range(len(cols_df)):\n",
    "    plt.subplot(8,3,i+1)\n",
    "    plt.title(cols_df[i])\n",
    "    plt.xticks(rotation=45)\n",
    "    plt.hist(data[cols_df[i]])\n",
    "    \n",
    "plt.tight_layout()"
   ]
  },
  {
   "cell_type": "code",
   "execution_count": 23,
   "id": "a515de10",
   "metadata": {
    "execution": {
     "iopub.execute_input": "2022-10-19T14:19:13.523364Z",
     "iopub.status.busy": "2022-10-19T14:19:13.522051Z",
     "iopub.status.idle": "2022-10-19T14:19:16.089162Z",
     "shell.execute_reply": "2022-10-19T14:19:16.087726Z"
    },
    "papermill": {
     "duration": 2.58987,
     "end_time": "2022-10-19T14:19:16.092077",
     "exception": false,
     "start_time": "2022-10-19T14:19:13.502207",
     "status": "completed"
    },
    "tags": []
   },
   "outputs": [
    {
     "data": {
      "text/plain": [
       "<seaborn.axisgrid.JointGrid at 0x7f45902166d0>"
      ]
     },
     "execution_count": 23,
     "metadata": {},
     "output_type": "execute_result"
    },
    {
     "data": {
      "image/png": "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\n",
      "text/plain": [
       "<Figure size 432x432 with 3 Axes>"
      ]
     },
     "metadata": {
      "needs_background": "light"
     },
     "output_type": "display_data"
    }
   ],
   "source": [
    "sns.jointplot(x=\"PM2.5\", y=\"Fire Alarm\",  data=data_df, height=6, ratio=2, color=\"yellow\")"
   ]
  },
  {
   "cell_type": "code",
   "execution_count": 24,
   "id": "a9cc5f4c",
   "metadata": {
    "execution": {
     "iopub.execute_input": "2022-10-19T14:19:16.131173Z",
     "iopub.status.busy": "2022-10-19T14:19:16.130709Z",
     "iopub.status.idle": "2022-10-19T14:19:17.155157Z",
     "shell.execute_reply": "2022-10-19T14:19:17.153972Z"
    },
    "papermill": {
     "duration": 1.046812,
     "end_time": "2022-10-19T14:19:17.157752",
     "exception": false,
     "start_time": "2022-10-19T14:19:16.110940",
     "status": "completed"
    },
    "tags": []
   },
   "outputs": [
    {
     "data": {
      "text/plain": [
       "<seaborn.axisgrid.JointGrid at 0x7f45901f6110>"
      ]
     },
     "execution_count": 24,
     "metadata": {},
     "output_type": "execute_result"
    },
    {
     "data": {
      "image/png": "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\n",
      "text/plain": [
       "<Figure size 432x432 with 3 Axes>"
      ]
     },
     "metadata": {
      "needs_background": "light"
     },
     "output_type": "display_data"
    }
   ],
   "source": [
    "sns.jointplot(x=\"Raw H2\", y=\"Fire Alarm\",  data=data_df, height=6, ratio=2, color=\"blue\")"
   ]
  },
  {
   "cell_type": "code",
   "execution_count": 25,
   "id": "1991e087",
   "metadata": {
    "execution": {
     "iopub.execute_input": "2022-10-19T14:19:17.197272Z",
     "iopub.status.busy": "2022-10-19T14:19:17.196827Z",
     "iopub.status.idle": "2022-10-19T14:19:18.502822Z",
     "shell.execute_reply": "2022-10-19T14:19:18.501365Z"
    },
    "papermill": {
     "duration": 1.329282,
     "end_time": "2022-10-19T14:19:18.505915",
     "exception": false,
     "start_time": "2022-10-19T14:19:17.176633",
     "status": "completed"
    },
    "tags": []
   },
   "outputs": [
    {
     "data": {
      "text/plain": [
       "<seaborn.axisgrid.JointGrid at 0x7f4590256e10>"
      ]
     },
     "execution_count": 25,
     "metadata": {},
     "output_type": "execute_result"
    },
    {
     "data": {
      "image/png": "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\n",
      "text/plain": [
       "<Figure size 432x432 with 3 Axes>"
      ]
     },
     "metadata": {
      "needs_background": "light"
     },
     "output_type": "display_data"
    }
   ],
   "source": [
    "sns.jointplot(x=\"eCO2[ppm]\", y=\"Fire Alarm\",  data=data_df, height=6, ratio=2, color=\"lime\")\n",
    "#Temperature[C]"
   ]
  },
  {
   "cell_type": "code",
   "execution_count": 26,
   "id": "07d499e6",
   "metadata": {
    "execution": {
     "iopub.execute_input": "2022-10-19T14:19:18.547732Z",
     "iopub.status.busy": "2022-10-19T14:19:18.546018Z",
     "iopub.status.idle": "2022-10-19T14:19:20.172344Z",
     "shell.execute_reply": "2022-10-19T14:19:20.171428Z"
    },
    "papermill": {
     "duration": 1.64984,
     "end_time": "2022-10-19T14:19:20.175069",
     "exception": false,
     "start_time": "2022-10-19T14:19:18.525229",
     "status": "completed"
    },
    "tags": []
   },
   "outputs": [
    {
     "data": {
      "text/plain": [
       "<seaborn.axisgrid.JointGrid at 0x7f458f8408d0>"
      ]
     },
     "execution_count": 26,
     "metadata": {},
     "output_type": "execute_result"
    },
    {
     "data": {
      "image/png": "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\n",
      "text/plain": [
       "<Figure size 432x432 with 3 Axes>"
      ]
     },
     "metadata": {
      "needs_background": "light"
     },
     "output_type": "display_data"
    }
   ],
   "source": [
    "sns.jointplot(x=\"TVOC[ppb]\", y=\"Fire Alarm\",  data=data_df, height=6, ratio=2, color=\"lime\")"
   ]
  },
  {
   "cell_type": "code",
   "execution_count": 27,
   "id": "29ec2a59",
   "metadata": {
    "execution": {
     "iopub.execute_input": "2022-10-19T14:19:20.215919Z",
     "iopub.status.busy": "2022-10-19T14:19:20.215208Z",
     "iopub.status.idle": "2022-10-19T14:19:20.658517Z",
     "shell.execute_reply": "2022-10-19T14:19:20.657204Z"
    },
    "papermill": {
     "duration": 0.46722,
     "end_time": "2022-10-19T14:19:20.661622",
     "exception": false,
     "start_time": "2022-10-19T14:19:20.194402",
     "status": "completed"
    },
    "tags": []
   },
   "outputs": [
    {
     "data": {
      "text/plain": [
       "<matplotlib.collections.PathCollection at 0x7f458f25ffd0>"
      ]
     },
     "execution_count": 27,
     "metadata": {},
     "output_type": "execute_result"
    },
    {
     "data": {
      "image/png": "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\n",
      "text/plain": [
       "<Figure size 432x288 with 1 Axes>"
      ]
     },
     "metadata": {
      "needs_background": "light"
     },
     "output_type": "display_data"
    }
   ],
   "source": [
    "plt.scatter(data_df[\"Raw H2\"], data_df[\"Fire Alarm\"])"
   ]
  },
  {
   "cell_type": "code",
   "execution_count": 28,
   "id": "e6170956",
   "metadata": {
    "execution": {
     "iopub.execute_input": "2022-10-19T14:19:20.704870Z",
     "iopub.status.busy": "2022-10-19T14:19:20.704431Z",
     "iopub.status.idle": "2022-10-19T14:19:21.140191Z",
     "shell.execute_reply": "2022-10-19T14:19:21.138946Z"
    },
    "papermill": {
     "duration": 0.46033,
     "end_time": "2022-10-19T14:19:21.142964",
     "exception": false,
     "start_time": "2022-10-19T14:19:20.682634",
     "status": "completed"
    },
    "tags": []
   },
   "outputs": [
    {
     "data": {
      "text/plain": [
       "<matplotlib.collections.PathCollection at 0x7f458f1b24d0>"
      ]
     },
     "execution_count": 28,
     "metadata": {},
     "output_type": "execute_result"
    },
    {
     "data": {
      "image/png": "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\n",
      "text/plain": [
       "<Figure size 432x288 with 1 Axes>"
      ]
     },
     "metadata": {
      "needs_background": "light"
     },
     "output_type": "display_data"
    }
   ],
   "source": [
    "plt.scatter(data_df[\"eCO2[ppm]\"], data_df[\"Fire Alarm\"])"
   ]
  },
  {
   "cell_type": "code",
   "execution_count": 29,
   "id": "4f7c8455",
   "metadata": {
    "execution": {
     "iopub.execute_input": "2022-10-19T14:19:21.186439Z",
     "iopub.status.busy": "2022-10-19T14:19:21.185338Z",
     "iopub.status.idle": "2022-10-19T14:19:21.608517Z",
     "shell.execute_reply": "2022-10-19T14:19:21.607311Z"
    },
    "papermill": {
     "duration": 0.446888,
     "end_time": "2022-10-19T14:19:21.610981",
     "exception": false,
     "start_time": "2022-10-19T14:19:21.164093",
     "status": "completed"
    },
    "tags": []
   },
   "outputs": [
    {
     "data": {
      "text/plain": [
       "<matplotlib.collections.PathCollection at 0x7f458f12ee90>"
      ]
     },
     "execution_count": 29,
     "metadata": {},
     "output_type": "execute_result"
    },
    {
     "data": {
      "image/png": "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\n",
      "text/plain": [
       "<Figure size 432x288 with 1 Axes>"
      ]
     },
     "metadata": {
      "needs_background": "light"
     },
     "output_type": "display_data"
    }
   ],
   "source": [
    "plt.scatter(data_df[\"TVOC[ppb]\"], data_df[\"Fire Alarm\"])"
   ]
  },
  {
   "cell_type": "code",
   "execution_count": 30,
   "id": "12d2a94d",
   "metadata": {
    "execution": {
     "iopub.execute_input": "2022-10-19T14:19:21.655470Z",
     "iopub.status.busy": "2022-10-19T14:19:21.654236Z",
     "iopub.status.idle": "2022-10-19T14:19:22.071940Z",
     "shell.execute_reply": "2022-10-19T14:19:22.070698Z"
    },
    "papermill": {
     "duration": 0.443363,
     "end_time": "2022-10-19T14:19:22.074470",
     "exception": false,
     "start_time": "2022-10-19T14:19:21.631107",
     "status": "completed"
    },
    "tags": []
   },
   "outputs": [
    {
     "data": {
      "text/plain": [
       "<matplotlib.collections.PathCollection at 0x7f459034dd10>"
      ]
     },
     "execution_count": 30,
     "metadata": {},
     "output_type": "execute_result"
    },
    {
     "data": {
      "image/png": "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\n",
      "text/plain": [
       "<Figure size 432x288 with 1 Axes>"
      ]
     },
     "metadata": {
      "needs_background": "light"
     },
     "output_type": "display_data"
    }
   ],
   "source": [
    "plt.scatter(data_df[\"PM2.5\"], data_df[\"Fire Alarm\"])"
   ]
  },
  {
   "cell_type": "markdown",
   "id": "86143e0d",
   "metadata": {
    "papermill": {
     "duration": 0.020282,
     "end_time": "2022-10-19T14:19:22.115550",
     "exception": false,
     "start_time": "2022-10-19T14:19:22.095268",
     "status": "completed"
    },
    "tags": []
   },
   "source": [
    "# Split the data"
   ]
  },
  {
   "cell_type": "code",
   "execution_count": 31,
   "id": "34fa4903",
   "metadata": {
    "execution": {
     "iopub.execute_input": "2022-10-19T14:19:22.159702Z",
     "iopub.status.busy": "2022-10-19T14:19:22.158569Z",
     "iopub.status.idle": "2022-10-19T14:19:22.168029Z",
     "shell.execute_reply": "2022-10-19T14:19:22.167213Z"
    },
    "papermill": {
     "duration": 0.034568,
     "end_time": "2022-10-19T14:19:22.170383",
     "exception": false,
     "start_time": "2022-10-19T14:19:22.135815",
     "status": "completed"
    },
    "tags": []
   },
   "outputs": [],
   "source": [
    "x = data_df.drop(\"Fire Alarm\", axis = 1).values\n",
    "y = data_df['Fire Alarm'].values "
   ]
  },
  {
   "cell_type": "code",
   "execution_count": 32,
   "id": "cf698eb1",
   "metadata": {
    "execution": {
     "iopub.execute_input": "2022-10-19T14:19:22.213294Z",
     "iopub.status.busy": "2022-10-19T14:19:22.212696Z",
     "iopub.status.idle": "2022-10-19T14:19:22.223366Z",
     "shell.execute_reply": "2022-10-19T14:19:22.222214Z"
    },
    "papermill": {
     "duration": 0.035354,
     "end_time": "2022-10-19T14:19:22.226168",
     "exception": false,
     "start_time": "2022-10-19T14:19:22.190814",
     "status": "completed"
    },
    "tags": []
   },
   "outputs": [],
   "source": [
    "X_train,X_test,Y_train,Y_test = train_test_split(x,y,test_size=0.2,random_state=0)"
   ]
  },
  {
   "cell_type": "markdown",
   "id": "dcf8d089",
   "metadata": {
    "papermill": {
     "duration": 0.020311,
     "end_time": "2022-10-19T14:19:22.267220",
     "exception": false,
     "start_time": "2022-10-19T14:19:22.246909",
     "status": "completed"
    },
    "tags": []
   },
   "source": [
    "# Scale the data"
   ]
  },
  {
   "cell_type": "code",
   "execution_count": 33,
   "id": "537eef7e",
   "metadata": {
    "execution": {
     "iopub.execute_input": "2022-10-19T14:19:22.311172Z",
     "iopub.status.busy": "2022-10-19T14:19:22.310202Z",
     "iopub.status.idle": "2022-10-19T14:19:22.326876Z",
     "shell.execute_reply": "2022-10-19T14:19:22.325632Z"
    },
    "papermill": {
     "duration": 0.041563,
     "end_time": "2022-10-19T14:19:22.329823",
     "exception": false,
     "start_time": "2022-10-19T14:19:22.288260",
     "status": "completed"
    },
    "tags": []
   },
   "outputs": [],
   "source": [
    "sc = StandardScaler()\n",
    "X_train = sc.fit_transform(X_train)\n",
    "X_test = sc.transform(X_test)"
   ]
  },
  {
   "cell_type": "markdown",
   "id": "75857767",
   "metadata": {
    "papermill": {
     "duration": 0.020482,
     "end_time": "2022-10-19T14:19:22.371614",
     "exception": false,
     "start_time": "2022-10-19T14:19:22.351132",
     "status": "completed"
    },
    "tags": []
   },
   "source": [
    "# Initializing Artificial Neural Network\n"
   ]
  },
  {
   "cell_type": "code",
   "execution_count": 34,
   "id": "a1176016",
   "metadata": {
    "execution": {
     "iopub.execute_input": "2022-10-19T14:19:22.414993Z",
     "iopub.status.busy": "2022-10-19T14:19:22.414565Z",
     "iopub.status.idle": "2022-10-19T14:19:23.664088Z",
     "shell.execute_reply": "2022-10-19T14:19:23.663048Z"
    },
    "papermill": {
     "duration": 1.273836,
     "end_time": "2022-10-19T14:19:23.666421",
     "exception": false,
     "start_time": "2022-10-19T14:19:22.392585",
     "status": "completed"
    },
    "tags": []
   },
   "outputs": [
    {
     "name": "stderr",
     "output_type": "stream",
     "text": [
      "2022-10-19 14:19:23.637231: I tensorflow/core/common_runtime/process_util.cc:146] Creating new thread pool with default inter op setting: 2. Tune using inter_op_parallelism_threads for best performance.\n"
     ]
    }
   ],
   "source": [
    "ann = tf.keras.models.Sequential()"
   ]
  },
  {
   "cell_type": "markdown",
   "id": "1367224f",
   "metadata": {
    "papermill": {
     "duration": 0.020165,
     "end_time": "2022-10-19T14:19:23.709092",
     "exception": false,
     "start_time": "2022-10-19T14:19:23.688927",
     "status": "completed"
    },
    "tags": []
   },
   "source": [
    "# Creating Hidden Layers"
   ]
  },
  {
   "cell_type": "code",
   "execution_count": 35,
   "id": "43a7db4e",
   "metadata": {
    "execution": {
     "iopub.execute_input": "2022-10-19T14:19:23.752044Z",
     "iopub.status.busy": "2022-10-19T14:19:23.751313Z",
     "iopub.status.idle": "2022-10-19T14:19:23.762193Z",
     "shell.execute_reply": "2022-10-19T14:19:23.760561Z"
    },
    "papermill": {
     "duration": 0.035601,
     "end_time": "2022-10-19T14:19:23.765205",
     "exception": false,
     "start_time": "2022-10-19T14:19:23.729604",
     "status": "completed"
    },
    "tags": []
   },
   "outputs": [],
   "source": [
    "ann.add(tf.keras.layers.Dense(units=6,activation=\"relu\"))"
   ]
  },
  {
   "cell_type": "markdown",
   "id": "3326ad8c",
   "metadata": {
    "papermill": {
     "duration": 0.020476,
     "end_time": "2022-10-19T14:19:23.806729",
     "exception": false,
     "start_time": "2022-10-19T14:19:23.786253",
     "status": "completed"
    },
    "tags": []
   },
   "source": [
    "# Creating Output Layer"
   ]
  },
  {
   "cell_type": "code",
   "execution_count": 36,
   "id": "c14fe237",
   "metadata": {
    "execution": {
     "iopub.execute_input": "2022-10-19T14:19:23.852598Z",
     "iopub.status.busy": "2022-10-19T14:19:23.852107Z",
     "iopub.status.idle": "2022-10-19T14:19:23.859648Z",
     "shell.execute_reply": "2022-10-19T14:19:23.858118Z"
    },
    "papermill": {
     "duration": 0.03383,
     "end_time": "2022-10-19T14:19:23.862326",
     "exception": false,
     "start_time": "2022-10-19T14:19:23.828496",
     "status": "completed"
    },
    "tags": []
   },
   "outputs": [],
   "source": [
    "ann.add(tf.keras.layers.Dense(units=1,activation=\"sigmoid\"))"
   ]
  },
  {
   "cell_type": "markdown",
   "id": "38e24584",
   "metadata": {
    "papermill": {
     "duration": 0.021172,
     "end_time": "2022-10-19T14:19:23.904856",
     "exception": false,
     "start_time": "2022-10-19T14:19:23.883684",
     "status": "completed"
    },
    "tags": []
   },
   "source": [
    " # Creating Output Layer"
   ]
  },
  {
   "cell_type": "code",
   "execution_count": 37,
   "id": "8ebd51a9",
   "metadata": {
    "execution": {
     "iopub.execute_input": "2022-10-19T14:19:23.947417Z",
     "iopub.status.busy": "2022-10-19T14:19:23.946976Z",
     "iopub.status.idle": "2022-10-19T14:19:23.973378Z",
     "shell.execute_reply": "2022-10-19T14:19:23.971740Z"
    },
    "papermill": {
     "duration": 0.050763,
     "end_time": "2022-10-19T14:19:23.976101",
     "exception": false,
     "start_time": "2022-10-19T14:19:23.925338",
     "status": "completed"
    },
    "tags": []
   },
   "outputs": [],
   "source": [
    "ann.compile(optimizer=\"adam\",loss=\"binary_crossentropy\",metrics=['accuracy'])"
   ]
  },
  {
   "cell_type": "markdown",
   "id": "580bf9d9",
   "metadata": {
    "papermill": {
     "duration": 0.021321,
     "end_time": "2022-10-19T14:19:24.018444",
     "exception": false,
     "start_time": "2022-10-19T14:19:23.997123",
     "status": "completed"
    },
    "tags": []
   },
   "source": [
    "# Fitting Artificial Neural Network"
   ]
  },
  {
   "cell_type": "code",
   "execution_count": 38,
   "id": "cf3f32af",
   "metadata": {
    "execution": {
     "iopub.execute_input": "2022-10-19T14:19:24.061950Z",
     "iopub.status.busy": "2022-10-19T14:19:24.061219Z",
     "iopub.status.idle": "2022-10-19T14:20:24.157243Z",
     "shell.execute_reply": "2022-10-19T14:20:24.155735Z"
    },
    "papermill": {
     "duration": 60.120884,
     "end_time": "2022-10-19T14:20:24.160019",
     "exception": false,
     "start_time": "2022-10-19T14:19:24.039135",
     "status": "completed"
    },
    "tags": []
   },
   "outputs": [
    {
     "name": "stderr",
     "output_type": "stream",
     "text": [
      "2022-10-19 14:19:24.164857: I tensorflow/compiler/mlir/mlir_graph_optimization_pass.cc:185] None of the MLIR Optimization Passes are enabled (registered 2)\n"
     ]
    },
    {
     "name": "stdout",
     "output_type": "stream",
     "text": [
      "Epoch 1/15\n",
      "2301/2301 [==============================] - 5s 2ms/step - loss: 0.2431 - accuracy: 0.9130 - val_loss: 0.1132 - val_accuracy: 0.9402\n",
      "Epoch 2/15\n",
      "2301/2301 [==============================] - 4s 2ms/step - loss: 0.0972 - accuracy: 0.9716 - val_loss: 0.0824 - val_accuracy: 0.9739\n",
      "Epoch 3/15\n",
      "2301/2301 [==============================] - 4s 2ms/step - loss: 0.0770 - accuracy: 0.9822 - val_loss: 0.0681 - val_accuracy: 0.9810\n",
      "Epoch 4/15\n",
      "2301/2301 [==============================] - 4s 2ms/step - loss: 0.0649 - accuracy: 0.9846 - val_loss: 0.0591 - val_accuracy: 0.9791\n",
      "Epoch 5/15\n",
      "2301/2301 [==============================] - 4s 2ms/step - loss: 0.0569 - accuracy: 0.9862 - val_loss: 0.0509 - val_accuracy: 0.9836\n",
      "Epoch 6/15\n",
      "2301/2301 [==============================] - 4s 2ms/step - loss: 0.0510 - accuracy: 0.9880 - val_loss: 0.0462 - val_accuracy: 0.9903\n",
      "Epoch 7/15\n",
      "2301/2301 [==============================] - 4s 2ms/step - loss: 0.0451 - accuracy: 0.9896 - val_loss: 0.0417 - val_accuracy: 0.9884\n",
      "Epoch 8/15\n",
      "2301/2301 [==============================] - 4s 2ms/step - loss: 0.0413 - accuracy: 0.9905 - val_loss: 0.0388 - val_accuracy: 0.9911\n",
      "Epoch 9/15\n",
      "2301/2301 [==============================] - 4s 2ms/step - loss: 0.0388 - accuracy: 0.9909 - val_loss: 0.0359 - val_accuracy: 0.9897\n",
      "Epoch 10/15\n",
      "2301/2301 [==============================] - 4s 2ms/step - loss: 0.0370 - accuracy: 0.9912 - val_loss: 0.0347 - val_accuracy: 0.9898\n",
      "Epoch 11/15\n",
      "2301/2301 [==============================] - 4s 2ms/step - loss: 0.0356 - accuracy: 0.9916 - val_loss: 0.0338 - val_accuracy: 0.9892\n",
      "Epoch 12/15\n",
      "2301/2301 [==============================] - 4s 2ms/step - loss: 0.0345 - accuracy: 0.9919 - val_loss: 0.0325 - val_accuracy: 0.9919\n",
      "Epoch 13/15\n",
      "2301/2301 [==============================] - 4s 2ms/step - loss: 0.0336 - accuracy: 0.9922 - val_loss: 0.0312 - val_accuracy: 0.9903\n",
      "Epoch 14/15\n",
      "2301/2301 [==============================] - 4s 2ms/step - loss: 0.0330 - accuracy: 0.9920 - val_loss: 0.0309 - val_accuracy: 0.9923\n",
      "Epoch 15/15\n",
      "2301/2301 [==============================] - 4s 2ms/step - loss: 0.0323 - accuracy: 0.9924 - val_loss: 0.0301 - val_accuracy: 0.9923\n"
     ]
    }
   ],
   "source": [
    "history=ann.fit(x=X_train,y=Y_train,validation_data=(X_test,Y_test),batch_size=20,epochs=15)"
   ]
  },
  {
   "cell_type": "code",
   "execution_count": 39,
   "id": "7d3e5708",
   "metadata": {
    "execution": {
     "iopub.execute_input": "2022-10-19T14:20:24.338005Z",
     "iopub.status.busy": "2022-10-19T14:20:24.337219Z",
     "iopub.status.idle": "2022-10-19T14:20:24.840822Z",
     "shell.execute_reply": "2022-10-19T14:20:24.839825Z"
    },
    "papermill": {
     "duration": 0.597373,
     "end_time": "2022-10-19T14:20:24.843328",
     "exception": false,
     "start_time": "2022-10-19T14:20:24.245955",
     "status": "completed"
    },
    "tags": []
   },
   "outputs": [],
   "source": [
    "y_pred=ann.predict(X_test)"
   ]
  },
  {
   "cell_type": "code",
   "execution_count": 40,
   "id": "0eefc7ff",
   "metadata": {
    "execution": {
     "iopub.execute_input": "2022-10-19T14:20:25.016579Z",
     "iopub.status.busy": "2022-10-19T14:20:25.016117Z",
     "iopub.status.idle": "2022-10-19T14:20:25.024455Z",
     "shell.execute_reply": "2022-10-19T14:20:25.023187Z"
    },
    "papermill": {
     "duration": 0.09863,
     "end_time": "2022-10-19T14:20:25.026699",
     "exception": false,
     "start_time": "2022-10-19T14:20:24.928069",
     "status": "completed"
    },
    "tags": []
   },
   "outputs": [
    {
     "data": {
      "text/plain": [
       "array([[1.        ],\n",
       "       [0.99993265],\n",
       "       [0.2962346 ],\n",
       "       ...,\n",
       "       [1.        ],\n",
       "       [0.9999924 ],\n",
       "       [0.99791014]], dtype=float32)"
      ]
     },
     "execution_count": 40,
     "metadata": {},
     "output_type": "execute_result"
    }
   ],
   "source": [
    "y_pred"
   ]
  },
  {
   "cell_type": "code",
   "execution_count": 41,
   "id": "f676cba8",
   "metadata": {
    "execution": {
     "iopub.execute_input": "2022-10-19T14:20:25.196846Z",
     "iopub.status.busy": "2022-10-19T14:20:25.196383Z",
     "iopub.status.idle": "2022-10-19T14:20:25.203898Z",
     "shell.execute_reply": "2022-10-19T14:20:25.202579Z"
    },
    "papermill": {
     "duration": 0.096105,
     "end_time": "2022-10-19T14:20:25.206544",
     "exception": false,
     "start_time": "2022-10-19T14:20:25.110439",
     "status": "completed"
    },
    "tags": []
   },
   "outputs": [
    {
     "data": {
      "text/plain": [
       "numpy.ndarray"
      ]
     },
     "execution_count": 41,
     "metadata": {},
     "output_type": "execute_result"
    }
   ],
   "source": [
    "type(y_pred)"
   ]
  },
  {
   "cell_type": "code",
   "execution_count": 42,
   "id": "196f2272",
   "metadata": {
    "execution": {
     "iopub.execute_input": "2022-10-19T14:20:25.379518Z",
     "iopub.status.busy": "2022-10-19T14:20:25.379069Z",
     "iopub.status.idle": "2022-10-19T14:20:25.387219Z",
     "shell.execute_reply": "2022-10-19T14:20:25.385824Z"
    },
    "papermill": {
     "duration": 0.098848,
     "end_time": "2022-10-19T14:20:25.389730",
     "exception": false,
     "start_time": "2022-10-19T14:20:25.290882",
     "status": "completed"
    },
    "tags": []
   },
   "outputs": [],
   "source": [
    "y_pred=list(y_pred)"
   ]
  },
  {
   "cell_type": "code",
   "execution_count": 43,
   "id": "630c4a74",
   "metadata": {
    "execution": {
     "iopub.execute_input": "2022-10-19T14:20:25.560425Z",
     "iopub.status.busy": "2022-10-19T14:20:25.560006Z",
     "iopub.status.idle": "2022-10-19T14:20:25.584422Z",
     "shell.execute_reply": "2022-10-19T14:20:25.583346Z"
    },
    "papermill": {
     "duration": 0.1131,
     "end_time": "2022-10-19T14:20:25.587007",
     "exception": false,
     "start_time": "2022-10-19T14:20:25.473907",
     "status": "completed"
    },
    "tags": []
   },
   "outputs": [],
   "source": [
    "for i in range(len(y_pred)):\n",
    "    if y_pred[i] >= .5:\n",
    "        y_pred[i]=1\n",
    "    else : y_pred[i]=0"
   ]
  },
  {
   "cell_type": "markdown",
   "id": "8043f22d",
   "metadata": {
    "papermill": {
     "duration": 0.082466,
     "end_time": "2022-10-19T14:20:25.754244",
     "exception": false,
     "start_time": "2022-10-19T14:20:25.671778",
     "status": "completed"
    },
    "tags": []
   },
   "source": [
    "# Evaluate Artificial Neural Network"
   ]
  },
  {
   "cell_type": "code",
   "execution_count": 44,
   "id": "03a8a4a4",
   "metadata": {
    "execution": {
     "iopub.execute_input": "2022-10-19T14:20:25.925338Z",
     "iopub.status.busy": "2022-10-19T14:20:25.924899Z",
     "iopub.status.idle": "2022-10-19T14:20:26.477674Z",
     "shell.execute_reply": "2022-10-19T14:20:26.476737Z"
    },
    "papermill": {
     "duration": 0.641202,
     "end_time": "2022-10-19T14:20:26.479846",
     "exception": false,
     "start_time": "2022-10-19T14:20:25.838644",
     "status": "completed"
    },
    "tags": []
   },
   "outputs": [
    {
     "name": "stdout",
     "output_type": "stream",
     "text": [
      "360/360 [==============================] - 1s 1ms/step - loss: 0.0301 - accuracy: 0.9923\n"
     ]
    },
    {
     "data": {
      "text/plain": [
       "[0.030144473537802696, 0.9923484921455383]"
      ]
     },
     "execution_count": 44,
     "metadata": {},
     "output_type": "execute_result"
    }
   ],
   "source": [
    "ann.evaluate(X_test,Y_test)"
   ]
  },
  {
   "cell_type": "code",
   "execution_count": 45,
   "id": "b0e5fe01",
   "metadata": {
    "execution": {
     "iopub.execute_input": "2022-10-19T14:20:26.651832Z",
     "iopub.status.busy": "2022-10-19T14:20:26.651185Z",
     "iopub.status.idle": "2022-10-19T14:20:26.658370Z",
     "shell.execute_reply": "2022-10-19T14:20:26.657487Z"
    },
    "papermill": {
     "duration": 0.095576,
     "end_time": "2022-10-19T14:20:26.660443",
     "exception": false,
     "start_time": "2022-10-19T14:20:26.564867",
     "status": "completed"
    },
    "tags": []
   },
   "outputs": [
    {
     "data": {
      "text/plain": [
       "{'loss': [0.24309778213500977,\n",
       "  0.09723441302776337,\n",
       "  0.07699643820524216,\n",
       "  0.06492576748132706,\n",
       "  0.05687633901834488,\n",
       "  0.05095677077770233,\n",
       "  0.04510675370693207,\n",
       "  0.04129965975880623,\n",
       "  0.038782138377428055,\n",
       "  0.03700737655162811,\n",
       "  0.035608015954494476,\n",
       "  0.03445173054933548,\n",
       "  0.03361913189291954,\n",
       "  0.032974857836961746,\n",
       "  0.03234211355447769],\n",
       " 'accuracy': [0.9129858016967773,\n",
       "  0.9715894460678101,\n",
       "  0.9822406768798828,\n",
       "  0.9845883250236511,\n",
       "  0.9862185716629028,\n",
       "  0.9880445003509521,\n",
       "  0.9895878434181213,\n",
       "  0.990522563457489,\n",
       "  0.9908703565597534,\n",
       "  0.9912181496620178,\n",
       "  0.9915659427642822,\n",
       "  0.9918919801712036,\n",
       "  0.9921963214874268,\n",
       "  0.9920441508293152,\n",
       "  0.9923702478408813],\n",
       " 'val_loss': [0.11317571252584457,\n",
       "  0.08243729174137115,\n",
       "  0.06813739985227585,\n",
       "  0.059147849678993225,\n",
       "  0.05091346800327301,\n",
       "  0.04616902768611908,\n",
       "  0.041739217936992645,\n",
       "  0.03876226022839546,\n",
       "  0.03589104861021042,\n",
       "  0.034745000302791595,\n",
       "  0.033776696771383286,\n",
       "  0.03245752304792404,\n",
       "  0.03120272606611252,\n",
       "  0.030912145972251892,\n",
       "  0.030144475400447845],\n",
       " 'val_accuracy': [0.9401791095733643,\n",
       "  0.9739153385162354,\n",
       "  0.981045126914978,\n",
       "  0.9791322350502014,\n",
       "  0.9835666418075562,\n",
       "  0.9903486371040344,\n",
       "  0.9884358048439026,\n",
       "  0.9911311864852905,\n",
       "  0.9897400140762329,\n",
       "  0.9898269772529602,\n",
       "  0.9892183542251587,\n",
       "  0.9919137358665466,\n",
       "  0.9903486371040344,\n",
       "  0.9923484921455383,\n",
       "  0.9923484921455383]}"
      ]
     },
     "execution_count": 45,
     "metadata": {},
     "output_type": "execute_result"
    }
   ],
   "source": [
    "history.history"
   ]
  },
  {
   "cell_type": "code",
   "execution_count": 46,
   "id": "a83e6fea",
   "metadata": {
    "execution": {
     "iopub.execute_input": "2022-10-19T14:20:26.830912Z",
     "iopub.status.busy": "2022-10-19T14:20:26.829804Z",
     "iopub.status.idle": "2022-10-19T14:20:27.057392Z",
     "shell.execute_reply": "2022-10-19T14:20:27.055917Z"
    },
    "papermill": {
     "duration": 0.315604,
     "end_time": "2022-10-19T14:20:27.059963",
     "exception": false,
     "start_time": "2022-10-19T14:20:26.744359",
     "status": "completed"
    },
    "tags": []
   },
   "outputs": [
    {
     "data": {
      "image/png": "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\n",
      "text/plain": [
       "<Figure size 432x288 with 1 Axes>"
      ]
     },
     "metadata": {
      "needs_background": "light"
     },
     "output_type": "display_data"
    }
   ],
   "source": [
    "plt.title('Loss / Mean Squared Error')\n",
    "plt.plot(history.history['loss'], label='train')\n",
    "plt.plot(history.history['val_loss'], label='test')\n",
    "plt.legend()\n",
    "plt.show()"
   ]
  },
  {
   "cell_type": "markdown",
   "id": "99470777",
   "metadata": {
    "papermill": {
     "duration": 0.083471,
     "end_time": "2022-10-19T14:20:27.228260",
     "exception": false,
     "start_time": "2022-10-19T14:20:27.144789",
     "status": "completed"
    },
    "tags": []
   },
   "source": [
    "# Classification Report"
   ]
  },
  {
   "cell_type": "code",
   "execution_count": 47,
   "id": "8bbc6b37",
   "metadata": {
    "execution": {
     "iopub.execute_input": "2022-10-19T14:20:27.399599Z",
     "iopub.status.busy": "2022-10-19T14:20:27.399202Z",
     "iopub.status.idle": "2022-10-19T14:20:27.411431Z",
     "shell.execute_reply": "2022-10-19T14:20:27.410019Z"
    },
    "papermill": {
     "duration": 0.101495,
     "end_time": "2022-10-19T14:20:27.413993",
     "exception": false,
     "start_time": "2022-10-19T14:20:27.312498",
     "status": "completed"
    },
    "tags": []
   },
   "outputs": [
    {
     "name": "stdout",
     "output_type": "stream",
     "text": [
      "[[3156   68]\n",
      " [  20 8257]]\n"
     ]
    }
   ],
   "source": [
    "print(confusion_matrix(Y_test,y_pred))"
   ]
  },
  {
   "cell_type": "code",
   "execution_count": 48,
   "id": "0f075004",
   "metadata": {
    "execution": {
     "iopub.execute_input": "2022-10-19T14:20:27.586609Z",
     "iopub.status.busy": "2022-10-19T14:20:27.585858Z",
     "iopub.status.idle": "2022-10-19T14:20:27.618593Z",
     "shell.execute_reply": "2022-10-19T14:20:27.616943Z"
    },
    "papermill": {
     "duration": 0.122899,
     "end_time": "2022-10-19T14:20:27.622737",
     "exception": false,
     "start_time": "2022-10-19T14:20:27.499838",
     "status": "completed"
    },
    "tags": []
   },
   "outputs": [
    {
     "name": "stdout",
     "output_type": "stream",
     "text": [
      "              precision    recall  f1-score   support\n",
      "\n",
      "       Alarm       0.99      0.98      0.99      3224\n",
      "    No Alarm       0.99      1.00      0.99      8277\n",
      "\n",
      "    accuracy                           0.99     11501\n",
      "   macro avg       0.99      0.99      0.99     11501\n",
      "weighted avg       0.99      0.99      0.99     11501\n",
      "\n"
     ]
    }
   ],
   "source": [
    "print(classification_report(Y_test, y_pred, target_names=[\"Alarm\", \"No Alarm\"]))"
   ]
  },
  {
   "cell_type": "code",
   "execution_count": null,
   "id": "e4f5c10a",
   "metadata": {
    "papermill": {
     "duration": 0.086692,
     "end_time": "2022-10-19T14:20:27.797373",
     "exception": false,
     "start_time": "2022-10-19T14:20:27.710681",
     "status": "completed"
    },
    "tags": []
   },
   "outputs": [],
   "source": []
  }
 ],
 "metadata": {
  "kernelspec": {
   "display_name": "Python 3",
   "language": "python",
   "name": "python3"
  },
  "language_info": {
   "codemirror_mode": {
    "name": "ipython",
    "version": 3
   },
   "file_extension": ".py",
   "mimetype": "text/x-python",
   "name": "python",
   "nbconvert_exporter": "python",
   "pygments_lexer": "ipython3",
   "version": "3.7.12"
  },
  "papermill": {
   "default_parameters": {},
   "duration": 102.351109,
   "end_time": "2022-10-19T14:20:30.659577",
   "environment_variables": {},
   "exception": null,
   "input_path": "__notebook__.ipynb",
   "output_path": "__notebook__.ipynb",
   "parameters": {},
   "start_time": "2022-10-19T14:18:48.308468",
   "version": "2.3.4"
  }
 },
 "nbformat": 4,
 "nbformat_minor": 5
}
