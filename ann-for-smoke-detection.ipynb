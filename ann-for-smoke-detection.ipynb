{
 "cells": [
  {
   "cell_type": "markdown",
   "id": "2c310532",
   "metadata": {
    "papermill": {
     "duration": 0.02248,
     "end_time": "2022-10-19T14:18:58.335600",
     "exception": false,
     "start_time": "2022-10-19T14:18:58.313120",
     "status": "completed"
    },
    "tags": []
   },
   "source": [
    "# Import packages"
   ]
  },
  {
   "cell_type": "code",
   "execution_count": 1,
   "id": "aebf51ec",
   "metadata": {
    "execution": {
     "iopub.execute_input": "2022-10-19T14:18:58.381748Z",
     "iopub.status.busy": "2022-10-19T14:18:58.380836Z",
     "iopub.status.idle": "2022-10-19T14:19:07.331441Z",
     "shell.execute_reply": "2022-10-19T14:19:07.330045Z"
    },
    "papermill": {
     "duration": 8.976682,
     "end_time": "2022-10-19T14:19:07.334423",
     "exception": false,
     "start_time": "2022-10-19T14:18:58.357741",
     "status": "completed"
    },
    "tags": []
   },
   "outputs": [
    {
     "ename": "ModuleNotFoundError",
     "evalue": "No module named 'tensorflow'",
     "output_type": "error",
     "traceback": [
      "\u001b[0;31m---------------------------------------------------------------------------\u001b[0m",
      "\u001b[0;31mModuleNotFoundError\u001b[0m                       Traceback (most recent call last)",
      "Cell \u001b[0;32mIn [1], line 3\u001b[0m\n\u001b[1;32m      1\u001b[0m \u001b[39mimport\u001b[39;00m \u001b[39mpandas\u001b[39;00m \u001b[39mas\u001b[39;00m \u001b[39mpd\u001b[39;00m\n\u001b[1;32m      2\u001b[0m \u001b[39mimport\u001b[39;00m \u001b[39mnumpy\u001b[39;00m \u001b[39mas\u001b[39;00m \u001b[39mnp\u001b[39;00m\n\u001b[0;32m----> 3\u001b[0m \u001b[39mimport\u001b[39;00m \u001b[39mtensorflow\u001b[39;00m \u001b[39mas\u001b[39;00m \u001b[39mtf\u001b[39;00m\n\u001b[1;32m      4\u001b[0m \u001b[39mfrom\u001b[39;00m \u001b[39mmatplotlib\u001b[39;00m \u001b[39mimport\u001b[39;00m pyplot \u001b[39mas\u001b[39;00m plt\n\u001b[1;32m      5\u001b[0m \u001b[39mimport\u001b[39;00m \u001b[39mseaborn\u001b[39;00m \u001b[39mas\u001b[39;00m \u001b[39msns\u001b[39;00m\n",
      "\u001b[0;31mModuleNotFoundError\u001b[0m: No module named 'tensorflow'"
     ]
    }
   ],
   "source": [
    "import pandas as pd\n",
    "import numpy as np\n",
    "import tensorflow as tf\n",
    "from matplotlib import pyplot as plt\n",
    "import seaborn as sns\n",
    "import plotly.express as px\n",
    "from sklearn.model_selection import train_test_split\n",
    "from sklearn.preprocessing import StandardScaler\n",
    "from sklearn.model_selection import train_test_split\n",
    "from sklearn.naive_bayes import GaussianNB\n",
    "from sklearn.metrics import classification_report\n",
    "from sklearn.metrics import classification_report, confusion_matrix\n",
    "%matplotlib inline"
   ]
  },
  {
   "cell_type": "markdown",
   "id": "9be86409",
   "metadata": {
    "papermill": {
     "duration": 0.013245,
     "end_time": "2022-10-19T14:19:07.361362",
     "exception": false,
     "start_time": "2022-10-19T14:19:07.348117",
     "status": "completed"
    },
    "tags": []
   },
   "source": [
    "# Import data"
   ]
  },
  {
   "cell_type": "code",
   "execution_count": null,
   "id": "a2699d7d",
   "metadata": {
    "execution": {
     "iopub.execute_input": "2022-10-19T14:19:07.390155Z",
     "iopub.status.busy": "2022-10-19T14:19:07.389716Z",
     "iopub.status.idle": "2022-10-19T14:19:07.715649Z",
     "shell.execute_reply": "2022-10-19T14:19:07.714475Z"
    },
    "papermill": {
     "duration": 0.34389,
     "end_time": "2022-10-19T14:19:07.718762",
     "exception": false,
     "start_time": "2022-10-19T14:19:07.374872",
     "status": "completed"
    },
    "tags": []
   },
   "outputs": [
    {
     "ename": "",
     "evalue": "",
     "output_type": "error",
     "traceback": [
      "\u001b[1;31mFailed to start the Kernel. \n",
      "\u001b[1;31m[notice] A new release of pip available: 22.2.2 -> 22.3.1\n",
      "\u001b[1;31m[notice] To update, run: pip install --upgrade pip. \n",
      "\u001b[1;31mView Jupyter <a href='command:jupyter.viewOutput'>log</a> for further details."
     ]
    }
   ],
   "source": [
    "smoke=pd.read_csv(\"/smoke.csv\")"
   ]
  },
  {
   "cell_type": "markdown",
   "id": "b27fb3f6",
   "metadata": {
    "papermill": {
     "duration": 0.013439,
     "end_time": "2022-10-19T14:19:07.745806",
     "exception": false,
     "start_time": "2022-10-19T14:19:07.732367",
     "status": "completed"
    },
    "tags": []
   },
   "source": [
    "# Columns explanation"
   ]
  },
  {
   "cell_type": "markdown",
   "id": "0824831b",
   "metadata": {
    "papermill": {
     "duration": 0.013235,
     "end_time": "2022-10-19T14:19:07.773254",
     "exception": false,
     "start_time": "2022-10-19T14:19:07.760019",
     "status": "completed"
    },
    "tags": []
   },
   "source": [
    "#### Air Temperature\n",
    "#### Air Humidity\n",
    "#### TVOC: Total Volatile Organic Compounds; measured in parts per billion (Source)\n",
    "#### eCO2: co2 equivalent concentration; calculated from different values like TVCO\n",
    "#### Raw H2: raw molecular hydrogen; not compensated (Bias, temperature, etc.)\n",
    "#### Raw Ethanol: raw ethanol gas (Source)\n",
    "#### Air Pressure\n",
    "#### PM 1.0 and PM 2.5: particulate matter size < 1.0 µm (PM1.0). 1.0 µm < 2.5 µm (PM2.5)\n",
    "#### Fire Alarm: ground truth is \"1\" if a fire is there\n",
    "#### CNT: Sample counter\n",
    "#### UTC: Timestamp UTC seconds\n",
    "#### NC0.5/NC1.0 and NC2.5: Number concentration of particulate matter. This differs from PM because NC gives the actual number of particles in the air. The raw NC is also classified by the particle size: < 0.5 µm (NC0.5); 0.5 µm < 1.0 µm (NC1.0); 1.0 µm < 2.5 µm (NC2.5)"
   ]
  },
  {
   "cell_type": "code",
   "execution_count": null,
   "id": "55bf7c92",
   "metadata": {
    "execution": {
     "iopub.execute_input": "2022-10-19T14:19:07.803245Z",
     "iopub.status.busy": "2022-10-19T14:19:07.801878Z",
     "iopub.status.idle": "2022-10-19T14:19:07.842370Z",
     "shell.execute_reply": "2022-10-19T14:19:07.841174Z"
    },
    "papermill": {
     "duration": 0.058346,
     "end_time": "2022-10-19T14:19:07.845307",
     "exception": false,
     "start_time": "2022-10-19T14:19:07.786961",
     "status": "completed"
    },
    "tags": []
   },
   "outputs": [
    {
     "ename": "",
     "evalue": "",
     "output_type": "error",
     "traceback": [
      "\u001b[1;31mFailed to start the Kernel. \n",
      "\u001b[1;31m[notice] A new release of pip available: 22.2.2 -> 22.3.1\n",
      "\u001b[1;31m[notice] To update, run: pip install --upgrade pip. \n",
      "\u001b[1;31mView Jupyter <a href='command:jupyter.viewOutput'>log</a> for further details."
     ]
    }
   ],
   "source": [
    "smoke"
   ]
  },
  {
   "cell_type": "code",
   "execution_count": null,
   "id": "ffe991a3",
   "metadata": {
    "execution": {
     "iopub.execute_input": "2022-10-19T14:19:07.875049Z",
     "iopub.status.busy": "2022-10-19T14:19:07.874691Z",
     "iopub.status.idle": "2022-10-19T14:19:07.975481Z",
     "shell.execute_reply": "2022-10-19T14:19:07.974346Z"
    },
    "papermill": {
     "duration": 0.118498,
     "end_time": "2022-10-19T14:19:07.977978",
     "exception": false,
     "start_time": "2022-10-19T14:19:07.859480",
     "status": "completed"
    },
    "tags": []
   },
   "outputs": [
    {
     "ename": "",
     "evalue": "",
     "output_type": "error",
     "traceback": [
      "\u001b[1;31mFailed to start the Kernel. \n",
      "\u001b[1;31m[notice] A new release of pip available: 22.2.2 -> 22.3.1\n",
      "\u001b[1;31m[notice] To update, run: pip install --upgrade pip. \n",
      "\u001b[1;31mView Jupyter <a href='command:jupyter.viewOutput'>log</a> for further details."
     ]
    }
   ],
   "source": [
    "smoke.describe().transpose()"
   ]
  },
  {
   "cell_type": "code",
   "execution_count": null,
   "id": "a00bee40",
   "metadata": {
    "execution": {
     "iopub.execute_input": "2022-10-19T14:19:08.011548Z",
     "iopub.status.busy": "2022-10-19T14:19:08.009452Z",
     "iopub.status.idle": "2022-10-19T14:19:08.091965Z",
     "shell.execute_reply": "2022-10-19T14:19:08.090842Z"
    },
    "papermill": {
     "duration": 0.102245,
     "end_time": "2022-10-19T14:19:08.094545",
     "exception": false,
     "start_time": "2022-10-19T14:19:07.992300",
     "status": "completed"
    },
    "tags": []
   },
   "outputs": [
    {
     "ename": "",
     "evalue": "",
     "output_type": "error",
     "traceback": [
      "\u001b[1;31mFailed to start the Kernel. \n",
      "\u001b[1;31m[notice] A new release of pip available: 22.2.2 -> 22.3.1\n",
      "\u001b[1;31m[notice] To update, run: pip install --upgrade pip. \n",
      "\u001b[1;31mView Jupyter <a href='command:jupyter.viewOutput'>log</a> for further details."
     ]
    }
   ],
   "source": [
    "smoke.corr()"
   ]
  },
  {
   "cell_type": "code",
   "execution_count": null,
   "id": "cf7706cf",
   "metadata": {
    "execution": {
     "iopub.execute_input": "2022-10-19T14:19:08.126412Z",
     "iopub.status.busy": "2022-10-19T14:19:08.126014Z",
     "iopub.status.idle": "2022-10-19T14:19:08.184588Z",
     "shell.execute_reply": "2022-10-19T14:19:08.183347Z"
    },
    "papermill": {
     "duration": 0.077419,
     "end_time": "2022-10-19T14:19:08.187036",
     "exception": false,
     "start_time": "2022-10-19T14:19:08.109617",
     "status": "completed"
    },
    "tags": []
   },
   "outputs": [
    {
     "ename": "",
     "evalue": "",
     "output_type": "error",
     "traceback": [
      "\u001b[1;31mFailed to start the Kernel. \n",
      "\u001b[1;31m[notice] A new release of pip available: 22.2.2 -> 22.3.1\n",
      "\u001b[1;31m[notice] To update, run: pip install --upgrade pip. \n",
      "\u001b[1;31mView Jupyter <a href='command:jupyter.viewOutput'>log</a> for further details."
     ]
    }
   ],
   "source": [
    "smoke.corr()['Fire Alarm'].sort_values()"
   ]
  },
  {
   "cell_type": "code",
   "execution_count": null,
   "id": "171675b7",
   "metadata": {
    "execution": {
     "iopub.execute_input": "2022-10-19T14:19:08.219337Z",
     "iopub.status.busy": "2022-10-19T14:19:08.218894Z",
     "iopub.status.idle": "2022-10-19T14:19:08.604489Z",
     "shell.execute_reply": "2022-10-19T14:19:08.603249Z"
    },
    "papermill": {
     "duration": 0.405339,
     "end_time": "2022-10-19T14:19:08.607543",
     "exception": false,
     "start_time": "2022-10-19T14:19:08.202204",
     "status": "completed"
    },
    "tags": []
   },
   "outputs": [
    {
     "ename": "",
     "evalue": "",
     "output_type": "error",
     "traceback": [
      "\u001b[1;31mFailed to start the Kernel. \n",
      "\u001b[1;31m[notice] A new release of pip available: 22.2.2 -> 22.3.1\n",
      "\u001b[1;31m[notice] To update, run: pip install --upgrade pip. \n",
      "\u001b[1;31mView Jupyter <a href='command:jupyter.viewOutput'>log</a> for further details."
     ]
    }
   ],
   "source": [
    "smoke.corr()['Fire Alarm'].sort_values().plot(kind='bar')"
   ]
  },
  {
   "cell_type": "code",
   "execution_count": null,
   "id": "81e20a2e",
   "metadata": {
    "execution": {
     "iopub.execute_input": "2022-10-19T14:19:08.640708Z",
     "iopub.status.busy": "2022-10-19T14:19:08.640323Z",
     "iopub.status.idle": "2022-10-19T14:19:08.645916Z",
     "shell.execute_reply": "2022-10-19T14:19:08.644784Z"
    },
    "papermill": {
     "duration": 0.025121,
     "end_time": "2022-10-19T14:19:08.648323",
     "exception": false,
     "start_time": "2022-10-19T14:19:08.623202",
     "status": "completed"
    },
    "tags": []
   },
   "outputs": [
    {
     "ename": "",
     "evalue": "",
     "output_type": "error",
     "traceback": [
      "\u001b[1;31mFailed to start the Kernel. \n",
      "\u001b[1;31m[notice] A new release of pip available: 22.2.2 -> 22.3.1\n",
      "\u001b[1;31m[notice] To update, run: pip install --upgrade pip. \n",
      "\u001b[1;31mView Jupyter <a href='command:jupyter.viewOutput'>log</a> for further details."
     ]
    }
   ],
   "source": [
    "cols=['Unnamed: 0' , 'CNT' , 'Raw Ethanol', 'Pressure[hPa]', 'UTC' ,'Humidity[%]' , 'PM1.0', 'PM1.0' , 'NC0.5' ,'NC1.0' ,'NC2.5']"
   ]
  },
  {
   "cell_type": "code",
   "execution_count": null,
   "id": "64b61c8d",
   "metadata": {
    "execution": {
     "iopub.execute_input": "2022-10-19T14:19:08.682699Z",
     "iopub.status.busy": "2022-10-19T14:19:08.681745Z",
     "iopub.status.idle": "2022-10-19T14:19:08.689937Z",
     "shell.execute_reply": "2022-10-19T14:19:08.688502Z"
    },
    "papermill": {
     "duration": 0.028335,
     "end_time": "2022-10-19T14:19:08.692810",
     "exception": false,
     "start_time": "2022-10-19T14:19:08.664475",
     "status": "completed"
    },
    "tags": []
   },
   "outputs": [
    {
     "ename": "",
     "evalue": "",
     "output_type": "error",
     "traceback": [
      "\u001b[1;31mFailed to start the Kernel. \n",
      "\u001b[1;31m[notice] A new release of pip available: 22.2.2 -> 22.3.1\n",
      "\u001b[1;31m[notice] To update, run: pip install --upgrade pip. \n",
      "\u001b[1;31mView Jupyter <a href='command:jupyter.viewOutput'>log</a> for further details."
     ]
    }
   ],
   "source": [
    "smoke.drop(cols, axis=1, inplace=True) "
   ]
  },
  {
   "cell_type": "code",
   "execution_count": null,
   "id": "ef98be7f",
   "metadata": {
    "execution": {
     "iopub.execute_input": "2022-10-19T14:19:08.726083Z",
     "iopub.status.busy": "2022-10-19T14:19:08.725666Z",
     "iopub.status.idle": "2022-10-19T14:19:08.732840Z",
     "shell.execute_reply": "2022-10-19T14:19:08.731539Z"
    },
    "papermill": {
     "duration": 0.027035,
     "end_time": "2022-10-19T14:19:08.735435",
     "exception": false,
     "start_time": "2022-10-19T14:19:08.708400",
     "status": "completed"
    },
    "tags": []
   },
   "outputs": [
    {
     "ename": "",
     "evalue": "",
     "output_type": "error",
     "traceback": [
      "\u001b[1;31mFailed to start the Kernel. \n",
      "\u001b[1;31m[notice] A new release of pip available: 22.2.2 -> 22.3.1\n",
      "\u001b[1;31m[notice] To update, run: pip install --upgrade pip. \n",
      "\u001b[1;31mView Jupyter <a href='command:jupyter.viewOutput'>log</a> for further details."
     ]
    }
   ],
   "source": [
    "smoke.shape"
   ]
  },
  {
   "cell_type": "code",
   "execution_count": null,
   "id": "580fdb33",
   "metadata": {
    "execution": {
     "iopub.execute_input": "2022-10-19T14:19:08.769234Z",
     "iopub.status.busy": "2022-10-19T14:19:08.768817Z",
     "iopub.status.idle": "2022-10-19T14:19:08.778696Z",
     "shell.execute_reply": "2022-10-19T14:19:08.777741Z"
    },
    "papermill": {
     "duration": 0.029663,
     "end_time": "2022-10-19T14:19:08.780834",
     "exception": false,
     "start_time": "2022-10-19T14:19:08.751171",
     "status": "completed"
    },
    "tags": []
   },
   "outputs": [
    {
     "ename": "",
     "evalue": "",
     "output_type": "error",
     "traceback": [
      "\u001b[1;31mFailed to start the Kernel. \n",
      "\u001b[1;31m[notice] A new release of pip available: 22.2.2 -> 22.3.1\n",
      "\u001b[1;31m[notice] To update, run: pip install --upgrade pip. \n",
      "\u001b[1;31mView Jupyter <a href='command:jupyter.viewOutput'>log</a> for further details."
     ]
    }
   ],
   "source": [
    "smoke[\"Fire Alarm\"].value_counts()"
   ]
  },
  {
   "cell_type": "code",
   "execution_count": null,
   "id": "53f192ae",
   "metadata": {
    "execution": {
     "iopub.execute_input": "2022-10-19T14:19:08.814327Z",
     "iopub.status.busy": "2022-10-19T14:19:08.813848Z",
     "iopub.status.idle": "2022-10-19T14:19:08.832377Z",
     "shell.execute_reply": "2022-10-19T14:19:08.830954Z"
    },
    "papermill": {
     "duration": 0.038629,
     "end_time": "2022-10-19T14:19:08.835251",
     "exception": false,
     "start_time": "2022-10-19T14:19:08.796622",
     "status": "completed"
    },
    "tags": []
   },
   "outputs": [
    {
     "ename": "",
     "evalue": "",
     "output_type": "error",
     "traceback": [
      "\u001b[1;31mFailed to start the Kernel. \n",
      "\u001b[1;31m[notice] A new release of pip available: 22.2.2 -> 22.3.1\n",
      "\u001b[1;31m[notice] To update, run: pip install --upgrade pip. \n",
      "\u001b[1;31mView Jupyter <a href='command:jupyter.viewOutput'>log</a> for further details."
     ]
    }
   ],
   "source": [
    "smoke.info()"
   ]
  },
  {
   "cell_type": "markdown",
   "id": "a1b2dccf",
   "metadata": {
    "papermill": {
     "duration": 0.015735,
     "end_time": "2022-10-19T14:19:08.867458",
     "exception": false,
     "start_time": "2022-10-19T14:19:08.851723",
     "status": "completed"
    },
    "tags": []
   },
   "source": [
    "# Null values detection"
   ]
  },
  {
   "cell_type": "code",
   "execution_count": null,
   "id": "885be020",
   "metadata": {
    "execution": {
     "iopub.execute_input": "2022-10-19T14:19:08.901227Z",
     "iopub.status.busy": "2022-10-19T14:19:08.900751Z",
     "iopub.status.idle": "2022-10-19T14:19:08.912327Z",
     "shell.execute_reply": "2022-10-19T14:19:08.910823Z"
    },
    "papermill": {
     "duration": 0.030943,
     "end_time": "2022-10-19T14:19:08.914734",
     "exception": false,
     "start_time": "2022-10-19T14:19:08.883791",
     "status": "completed"
    },
    "tags": []
   },
   "outputs": [
    {
     "ename": "",
     "evalue": "",
     "output_type": "error",
     "traceback": [
      "\u001b[1;31mFailed to start the Kernel. \n",
      "\u001b[1;31m[notice] A new release of pip available: 22.2.2 -> 22.3.1\n",
      "\u001b[1;31m[notice] To update, run: pip install --upgrade pip. \n",
      "\u001b[1;31mView Jupyter <a href='command:jupyter.viewOutput'>log</a> for further details."
     ]
    }
   ],
   "source": [
    "smoke.isnull().sum()"
   ]
  },
  {
   "cell_type": "markdown",
   "id": "77586e8f",
   "metadata": {
    "execution": {
     "iopub.execute_input": "2022-10-15T14:40:38.218393Z",
     "iopub.status.busy": "2022-10-15T14:40:38.218062Z",
     "iopub.status.idle": "2022-10-15T14:40:38.223001Z",
     "shell.execute_reply": "2022-10-15T14:40:38.221315Z",
     "shell.execute_reply.started": "2022-10-15T14:40:38.218368Z"
    },
    "papermill": {
     "duration": 0.015626,
     "end_time": "2022-10-19T14:19:08.946240",
     "exception": false,
     "start_time": "2022-10-19T14:19:08.930614",
     "status": "completed"
    },
    "tags": []
   },
   "source": [
    "# Outliers detection"
   ]
  },
  {
   "cell_type": "code",
   "execution_count": null,
   "id": "906395f0",
   "metadata": {
    "execution": {
     "iopub.execute_input": "2022-10-19T14:19:08.980867Z",
     "iopub.status.busy": "2022-10-19T14:19:08.980475Z",
     "iopub.status.idle": "2022-10-19T14:19:10.879841Z",
     "shell.execute_reply": "2022-10-19T14:19:10.878414Z"
    },
    "papermill": {
     "duration": 1.920968,
     "end_time": "2022-10-19T14:19:10.883027",
     "exception": false,
     "start_time": "2022-10-19T14:19:08.962059",
     "status": "completed"
    },
    "tags": []
   },
   "outputs": [
    {
     "ename": "",
     "evalue": "",
     "output_type": "error",
     "traceback": [
      "\u001b[1;31mFailed to start the Kernel. \n",
      "\u001b[1;31m[notice] A new release of pip available: 22.2.2 -> 22.3.1\n",
      "\u001b[1;31m[notice] To update, run: pip install --upgrade pip. \n",
      "\u001b[1;31mView Jupyter <a href='command:jupyter.viewOutput'>log</a> for further details."
     ]
    }
   ],
   "source": [
    "smoke.plot(kind='box', subplots=True, layout=(8,5), figsize=(17,20))"
   ]
  },
  {
   "cell_type": "code",
   "execution_count": null,
   "id": "4ed1a21f",
   "metadata": {
    "execution": {
     "iopub.execute_input": "2022-10-19T14:19:10.919518Z",
     "iopub.status.busy": "2022-10-19T14:19:10.919078Z",
     "iopub.status.idle": "2022-10-19T14:19:10.923841Z",
     "shell.execute_reply": "2022-10-19T14:19:10.922668Z"
    },
    "papermill": {
     "duration": 0.025192,
     "end_time": "2022-10-19T14:19:10.926432",
     "exception": false,
     "start_time": "2022-10-19T14:19:10.901240",
     "status": "completed"
    },
    "tags": []
   },
   "outputs": [
    {
     "ename": "",
     "evalue": "",
     "output_type": "error",
     "traceback": [
      "\u001b[1;31mFailed to start the Kernel. \n",
      "\u001b[1;31m[notice] A new release of pip available: 22.2.2 -> 22.3.1\n",
      "\u001b[1;31m[notice] To update, run: pip install --upgrade pip. \n",
      "\u001b[1;31mView Jupyter <a href='command:jupyter.viewOutput'>log</a> for further details."
     ]
    }
   ],
   "source": [
    "col = smoke.columns"
   ]
  },
  {
   "cell_type": "code",
   "execution_count": null,
   "id": "97cb4218",
   "metadata": {
    "execution": {
     "iopub.execute_input": "2022-10-19T14:19:10.962943Z",
     "iopub.status.busy": "2022-10-19T14:19:10.962562Z",
     "iopub.status.idle": "2022-10-19T14:19:10.968266Z",
     "shell.execute_reply": "2022-10-19T14:19:10.967235Z"
    },
    "papermill": {
     "duration": 0.027001,
     "end_time": "2022-10-19T14:19:10.970705",
     "exception": false,
     "start_time": "2022-10-19T14:19:10.943704",
     "status": "completed"
    },
    "tags": []
   },
   "outputs": [
    {
     "ename": "",
     "evalue": "",
     "output_type": "error",
     "traceback": [
      "\u001b[1;31mFailed to start the Kernel. \n",
      "\u001b[1;31m[notice] A new release of pip available: 22.2.2 -> 22.3.1\n",
      "\u001b[1;31m[notice] To update, run: pip install --upgrade pip. \n",
      "\u001b[1;31mView Jupyter <a href='command:jupyter.viewOutput'>log</a> for further details."
     ]
    }
   ],
   "source": [
    "def remove_outlier(col):\n",
    "    sorted(col)\n",
    "    Q1,Q3=np.percentile(col,[25,75])\n",
    "    IQR=Q3-Q1\n",
    "    lower_range= Q1-(1.5 * IQR)\n",
    "    upper_range= Q3+(1.5 * IQR)\n",
    "    return lower_range, upper_range"
   ]
  },
  {
   "cell_type": "code",
   "execution_count": null,
   "id": "a171f26b",
   "metadata": {
    "execution": {
     "iopub.execute_input": "2022-10-19T14:19:11.009532Z",
     "iopub.status.busy": "2022-10-19T14:19:11.008455Z",
     "iopub.status.idle": "2022-10-19T14:19:11.019120Z",
     "shell.execute_reply": "2022-10-19T14:19:11.018096Z"
    },
    "papermill": {
     "duration": 0.032722,
     "end_time": "2022-10-19T14:19:11.021901",
     "exception": false,
     "start_time": "2022-10-19T14:19:10.989179",
     "status": "completed"
    },
    "tags": []
   },
   "outputs": [
    {
     "ename": "",
     "evalue": "",
     "output_type": "error",
     "traceback": [
      "\u001b[1;31mFailed to start the Kernel. \n",
      "\u001b[1;31m[notice] A new release of pip available: 22.2.2 -> 22.3.1\n",
      "\u001b[1;31m[notice] To update, run: pip install --upgrade pip. \n",
      "\u001b[1;31mView Jupyter <a href='command:jupyter.viewOutput'>log</a> for further details."
     ]
    }
   ],
   "source": [
    "smoke_df=smoke.copy()\n",
    "df0=smoke[smoke['Fire Alarm']==0.0]\n",
    "df1=smoke[smoke['Fire Alarm']==1.0]"
   ]
  },
  {
   "cell_type": "code",
   "execution_count": null,
   "id": "642d68a7",
   "metadata": {
    "execution": {
     "iopub.execute_input": "2022-10-19T14:19:11.060245Z",
     "iopub.status.busy": "2022-10-19T14:19:11.059622Z",
     "iopub.status.idle": "2022-10-19T14:19:11.248043Z",
     "shell.execute_reply": "2022-10-19T14:19:11.246595Z"
    },
    "papermill": {
     "duration": 0.211639,
     "end_time": "2022-10-19T14:19:11.251408",
     "exception": false,
     "start_time": "2022-10-19T14:19:11.039769",
     "status": "completed"
    },
    "tags": []
   },
   "outputs": [
    {
     "ename": "",
     "evalue": "",
     "output_type": "error",
     "traceback": [
      "\u001b[1;31mFailed to start the Kernel. \n",
      "\u001b[1;31m[notice] A new release of pip available: 22.2.2 -> 22.3.1\n",
      "\u001b[1;31m[notice] To update, run: pip install --upgrade pip. \n",
      "\u001b[1;31mView Jupyter <a href='command:jupyter.viewOutput'>log</a> for further details."
     ]
    }
   ],
   "source": [
    "dec={\"Colume\":[],\"outliers\":[],\"u_range\":[] , 'l_range':[] ,\"upper\":[] , 'lower':[] ,\n",
    "     \"Nu_range\":[] , 'Nl_range':[] ,\"N_upper\":[] , 'N_lower':[] \n",
    "    }\n",
    "for column in smoke.iloc[:,:-1].columns:\n",
    "    lr,ur=remove_outlier(df0[column])\n",
    "    u_data=(smoke_df[(smoke_df['Fire Alarm']==0)&(smoke_df[column] > ur)])[column]\n",
    "    l_data=(moke_df[(smoke_df['Fire Alarm']==0)&(smoke_df[column] < lr)])[column]\n",
    "    dec['Colume'].append(column + \" 0\")\n",
    "    dec['outliers'].append(len(u_data)+len(l_data))\n",
    "    dec['upper'].append(len(u_data))\n",
    "    dec['lower'].append(len(l_data))\n",
    "    dec['u_range'].append(ur)\n",
    "    dec['l_range'].append(lr)\n",
    "    \n",
    "    if not u_data.empty:\n",
    "        u_data=sorted(u_data)\n",
    "        index=int(round(len(u_data)*0.7,0))\n",
    "        ur=u_data[index]\n",
    "        dec['N_upper'].append(len(u_data[index:]))\n",
    "    else:\n",
    "        dec['N_upper'].append(len(u_data))\n",
    "        \n",
    "    if not l_data.empty:\n",
    "        l_data=sorted(l_data)\n",
    "        index=int(round(len(l_data)*0.3,0))\n",
    "        lr=l_data[index]\n",
    "        dec['N_lower'].append(len(l_data[:index]))\n",
    "    else:\n",
    "        dec['N_lower'].append(len(l_data))\n",
    "        \n",
    "    index=(smoke_df[(smoke_df['Fire Alarm']==0)&((smoke_df[column] < lr)|(smoke_df[column] > ur))]).index\n",
    "    index=index.to_list()\n",
    "    \n",
    "    dec['Nu_range'].append(ur)\n",
    "    dec['Nl_range'].append(lr)\n",
    "    \n",
    "    smoke_df.drop(index,inplace=True)\n",
    "    \n",
    "    lr,ur=remove_outlier(df1[column])\n",
    "    u_data=(smoke_df[(smoke_df['Fire Alarm']==1)&(smoke_df[column] > ur)])[column]\n",
    "    l_data=(smoke_df[(smoke_df['Fire Alarm']==1)&(smoke_df[column] < lr)])[column]\n",
    "    dec['Colume'].append(column + \" 1\")\n",
    "    dec['outliers'].append(len(u_data)+len(l_data))\n",
    "    dec['upper'].append(len(u_data))\n",
    "    dec['lower'].append(len(l_data))\n",
    "    dec['u_range'].append(ur)\n",
    "    dec['l_range'].append(lr)\n",
    "    \n",
    "    if not u_data.empty:\n",
    "        u_data=sorted(u_data)\n",
    "        index=int(round(len(u_data)*0.7,0))\n",
    "        ur=u_data[index]\n",
    "        dec['N_upper'].append(len(u_data[index:]))\n",
    "    else:\n",
    "        dec['N_upper'].append(len(u_data))\n",
    "        \n",
    "    if not l_data.empty:\n",
    "        l_data=sorted(l_data)\n",
    "        index=int(round(len(l_data)*0.3,0))\n",
    "        lr=l_data[index]\n",
    "        dec['N_lower'].append(len(l_data[:index]))\n",
    "    else:\n",
    "        dec['N_lower'].append(len(l_data))\n",
    "        \n",
    "        \n",
    "    index=(smoke_df[(smoke_df['Fire Alarm']==1)&((smoke_df[column] < lr)|(smoke_df[column] > ur))]).index\n",
    "    index=index.to_list()\n",
    "    \n",
    "    dec['Nu_range'].append(ur)\n",
    "    dec['Nl_range'].append(lr)\n",
    "    \n",
    "    smoke_df.drop(index,inplace=True)\n",
    "    "
   ]
  },
  {
   "cell_type": "code",
   "execution_count": null,
   "id": "2ff9a949",
   "metadata": {
    "execution": {
     "iopub.execute_input": "2022-10-19T14:19:11.291648Z",
     "iopub.status.busy": "2022-10-19T14:19:11.290900Z",
     "iopub.status.idle": "2022-10-19T14:19:11.298178Z",
     "shell.execute_reply": "2022-10-19T14:19:11.296977Z"
    },
    "papermill": {
     "duration": 0.030451,
     "end_time": "2022-10-19T14:19:11.300843",
     "exception": false,
     "start_time": "2022-10-19T14:19:11.270392",
     "status": "completed"
    },
    "tags": []
   },
   "outputs": [
    {
     "ename": "",
     "evalue": "",
     "output_type": "error",
     "traceback": [
      "\u001b[1;31mFailed to start the Kernel. \n",
      "\u001b[1;31m[notice] A new release of pip available: 22.2.2 -> 22.3.1\n",
      "\u001b[1;31m[notice] To update, run: pip install --upgrade pip. \n",
      "\u001b[1;31mView Jupyter <a href='command:jupyter.viewOutput'>log</a> for further details."
     ]
    }
   ],
   "source": [
    "data_df.shape"
   ]
  },
  {
   "cell_type": "markdown",
   "id": "293ebfe3",
   "metadata": {
    "papermill": {
     "duration": 0.01934,
     "end_time": "2022-10-19T14:19:11.338827",
     "exception": false,
     "start_time": "2022-10-19T14:19:11.319487",
     "status": "completed"
    },
    "tags": []
   },
   "source": [
    "# EDA"
   ]
  },
  {
   "cell_type": "code",
   "execution_count": null,
   "id": "a957a103",
   "metadata": {
    "execution": {
     "iopub.execute_input": "2022-10-19T14:19:11.377942Z",
     "iopub.status.busy": "2022-10-19T14:19:11.377550Z",
     "iopub.status.idle": "2022-10-19T14:19:11.573773Z",
     "shell.execute_reply": "2022-10-19T14:19:11.572569Z"
    },
    "papermill": {
     "duration": 0.218536,
     "end_time": "2022-10-19T14:19:11.576873",
     "exception": false,
     "start_time": "2022-10-19T14:19:11.358337",
     "status": "completed"
    },
    "tags": []
   },
   "outputs": [
    {
     "ename": "",
     "evalue": "",
     "output_type": "error",
     "traceback": [
      "\u001b[1;31mFailed to start the Kernel. \n",
      "\u001b[1;31m[notice] A new release of pip available: 22.2.2 -> 22.3.1\n",
      "\u001b[1;31m[notice] To update, run: pip install --upgrade pip. \n",
      "\u001b[1;31mView Jupyter <a href='command:jupyter.viewOutput'>log</a> for further details."
     ]
    }
   ],
   "source": [
    "sns.countplot(x='Fire Alarm',data=smoke)"
   ]
  },
  {
   "cell_type": "code",
   "execution_count": null,
   "id": "e7e52725",
   "metadata": {
    "execution": {
     "iopub.execute_input": "2022-10-19T14:19:11.615395Z",
     "iopub.status.busy": "2022-10-19T14:19:11.614971Z",
     "iopub.status.idle": "2022-10-19T14:19:12.534828Z",
     "shell.execute_reply": "2022-10-19T14:19:12.533477Z"
    },
    "papermill": {
     "duration": 0.941348,
     "end_time": "2022-10-19T14:19:12.537443",
     "exception": false,
     "start_time": "2022-10-19T14:19:11.596095",
     "status": "completed"
    },
    "tags": []
   },
   "outputs": [
    {
     "ename": "",
     "evalue": "",
     "output_type": "error",
     "traceback": [
      "\u001b[1;31mFailed to start the Kernel. \n",
      "\u001b[1;31m[notice] A new release of pip available: 22.2.2 -> 22.3.1\n",
      "\u001b[1;31m[notice] To update, run: pip install --upgrade pip. \n",
      "\u001b[1;31mView Jupyter <a href='command:jupyter.viewOutput'>log</a> for further details."
     ]
    }
   ],
   "source": [
    "cols = list(smoke_df.columns)\n",
    "cols_df=cols[1:]\n",
    "plt.figure(figsize=(10,30))\n",
    "for i in range(len(cols_df)):\n",
    "    plt.subplot(8,3,i+1)\n",
    "    plt.title(cols_df[i])\n",
    "    plt.xticks(rotation=45)\n",
    "    plt.hist(smoke[cols_df[i]])\n",
    "    \n",
    "plt.tight_layout()"
   ]
  },
  {
   "cell_type": "code",
   "execution_count": null,
   "id": "acf82800",
   "metadata": {
    "execution": {
     "iopub.execute_input": "2022-10-19T14:19:12.578248Z",
     "iopub.status.busy": "2022-10-19T14:19:12.576960Z",
     "iopub.status.idle": "2022-10-19T14:19:13.480014Z",
     "shell.execute_reply": "2022-10-19T14:19:13.478559Z"
    },
    "papermill": {
     "duration": 0.926417,
     "end_time": "2022-10-19T14:19:13.483238",
     "exception": false,
     "start_time": "2022-10-19T14:19:12.556821",
     "status": "completed"
    },
    "tags": []
   },
   "outputs": [
    {
     "ename": "",
     "evalue": "",
     "output_type": "error",
     "traceback": [
      "\u001b[1;31mFailed to start the Kernel. \n",
      "\u001b[1;31m[notice] A new release of pip available: 22.2.2 -> 22.3.1\n",
      "\u001b[1;31m[notice] To update, run: pip install --upgrade pip. \n",
      "\u001b[1;31mView Jupyter <a href='command:jupyter.viewOutput'>log</a> for further details."
     ]
    }
   ],
   "source": [
    "cols = list(smoke_df.columns)\n",
    "cols_df=cols[1:]\n",
    "plt.figure(figsize=(10,30))\n",
    "for i in range(len(cols_df)):\n",
    "    plt.subplot(8,3,i+1)\n",
    "    plt.title(cols_df[i])\n",
    "    plt.xticks(rotation=45)\n",
    "    plt.hist(smoke[cols_df[i]])\n",
    "    \n",
    "plt.tight_layout()"
   ]
  },
  {
   "cell_type": "code",
   "execution_count": null,
   "id": "a515de10",
   "metadata": {
    "execution": {
     "iopub.execute_input": "2022-10-19T14:19:13.523364Z",
     "iopub.status.busy": "2022-10-19T14:19:13.522051Z",
     "iopub.status.idle": "2022-10-19T14:19:16.089162Z",
     "shell.execute_reply": "2022-10-19T14:19:16.087726Z"
    },
    "papermill": {
     "duration": 2.58987,
     "end_time": "2022-10-19T14:19:16.092077",
     "exception": false,
     "start_time": "2022-10-19T14:19:13.502207",
     "status": "completed"
    },
    "tags": []
   },
   "outputs": [
    {
     "ename": "",
     "evalue": "",
     "output_type": "error",
     "traceback": [
      "\u001b[1;31mFailed to start the Kernel. \n",
      "\u001b[1;31m[notice] A new release of pip available: 22.2.2 -> 22.3.1\n",
      "\u001b[1;31m[notice] To update, run: pip install --upgrade pip. \n",
      "\u001b[1;31mView Jupyter <a href='command:jupyter.viewOutput'>log</a> for further details."
     ]
    }
   ],
   "source": [
    "sns.jointplot(x=\"PM2.5\", y=\"Fire Alarm\",  data=smoke_df, height=6, ratio=2, color=\"yellow\")"
   ]
  },
  {
   "cell_type": "code",
   "execution_count": null,
   "id": "a9cc5f4c",
   "metadata": {
    "execution": {
     "iopub.execute_input": "2022-10-19T14:19:16.131173Z",
     "iopub.status.busy": "2022-10-19T14:19:16.130709Z",
     "iopub.status.idle": "2022-10-19T14:19:17.155157Z",
     "shell.execute_reply": "2022-10-19T14:19:17.153972Z"
    },
    "papermill": {
     "duration": 1.046812,
     "end_time": "2022-10-19T14:19:17.157752",
     "exception": false,
     "start_time": "2022-10-19T14:19:16.110940",
     "status": "completed"
    },
    "tags": []
   },
   "outputs": [
    {
     "ename": "",
     "evalue": "",
     "output_type": "error",
     "traceback": [
      "\u001b[1;31mFailed to start the Kernel. \n",
      "\u001b[1;31m[notice] A new release of pip available: 22.2.2 -> 22.3.1\n",
      "\u001b[1;31m[notice] To update, run: pip install --upgrade pip. \n",
      "\u001b[1;31mView Jupyter <a href='command:jupyter.viewOutput'>log</a> for further details."
     ]
    }
   ],
   "source": [
    "sns.jointplot(x=\"Raw H2\", y=\"Fire Alarm\",  data=data_df, height=6, ratio=2, color=\"blue\")"
   ]
  },
  {
   "cell_type": "code",
   "execution_count": null,
   "id": "1991e087",
   "metadata": {
    "execution": {
     "iopub.execute_input": "2022-10-19T14:19:17.197272Z",
     "iopub.status.busy": "2022-10-19T14:19:17.196827Z",
     "iopub.status.idle": "2022-10-19T14:19:18.502822Z",
     "shell.execute_reply": "2022-10-19T14:19:18.501365Z"
    },
    "papermill": {
     "duration": 1.329282,
     "end_time": "2022-10-19T14:19:18.505915",
     "exception": false,
     "start_time": "2022-10-19T14:19:17.176633",
     "status": "completed"
    },
    "tags": []
   },
   "outputs": [
    {
     "ename": "",
     "evalue": "",
     "output_type": "error",
     "traceback": [
      "\u001b[1;31mFailed to start the Kernel. \n",
      "\u001b[1;31m[notice] A new release of pip available: 22.2.2 -> 22.3.1\n",
      "\u001b[1;31m[notice] To update, run: pip install --upgrade pip. \n",
      "\u001b[1;31mView Jupyter <a href='command:jupyter.viewOutput'>log</a> for further details."
     ]
    }
   ],
   "source": [
    "sns.jointplot(x=\"eCO2[ppm]\", y=\"Fire Alarm\",  data=smoke_df, height=6, ratio=2, color=\"lime\")\n",
    "#Temperature[C]"
   ]
  },
  {
   "cell_type": "code",
   "execution_count": null,
   "id": "07d499e6",
   "metadata": {
    "execution": {
     "iopub.execute_input": "2022-10-19T14:19:18.547732Z",
     "iopub.status.busy": "2022-10-19T14:19:18.546018Z",
     "iopub.status.idle": "2022-10-19T14:19:20.172344Z",
     "shell.execute_reply": "2022-10-19T14:19:20.171428Z"
    },
    "papermill": {
     "duration": 1.64984,
     "end_time": "2022-10-19T14:19:20.175069",
     "exception": false,
     "start_time": "2022-10-19T14:19:18.525229",
     "status": "completed"
    },
    "tags": []
   },
   "outputs": [
    {
     "ename": "",
     "evalue": "",
     "output_type": "error",
     "traceback": [
      "\u001b[1;31mFailed to start the Kernel. \n",
      "\u001b[1;31m[notice] A new release of pip available: 22.2.2 -> 22.3.1\n",
      "\u001b[1;31m[notice] To update, run: pip install --upgrade pip. \n",
      "\u001b[1;31mView Jupyter <a href='command:jupyter.viewOutput'>log</a> for further details."
     ]
    }
   ],
   "source": [
    "sns.jointplot(x=\"TVOC[ppb]\", y=\"Fire Alarm\",  data=smoke_df, height=6, ratio=2, color=\"lime\")"
   ]
  },
  {
   "cell_type": "code",
   "execution_count": null,
   "id": "29ec2a59",
   "metadata": {
    "execution": {
     "iopub.execute_input": "2022-10-19T14:19:20.215919Z",
     "iopub.status.busy": "2022-10-19T14:19:20.215208Z",
     "iopub.status.idle": "2022-10-19T14:19:20.658517Z",
     "shell.execute_reply": "2022-10-19T14:19:20.657204Z"
    },
    "papermill": {
     "duration": 0.46722,
     "end_time": "2022-10-19T14:19:20.661622",
     "exception": false,
     "start_time": "2022-10-19T14:19:20.194402",
     "status": "completed"
    },
    "tags": []
   },
   "outputs": [
    {
     "ename": "",
     "evalue": "",
     "output_type": "error",
     "traceback": [
      "\u001b[1;31mFailed to start the Kernel. \n",
      "\u001b[1;31m[notice] A new release of pip available: 22.2.2 -> 22.3.1\n",
      "\u001b[1;31m[notice] To update, run: pip install --upgrade pip. \n",
      "\u001b[1;31mView Jupyter <a href='command:jupyter.viewOutput'>log</a> for further details."
     ]
    }
   ],
   "source": [
    "plt.scatter(smoke_df[\"Raw H2\"], smoke_df[\"Fire Alarm\"])"
   ]
  },
  {
   "cell_type": "code",
   "execution_count": null,
   "id": "e6170956",
   "metadata": {
    "execution": {
     "iopub.execute_input": "2022-10-19T14:19:20.704870Z",
     "iopub.status.busy": "2022-10-19T14:19:20.704431Z",
     "iopub.status.idle": "2022-10-19T14:19:21.140191Z",
     "shell.execute_reply": "2022-10-19T14:19:21.138946Z"
    },
    "papermill": {
     "duration": 0.46033,
     "end_time": "2022-10-19T14:19:21.142964",
     "exception": false,
     "start_time": "2022-10-19T14:19:20.682634",
     "status": "completed"
    },
    "tags": []
   },
   "outputs": [
    {
     "ename": "",
     "evalue": "",
     "output_type": "error",
     "traceback": [
      "\u001b[1;31mFailed to start the Kernel. \n",
      "\u001b[1;31m[notice] A new release of pip available: 22.2.2 -> 22.3.1\n",
      "\u001b[1;31m[notice] To update, run: pip install --upgrade pip. \n",
      "\u001b[1;31mView Jupyter <a href='command:jupyter.viewOutput'>log</a> for further details."
     ]
    }
   ],
   "source": [
    "plt.scatter(smoke_df[\"eCO2[ppm]\"], smoke_df[\"Fire Alarm\"])"
   ]
  },
  {
   "cell_type": "code",
   "execution_count": null,
   "id": "4f7c8455",
   "metadata": {
    "execution": {
     "iopub.execute_input": "2022-10-19T14:19:21.186439Z",
     "iopub.status.busy": "2022-10-19T14:19:21.185338Z",
     "iopub.status.idle": "2022-10-19T14:19:21.608517Z",
     "shell.execute_reply": "2022-10-19T14:19:21.607311Z"
    },
    "papermill": {
     "duration": 0.446888,
     "end_time": "2022-10-19T14:19:21.610981",
     "exception": false,
     "start_time": "2022-10-19T14:19:21.164093",
     "status": "completed"
    },
    "tags": []
   },
   "outputs": [
    {
     "ename": "",
     "evalue": "",
     "output_type": "error",
     "traceback": [
      "\u001b[1;31mFailed to start the Kernel. \n",
      "\u001b[1;31m[notice] A new release of pip available: 22.2.2 -> 22.3.1\n",
      "\u001b[1;31m[notice] To update, run: pip install --upgrade pip. \n",
      "\u001b[1;31mView Jupyter <a href='command:jupyter.viewOutput'>log</a> for further details."
     ]
    }
   ],
   "source": [
    "plt.scatter(smoke_df[\"TVOC[ppb]\"], smoke_df[\"Fire Alarm\"])"
   ]
  },
  {
   "cell_type": "code",
   "execution_count": null,
   "id": "12d2a94d",
   "metadata": {
    "execution": {
     "iopub.execute_input": "2022-10-19T14:19:21.655470Z",
     "iopub.status.busy": "2022-10-19T14:19:21.654236Z",
     "iopub.status.idle": "2022-10-19T14:19:22.071940Z",
     "shell.execute_reply": "2022-10-19T14:19:22.070698Z"
    },
    "papermill": {
     "duration": 0.443363,
     "end_time": "2022-10-19T14:19:22.074470",
     "exception": false,
     "start_time": "2022-10-19T14:19:21.631107",
     "status": "completed"
    },
    "tags": []
   },
   "outputs": [
    {
     "ename": "",
     "evalue": "",
     "output_type": "error",
     "traceback": [
      "\u001b[1;31mFailed to start the Kernel. \n",
      "\u001b[1;31m[notice] A new release of pip available: 22.2.2 -> 22.3.1\n",
      "\u001b[1;31m[notice] To update, run: pip install --upgrade pip. \n",
      "\u001b[1;31mView Jupyter <a href='command:jupyter.viewOutput'>log</a> for further details."
     ]
    }
   ],
   "source": [
    "plt.scatter(smoke_df[\"PM2.5\"], smoke_df[\"Fire Alarm\"])"
   ]
  },
  {
   "cell_type": "markdown",
   "id": "86143e0d",
   "metadata": {
    "papermill": {
     "duration": 0.020282,
     "end_time": "2022-10-19T14:19:22.115550",
     "exception": false,
     "start_time": "2022-10-19T14:19:22.095268",
     "status": "completed"
    },
    "tags": []
   },
   "source": [
    "# Split the data"
   ]
  },
  {
   "cell_type": "code",
   "execution_count": null,
   "id": "34fa4903",
   "metadata": {
    "execution": {
     "iopub.execute_input": "2022-10-19T14:19:22.159702Z",
     "iopub.status.busy": "2022-10-19T14:19:22.158569Z",
     "iopub.status.idle": "2022-10-19T14:19:22.168029Z",
     "shell.execute_reply": "2022-10-19T14:19:22.167213Z"
    },
    "papermill": {
     "duration": 0.034568,
     "end_time": "2022-10-19T14:19:22.170383",
     "exception": false,
     "start_time": "2022-10-19T14:19:22.135815",
     "status": "completed"
    },
    "tags": []
   },
   "outputs": [
    {
     "ename": "",
     "evalue": "",
     "output_type": "error",
     "traceback": [
      "\u001b[1;31mFailed to start the Kernel. \n",
      "\u001b[1;31m[notice] A new release of pip available: 22.2.2 -> 22.3.1\n",
      "\u001b[1;31m[notice] To update, run: pip install --upgrade pip. \n",
      "\u001b[1;31mView Jupyter <a href='command:jupyter.viewOutput'>log</a> for further details."
     ]
    }
   ],
   "source": [
    "x = smoke_df.drop(\"Fire Alarm\", axis = 1).values\n",
    "y = smoke_df['Fire Alarm'].values \n",
    "x2 = smoke.drop(\"Fire Alarm\", axis = 1).values\n",
    "y2 = smoke['Fire Alarm'].values "
   ]
  },
  {
   "cell_type": "code",
   "execution_count": null,
   "id": "cf698eb1",
   "metadata": {
    "execution": {
     "iopub.execute_input": "2022-10-19T14:19:22.213294Z",
     "iopub.status.busy": "2022-10-19T14:19:22.212696Z",
     "iopub.status.idle": "2022-10-19T14:19:22.223366Z",
     "shell.execute_reply": "2022-10-19T14:19:22.222214Z"
    },
    "papermill": {
     "duration": 0.035354,
     "end_time": "2022-10-19T14:19:22.226168",
     "exception": false,
     "start_time": "2022-10-19T14:19:22.190814",
     "status": "completed"
    },
    "tags": []
   },
   "outputs": [
    {
     "ename": "",
     "evalue": "",
     "output_type": "error",
     "traceback": [
      "\u001b[1;31mFailed to start the Kernel. \n",
      "\u001b[1;31m[notice] A new release of pip available: 22.2.2 -> 22.3.1\n",
      "\u001b[1;31m[notice] To update, run: pip install --upgrade pip. \n",
      "\u001b[1;31mView Jupyter <a href='command:jupyter.viewOutput'>log</a> for further details."
     ]
    }
   ],
   "source": [
    "X_train,X_test,Y_train,Y_test = train_test_split(x,y,test_size=0.2,random_state=0)\n",
    "X2_train,X2_test,Y2_train,Y2_test = train_test_split(x2,y2,test_size=0.2,random_state=0)"
   ]
  },
  {
   "cell_type": "markdown",
   "id": "dcf8d089",
   "metadata": {
    "papermill": {
     "duration": 0.020311,
     "end_time": "2022-10-19T14:19:22.267220",
     "exception": false,
     "start_time": "2022-10-19T14:19:22.246909",
     "status": "completed"
    },
    "tags": []
   },
   "source": [
    "# Scale the data"
   ]
  },
  {
   "cell_type": "code",
   "execution_count": null,
   "id": "537eef7e",
   "metadata": {
    "execution": {
     "iopub.execute_input": "2022-10-19T14:19:22.311172Z",
     "iopub.status.busy": "2022-10-19T14:19:22.310202Z",
     "iopub.status.idle": "2022-10-19T14:19:22.326876Z",
     "shell.execute_reply": "2022-10-19T14:19:22.325632Z"
    },
    "papermill": {
     "duration": 0.041563,
     "end_time": "2022-10-19T14:19:22.329823",
     "exception": false,
     "start_time": "2022-10-19T14:19:22.288260",
     "status": "completed"
    },
    "tags": []
   },
   "outputs": [
    {
     "ename": "",
     "evalue": "",
     "output_type": "error",
     "traceback": [
      "\u001b[1;31mFailed to start the Kernel. \n",
      "\u001b[1;31m[notice] A new release of pip available: 22.2.2 -> 22.3.1\n",
      "\u001b[1;31m[notice] To update, run: pip install --upgrade pip. \n",
      "\u001b[1;31mView Jupyter <a href='command:jupyter.viewOutput'>log</a> for further details."
     ]
    }
   ],
   "source": [
    "sc = StandardScaler()\n",
    "X_train = sc.fit_transform(X_train)\n",
    "X_test = sc.transform(X_test)\n",
    "X2_train = sc.fit_transform(X_train)\n",
    "X2_test = sc.transform(X_test)"
   ]
  },
  {
   "cell_type": "markdown",
   "id": "75857767",
   "metadata": {
    "papermill": {
     "duration": 0.020482,
     "end_time": "2022-10-19T14:19:22.371614",
     "exception": false,
     "start_time": "2022-10-19T14:19:22.351132",
     "status": "completed"
    },
    "tags": []
   },
   "source": [
    "# Initializing Artificial Neural Network\n"
   ]
  },
  {
   "cell_type": "code",
   "execution_count": null,
   "id": "a1176016",
   "metadata": {
    "execution": {
     "iopub.execute_input": "2022-10-19T14:19:22.414993Z",
     "iopub.status.busy": "2022-10-19T14:19:22.414565Z",
     "iopub.status.idle": "2022-10-19T14:19:23.664088Z",
     "shell.execute_reply": "2022-10-19T14:19:23.663048Z"
    },
    "papermill": {
     "duration": 1.273836,
     "end_time": "2022-10-19T14:19:23.666421",
     "exception": false,
     "start_time": "2022-10-19T14:19:22.392585",
     "status": "completed"
    },
    "tags": []
   },
   "outputs": [
    {
     "ename": "",
     "evalue": "",
     "output_type": "error",
     "traceback": [
      "\u001b[1;31mFailed to start the Kernel. \n",
      "\u001b[1;31m[notice] A new release of pip available: 22.2.2 -> 22.3.1\n",
      "\u001b[1;31m[notice] To update, run: pip install --upgrade pip. \n",
      "\u001b[1;31mView Jupyter <a href='command:jupyter.viewOutput'>log</a> for further details."
     ]
    }
   ],
   "source": [
    "ann = tf.keras.models.Sequential()"
   ]
  },
  {
   "cell_type": "markdown",
   "id": "1367224f",
   "metadata": {
    "papermill": {
     "duration": 0.020165,
     "end_time": "2022-10-19T14:19:23.709092",
     "exception": false,
     "start_time": "2022-10-19T14:19:23.688927",
     "status": "completed"
    },
    "tags": []
   },
   "source": [
    "# Creating Hidden Layers"
   ]
  },
  {
   "cell_type": "code",
   "execution_count": null,
   "id": "43a7db4e",
   "metadata": {
    "execution": {
     "iopub.execute_input": "2022-10-19T14:19:23.752044Z",
     "iopub.status.busy": "2022-10-19T14:19:23.751313Z",
     "iopub.status.idle": "2022-10-19T14:19:23.762193Z",
     "shell.execute_reply": "2022-10-19T14:19:23.760561Z"
    },
    "papermill": {
     "duration": 0.035601,
     "end_time": "2022-10-19T14:19:23.765205",
     "exception": false,
     "start_time": "2022-10-19T14:19:23.729604",
     "status": "completed"
    },
    "tags": []
   },
   "outputs": [
    {
     "ename": "",
     "evalue": "",
     "output_type": "error",
     "traceback": [
      "\u001b[1;31mFailed to start the Kernel. \n",
      "\u001b[1;31m[notice] A new release of pip available: 22.2.2 -> 22.3.1\n",
      "\u001b[1;31m[notice] To update, run: pip install --upgrade pip. \n",
      "\u001b[1;31mView Jupyter <a href='command:jupyter.viewOutput'>log</a> for further details."
     ]
    }
   ],
   "source": [
    "ann.add(tf.keras.layers.Dense(units=6,activation=\"relu\"))"
   ]
  },
  {
   "cell_type": "markdown",
   "id": "3326ad8c",
   "metadata": {
    "papermill": {
     "duration": 0.020476,
     "end_time": "2022-10-19T14:19:23.806729",
     "exception": false,
     "start_time": "2022-10-19T14:19:23.786253",
     "status": "completed"
    },
    "tags": []
   },
   "source": [
    "# Creating Output Layer"
   ]
  },
  {
   "cell_type": "code",
   "execution_count": null,
   "id": "c14fe237",
   "metadata": {
    "execution": {
     "iopub.execute_input": "2022-10-19T14:19:23.852598Z",
     "iopub.status.busy": "2022-10-19T14:19:23.852107Z",
     "iopub.status.idle": "2022-10-19T14:19:23.859648Z",
     "shell.execute_reply": "2022-10-19T14:19:23.858118Z"
    },
    "papermill": {
     "duration": 0.03383,
     "end_time": "2022-10-19T14:19:23.862326",
     "exception": false,
     "start_time": "2022-10-19T14:19:23.828496",
     "status": "completed"
    },
    "tags": []
   },
   "outputs": [
    {
     "ename": "",
     "evalue": "",
     "output_type": "error",
     "traceback": [
      "\u001b[1;31mFailed to start the Kernel. \n",
      "\u001b[1;31m[notice] A new release of pip available: 22.2.2 -> 22.3.1\n",
      "\u001b[1;31m[notice] To update, run: pip install --upgrade pip. \n",
      "\u001b[1;31mView Jupyter <a href='command:jupyter.viewOutput'>log</a> for further details."
     ]
    }
   ],
   "source": [
    "ann.add(tf.keras.layers.Dense(units=1,activation=\"sigmoid\"))"
   ]
  },
  {
   "cell_type": "markdown",
   "id": "38e24584",
   "metadata": {
    "papermill": {
     "duration": 0.021172,
     "end_time": "2022-10-19T14:19:23.904856",
     "exception": false,
     "start_time": "2022-10-19T14:19:23.883684",
     "status": "completed"
    },
    "tags": []
   },
   "source": [
    " # Creating Output Layer"
   ]
  },
  {
   "cell_type": "code",
   "execution_count": null,
   "id": "8ebd51a9",
   "metadata": {
    "execution": {
     "iopub.execute_input": "2022-10-19T14:19:23.947417Z",
     "iopub.status.busy": "2022-10-19T14:19:23.946976Z",
     "iopub.status.idle": "2022-10-19T14:19:23.973378Z",
     "shell.execute_reply": "2022-10-19T14:19:23.971740Z"
    },
    "papermill": {
     "duration": 0.050763,
     "end_time": "2022-10-19T14:19:23.976101",
     "exception": false,
     "start_time": "2022-10-19T14:19:23.925338",
     "status": "completed"
    },
    "tags": []
   },
   "outputs": [
    {
     "ename": "",
     "evalue": "",
     "output_type": "error",
     "traceback": [
      "\u001b[1;31mFailed to start the Kernel. \n",
      "\u001b[1;31m[notice] A new release of pip available: 22.2.2 -> 22.3.1\n",
      "\u001b[1;31m[notice] To update, run: pip install --upgrade pip. \n",
      "\u001b[1;31mView Jupyter <a href='command:jupyter.viewOutput'>log</a> for further details."
     ]
    }
   ],
   "source": [
    "ann.compile(optimizer=\"adam\",loss=\"binary_crossentropy\",metrics=['accuracy'])"
   ]
  },
  {
   "cell_type": "markdown",
   "id": "580bf9d9",
   "metadata": {
    "papermill": {
     "duration": 0.021321,
     "end_time": "2022-10-19T14:19:24.018444",
     "exception": false,
     "start_time": "2022-10-19T14:19:23.997123",
     "status": "completed"
    },
    "tags": []
   },
   "source": [
    "# Fitting Artificial Neural Network"
   ]
  },
  {
   "cell_type": "code",
   "execution_count": null,
   "id": "cf3f32af",
   "metadata": {
    "execution": {
     "iopub.execute_input": "2022-10-19T14:19:24.061950Z",
     "iopub.status.busy": "2022-10-19T14:19:24.061219Z",
     "iopub.status.idle": "2022-10-19T14:20:24.157243Z",
     "shell.execute_reply": "2022-10-19T14:20:24.155735Z"
    },
    "papermill": {
     "duration": 60.120884,
     "end_time": "2022-10-19T14:20:24.160019",
     "exception": false,
     "start_time": "2022-10-19T14:19:24.039135",
     "status": "completed"
    },
    "tags": []
   },
   "outputs": [
    {
     "ename": "",
     "evalue": "",
     "output_type": "error",
     "traceback": [
      "\u001b[1;31mFailed to start the Kernel. \n",
      "\u001b[1;31m[notice] A new release of pip available: 22.2.2 -> 22.3.1\n",
      "\u001b[1;31m[notice] To update, run: pip install --upgrade pip. \n",
      "\u001b[1;31mView Jupyter <a href='command:jupyter.viewOutput'>log</a> for further details."
     ]
    }
   ],
   "source": [
    "history=ann.fit(x=X_train,y=Y_train,validation_data=(X_test,Y_test),batch_size=20,epochs=15)\n",
    "history2=ann.fit(x=X2_train,y=Y2_train,validation_data=(X2_test,Y2_test),batch_size=20,epochs=15)"
   ]
  },
  {
   "cell_type": "code",
   "execution_count": null,
   "id": "7d3e5708",
   "metadata": {
    "execution": {
     "iopub.execute_input": "2022-10-19T14:20:24.338005Z",
     "iopub.status.busy": "2022-10-19T14:20:24.337219Z",
     "iopub.status.idle": "2022-10-19T14:20:24.840822Z",
     "shell.execute_reply": "2022-10-19T14:20:24.839825Z"
    },
    "papermill": {
     "duration": 0.597373,
     "end_time": "2022-10-19T14:20:24.843328",
     "exception": false,
     "start_time": "2022-10-19T14:20:24.245955",
     "status": "completed"
    },
    "tags": []
   },
   "outputs": [
    {
     "ename": "",
     "evalue": "",
     "output_type": "error",
     "traceback": [
      "\u001b[1;31mFailed to start the Kernel. \n",
      "\u001b[1;31m[notice] A new release of pip available: 22.2.2 -> 22.3.1\n",
      "\u001b[1;31m[notice] To update, run: pip install --upgrade pip. \n",
      "\u001b[1;31mView Jupyter <a href='command:jupyter.viewOutput'>log</a> for further details."
     ]
    }
   ],
   "source": [
    "y_pred=ann.predict(X_test)\n",
    "y2_pred=ann.predict(X2_test)"
   ]
  },
  {
   "cell_type": "code",
   "execution_count": null,
   "id": "0eefc7ff",
   "metadata": {
    "execution": {
     "iopub.execute_input": "2022-10-19T14:20:25.016579Z",
     "iopub.status.busy": "2022-10-19T14:20:25.016117Z",
     "iopub.status.idle": "2022-10-19T14:20:25.024455Z",
     "shell.execute_reply": "2022-10-19T14:20:25.023187Z"
    },
    "papermill": {
     "duration": 0.09863,
     "end_time": "2022-10-19T14:20:25.026699",
     "exception": false,
     "start_time": "2022-10-19T14:20:24.928069",
     "status": "completed"
    },
    "tags": []
   },
   "outputs": [
    {
     "ename": "",
     "evalue": "",
     "output_type": "error",
     "traceback": [
      "\u001b[1;31mFailed to start the Kernel. \n",
      "\u001b[1;31m[notice] A new release of pip available: 22.2.2 -> 22.3.1\n",
      "\u001b[1;31m[notice] To update, run: pip install --upgrade pip. \n",
      "\u001b[1;31mView Jupyter <a href='command:jupyter.viewOutput'>log</a> for further details."
     ]
    }
   ],
   "source": [
    "y_pred\n",
    "y2_pred"
   ]
  },
  {
   "cell_type": "code",
   "execution_count": null,
   "id": "f676cba8",
   "metadata": {
    "execution": {
     "iopub.execute_input": "2022-10-19T14:20:25.196846Z",
     "iopub.status.busy": "2022-10-19T14:20:25.196383Z",
     "iopub.status.idle": "2022-10-19T14:20:25.203898Z",
     "shell.execute_reply": "2022-10-19T14:20:25.202579Z"
    },
    "papermill": {
     "duration": 0.096105,
     "end_time": "2022-10-19T14:20:25.206544",
     "exception": false,
     "start_time": "2022-10-19T14:20:25.110439",
     "status": "completed"
    },
    "tags": []
   },
   "outputs": [
    {
     "ename": "",
     "evalue": "",
     "output_type": "error",
     "traceback": [
      "\u001b[1;31mFailed to start the Kernel. \n",
      "\u001b[1;31m[notice] A new release of pip available: 22.2.2 -> 22.3.1\n",
      "\u001b[1;31m[notice] To update, run: pip install --upgrade pip. \n",
      "\u001b[1;31mView Jupyter <a href='command:jupyter.viewOutput'>log</a> for further details."
     ]
    }
   ],
   "source": [
    "type(y_pred)\n",
    "type(y2_pred)"
   ]
  },
  {
   "cell_type": "code",
   "execution_count": null,
   "id": "196f2272",
   "metadata": {
    "execution": {
     "iopub.execute_input": "2022-10-19T14:20:25.379518Z",
     "iopub.status.busy": "2022-10-19T14:20:25.379069Z",
     "iopub.status.idle": "2022-10-19T14:20:25.387219Z",
     "shell.execute_reply": "2022-10-19T14:20:25.385824Z"
    },
    "papermill": {
     "duration": 0.098848,
     "end_time": "2022-10-19T14:20:25.389730",
     "exception": false,
     "start_time": "2022-10-19T14:20:25.290882",
     "status": "completed"
    },
    "tags": []
   },
   "outputs": [
    {
     "ename": "",
     "evalue": "",
     "output_type": "error",
     "traceback": [
      "\u001b[1;31mFailed to start the Kernel. \n",
      "\u001b[1;31m[notice] A new release of pip available: 22.2.2 -> 22.3.1\n",
      "\u001b[1;31m[notice] To update, run: pip install --upgrade pip. \n",
      "\u001b[1;31mView Jupyter <a href='command:jupyter.viewOutput'>log</a> for further details."
     ]
    }
   ],
   "source": [
    "y_pred=list(y_pred)\n",
    "y2_pred=list(y2_pred)"
   ]
  },
  {
   "cell_type": "code",
   "execution_count": null,
   "id": "630c4a74",
   "metadata": {
    "execution": {
     "iopub.execute_input": "2022-10-19T14:20:25.560425Z",
     "iopub.status.busy": "2022-10-19T14:20:25.560006Z",
     "iopub.status.idle": "2022-10-19T14:20:25.584422Z",
     "shell.execute_reply": "2022-10-19T14:20:25.583346Z"
    },
    "papermill": {
     "duration": 0.1131,
     "end_time": "2022-10-19T14:20:25.587007",
     "exception": false,
     "start_time": "2022-10-19T14:20:25.473907",
     "status": "completed"
    },
    "tags": []
   },
   "outputs": [
    {
     "ename": "",
     "evalue": "",
     "output_type": "error",
     "traceback": [
      "\u001b[1;31mFailed to start the Kernel. \n",
      "\u001b[1;31m[notice] A new release of pip available: 22.2.2 -> 22.3.1\n",
      "\u001b[1;31m[notice] To update, run: pip install --upgrade pip. \n",
      "\u001b[1;31mView Jupyter <a href='command:jupyter.viewOutput'>log</a> for further details."
     ]
    }
   ],
   "source": [
    "for i in range(len(y_pred)):\n",
    "    if y_pred[i] >= .5:\n",
    "        y_pred[i]=1\n",
    "    else : y_pred[i]=0\n",
    "\n",
    "for i in range(len(y2_pred)):\n",
    "    if y2_pred[i] >= .5:\n",
    "        y2_pred[i]=1\n",
    "    else : y2_pred[i]=0"
   ]
  },
  {
   "cell_type": "markdown",
   "id": "8043f22d",
   "metadata": {
    "papermill": {
     "duration": 0.082466,
     "end_time": "2022-10-19T14:20:25.754244",
     "exception": false,
     "start_time": "2022-10-19T14:20:25.671778",
     "status": "completed"
    },
    "tags": []
   },
   "source": [
    "# Evaluate Artificial Neural Network"
   ]
  },
  {
   "cell_type": "code",
   "execution_count": null,
   "id": "03a8a4a4",
   "metadata": {
    "execution": {
     "iopub.execute_input": "2022-10-19T14:20:25.925338Z",
     "iopub.status.busy": "2022-10-19T14:20:25.924899Z",
     "iopub.status.idle": "2022-10-19T14:20:26.477674Z",
     "shell.execute_reply": "2022-10-19T14:20:26.476737Z"
    },
    "papermill": {
     "duration": 0.641202,
     "end_time": "2022-10-19T14:20:26.479846",
     "exception": false,
     "start_time": "2022-10-19T14:20:25.838644",
     "status": "completed"
    },
    "tags": []
   },
   "outputs": [
    {
     "ename": "",
     "evalue": "",
     "output_type": "error",
     "traceback": [
      "\u001b[1;31mFailed to start the Kernel. \n",
      "\u001b[1;31m[notice] A new release of pip available: 22.2.2 -> 22.3.1\n",
      "\u001b[1;31m[notice] To update, run: pip install --upgrade pip. \n",
      "\u001b[1;31mView Jupyter <a href='command:jupyter.viewOutput'>log</a> for further details."
     ]
    }
   ],
   "source": [
    "ann.evaluate(X_test,Y_test)\n",
    "ann.evaluate(X2_test,Y2_test)"
   ]
  },
  {
   "cell_type": "code",
   "execution_count": null,
   "id": "b0e5fe01",
   "metadata": {
    "execution": {
     "iopub.execute_input": "2022-10-19T14:20:26.651832Z",
     "iopub.status.busy": "2022-10-19T14:20:26.651185Z",
     "iopub.status.idle": "2022-10-19T14:20:26.658370Z",
     "shell.execute_reply": "2022-10-19T14:20:26.657487Z"
    },
    "papermill": {
     "duration": 0.095576,
     "end_time": "2022-10-19T14:20:26.660443",
     "exception": false,
     "start_time": "2022-10-19T14:20:26.564867",
     "status": "completed"
    },
    "tags": []
   },
   "outputs": [
    {
     "ename": "",
     "evalue": "",
     "output_type": "error",
     "traceback": [
      "\u001b[1;31mFailed to start the Kernel. \n",
      "\u001b[1;31m[notice] A new release of pip available: 22.2.2 -> 22.3.1\n",
      "\u001b[1;31m[notice] To update, run: pip install --upgrade pip. \n",
      "\u001b[1;31mView Jupyter <a href='command:jupyter.viewOutput'>log</a> for further details."
     ]
    }
   ],
   "source": [
    "history.history\n",
    "history2.history2"
   ]
  },
  {
   "cell_type": "code",
   "execution_count": null,
   "id": "a83e6fea",
   "metadata": {
    "execution": {
     "iopub.execute_input": "2022-10-19T14:20:26.830912Z",
     "iopub.status.busy": "2022-10-19T14:20:26.829804Z",
     "iopub.status.idle": "2022-10-19T14:20:27.057392Z",
     "shell.execute_reply": "2022-10-19T14:20:27.055917Z"
    },
    "papermill": {
     "duration": 0.315604,
     "end_time": "2022-10-19T14:20:27.059963",
     "exception": false,
     "start_time": "2022-10-19T14:20:26.744359",
     "status": "completed"
    },
    "tags": []
   },
   "outputs": [
    {
     "ename": "",
     "evalue": "",
     "output_type": "error",
     "traceback": [
      "\u001b[1;31mFailed to start the Kernel. \n",
      "\u001b[1;31m[notice] A new release of pip available: 22.2.2 -> 22.3.1\n",
      "\u001b[1;31m[notice] To update, run: pip install --upgrade pip. \n",
      "\u001b[1;31mView Jupyter <a href='command:jupyter.viewOutput'>log</a> for further details."
     ]
    }
   ],
   "source": [
    "plt.title('Loss / Mean Squared Error w/out Outliers')\n",
    "plt.plot(history.history['loss'], label='train')\n",
    "plt.plot(history.history['val_loss'], label='test')\n",
    "plt.legend()\n",
    "plt.show()\n",
    "\n",
    "plt.title('Loss / Mean Squared Error w/ Outliers')\n",
    "plt.plot(history2.history2['loss'], label='train')\n",
    "plt.plot(history2.history2['val_loss'], label='test')\n",
    "plt.legend()\n",
    "plt.show()"
   ]
  },
  {
   "cell_type": "markdown",
   "id": "99470777",
   "metadata": {
    "papermill": {
     "duration": 0.083471,
     "end_time": "2022-10-19T14:20:27.228260",
     "exception": false,
     "start_time": "2022-10-19T14:20:27.144789",
     "status": "completed"
    },
    "tags": []
   },
   "source": [
    "# Classification Report"
   ]
  },
  {
   "cell_type": "code",
   "execution_count": null,
   "id": "8bbc6b37",
   "metadata": {
    "execution": {
     "iopub.execute_input": "2022-10-19T14:20:27.399599Z",
     "iopub.status.busy": "2022-10-19T14:20:27.399202Z",
     "iopub.status.idle": "2022-10-19T14:20:27.411431Z",
     "shell.execute_reply": "2022-10-19T14:20:27.410019Z"
    },
    "papermill": {
     "duration": 0.101495,
     "end_time": "2022-10-19T14:20:27.413993",
     "exception": false,
     "start_time": "2022-10-19T14:20:27.312498",
     "status": "completed"
    },
    "tags": []
   },
   "outputs": [
    {
     "ename": "",
     "evalue": "",
     "output_type": "error",
     "traceback": [
      "\u001b[1;31mFailed to start the Kernel. \n",
      "\u001b[1;31m[notice] A new release of pip available: 22.2.2 -> 22.3.1\n",
      "\u001b[1;31m[notice] To update, run: pip install --upgrade pip. \n",
      "\u001b[1;31mView Jupyter <a href='command:jupyter.viewOutput'>log</a> for further details."
     ]
    }
   ],
   "source": [
    "print(confusion_matrix(Y_test,y_pred))\n",
    "print(confusion_matrix(Y2_test,y2_pred))"
   ]
  },
  {
   "cell_type": "code",
   "execution_count": null,
   "id": "0f075004",
   "metadata": {
    "execution": {
     "iopub.execute_input": "2022-10-19T14:20:27.586609Z",
     "iopub.status.busy": "2022-10-19T14:20:27.585858Z",
     "iopub.status.idle": "2022-10-19T14:20:27.618593Z",
     "shell.execute_reply": "2022-10-19T14:20:27.616943Z"
    },
    "papermill": {
     "duration": 0.122899,
     "end_time": "2022-10-19T14:20:27.622737",
     "exception": false,
     "start_time": "2022-10-19T14:20:27.499838",
     "status": "completed"
    },
    "tags": []
   },
   "outputs": [
    {
     "ename": "",
     "evalue": "",
     "output_type": "error",
     "traceback": [
      "\u001b[1;31mFailed to start the Kernel. \n",
      "\u001b[1;31m[notice] A new release of pip available: 22.2.2 -> 22.3.1\n",
      "\u001b[1;31m[notice] To update, run: pip install --upgrade pip. \n",
      "\u001b[1;31mView Jupyter <a href='command:jupyter.viewOutput'>log</a> for further details."
     ]
    }
   ],
   "source": [
    "\n",
    "print(classification_report(Y_test, y_pred, target_names=[\"Alarm\", \"No Alarm\"]))\n",
    "print(classification_report(Y2_test, y2_pred, target_names=[\"Alarm\", \"No Alarm\"]))\n"
   ]
  },
  {
   "cell_type": "code",
   "execution_count": null,
   "id": "e4f5c10a",
   "metadata": {
    "papermill": {
     "duration": 0.086692,
     "end_time": "2022-10-19T14:20:27.797373",
     "exception": false,
     "start_time": "2022-10-19T14:20:27.710681",
     "status": "completed"
    },
    "tags": []
   },
   "outputs": [
    {
     "ename": "",
     "evalue": "",
     "output_type": "error",
     "traceback": [
      "\u001b[1;31mFailed to start the Kernel. \n",
      "\u001b[1;31m[notice] A new release of pip available: 22.2.2 -> 22.3.1\n",
      "\u001b[1;31m[notice] To update, run: pip install --upgrade pip. \n",
      "\u001b[1;31mView Jupyter <a href='command:jupyter.viewOutput'>log</a> for further details."
     ]
    }
   ],
   "source": []
  }
 ],
 "metadata": {
  "kernelspec": {
   "display_name": "Python 3.9.9 64-bit",
   "language": "python",
   "name": "python3"
  },
  "language_info": {
   "codemirror_mode": {
    "name": "ipython",
    "version": 3
   },
   "file_extension": ".py",
   "mimetype": "text/x-python",
   "name": "python",
   "nbconvert_exporter": "python",
   "pygments_lexer": "ipython3",
   "version": "3.10.7"
  },
  "papermill": {
   "default_parameters": {},
   "duration": 102.351109,
   "end_time": "2022-10-19T14:20:30.659577",
   "environment_variables": {},
   "exception": null,
   "input_path": "__notebook__.ipynb",
   "output_path": "__notebook__.ipynb",
   "parameters": {},
   "start_time": "2022-10-19T14:18:48.308468",
   "version": "2.3.4"
  },
  "vscode": {
   "interpreter": {
    "hash": "aee8b7b246df8f9039afb4144a1f6fd8d2ca17a180786b69acc140d282b71a49"
   }
  }
 },
 "nbformat": 4,
 "nbformat_minor": 5
}
