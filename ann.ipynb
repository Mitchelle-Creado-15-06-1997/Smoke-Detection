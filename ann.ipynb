{
 "cells": [
  {
   "cell_type": "markdown",
   "id": "2c310532",
   "metadata": {
    "papermill": {
     "duration": 0.02248,
     "end_time": "2022-10-19T14:18:58.335600",
     "exception": false,
     "start_time": "2022-10-19T14:18:58.313120",
     "status": "completed"
    },
    "tags": []
   },
   "source": [
    "# Import packages"
   ]
  },
  {
   "cell_type": "code",
   "execution_count": 143,
   "id": "aebf51ec",
   "metadata": {
    "execution": {
     "iopub.execute_input": "2022-10-19T14:18:58.381748Z",
     "iopub.status.busy": "2022-10-19T14:18:58.380836Z",
     "iopub.status.idle": "2022-10-19T14:19:07.331441Z",
     "shell.execute_reply": "2022-10-19T14:19:07.330045Z"
    },
    "papermill": {
     "duration": 8.976682,
     "end_time": "2022-10-19T14:19:07.334423",
     "exception": false,
     "start_time": "2022-10-19T14:18:58.357741",
     "status": "completed"
    },
    "tags": []
   },
   "outputs": [
    {
     "ename": "ImportError",
     "evalue": "cannot import name 'Layer' from partially initialized module 'tensorflow.python.layers.base' (most likely due to a circular import) (/opt/homebrew/lib/python3.10/site-packages/tensorflow/python/layers/base.py)",
     "output_type": "error",
     "traceback": [
      "\u001b[0;31m---------------------------------------------------------------------------\u001b[0m",
      "\u001b[0;31mImportError\u001b[0m                               Traceback (most recent call last)",
      "Cell \u001b[0;32mIn [143], line 3\u001b[0m\n\u001b[1;32m      1\u001b[0m \u001b[39mimport\u001b[39;00m \u001b[39mpandas\u001b[39;00m \u001b[39mas\u001b[39;00m \u001b[39mpd\u001b[39;00m\n\u001b[1;32m      2\u001b[0m \u001b[39mimport\u001b[39;00m \u001b[39mnumpy\u001b[39;00m \u001b[39mas\u001b[39;00m \u001b[39mnp\u001b[39;00m\n\u001b[0;32m----> 3\u001b[0m \u001b[39mimport\u001b[39;00m \u001b[39mtensorflow\u001b[39;00m \u001b[39mas\u001b[39;00m \u001b[39mtf\u001b[39;00m\n\u001b[1;32m      5\u001b[0m \u001b[39mfrom\u001b[39;00m \u001b[39mmatplotlib\u001b[39;00m \u001b[39mimport\u001b[39;00m pyplot \u001b[39mas\u001b[39;00m plt\n\u001b[1;32m      6\u001b[0m \u001b[39mimport\u001b[39;00m \u001b[39mseaborn\u001b[39;00m \u001b[39mas\u001b[39;00m \u001b[39msns\u001b[39;00m\n",
      "File \u001b[0;32m/opt/homebrew/lib/python3.10/site-packages/tensorflow/__init__.py:37\u001b[0m\n\u001b[1;32m     34\u001b[0m \u001b[39mimport\u001b[39;00m \u001b[39msys\u001b[39;00m \u001b[39mas\u001b[39;00m \u001b[39m_sys\u001b[39;00m\n\u001b[1;32m     35\u001b[0m \u001b[39mimport\u001b[39;00m \u001b[39mtyping\u001b[39;00m \u001b[39mas\u001b[39;00m \u001b[39m_typing\u001b[39;00m\n\u001b[0;32m---> 37\u001b[0m \u001b[39mfrom\u001b[39;00m \u001b[39mtensorflow\u001b[39;00m\u001b[39m.\u001b[39;00m\u001b[39mpython\u001b[39;00m\u001b[39m.\u001b[39;00m\u001b[39mtools\u001b[39;00m \u001b[39mimport\u001b[39;00m module_util \u001b[39mas\u001b[39;00m _module_util\n\u001b[1;32m     38\u001b[0m \u001b[39mfrom\u001b[39;00m \u001b[39mtensorflow\u001b[39;00m\u001b[39m.\u001b[39;00m\u001b[39mpython\u001b[39;00m\u001b[39m.\u001b[39;00m\u001b[39mutil\u001b[39;00m\u001b[39m.\u001b[39;00m\u001b[39mlazy_loader\u001b[39;00m \u001b[39mimport\u001b[39;00m LazyLoader \u001b[39mas\u001b[39;00m _LazyLoader\n\u001b[1;32m     40\u001b[0m \u001b[39m# Make sure code inside the TensorFlow codebase can use tf2.enabled() at import.\u001b[39;00m\n",
      "File \u001b[0;32m/opt/homebrew/lib/python3.10/site-packages/tensorflow/python/__init__.py:45\u001b[0m\n\u001b[1;32m     43\u001b[0m \u001b[39mfrom\u001b[39;00m \u001b[39mtensorflow\u001b[39;00m\u001b[39m.\u001b[39;00m\u001b[39mpython\u001b[39;00m \u001b[39mimport\u001b[39;00m distribute\n\u001b[1;32m     44\u001b[0m \u001b[39m# from tensorflow.python import keras\u001b[39;00m\n\u001b[0;32m---> 45\u001b[0m \u001b[39mfrom\u001b[39;00m \u001b[39mtensorflow\u001b[39;00m\u001b[39m.\u001b[39;00m\u001b[39mpython\u001b[39;00m\u001b[39m.\u001b[39;00m\u001b[39mfeature_column\u001b[39;00m \u001b[39mimport\u001b[39;00m feature_column_lib \u001b[39mas\u001b[39;00m feature_column\n\u001b[1;32m     46\u001b[0m \u001b[39m# from tensorflow.python.layers import layers\u001b[39;00m\n\u001b[1;32m     47\u001b[0m \u001b[39mfrom\u001b[39;00m \u001b[39mtensorflow\u001b[39;00m\u001b[39m.\u001b[39;00m\u001b[39mpython\u001b[39;00m\u001b[39m.\u001b[39;00m\u001b[39mmodule\u001b[39;00m \u001b[39mimport\u001b[39;00m module\n",
      "File \u001b[0;32m/opt/homebrew/lib/python3.10/site-packages/tensorflow/python/feature_column/feature_column_lib.py:18\u001b[0m\n\u001b[1;32m     15\u001b[0m \u001b[39m\"\"\"FeatureColumns: tools for ingesting and representing features.\"\"\"\u001b[39;00m\n\u001b[1;32m     17\u001b[0m \u001b[39m# pylint: disable=unused-import,line-too-long,wildcard-import,g-bad-import-order\u001b[39;00m\n\u001b[0;32m---> 18\u001b[0m \u001b[39mfrom\u001b[39;00m \u001b[39mtensorflow\u001b[39;00m\u001b[39m.\u001b[39;00m\u001b[39mpython\u001b[39;00m\u001b[39m.\u001b[39;00m\u001b[39mfeature_column\u001b[39;00m\u001b[39m.\u001b[39;00m\u001b[39mfeature_column\u001b[39;00m \u001b[39mimport\u001b[39;00m \u001b[39m*\u001b[39m\n\u001b[1;32m     19\u001b[0m \u001b[39mfrom\u001b[39;00m \u001b[39mtensorflow\u001b[39;00m\u001b[39m.\u001b[39;00m\u001b[39mpython\u001b[39;00m\u001b[39m.\u001b[39;00m\u001b[39mfeature_column\u001b[39;00m\u001b[39m.\u001b[39;00m\u001b[39mfeature_column_v2\u001b[39;00m \u001b[39mimport\u001b[39;00m \u001b[39m*\u001b[39m\n\u001b[1;32m     20\u001b[0m \u001b[39mfrom\u001b[39;00m \u001b[39mtensorflow\u001b[39;00m\u001b[39m.\u001b[39;00m\u001b[39mpython\u001b[39;00m\u001b[39m.\u001b[39;00m\u001b[39mfeature_column\u001b[39;00m\u001b[39m.\u001b[39;00m\u001b[39msequence_feature_column\u001b[39;00m \u001b[39mimport\u001b[39;00m \u001b[39m*\u001b[39m\n",
      "File \u001b[0;32m/opt/homebrew/lib/python3.10/site-packages/tensorflow/python/feature_column/feature_column.py:143\u001b[0m\n\u001b[1;32m    141\u001b[0m \u001b[39mfrom\u001b[39;00m \u001b[39mtensorflow\u001b[39;00m\u001b[39m.\u001b[39;00m\u001b[39mpython\u001b[39;00m\u001b[39m.\u001b[39;00m\u001b[39mframework\u001b[39;00m \u001b[39mimport\u001b[39;00m sparse_tensor \u001b[39mas\u001b[39;00m sparse_tensor_lib\n\u001b[1;32m    142\u001b[0m \u001b[39mfrom\u001b[39;00m \u001b[39mtensorflow\u001b[39;00m\u001b[39m.\u001b[39;00m\u001b[39mpython\u001b[39;00m\u001b[39m.\u001b[39;00m\u001b[39mframework\u001b[39;00m \u001b[39mimport\u001b[39;00m tensor_shape\n\u001b[0;32m--> 143\u001b[0m \u001b[39mfrom\u001b[39;00m \u001b[39mtensorflow\u001b[39;00m\u001b[39m.\u001b[39;00m\u001b[39mpython\u001b[39;00m\u001b[39m.\u001b[39;00m\u001b[39mlayers\u001b[39;00m \u001b[39mimport\u001b[39;00m base\n\u001b[1;32m    144\u001b[0m \u001b[39mfrom\u001b[39;00m \u001b[39mtensorflow\u001b[39;00m\u001b[39m.\u001b[39;00m\u001b[39mpython\u001b[39;00m\u001b[39m.\u001b[39;00m\u001b[39mops\u001b[39;00m \u001b[39mimport\u001b[39;00m array_ops\n\u001b[1;32m    145\u001b[0m \u001b[39mfrom\u001b[39;00m \u001b[39mtensorflow\u001b[39;00m\u001b[39m.\u001b[39;00m\u001b[39mpython\u001b[39;00m\u001b[39m.\u001b[39;00m\u001b[39mops\u001b[39;00m \u001b[39mimport\u001b[39;00m check_ops\n",
      "File \u001b[0;32m/opt/homebrew/lib/python3.10/site-packages/tensorflow/python/layers/base.py:16\u001b[0m\n\u001b[1;32m      1\u001b[0m \u001b[39m# Copyright 2015 The TensorFlow Authors. All Rights Reserved.\u001b[39;00m\n\u001b[1;32m      2\u001b[0m \u001b[39m#\u001b[39;00m\n\u001b[1;32m      3\u001b[0m \u001b[39m# Licensed under the Apache License, Version 2.0 (the \"License\");\u001b[39;00m\n\u001b[0;32m   (...)\u001b[0m\n\u001b[1;32m     13\u001b[0m \u001b[39m# limitations under the License.\u001b[39;00m\n\u001b[1;32m     14\u001b[0m \u001b[39m# =============================================================================\u001b[39;00m\n\u001b[1;32m     15\u001b[0m \u001b[39m\"\"\"Contains the base Layer class, from which all layers inherit.\"\"\"\u001b[39;00m\n\u001b[0;32m---> 16\u001b[0m \u001b[39mfrom\u001b[39;00m \u001b[39mtensorflow\u001b[39;00m\u001b[39m.\u001b[39;00m\u001b[39mpython\u001b[39;00m\u001b[39m.\u001b[39;00m\u001b[39mkeras\u001b[39;00m\u001b[39m.\u001b[39;00m\u001b[39mlegacy_tf_layers\u001b[39;00m \u001b[39mimport\u001b[39;00m base\n\u001b[1;32m     18\u001b[0m InputSpec \u001b[39m=\u001b[39m base\u001b[39m.\u001b[39mInputSpec\n\u001b[1;32m     20\u001b[0m keras_style_scope \u001b[39m=\u001b[39m base\u001b[39m.\u001b[39mkeras_style_scope\n",
      "File \u001b[0;32m/opt/homebrew/lib/python3.10/site-packages/tensorflow/python/keras/__init__.py:25\u001b[0m\n\u001b[1;32m     22\u001b[0m \u001b[39mfrom\u001b[39;00m \u001b[39mtensorflow\u001b[39;00m\u001b[39m.\u001b[39;00m\u001b[39mpython\u001b[39;00m\u001b[39m.\u001b[39;00m\u001b[39mkeras\u001b[39;00m \u001b[39mimport\u001b[39;00m distribute\n\u001b[1;32m     24\u001b[0m \u001b[39m# See b/110718070#comment18 for more details about this import.\u001b[39;00m\n\u001b[0;32m---> 25\u001b[0m \u001b[39mfrom\u001b[39;00m \u001b[39mtensorflow\u001b[39;00m\u001b[39m.\u001b[39;00m\u001b[39mpython\u001b[39;00m\u001b[39m.\u001b[39;00m\u001b[39mkeras\u001b[39;00m \u001b[39mimport\u001b[39;00m models\n\u001b[1;32m     27\u001b[0m \u001b[39mfrom\u001b[39;00m \u001b[39mtensorflow\u001b[39;00m\u001b[39m.\u001b[39;00m\u001b[39mpython\u001b[39;00m\u001b[39m.\u001b[39;00m\u001b[39mkeras\u001b[39;00m\u001b[39m.\u001b[39;00m\u001b[39mengine\u001b[39;00m\u001b[39m.\u001b[39;00m\u001b[39minput_layer\u001b[39;00m \u001b[39mimport\u001b[39;00m Input\n\u001b[1;32m     28\u001b[0m \u001b[39mfrom\u001b[39;00m \u001b[39mtensorflow\u001b[39;00m\u001b[39m.\u001b[39;00m\u001b[39mpython\u001b[39;00m\u001b[39m.\u001b[39;00m\u001b[39mkeras\u001b[39;00m\u001b[39m.\u001b[39;00m\u001b[39mengine\u001b[39;00m\u001b[39m.\u001b[39;00m\u001b[39msequential\u001b[39;00m \u001b[39mimport\u001b[39;00m Sequential\n",
      "File \u001b[0;32m/opt/homebrew/lib/python3.10/site-packages/tensorflow/python/keras/models/__init__.py:21\u001b[0m\n\u001b[1;32m     18\u001b[0m \u001b[39mfrom\u001b[39;00m \u001b[39m__future__\u001b[39;00m \u001b[39mimport\u001b[39;00m division\n\u001b[1;32m     19\u001b[0m \u001b[39mfrom\u001b[39;00m \u001b[39m__future__\u001b[39;00m \u001b[39mimport\u001b[39;00m print_function\n\u001b[0;32m---> 21\u001b[0m \u001b[39mfrom\u001b[39;00m \u001b[39mtensorflow\u001b[39;00m\u001b[39m.\u001b[39;00m\u001b[39mpython\u001b[39;00m\u001b[39m.\u001b[39;00m\u001b[39mkeras\u001b[39;00m\u001b[39m.\u001b[39;00m\u001b[39m_impl\u001b[39;00m\u001b[39m.\u001b[39;00m\u001b[39mkeras\u001b[39;00m\u001b[39m.\u001b[39;00m\u001b[39mmodels\u001b[39;00m \u001b[39mimport\u001b[39;00m load_model\n\u001b[1;32m     22\u001b[0m \u001b[39mfrom\u001b[39;00m \u001b[39mtensorflow\u001b[39;00m\u001b[39m.\u001b[39;00m\u001b[39mpython\u001b[39;00m\u001b[39m.\u001b[39;00m\u001b[39mkeras\u001b[39;00m\u001b[39m.\u001b[39;00m\u001b[39m_impl\u001b[39;00m\u001b[39m.\u001b[39;00m\u001b[39mkeras\u001b[39;00m\u001b[39m.\u001b[39;00m\u001b[39mmodels\u001b[39;00m \u001b[39mimport\u001b[39;00m Model\n\u001b[1;32m     23\u001b[0m \u001b[39mfrom\u001b[39;00m \u001b[39mtensorflow\u001b[39;00m\u001b[39m.\u001b[39;00m\u001b[39mpython\u001b[39;00m\u001b[39m.\u001b[39;00m\u001b[39mkeras\u001b[39;00m\u001b[39m.\u001b[39;00m\u001b[39m_impl\u001b[39;00m\u001b[39m.\u001b[39;00m\u001b[39mkeras\u001b[39;00m\u001b[39m.\u001b[39;00m\u001b[39mmodels\u001b[39;00m \u001b[39mimport\u001b[39;00m model_from_config\n",
      "File \u001b[0;32m/opt/homebrew/lib/python3.10/site-packages/tensorflow/python/keras/_impl/keras/__init__.py:21\u001b[0m\n\u001b[1;32m     18\u001b[0m \u001b[39mfrom\u001b[39;00m \u001b[39m__future__\u001b[39;00m \u001b[39mimport\u001b[39;00m division\n\u001b[1;32m     19\u001b[0m \u001b[39mfrom\u001b[39;00m \u001b[39m__future__\u001b[39;00m \u001b[39mimport\u001b[39;00m print_function\n\u001b[0;32m---> 21\u001b[0m \u001b[39mfrom\u001b[39;00m \u001b[39mtensorflow\u001b[39;00m\u001b[39m.\u001b[39;00m\u001b[39mpython\u001b[39;00m\u001b[39m.\u001b[39;00m\u001b[39mkeras\u001b[39;00m\u001b[39m.\u001b[39;00m\u001b[39m_impl\u001b[39;00m\u001b[39m.\u001b[39;00m\u001b[39mkeras\u001b[39;00m \u001b[39mimport\u001b[39;00m activations\n\u001b[1;32m     22\u001b[0m \u001b[39mfrom\u001b[39;00m \u001b[39mtensorflow\u001b[39;00m\u001b[39m.\u001b[39;00m\u001b[39mpython\u001b[39;00m\u001b[39m.\u001b[39;00m\u001b[39mkeras\u001b[39;00m\u001b[39m.\u001b[39;00m\u001b[39m_impl\u001b[39;00m\u001b[39m.\u001b[39;00m\u001b[39mkeras\u001b[39;00m \u001b[39mimport\u001b[39;00m applications\n\u001b[1;32m     23\u001b[0m \u001b[39mfrom\u001b[39;00m \u001b[39mtensorflow\u001b[39;00m\u001b[39m.\u001b[39;00m\u001b[39mpython\u001b[39;00m\u001b[39m.\u001b[39;00m\u001b[39mkeras\u001b[39;00m\u001b[39m.\u001b[39;00m\u001b[39m_impl\u001b[39;00m\u001b[39m.\u001b[39;00m\u001b[39mkeras\u001b[39;00m \u001b[39mimport\u001b[39;00m backend\n",
      "File \u001b[0;32m/opt/homebrew/lib/python3.10/site-packages/tensorflow/python/keras/_impl/keras/activations.py:25\u001b[0m\n\u001b[1;32m     23\u001b[0m \u001b[39mfrom\u001b[39;00m \u001b[39mtensorflow\u001b[39;00m\u001b[39m.\u001b[39;00m\u001b[39mpython\u001b[39;00m\u001b[39m.\u001b[39;00m\u001b[39mkeras\u001b[39;00m\u001b[39m.\u001b[39;00m\u001b[39m_impl\u001b[39;00m\u001b[39m.\u001b[39;00m\u001b[39mkeras\u001b[39;00m \u001b[39mimport\u001b[39;00m backend \u001b[39mas\u001b[39;00m K\n\u001b[1;32m     24\u001b[0m \u001b[39mfrom\u001b[39;00m \u001b[39mtensorflow\u001b[39;00m\u001b[39m.\u001b[39;00m\u001b[39mpython\u001b[39;00m\u001b[39m.\u001b[39;00m\u001b[39mkeras\u001b[39;00m\u001b[39m.\u001b[39;00m\u001b[39m_impl\u001b[39;00m\u001b[39m.\u001b[39;00m\u001b[39mkeras\u001b[39;00m\u001b[39m.\u001b[39;00m\u001b[39mutils\u001b[39;00m\u001b[39m.\u001b[39;00m\u001b[39mgeneric_utils\u001b[39;00m \u001b[39mimport\u001b[39;00m deserialize_keras_object\n\u001b[0;32m---> 25\u001b[0m \u001b[39mfrom\u001b[39;00m \u001b[39mtensorflow\u001b[39;00m\u001b[39m.\u001b[39;00m\u001b[39mpython\u001b[39;00m\u001b[39m.\u001b[39;00m\u001b[39mlayers\u001b[39;00m\u001b[39m.\u001b[39;00m\u001b[39mbase\u001b[39;00m \u001b[39mimport\u001b[39;00m Layer\n\u001b[1;32m     26\u001b[0m \u001b[39mfrom\u001b[39;00m \u001b[39mtensorflow\u001b[39;00m\u001b[39m.\u001b[39;00m\u001b[39mpython\u001b[39;00m\u001b[39m.\u001b[39;00m\u001b[39mops\u001b[39;00m \u001b[39mimport\u001b[39;00m math_ops\n\u001b[1;32m     27\u001b[0m \u001b[39mfrom\u001b[39;00m \u001b[39mtensorflow\u001b[39;00m\u001b[39m.\u001b[39;00m\u001b[39mpython\u001b[39;00m\u001b[39m.\u001b[39;00m\u001b[39mops\u001b[39;00m \u001b[39mimport\u001b[39;00m nn\n",
      "\u001b[0;31mImportError\u001b[0m: cannot import name 'Layer' from partially initialized module 'tensorflow.python.layers.base' (most likely due to a circular import) (/opt/homebrew/lib/python3.10/site-packages/tensorflow/python/layers/base.py)"
     ]
    }
   ],
   "source": [
    "import pandas as pd\n",
    "import numpy as np\n",
    "import tensorflow as tf\n",
    "\n",
    "from matplotlib import pyplot as plt\n",
    "import seaborn as sns\n",
    "import plotly.express as px\n",
    "from sklearn.model_selection import train_test_split\n",
    "from sklearn.preprocessing import StandardScaler\n",
    "from sklearn.model_selection import train_test_split\n",
    "from sklearn.naive_bayes import GaussianNB\n",
    "from sklearn.metrics import classification_report\n",
    "from sklearn.metrics import classification_report, confusion_matrix\n",
    "%matplotlib inline"
   ]
  },
  {
   "cell_type": "markdown",
   "id": "9be86409",
   "metadata": {
    "papermill": {
     "duration": 0.013245,
     "end_time": "2022-10-19T14:19:07.361362",
     "exception": false,
     "start_time": "2022-10-19T14:19:07.348117",
     "status": "completed"
    },
    "tags": []
   },
   "source": [
    "# Import data"
   ]
  },
  {
   "cell_type": "code",
   "execution_count": null,
   "id": "a2699d7d",
   "metadata": {
    "execution": {
     "iopub.execute_input": "2022-10-19T14:19:07.390155Z",
     "iopub.status.busy": "2022-10-19T14:19:07.389716Z",
     "iopub.status.idle": "2022-10-19T14:19:07.715649Z",
     "shell.execute_reply": "2022-10-19T14:19:07.714475Z"
    },
    "papermill": {
     "duration": 0.34389,
     "end_time": "2022-10-19T14:19:07.718762",
     "exception": false,
     "start_time": "2022-10-19T14:19:07.374872",
     "status": "completed"
    },
    "tags": []
   },
   "outputs": [],
   "source": [
    "data=pd.read_csv(\"./smoke.csv\")"
   ]
  },
  {
   "cell_type": "markdown",
   "id": "b27fb3f6",
   "metadata": {
    "papermill": {
     "duration": 0.013439,
     "end_time": "2022-10-19T14:19:07.745806",
     "exception": false,
     "start_time": "2022-10-19T14:19:07.732367",
     "status": "completed"
    },
    "tags": []
   },
   "source": [
    "# Columns explanation"
   ]
  },
  {
   "cell_type": "markdown",
   "id": "0824831b",
   "metadata": {
    "papermill": {
     "duration": 0.013235,
     "end_time": "2022-10-19T14:19:07.773254",
     "exception": false,
     "start_time": "2022-10-19T14:19:07.760019",
     "status": "completed"
    },
    "tags": []
   },
   "source": [
    "#### Air Temperature\n",
    "#### Air Humidity\n",
    "#### TVOC: Total Volatile Organic Compounds; measured in parts per billion (Source)\n",
    "#### eCO2: co2 equivalent concentration; calculated from different values like TVCO\n",
    "#### Raw H2: raw molecular hydrogen; not compensated (Bias, temperature, etc.)\n",
    "#### Raw Ethanol: raw ethanol gas (Source)\n",
    "#### Air Pressure\n",
    "#### PM 1.0 and PM 2.5: particulate matter size < 1.0 µm (PM1.0). 1.0 µm < 2.5 µm (PM2.5)\n",
    "#### Fire Alarm: ground truth is \"1\" if a fire is there\n",
    "#### CNT: Sample counter\n",
    "#### UTC: Timestamp UTC seconds\n",
    "#### NC0.5/NC1.0 and NC2.5: Number concentration of particulate matter. This differs from PM because NC gives the actual number of particles in the air. The raw NC is also classified by the particle size: < 0.5 µm (NC0.5); 0.5 µm < 1.0 µm (NC1.0); 1.0 µm < 2.5 µm (NC2.5)"
   ]
  },
  {
   "cell_type": "code",
   "execution_count": null,
   "id": "55bf7c92",
   "metadata": {
    "execution": {
     "iopub.execute_input": "2022-10-19T14:19:07.803245Z",
     "iopub.status.busy": "2022-10-19T14:19:07.801878Z",
     "iopub.status.idle": "2022-10-19T14:19:07.842370Z",
     "shell.execute_reply": "2022-10-19T14:19:07.841174Z"
    },
    "papermill": {
     "duration": 0.058346,
     "end_time": "2022-10-19T14:19:07.845307",
     "exception": false,
     "start_time": "2022-10-19T14:19:07.786961",
     "status": "completed"
    },
    "tags": []
   },
   "outputs": [
    {
     "data": {
      "text/html": [
       "<div>\n",
       "<style scoped>\n",
       "    .dataframe tbody tr th:only-of-type {\n",
       "        vertical-align: middle;\n",
       "    }\n",
       "\n",
       "    .dataframe tbody tr th {\n",
       "        vertical-align: top;\n",
       "    }\n",
       "\n",
       "    .dataframe thead th {\n",
       "        text-align: right;\n",
       "    }\n",
       "</style>\n",
       "<table border=\"1\" class=\"dataframe\">\n",
       "  <thead>\n",
       "    <tr style=\"text-align: right;\">\n",
       "      <th></th>\n",
       "      <th>Unnamed: 0</th>\n",
       "      <th>UTC</th>\n",
       "      <th>Temperature[C]</th>\n",
       "      <th>Humidity[%]</th>\n",
       "      <th>TVOC[ppb]</th>\n",
       "      <th>eCO2[ppm]</th>\n",
       "      <th>Raw H2</th>\n",
       "      <th>Raw Ethanol</th>\n",
       "      <th>Pressure[hPa]</th>\n",
       "      <th>PM1.0</th>\n",
       "      <th>PM2.5</th>\n",
       "      <th>NC0.5</th>\n",
       "      <th>NC1.0</th>\n",
       "      <th>NC2.5</th>\n",
       "      <th>CNT</th>\n",
       "      <th>Fire Alarm</th>\n",
       "    </tr>\n",
       "  </thead>\n",
       "  <tbody>\n",
       "    <tr>\n",
       "      <th>0</th>\n",
       "      <td>0</td>\n",
       "      <td>1654733331</td>\n",
       "      <td>20.000</td>\n",
       "      <td>57.36</td>\n",
       "      <td>0</td>\n",
       "      <td>400</td>\n",
       "      <td>12306</td>\n",
       "      <td>18520</td>\n",
       "      <td>939.735</td>\n",
       "      <td>0.00</td>\n",
       "      <td>0.00</td>\n",
       "      <td>0.00</td>\n",
       "      <td>0.000</td>\n",
       "      <td>0.000</td>\n",
       "      <td>0</td>\n",
       "      <td>0</td>\n",
       "    </tr>\n",
       "    <tr>\n",
       "      <th>1</th>\n",
       "      <td>1</td>\n",
       "      <td>1654733332</td>\n",
       "      <td>20.015</td>\n",
       "      <td>56.67</td>\n",
       "      <td>0</td>\n",
       "      <td>400</td>\n",
       "      <td>12345</td>\n",
       "      <td>18651</td>\n",
       "      <td>939.744</td>\n",
       "      <td>0.00</td>\n",
       "      <td>0.00</td>\n",
       "      <td>0.00</td>\n",
       "      <td>0.000</td>\n",
       "      <td>0.000</td>\n",
       "      <td>1</td>\n",
       "      <td>0</td>\n",
       "    </tr>\n",
       "    <tr>\n",
       "      <th>2</th>\n",
       "      <td>2</td>\n",
       "      <td>1654733333</td>\n",
       "      <td>20.029</td>\n",
       "      <td>55.96</td>\n",
       "      <td>0</td>\n",
       "      <td>400</td>\n",
       "      <td>12374</td>\n",
       "      <td>18764</td>\n",
       "      <td>939.738</td>\n",
       "      <td>0.00</td>\n",
       "      <td>0.00</td>\n",
       "      <td>0.00</td>\n",
       "      <td>0.000</td>\n",
       "      <td>0.000</td>\n",
       "      <td>2</td>\n",
       "      <td>0</td>\n",
       "    </tr>\n",
       "    <tr>\n",
       "      <th>3</th>\n",
       "      <td>3</td>\n",
       "      <td>1654733334</td>\n",
       "      <td>20.044</td>\n",
       "      <td>55.28</td>\n",
       "      <td>0</td>\n",
       "      <td>400</td>\n",
       "      <td>12390</td>\n",
       "      <td>18849</td>\n",
       "      <td>939.736</td>\n",
       "      <td>0.00</td>\n",
       "      <td>0.00</td>\n",
       "      <td>0.00</td>\n",
       "      <td>0.000</td>\n",
       "      <td>0.000</td>\n",
       "      <td>3</td>\n",
       "      <td>0</td>\n",
       "    </tr>\n",
       "    <tr>\n",
       "      <th>4</th>\n",
       "      <td>4</td>\n",
       "      <td>1654733335</td>\n",
       "      <td>20.059</td>\n",
       "      <td>54.69</td>\n",
       "      <td>0</td>\n",
       "      <td>400</td>\n",
       "      <td>12403</td>\n",
       "      <td>18921</td>\n",
       "      <td>939.744</td>\n",
       "      <td>0.00</td>\n",
       "      <td>0.00</td>\n",
       "      <td>0.00</td>\n",
       "      <td>0.000</td>\n",
       "      <td>0.000</td>\n",
       "      <td>4</td>\n",
       "      <td>0</td>\n",
       "    </tr>\n",
       "    <tr>\n",
       "      <th>...</th>\n",
       "      <td>...</td>\n",
       "      <td>...</td>\n",
       "      <td>...</td>\n",
       "      <td>...</td>\n",
       "      <td>...</td>\n",
       "      <td>...</td>\n",
       "      <td>...</td>\n",
       "      <td>...</td>\n",
       "      <td>...</td>\n",
       "      <td>...</td>\n",
       "      <td>...</td>\n",
       "      <td>...</td>\n",
       "      <td>...</td>\n",
       "      <td>...</td>\n",
       "      <td>...</td>\n",
       "      <td>...</td>\n",
       "    </tr>\n",
       "    <tr>\n",
       "      <th>62625</th>\n",
       "      <td>62625</td>\n",
       "      <td>1655130047</td>\n",
       "      <td>18.438</td>\n",
       "      <td>15.79</td>\n",
       "      <td>625</td>\n",
       "      <td>400</td>\n",
       "      <td>13723</td>\n",
       "      <td>20569</td>\n",
       "      <td>936.670</td>\n",
       "      <td>0.63</td>\n",
       "      <td>0.65</td>\n",
       "      <td>4.32</td>\n",
       "      <td>0.673</td>\n",
       "      <td>0.015</td>\n",
       "      <td>5739</td>\n",
       "      <td>0</td>\n",
       "    </tr>\n",
       "    <tr>\n",
       "      <th>62626</th>\n",
       "      <td>62626</td>\n",
       "      <td>1655130048</td>\n",
       "      <td>18.653</td>\n",
       "      <td>15.87</td>\n",
       "      <td>612</td>\n",
       "      <td>400</td>\n",
       "      <td>13731</td>\n",
       "      <td>20588</td>\n",
       "      <td>936.678</td>\n",
       "      <td>0.61</td>\n",
       "      <td>0.63</td>\n",
       "      <td>4.18</td>\n",
       "      <td>0.652</td>\n",
       "      <td>0.015</td>\n",
       "      <td>5740</td>\n",
       "      <td>0</td>\n",
       "    </tr>\n",
       "    <tr>\n",
       "      <th>62627</th>\n",
       "      <td>62627</td>\n",
       "      <td>1655130049</td>\n",
       "      <td>18.867</td>\n",
       "      <td>15.84</td>\n",
       "      <td>627</td>\n",
       "      <td>400</td>\n",
       "      <td>13725</td>\n",
       "      <td>20582</td>\n",
       "      <td>936.687</td>\n",
       "      <td>0.57</td>\n",
       "      <td>0.60</td>\n",
       "      <td>3.95</td>\n",
       "      <td>0.617</td>\n",
       "      <td>0.014</td>\n",
       "      <td>5741</td>\n",
       "      <td>0</td>\n",
       "    </tr>\n",
       "    <tr>\n",
       "      <th>62628</th>\n",
       "      <td>62628</td>\n",
       "      <td>1655130050</td>\n",
       "      <td>19.083</td>\n",
       "      <td>16.04</td>\n",
       "      <td>638</td>\n",
       "      <td>400</td>\n",
       "      <td>13712</td>\n",
       "      <td>20566</td>\n",
       "      <td>936.680</td>\n",
       "      <td>0.57</td>\n",
       "      <td>0.59</td>\n",
       "      <td>3.92</td>\n",
       "      <td>0.611</td>\n",
       "      <td>0.014</td>\n",
       "      <td>5742</td>\n",
       "      <td>0</td>\n",
       "    </tr>\n",
       "    <tr>\n",
       "      <th>62629</th>\n",
       "      <td>62629</td>\n",
       "      <td>1655130051</td>\n",
       "      <td>19.299</td>\n",
       "      <td>16.52</td>\n",
       "      <td>643</td>\n",
       "      <td>400</td>\n",
       "      <td>13696</td>\n",
       "      <td>20543</td>\n",
       "      <td>936.676</td>\n",
       "      <td>0.57</td>\n",
       "      <td>0.59</td>\n",
       "      <td>3.90</td>\n",
       "      <td>0.607</td>\n",
       "      <td>0.014</td>\n",
       "      <td>5743</td>\n",
       "      <td>0</td>\n",
       "    </tr>\n",
       "  </tbody>\n",
       "</table>\n",
       "<p>62630 rows × 16 columns</p>\n",
       "</div>"
      ],
      "text/plain": [
       "       Unnamed: 0         UTC  Temperature[C]  Humidity[%]  TVOC[ppb]  \\\n",
       "0               0  1654733331          20.000        57.36          0   \n",
       "1               1  1654733332          20.015        56.67          0   \n",
       "2               2  1654733333          20.029        55.96          0   \n",
       "3               3  1654733334          20.044        55.28          0   \n",
       "4               4  1654733335          20.059        54.69          0   \n",
       "...           ...         ...             ...          ...        ...   \n",
       "62625       62625  1655130047          18.438        15.79        625   \n",
       "62626       62626  1655130048          18.653        15.87        612   \n",
       "62627       62627  1655130049          18.867        15.84        627   \n",
       "62628       62628  1655130050          19.083        16.04        638   \n",
       "62629       62629  1655130051          19.299        16.52        643   \n",
       "\n",
       "       eCO2[ppm]  Raw H2  Raw Ethanol  Pressure[hPa]  PM1.0  PM2.5  NC0.5  \\\n",
       "0            400   12306        18520        939.735   0.00   0.00   0.00   \n",
       "1            400   12345        18651        939.744   0.00   0.00   0.00   \n",
       "2            400   12374        18764        939.738   0.00   0.00   0.00   \n",
       "3            400   12390        18849        939.736   0.00   0.00   0.00   \n",
       "4            400   12403        18921        939.744   0.00   0.00   0.00   \n",
       "...          ...     ...          ...            ...    ...    ...    ...   \n",
       "62625        400   13723        20569        936.670   0.63   0.65   4.32   \n",
       "62626        400   13731        20588        936.678   0.61   0.63   4.18   \n",
       "62627        400   13725        20582        936.687   0.57   0.60   3.95   \n",
       "62628        400   13712        20566        936.680   0.57   0.59   3.92   \n",
       "62629        400   13696        20543        936.676   0.57   0.59   3.90   \n",
       "\n",
       "       NC1.0  NC2.5   CNT  Fire Alarm  \n",
       "0      0.000  0.000     0           0  \n",
       "1      0.000  0.000     1           0  \n",
       "2      0.000  0.000     2           0  \n",
       "3      0.000  0.000     3           0  \n",
       "4      0.000  0.000     4           0  \n",
       "...      ...    ...   ...         ...  \n",
       "62625  0.673  0.015  5739           0  \n",
       "62626  0.652  0.015  5740           0  \n",
       "62627  0.617  0.014  5741           0  \n",
       "62628  0.611  0.014  5742           0  \n",
       "62629  0.607  0.014  5743           0  \n",
       "\n",
       "[62630 rows x 16 columns]"
      ]
     },
     "execution_count": 107,
     "metadata": {},
     "output_type": "execute_result"
    }
   ],
   "source": [
    "data"
   ]
  },
  {
   "cell_type": "code",
   "execution_count": null,
   "id": "ffe991a3",
   "metadata": {
    "execution": {
     "iopub.execute_input": "2022-10-19T14:19:07.875049Z",
     "iopub.status.busy": "2022-10-19T14:19:07.874691Z",
     "iopub.status.idle": "2022-10-19T14:19:07.975481Z",
     "shell.execute_reply": "2022-10-19T14:19:07.974346Z"
    },
    "papermill": {
     "duration": 0.118498,
     "end_time": "2022-10-19T14:19:07.977978",
     "exception": false,
     "start_time": "2022-10-19T14:19:07.859480",
     "status": "completed"
    },
    "tags": []
   },
   "outputs": [
    {
     "data": {
      "text/html": [
       "<div>\n",
       "<style scoped>\n",
       "    .dataframe tbody tr th:only-of-type {\n",
       "        vertical-align: middle;\n",
       "    }\n",
       "\n",
       "    .dataframe tbody tr th {\n",
       "        vertical-align: top;\n",
       "    }\n",
       "\n",
       "    .dataframe thead th {\n",
       "        text-align: right;\n",
       "    }\n",
       "</style>\n",
       "<table border=\"1\" class=\"dataframe\">\n",
       "  <thead>\n",
       "    <tr style=\"text-align: right;\">\n",
       "      <th></th>\n",
       "      <th>count</th>\n",
       "      <th>mean</th>\n",
       "      <th>std</th>\n",
       "      <th>min</th>\n",
       "      <th>25%</th>\n",
       "      <th>50%</th>\n",
       "      <th>75%</th>\n",
       "      <th>max</th>\n",
       "    </tr>\n",
       "  </thead>\n",
       "  <tbody>\n",
       "    <tr>\n",
       "      <th>Unnamed: 0</th>\n",
       "      <td>62630.0</td>\n",
       "      <td>3.131450e+04</td>\n",
       "      <td>18079.868017</td>\n",
       "      <td>0.000000e+00</td>\n",
       "      <td>1.565725e+04</td>\n",
       "      <td>3.131450e+04</td>\n",
       "      <td>4.697175e+04</td>\n",
       "      <td>6.262900e+04</td>\n",
       "    </tr>\n",
       "    <tr>\n",
       "      <th>UTC</th>\n",
       "      <td>62630.0</td>\n",
       "      <td>1.654792e+09</td>\n",
       "      <td>110002.488078</td>\n",
       "      <td>1.654712e+09</td>\n",
       "      <td>1.654743e+09</td>\n",
       "      <td>1.654762e+09</td>\n",
       "      <td>1.654778e+09</td>\n",
       "      <td>1.655130e+09</td>\n",
       "    </tr>\n",
       "    <tr>\n",
       "      <th>Temperature[C]</th>\n",
       "      <td>62630.0</td>\n",
       "      <td>1.597042e+01</td>\n",
       "      <td>14.359576</td>\n",
       "      <td>-2.201000e+01</td>\n",
       "      <td>1.099425e+01</td>\n",
       "      <td>2.013000e+01</td>\n",
       "      <td>2.540950e+01</td>\n",
       "      <td>5.993000e+01</td>\n",
       "    </tr>\n",
       "    <tr>\n",
       "      <th>Humidity[%]</th>\n",
       "      <td>62630.0</td>\n",
       "      <td>4.853950e+01</td>\n",
       "      <td>8.865367</td>\n",
       "      <td>1.074000e+01</td>\n",
       "      <td>4.753000e+01</td>\n",
       "      <td>5.015000e+01</td>\n",
       "      <td>5.324000e+01</td>\n",
       "      <td>7.520000e+01</td>\n",
       "    </tr>\n",
       "    <tr>\n",
       "      <th>TVOC[ppb]</th>\n",
       "      <td>62630.0</td>\n",
       "      <td>1.942058e+03</td>\n",
       "      <td>7811.589055</td>\n",
       "      <td>0.000000e+00</td>\n",
       "      <td>1.300000e+02</td>\n",
       "      <td>9.810000e+02</td>\n",
       "      <td>1.189000e+03</td>\n",
       "      <td>6.000000e+04</td>\n",
       "    </tr>\n",
       "    <tr>\n",
       "      <th>eCO2[ppm]</th>\n",
       "      <td>62630.0</td>\n",
       "      <td>6.700210e+02</td>\n",
       "      <td>1905.885439</td>\n",
       "      <td>4.000000e+02</td>\n",
       "      <td>4.000000e+02</td>\n",
       "      <td>4.000000e+02</td>\n",
       "      <td>4.380000e+02</td>\n",
       "      <td>6.000000e+04</td>\n",
       "    </tr>\n",
       "    <tr>\n",
       "      <th>Raw H2</th>\n",
       "      <td>62630.0</td>\n",
       "      <td>1.294245e+04</td>\n",
       "      <td>272.464305</td>\n",
       "      <td>1.066800e+04</td>\n",
       "      <td>1.283000e+04</td>\n",
       "      <td>1.292400e+04</td>\n",
       "      <td>1.310900e+04</td>\n",
       "      <td>1.380300e+04</td>\n",
       "    </tr>\n",
       "    <tr>\n",
       "      <th>Raw Ethanol</th>\n",
       "      <td>62630.0</td>\n",
       "      <td>1.975426e+04</td>\n",
       "      <td>609.513156</td>\n",
       "      <td>1.531700e+04</td>\n",
       "      <td>1.943500e+04</td>\n",
       "      <td>1.950100e+04</td>\n",
       "      <td>2.007800e+04</td>\n",
       "      <td>2.141000e+04</td>\n",
       "    </tr>\n",
       "    <tr>\n",
       "      <th>Pressure[hPa]</th>\n",
       "      <td>62630.0</td>\n",
       "      <td>9.386276e+02</td>\n",
       "      <td>1.331344</td>\n",
       "      <td>9.308520e+02</td>\n",
       "      <td>9.387000e+02</td>\n",
       "      <td>9.388160e+02</td>\n",
       "      <td>9.394180e+02</td>\n",
       "      <td>9.398610e+02</td>\n",
       "    </tr>\n",
       "    <tr>\n",
       "      <th>PM1.0</th>\n",
       "      <td>62630.0</td>\n",
       "      <td>1.005943e+02</td>\n",
       "      <td>922.524245</td>\n",
       "      <td>0.000000e+00</td>\n",
       "      <td>1.280000e+00</td>\n",
       "      <td>1.810000e+00</td>\n",
       "      <td>2.090000e+00</td>\n",
       "      <td>1.433369e+04</td>\n",
       "    </tr>\n",
       "    <tr>\n",
       "      <th>PM2.5</th>\n",
       "      <td>62630.0</td>\n",
       "      <td>1.844678e+02</td>\n",
       "      <td>1976.305615</td>\n",
       "      <td>0.000000e+00</td>\n",
       "      <td>1.340000e+00</td>\n",
       "      <td>1.880000e+00</td>\n",
       "      <td>2.180000e+00</td>\n",
       "      <td>4.543226e+04</td>\n",
       "    </tr>\n",
       "    <tr>\n",
       "      <th>NC0.5</th>\n",
       "      <td>62630.0</td>\n",
       "      <td>4.914636e+02</td>\n",
       "      <td>4265.661251</td>\n",
       "      <td>0.000000e+00</td>\n",
       "      <td>8.820000e+00</td>\n",
       "      <td>1.245000e+01</td>\n",
       "      <td>1.442000e+01</td>\n",
       "      <td>6.148203e+04</td>\n",
       "    </tr>\n",
       "    <tr>\n",
       "      <th>NC1.0</th>\n",
       "      <td>62630.0</td>\n",
       "      <td>2.035865e+02</td>\n",
       "      <td>2214.738556</td>\n",
       "      <td>0.000000e+00</td>\n",
       "      <td>1.384000e+00</td>\n",
       "      <td>1.943000e+00</td>\n",
       "      <td>2.249000e+00</td>\n",
       "      <td>5.191468e+04</td>\n",
       "    </tr>\n",
       "    <tr>\n",
       "      <th>NC2.5</th>\n",
       "      <td>62630.0</td>\n",
       "      <td>8.004904e+01</td>\n",
       "      <td>1083.383189</td>\n",
       "      <td>0.000000e+00</td>\n",
       "      <td>3.300000e-02</td>\n",
       "      <td>4.400000e-02</td>\n",
       "      <td>5.100000e-02</td>\n",
       "      <td>3.002644e+04</td>\n",
       "    </tr>\n",
       "    <tr>\n",
       "      <th>CNT</th>\n",
       "      <td>62630.0</td>\n",
       "      <td>1.051139e+04</td>\n",
       "      <td>7597.870997</td>\n",
       "      <td>0.000000e+00</td>\n",
       "      <td>3.625250e+03</td>\n",
       "      <td>9.336000e+03</td>\n",
       "      <td>1.716475e+04</td>\n",
       "      <td>2.499300e+04</td>\n",
       "    </tr>\n",
       "    <tr>\n",
       "      <th>Fire Alarm</th>\n",
       "      <td>62630.0</td>\n",
       "      <td>7.146256e-01</td>\n",
       "      <td>0.451596</td>\n",
       "      <td>0.000000e+00</td>\n",
       "      <td>0.000000e+00</td>\n",
       "      <td>1.000000e+00</td>\n",
       "      <td>1.000000e+00</td>\n",
       "      <td>1.000000e+00</td>\n",
       "    </tr>\n",
       "  </tbody>\n",
       "</table>\n",
       "</div>"
      ],
      "text/plain": [
       "                  count          mean            std           min  \\\n",
       "Unnamed: 0      62630.0  3.131450e+04   18079.868017  0.000000e+00   \n",
       "UTC             62630.0  1.654792e+09  110002.488078  1.654712e+09   \n",
       "Temperature[C]  62630.0  1.597042e+01      14.359576 -2.201000e+01   \n",
       "Humidity[%]     62630.0  4.853950e+01       8.865367  1.074000e+01   \n",
       "TVOC[ppb]       62630.0  1.942058e+03    7811.589055  0.000000e+00   \n",
       "eCO2[ppm]       62630.0  6.700210e+02    1905.885439  4.000000e+02   \n",
       "Raw H2          62630.0  1.294245e+04     272.464305  1.066800e+04   \n",
       "Raw Ethanol     62630.0  1.975426e+04     609.513156  1.531700e+04   \n",
       "Pressure[hPa]   62630.0  9.386276e+02       1.331344  9.308520e+02   \n",
       "PM1.0           62630.0  1.005943e+02     922.524245  0.000000e+00   \n",
       "PM2.5           62630.0  1.844678e+02    1976.305615  0.000000e+00   \n",
       "NC0.5           62630.0  4.914636e+02    4265.661251  0.000000e+00   \n",
       "NC1.0           62630.0  2.035865e+02    2214.738556  0.000000e+00   \n",
       "NC2.5           62630.0  8.004904e+01    1083.383189  0.000000e+00   \n",
       "CNT             62630.0  1.051139e+04    7597.870997  0.000000e+00   \n",
       "Fire Alarm      62630.0  7.146256e-01       0.451596  0.000000e+00   \n",
       "\n",
       "                         25%           50%           75%           max  \n",
       "Unnamed: 0      1.565725e+04  3.131450e+04  4.697175e+04  6.262900e+04  \n",
       "UTC             1.654743e+09  1.654762e+09  1.654778e+09  1.655130e+09  \n",
       "Temperature[C]  1.099425e+01  2.013000e+01  2.540950e+01  5.993000e+01  \n",
       "Humidity[%]     4.753000e+01  5.015000e+01  5.324000e+01  7.520000e+01  \n",
       "TVOC[ppb]       1.300000e+02  9.810000e+02  1.189000e+03  6.000000e+04  \n",
       "eCO2[ppm]       4.000000e+02  4.000000e+02  4.380000e+02  6.000000e+04  \n",
       "Raw H2          1.283000e+04  1.292400e+04  1.310900e+04  1.380300e+04  \n",
       "Raw Ethanol     1.943500e+04  1.950100e+04  2.007800e+04  2.141000e+04  \n",
       "Pressure[hPa]   9.387000e+02  9.388160e+02  9.394180e+02  9.398610e+02  \n",
       "PM1.0           1.280000e+00  1.810000e+00  2.090000e+00  1.433369e+04  \n",
       "PM2.5           1.340000e+00  1.880000e+00  2.180000e+00  4.543226e+04  \n",
       "NC0.5           8.820000e+00  1.245000e+01  1.442000e+01  6.148203e+04  \n",
       "NC1.0           1.384000e+00  1.943000e+00  2.249000e+00  5.191468e+04  \n",
       "NC2.5           3.300000e-02  4.400000e-02  5.100000e-02  3.002644e+04  \n",
       "CNT             3.625250e+03  9.336000e+03  1.716475e+04  2.499300e+04  \n",
       "Fire Alarm      0.000000e+00  1.000000e+00  1.000000e+00  1.000000e+00  "
      ]
     },
     "execution_count": 108,
     "metadata": {},
     "output_type": "execute_result"
    }
   ],
   "source": [
    "data.describe().transpose()"
   ]
  },
  {
   "cell_type": "code",
   "execution_count": null,
   "id": "a00bee40",
   "metadata": {
    "execution": {
     "iopub.execute_input": "2022-10-19T14:19:08.011548Z",
     "iopub.status.busy": "2022-10-19T14:19:08.009452Z",
     "iopub.status.idle": "2022-10-19T14:19:08.091965Z",
     "shell.execute_reply": "2022-10-19T14:19:08.090842Z"
    },
    "papermill": {
     "duration": 0.102245,
     "end_time": "2022-10-19T14:19:08.094545",
     "exception": false,
     "start_time": "2022-10-19T14:19:07.992300",
     "status": "completed"
    },
    "tags": []
   },
   "outputs": [
    {
     "data": {
      "text/html": [
       "<div>\n",
       "<style scoped>\n",
       "    .dataframe tbody tr th:only-of-type {\n",
       "        vertical-align: middle;\n",
       "    }\n",
       "\n",
       "    .dataframe tbody tr th {\n",
       "        vertical-align: top;\n",
       "    }\n",
       "\n",
       "    .dataframe thead th {\n",
       "        text-align: right;\n",
       "    }\n",
       "</style>\n",
       "<table border=\"1\" class=\"dataframe\">\n",
       "  <thead>\n",
       "    <tr style=\"text-align: right;\">\n",
       "      <th></th>\n",
       "      <th>Unnamed: 0</th>\n",
       "      <th>UTC</th>\n",
       "      <th>Temperature[C]</th>\n",
       "      <th>Humidity[%]</th>\n",
       "      <th>TVOC[ppb]</th>\n",
       "      <th>eCO2[ppm]</th>\n",
       "      <th>Raw H2</th>\n",
       "      <th>Raw Ethanol</th>\n",
       "      <th>Pressure[hPa]</th>\n",
       "      <th>PM1.0</th>\n",
       "      <th>PM2.5</th>\n",
       "      <th>NC0.5</th>\n",
       "      <th>NC1.0</th>\n",
       "      <th>NC2.5</th>\n",
       "      <th>CNT</th>\n",
       "      <th>Fire Alarm</th>\n",
       "    </tr>\n",
       "  </thead>\n",
       "  <tbody>\n",
       "    <tr>\n",
       "      <th>Unnamed: 0</th>\n",
       "      <td>1.000000</td>\n",
       "      <td>0.551987</td>\n",
       "      <td>0.425636</td>\n",
       "      <td>-0.498121</td>\n",
       "      <td>0.248813</td>\n",
       "      <td>0.160665</td>\n",
       "      <td>-0.232854</td>\n",
       "      <td>0.083094</td>\n",
       "      <td>-0.580829</td>\n",
       "      <td>0.151785</td>\n",
       "      <td>0.128487</td>\n",
       "      <td>0.162053</td>\n",
       "      <td>0.126418</td>\n",
       "      <td>0.100300</td>\n",
       "      <td>-0.053262</td>\n",
       "      <td>-0.361351</td>\n",
       "    </tr>\n",
       "    <tr>\n",
       "      <th>UTC</th>\n",
       "      <td>0.551987</td>\n",
       "      <td>1.000000</td>\n",
       "      <td>-0.164174</td>\n",
       "      <td>-0.391907</td>\n",
       "      <td>0.180731</td>\n",
       "      <td>0.132100</td>\n",
       "      <td>-0.151088</td>\n",
       "      <td>0.166555</td>\n",
       "      <td>-0.434375</td>\n",
       "      <td>0.123168</td>\n",
       "      <td>0.105304</td>\n",
       "      <td>0.130288</td>\n",
       "      <td>0.103695</td>\n",
       "      <td>0.083234</td>\n",
       "      <td>-0.251595</td>\n",
       "      <td>-0.389404</td>\n",
       "    </tr>\n",
       "    <tr>\n",
       "      <th>Temperature[C]</th>\n",
       "      <td>0.425636</td>\n",
       "      <td>-0.164174</td>\n",
       "      <td>1.000000</td>\n",
       "      <td>-0.243986</td>\n",
       "      <td>0.082442</td>\n",
       "      <td>0.079265</td>\n",
       "      <td>-0.135540</td>\n",
       "      <td>-0.037343</td>\n",
       "      <td>-0.251203</td>\n",
       "      <td>0.037330</td>\n",
       "      <td>0.032084</td>\n",
       "      <td>0.039291</td>\n",
       "      <td>0.031608</td>\n",
       "      <td>0.025526</td>\n",
       "      <td>-0.089850</td>\n",
       "      <td>-0.163902</td>\n",
       "    </tr>\n",
       "    <tr>\n",
       "      <th>Humidity[%]</th>\n",
       "      <td>-0.498121</td>\n",
       "      <td>-0.391907</td>\n",
       "      <td>-0.243986</td>\n",
       "      <td>1.000000</td>\n",
       "      <td>-0.488878</td>\n",
       "      <td>-0.369095</td>\n",
       "      <td>0.247199</td>\n",
       "      <td>0.068782</td>\n",
       "      <td>0.694614</td>\n",
       "      <td>-0.236538</td>\n",
       "      <td>-0.178882</td>\n",
       "      <td>-0.277389</td>\n",
       "      <td>-0.174224</td>\n",
       "      <td>-0.118502</td>\n",
       "      <td>0.251965</td>\n",
       "      <td>0.399846</td>\n",
       "    </tr>\n",
       "    <tr>\n",
       "      <th>TVOC[ppb]</th>\n",
       "      <td>0.248813</td>\n",
       "      <td>0.180731</td>\n",
       "      <td>0.082442</td>\n",
       "      <td>-0.488878</td>\n",
       "      <td>1.000000</td>\n",
       "      <td>0.606118</td>\n",
       "      <td>-0.653053</td>\n",
       "      <td>-0.673715</td>\n",
       "      <td>-0.220004</td>\n",
       "      <td>0.597366</td>\n",
       "      <td>0.477424</td>\n",
       "      <td>0.670657</td>\n",
       "      <td>0.467386</td>\n",
       "      <td>0.344721</td>\n",
       "      <td>-0.057703</td>\n",
       "      <td>-0.214743</td>\n",
       "    </tr>\n",
       "    <tr>\n",
       "      <th>eCO2[ppm]</th>\n",
       "      <td>0.160665</td>\n",
       "      <td>0.132100</td>\n",
       "      <td>0.079265</td>\n",
       "      <td>-0.369095</td>\n",
       "      <td>0.606118</td>\n",
       "      <td>1.000000</td>\n",
       "      <td>-0.682785</td>\n",
       "      <td>-0.506695</td>\n",
       "      <td>-0.326043</td>\n",
       "      <td>0.665482</td>\n",
       "      <td>0.572691</td>\n",
       "      <td>0.699604</td>\n",
       "      <td>0.564252</td>\n",
       "      <td>0.456323</td>\n",
       "      <td>-0.106681</td>\n",
       "      <td>-0.097006</td>\n",
       "    </tr>\n",
       "    <tr>\n",
       "      <th>Raw H2</th>\n",
       "      <td>-0.232854</td>\n",
       "      <td>-0.151088</td>\n",
       "      <td>-0.135540</td>\n",
       "      <td>0.247199</td>\n",
       "      <td>-0.653053</td>\n",
       "      <td>-0.682785</td>\n",
       "      <td>1.000000</td>\n",
       "      <td>0.631495</td>\n",
       "      <td>0.303090</td>\n",
       "      <td>-0.530714</td>\n",
       "      <td>-0.431079</td>\n",
       "      <td>-0.587769</td>\n",
       "      <td>-0.422626</td>\n",
       "      <td>-0.318518</td>\n",
       "      <td>-0.031036</td>\n",
       "      <td>0.107007</td>\n",
       "    </tr>\n",
       "    <tr>\n",
       "      <th>Raw Ethanol</th>\n",
       "      <td>0.083094</td>\n",
       "      <td>0.166555</td>\n",
       "      <td>-0.037343</td>\n",
       "      <td>0.068782</td>\n",
       "      <td>-0.673715</td>\n",
       "      <td>-0.506695</td>\n",
       "      <td>0.631495</td>\n",
       "      <td>1.000000</td>\n",
       "      <td>-0.075926</td>\n",
       "      <td>-0.480698</td>\n",
       "      <td>-0.393192</td>\n",
       "      <td>-0.529186</td>\n",
       "      <td>-0.385720</td>\n",
       "      <td>-0.293351</td>\n",
       "      <td>-0.511995</td>\n",
       "      <td>-0.340652</td>\n",
       "    </tr>\n",
       "    <tr>\n",
       "      <th>Pressure[hPa]</th>\n",
       "      <td>-0.580829</td>\n",
       "      <td>-0.434375</td>\n",
       "      <td>-0.251203</td>\n",
       "      <td>0.694614</td>\n",
       "      <td>-0.220004</td>\n",
       "      <td>-0.326043</td>\n",
       "      <td>0.303090</td>\n",
       "      <td>-0.075926</td>\n",
       "      <td>1.000000</td>\n",
       "      <td>-0.258938</td>\n",
       "      <td>-0.243071</td>\n",
       "      <td>-0.248657</td>\n",
       "      <td>-0.241148</td>\n",
       "      <td>-0.213390</td>\n",
       "      <td>0.186290</td>\n",
       "      <td>0.249797</td>\n",
       "    </tr>\n",
       "    <tr>\n",
       "      <th>PM1.0</th>\n",
       "      <td>0.151785</td>\n",
       "      <td>0.123168</td>\n",
       "      <td>0.037330</td>\n",
       "      <td>-0.236538</td>\n",
       "      <td>0.597366</td>\n",
       "      <td>0.665482</td>\n",
       "      <td>-0.530714</td>\n",
       "      <td>-0.480698</td>\n",
       "      <td>-0.258938</td>\n",
       "      <td>1.000000</td>\n",
       "      <td>0.956118</td>\n",
       "      <td>0.940045</td>\n",
       "      <td>0.949860</td>\n",
       "      <td>0.854901</td>\n",
       "      <td>-0.093700</td>\n",
       "      <td>-0.110552</td>\n",
       "    </tr>\n",
       "    <tr>\n",
       "      <th>PM2.5</th>\n",
       "      <td>0.128487</td>\n",
       "      <td>0.105304</td>\n",
       "      <td>0.032084</td>\n",
       "      <td>-0.178882</td>\n",
       "      <td>0.477424</td>\n",
       "      <td>0.572691</td>\n",
       "      <td>-0.431079</td>\n",
       "      <td>-0.393192</td>\n",
       "      <td>-0.243071</td>\n",
       "      <td>0.956118</td>\n",
       "      <td>1.000000</td>\n",
       "      <td>0.798873</td>\n",
       "      <td>0.999787</td>\n",
       "      <td>0.969382</td>\n",
       "      <td>-0.083869</td>\n",
       "      <td>-0.084916</td>\n",
       "    </tr>\n",
       "    <tr>\n",
       "      <th>NC0.5</th>\n",
       "      <td>0.162053</td>\n",
       "      <td>0.130288</td>\n",
       "      <td>0.039291</td>\n",
       "      <td>-0.277389</td>\n",
       "      <td>0.670657</td>\n",
       "      <td>0.699604</td>\n",
       "      <td>-0.587769</td>\n",
       "      <td>-0.529186</td>\n",
       "      <td>-0.248657</td>\n",
       "      <td>0.940045</td>\n",
       "      <td>0.798873</td>\n",
       "      <td>1.000000</td>\n",
       "      <td>0.786274</td>\n",
       "      <td>0.626711</td>\n",
       "      <td>-0.094741</td>\n",
       "      <td>-0.128118</td>\n",
       "    </tr>\n",
       "    <tr>\n",
       "      <th>NC1.0</th>\n",
       "      <td>0.126418</td>\n",
       "      <td>0.103695</td>\n",
       "      <td>0.031608</td>\n",
       "      <td>-0.174224</td>\n",
       "      <td>0.467386</td>\n",
       "      <td>0.564252</td>\n",
       "      <td>-0.422626</td>\n",
       "      <td>-0.385720</td>\n",
       "      <td>-0.241148</td>\n",
       "      <td>0.949860</td>\n",
       "      <td>0.999787</td>\n",
       "      <td>0.786274</td>\n",
       "      <td>1.000000</td>\n",
       "      <td>0.974249</td>\n",
       "      <td>-0.082898</td>\n",
       "      <td>-0.082828</td>\n",
       "    </tr>\n",
       "    <tr>\n",
       "      <th>NC2.5</th>\n",
       "      <td>0.100300</td>\n",
       "      <td>0.083234</td>\n",
       "      <td>0.025526</td>\n",
       "      <td>-0.118502</td>\n",
       "      <td>0.344721</td>\n",
       "      <td>0.456323</td>\n",
       "      <td>-0.318518</td>\n",
       "      <td>-0.293351</td>\n",
       "      <td>-0.213390</td>\n",
       "      <td>0.854901</td>\n",
       "      <td>0.969382</td>\n",
       "      <td>0.626711</td>\n",
       "      <td>0.974249</td>\n",
       "      <td>1.000000</td>\n",
       "      <td>-0.069977</td>\n",
       "      <td>-0.057707</td>\n",
       "    </tr>\n",
       "    <tr>\n",
       "      <th>CNT</th>\n",
       "      <td>-0.053262</td>\n",
       "      <td>-0.251595</td>\n",
       "      <td>-0.089850</td>\n",
       "      <td>0.251965</td>\n",
       "      <td>-0.057703</td>\n",
       "      <td>-0.106681</td>\n",
       "      <td>-0.031036</td>\n",
       "      <td>-0.511995</td>\n",
       "      <td>0.186290</td>\n",
       "      <td>-0.093700</td>\n",
       "      <td>-0.083869</td>\n",
       "      <td>-0.094741</td>\n",
       "      <td>-0.082898</td>\n",
       "      <td>-0.069977</td>\n",
       "      <td>1.000000</td>\n",
       "      <td>0.673762</td>\n",
       "    </tr>\n",
       "    <tr>\n",
       "      <th>Fire Alarm</th>\n",
       "      <td>-0.361351</td>\n",
       "      <td>-0.389404</td>\n",
       "      <td>-0.163902</td>\n",
       "      <td>0.399846</td>\n",
       "      <td>-0.214743</td>\n",
       "      <td>-0.097006</td>\n",
       "      <td>0.107007</td>\n",
       "      <td>-0.340652</td>\n",
       "      <td>0.249797</td>\n",
       "      <td>-0.110552</td>\n",
       "      <td>-0.084916</td>\n",
       "      <td>-0.128118</td>\n",
       "      <td>-0.082828</td>\n",
       "      <td>-0.057707</td>\n",
       "      <td>0.673762</td>\n",
       "      <td>1.000000</td>\n",
       "    </tr>\n",
       "  </tbody>\n",
       "</table>\n",
       "</div>"
      ],
      "text/plain": [
       "                Unnamed: 0       UTC  Temperature[C]  Humidity[%]  TVOC[ppb]  \\\n",
       "Unnamed: 0        1.000000  0.551987        0.425636    -0.498121   0.248813   \n",
       "UTC               0.551987  1.000000       -0.164174    -0.391907   0.180731   \n",
       "Temperature[C]    0.425636 -0.164174        1.000000    -0.243986   0.082442   \n",
       "Humidity[%]      -0.498121 -0.391907       -0.243986     1.000000  -0.488878   \n",
       "TVOC[ppb]         0.248813  0.180731        0.082442    -0.488878   1.000000   \n",
       "eCO2[ppm]         0.160665  0.132100        0.079265    -0.369095   0.606118   \n",
       "Raw H2           -0.232854 -0.151088       -0.135540     0.247199  -0.653053   \n",
       "Raw Ethanol       0.083094  0.166555       -0.037343     0.068782  -0.673715   \n",
       "Pressure[hPa]    -0.580829 -0.434375       -0.251203     0.694614  -0.220004   \n",
       "PM1.0             0.151785  0.123168        0.037330    -0.236538   0.597366   \n",
       "PM2.5             0.128487  0.105304        0.032084    -0.178882   0.477424   \n",
       "NC0.5             0.162053  0.130288        0.039291    -0.277389   0.670657   \n",
       "NC1.0             0.126418  0.103695        0.031608    -0.174224   0.467386   \n",
       "NC2.5             0.100300  0.083234        0.025526    -0.118502   0.344721   \n",
       "CNT              -0.053262 -0.251595       -0.089850     0.251965  -0.057703   \n",
       "Fire Alarm       -0.361351 -0.389404       -0.163902     0.399846  -0.214743   \n",
       "\n",
       "                eCO2[ppm]    Raw H2  Raw Ethanol  Pressure[hPa]     PM1.0  \\\n",
       "Unnamed: 0       0.160665 -0.232854     0.083094      -0.580829  0.151785   \n",
       "UTC              0.132100 -0.151088     0.166555      -0.434375  0.123168   \n",
       "Temperature[C]   0.079265 -0.135540    -0.037343      -0.251203  0.037330   \n",
       "Humidity[%]     -0.369095  0.247199     0.068782       0.694614 -0.236538   \n",
       "TVOC[ppb]        0.606118 -0.653053    -0.673715      -0.220004  0.597366   \n",
       "eCO2[ppm]        1.000000 -0.682785    -0.506695      -0.326043  0.665482   \n",
       "Raw H2          -0.682785  1.000000     0.631495       0.303090 -0.530714   \n",
       "Raw Ethanol     -0.506695  0.631495     1.000000      -0.075926 -0.480698   \n",
       "Pressure[hPa]   -0.326043  0.303090    -0.075926       1.000000 -0.258938   \n",
       "PM1.0            0.665482 -0.530714    -0.480698      -0.258938  1.000000   \n",
       "PM2.5            0.572691 -0.431079    -0.393192      -0.243071  0.956118   \n",
       "NC0.5            0.699604 -0.587769    -0.529186      -0.248657  0.940045   \n",
       "NC1.0            0.564252 -0.422626    -0.385720      -0.241148  0.949860   \n",
       "NC2.5            0.456323 -0.318518    -0.293351      -0.213390  0.854901   \n",
       "CNT             -0.106681 -0.031036    -0.511995       0.186290 -0.093700   \n",
       "Fire Alarm      -0.097006  0.107007    -0.340652       0.249797 -0.110552   \n",
       "\n",
       "                   PM2.5     NC0.5     NC1.0     NC2.5       CNT  Fire Alarm  \n",
       "Unnamed: 0      0.128487  0.162053  0.126418  0.100300 -0.053262   -0.361351  \n",
       "UTC             0.105304  0.130288  0.103695  0.083234 -0.251595   -0.389404  \n",
       "Temperature[C]  0.032084  0.039291  0.031608  0.025526 -0.089850   -0.163902  \n",
       "Humidity[%]    -0.178882 -0.277389 -0.174224 -0.118502  0.251965    0.399846  \n",
       "TVOC[ppb]       0.477424  0.670657  0.467386  0.344721 -0.057703   -0.214743  \n",
       "eCO2[ppm]       0.572691  0.699604  0.564252  0.456323 -0.106681   -0.097006  \n",
       "Raw H2         -0.431079 -0.587769 -0.422626 -0.318518 -0.031036    0.107007  \n",
       "Raw Ethanol    -0.393192 -0.529186 -0.385720 -0.293351 -0.511995   -0.340652  \n",
       "Pressure[hPa]  -0.243071 -0.248657 -0.241148 -0.213390  0.186290    0.249797  \n",
       "PM1.0           0.956118  0.940045  0.949860  0.854901 -0.093700   -0.110552  \n",
       "PM2.5           1.000000  0.798873  0.999787  0.969382 -0.083869   -0.084916  \n",
       "NC0.5           0.798873  1.000000  0.786274  0.626711 -0.094741   -0.128118  \n",
       "NC1.0           0.999787  0.786274  1.000000  0.974249 -0.082898   -0.082828  \n",
       "NC2.5           0.969382  0.626711  0.974249  1.000000 -0.069977   -0.057707  \n",
       "CNT            -0.083869 -0.094741 -0.082898 -0.069977  1.000000    0.673762  \n",
       "Fire Alarm     -0.084916 -0.128118 -0.082828 -0.057707  0.673762    1.000000  "
      ]
     },
     "execution_count": 109,
     "metadata": {},
     "output_type": "execute_result"
    }
   ],
   "source": [
    "data.corr()"
   ]
  },
  {
   "cell_type": "code",
   "execution_count": null,
   "id": "cf7706cf",
   "metadata": {
    "execution": {
     "iopub.execute_input": "2022-10-19T14:19:08.126412Z",
     "iopub.status.busy": "2022-10-19T14:19:08.126014Z",
     "iopub.status.idle": "2022-10-19T14:19:08.184588Z",
     "shell.execute_reply": "2022-10-19T14:19:08.183347Z"
    },
    "papermill": {
     "duration": 0.077419,
     "end_time": "2022-10-19T14:19:08.187036",
     "exception": false,
     "start_time": "2022-10-19T14:19:08.109617",
     "status": "completed"
    },
    "tags": []
   },
   "outputs": [
    {
     "data": {
      "text/plain": [
       "UTC              -0.389404\n",
       "Unnamed: 0       -0.361351\n",
       "Raw Ethanol      -0.340652\n",
       "TVOC[ppb]        -0.214743\n",
       "Temperature[C]   -0.163902\n",
       "NC0.5            -0.128118\n",
       "PM1.0            -0.110552\n",
       "eCO2[ppm]        -0.097006\n",
       "PM2.5            -0.084916\n",
       "NC1.0            -0.082828\n",
       "NC2.5            -0.057707\n",
       "Raw H2            0.107007\n",
       "Pressure[hPa]     0.249797\n",
       "Humidity[%]       0.399846\n",
       "CNT               0.673762\n",
       "Fire Alarm        1.000000\n",
       "Name: Fire Alarm, dtype: float64"
      ]
     },
     "execution_count": 110,
     "metadata": {},
     "output_type": "execute_result"
    }
   ],
   "source": [
    "data.corr()['Fire Alarm'].sort_values()"
   ]
  },
  {
   "cell_type": "code",
   "execution_count": null,
   "id": "171675b7",
   "metadata": {
    "execution": {
     "iopub.execute_input": "2022-10-19T14:19:08.219337Z",
     "iopub.status.busy": "2022-10-19T14:19:08.218894Z",
     "iopub.status.idle": "2022-10-19T14:19:08.604489Z",
     "shell.execute_reply": "2022-10-19T14:19:08.603249Z"
    },
    "papermill": {
     "duration": 0.405339,
     "end_time": "2022-10-19T14:19:08.607543",
     "exception": false,
     "start_time": "2022-10-19T14:19:08.202204",
     "status": "completed"
    },
    "tags": []
   },
   "outputs": [
    {
     "data": {
      "text/plain": [
       "<AxesSubplot:>"
      ]
     },
     "execution_count": 111,
     "metadata": {},
     "output_type": "execute_result"
    },
    {
     "data": {
      "image/png": "[encoded data removed]",
      "text/plain": [
       "<Figure size 640x480 with 1 Axes>"
      ]
     },
     "metadata": {},
     "output_type": "display_data"
    }
   ],
   "source": [
    "data.corr()['Fire Alarm'].sort_values().plot(kind='bar')"
   ]
  },
  {
   "cell_type": "code",
   "execution_count": null,
   "id": "81e20a2e",
   "metadata": {
    "execution": {
     "iopub.execute_input": "2022-10-19T14:19:08.640708Z",
     "iopub.status.busy": "2022-10-19T14:19:08.640323Z",
     "iopub.status.idle": "2022-10-19T14:19:08.645916Z",
     "shell.execute_reply": "2022-10-19T14:19:08.644784Z"
    },
    "papermill": {
     "duration": 0.025121,
     "end_time": "2022-10-19T14:19:08.648323",
     "exception": false,
     "start_time": "2022-10-19T14:19:08.623202",
     "status": "completed"
    },
    "tags": []
   },
   "outputs": [],
   "source": [
    "cols=['Unnamed: 0' , 'CNT' , 'Raw Ethanol', 'Pressure[hPa]', 'UTC' ,'Humidity[%]' , 'PM1.0', 'PM1.0' , 'NC0.5' ,'NC1.0' ,'NC2.5']"
   ]
  },
  {
   "cell_type": "code",
   "execution_count": null,
   "id": "64b61c8d",
   "metadata": {
    "execution": {
     "iopub.execute_input": "2022-10-19T14:19:08.682699Z",
     "iopub.status.busy": "2022-10-19T14:19:08.681745Z",
     "iopub.status.idle": "2022-10-19T14:19:08.689937Z",
     "shell.execute_reply": "2022-10-19T14:19:08.688502Z"
    },
    "papermill": {
     "duration": 0.028335,
     "end_time": "2022-10-19T14:19:08.692810",
     "exception": false,
     "start_time": "2022-10-19T14:19:08.664475",
     "status": "completed"
    },
    "tags": []
   },
   "outputs": [],
   "source": [
    "data.drop(cols, axis=1, inplace=True) "
   ]
  },
  {
   "cell_type": "code",
   "execution_count": null,
   "id": "ef98be7f",
   "metadata": {
    "execution": {
     "iopub.execute_input": "2022-10-19T14:19:08.726083Z",
     "iopub.status.busy": "2022-10-19T14:19:08.725666Z",
     "iopub.status.idle": "2022-10-19T14:19:08.732840Z",
     "shell.execute_reply": "2022-10-19T14:19:08.731539Z"
    },
    "papermill": {
     "duration": 0.027035,
     "end_time": "2022-10-19T14:19:08.735435",
     "exception": false,
     "start_time": "2022-10-19T14:19:08.708400",
     "status": "completed"
    },
    "tags": []
   },
   "outputs": [
    {
     "data": {
      "text/plain": [
       "(62630, 6)"
      ]
     },
     "execution_count": 114,
     "metadata": {},
     "output_type": "execute_result"
    }
   ],
   "source": [
    "data.shape"
   ]
  },
  {
   "cell_type": "code",
   "execution_count": null,
   "id": "580fdb33",
   "metadata": {
    "execution": {
     "iopub.execute_input": "2022-10-19T14:19:08.769234Z",
     "iopub.status.busy": "2022-10-19T14:19:08.768817Z",
     "iopub.status.idle": "2022-10-19T14:19:08.778696Z",
     "shell.execute_reply": "2022-10-19T14:19:08.777741Z"
    },
    "papermill": {
     "duration": 0.029663,
     "end_time": "2022-10-19T14:19:08.780834",
     "exception": false,
     "start_time": "2022-10-19T14:19:08.751171",
     "status": "completed"
    },
    "tags": []
   },
   "outputs": [
    {
     "data": {
      "text/plain": [
       "1    44757\n",
       "0    17873\n",
       "Name: Fire Alarm, dtype: int64"
      ]
     },
     "execution_count": 115,
     "metadata": {},
     "output_type": "execute_result"
    }
   ],
   "source": [
    "data[\"Fire Alarm\"].value_counts()"
   ]
  },
  {
   "cell_type": "code",
   "execution_count": null,
   "id": "53f192ae",
   "metadata": {
    "execution": {
     "iopub.execute_input": "2022-10-19T14:19:08.814327Z",
     "iopub.status.busy": "2022-10-19T14:19:08.813848Z",
     "iopub.status.idle": "2022-10-19T14:19:08.832377Z",
     "shell.execute_reply": "2022-10-19T14:19:08.830954Z"
    },
    "papermill": {
     "duration": 0.038629,
     "end_time": "2022-10-19T14:19:08.835251",
     "exception": false,
     "start_time": "2022-10-19T14:19:08.796622",
     "status": "completed"
    },
    "tags": []
   },
   "outputs": [
    {
     "name": "stdout",
     "output_type": "stream",
     "text": [
      "<class 'pandas.core.frame.DataFrame'>\n",
      "RangeIndex: 62630 entries, 0 to 62629\n",
      "Data columns (total 6 columns):\n",
      " #   Column          Non-Null Count  Dtype  \n",
      "---  ------          --------------  -----  \n",
      " 0   Temperature[C]  62630 non-null  float64\n",
      " 1   TVOC[ppb]       62630 non-null  int64  \n",
      " 2   eCO2[ppm]       62630 non-null  int64  \n",
      " 3   Raw H2          62630 non-null  int64  \n",
      " 4   PM2.5           62630 non-null  float64\n",
      " 5   Fire Alarm      62630 non-null  int64  \n",
      "dtypes: float64(2), int64(4)\n",
      "memory usage: 2.9 MB\n"
     ]
    }
   ],
   "source": [
    "data.info()"
   ]
  },
  {
   "cell_type": "markdown",
   "id": "a1b2dccf",
   "metadata": {
    "papermill": {
     "duration": 0.015735,
     "end_time": "2022-10-19T14:19:08.867458",
     "exception": false,
     "start_time": "2022-10-19T14:19:08.851723",
     "status": "completed"
    },
    "tags": []
   },
   "source": [
    "# Null values detection"
   ]
  },
  {
   "cell_type": "code",
   "execution_count": null,
   "id": "885be020",
   "metadata": {
    "execution": {
     "iopub.execute_input": "2022-10-19T14:19:08.901227Z",
     "iopub.status.busy": "2022-10-19T14:19:08.900751Z",
     "iopub.status.idle": "2022-10-19T14:19:08.912327Z",
     "shell.execute_reply": "2022-10-19T14:19:08.910823Z"
    },
    "papermill": {
     "duration": 0.030943,
     "end_time": "2022-10-19T14:19:08.914734",
     "exception": false,
     "start_time": "2022-10-19T14:19:08.883791",
     "status": "completed"
    },
    "tags": []
   },
   "outputs": [
    {
     "data": {
      "text/plain": [
       "Temperature[C]    0\n",
       "TVOC[ppb]         0\n",
       "eCO2[ppm]         0\n",
       "Raw H2            0\n",
       "PM2.5             0\n",
       "Fire Alarm        0\n",
       "dtype: int64"
      ]
     },
     "execution_count": 117,
     "metadata": {},
     "output_type": "execute_result"
    }
   ],
   "source": [
    "data.isnull().sum()"
   ]
  },
  {
   "cell_type": "markdown",
   "id": "77586e8f",
   "metadata": {
    "execution": {
     "iopub.execute_input": "2022-10-15T14:40:38.218393Z",
     "iopub.status.busy": "2022-10-15T14:40:38.218062Z",
     "iopub.status.idle": "2022-10-15T14:40:38.223001Z",
     "shell.execute_reply": "2022-10-15T14:40:38.221315Z",
     "shell.execute_reply.started": "2022-10-15T14:40:38.218368Z"
    },
    "papermill": {
     "duration": 0.015626,
     "end_time": "2022-10-19T14:19:08.946240",
     "exception": false,
     "start_time": "2022-10-19T14:19:08.930614",
     "status": "completed"
    },
    "tags": []
   },
   "source": [
    "# Outliers detection"
   ]
  },
  {
   "cell_type": "code",
   "execution_count": null,
   "id": "906395f0",
   "metadata": {
    "execution": {
     "iopub.execute_input": "2022-10-19T14:19:08.980867Z",
     "iopub.status.busy": "2022-10-19T14:19:08.980475Z",
     "iopub.status.idle": "2022-10-19T14:19:10.879841Z",
     "shell.execute_reply": "2022-10-19T14:19:10.878414Z"
    },
    "papermill": {
     "duration": 1.920968,
     "end_time": "2022-10-19T14:19:10.883027",
     "exception": false,
     "start_time": "2022-10-19T14:19:08.962059",
     "status": "completed"
    },
    "tags": []
   },
   "outputs": [
    {
     "data": {
      "text/plain": [
       "Temperature[C]       AxesSubplot(0.125,0.798085;0.133621x0.0819149)\n",
       "TVOC[ppb]         AxesSubplot(0.285345,0.798085;0.133621x0.0819149)\n",
       "eCO2[ppm]          AxesSubplot(0.44569,0.798085;0.133621x0.0819149)\n",
       "Raw H2            AxesSubplot(0.606034,0.798085;0.133621x0.0819149)\n",
       "PM2.5             AxesSubplot(0.766379,0.798085;0.133621x0.0819149)\n",
       "Fire Alarm           AxesSubplot(0.125,0.699787;0.133621x0.0819149)\n",
       "dtype: object"
      ]
     },
     "execution_count": 118,
     "metadata": {},
     "output_type": "execute_result"
    },
    {
     "data": {
      "image/png": "[encoded data removed]",
      "text/plain": [
       "<Figure size 1700x2000 with 40 Axes>"
      ]
     },
     "metadata": {},
     "output_type": "display_data"
    }
   ],
   "source": [
    "data.plot(kind='box', subplots=True, layout=(8,5), figsize=(17,20))"
   ]
  },
  {
   "cell_type": "code",
   "execution_count": null,
   "id": "4ed1a21f",
   "metadata": {
    "execution": {
     "iopub.execute_input": "2022-10-19T14:19:10.919518Z",
     "iopub.status.busy": "2022-10-19T14:19:10.919078Z",
     "iopub.status.idle": "2022-10-19T14:19:10.923841Z",
     "shell.execute_reply": "2022-10-19T14:19:10.922668Z"
    },
    "papermill": {
     "duration": 0.025192,
     "end_time": "2022-10-19T14:19:10.926432",
     "exception": false,
     "start_time": "2022-10-19T14:19:10.901240",
     "status": "completed"
    },
    "tags": []
   },
   "outputs": [],
   "source": [
    "col = data.columns"
   ]
  },
  {
   "cell_type": "code",
   "execution_count": null,
   "id": "97cb4218",
   "metadata": {
    "execution": {
     "iopub.execute_input": "2022-10-19T14:19:10.962943Z",
     "iopub.status.busy": "2022-10-19T14:19:10.962562Z",
     "iopub.status.idle": "2022-10-19T14:19:10.968266Z",
     "shell.execute_reply": "2022-10-19T14:19:10.967235Z"
    },
    "papermill": {
     "duration": 0.027001,
     "end_time": "2022-10-19T14:19:10.970705",
     "exception": false,
     "start_time": "2022-10-19T14:19:10.943704",
     "status": "completed"
    },
    "tags": []
   },
   "outputs": [],
   "source": [
    "def remove_outlier(col):\n",
    "    sorted(col)\n",
    "    Q1,Q3=np.percentile(col,[25,75])\n",
    "    IQR=Q3-Q1\n",
    "    lower_range= Q1-(1.5 * IQR)\n",
    "    upper_range= Q3+(1.5 * IQR)\n",
    "    return lower_range, upper_range"
   ]
  },
  {
   "cell_type": "code",
   "execution_count": null,
   "id": "a171f26b",
   "metadata": {
    "execution": {
     "iopub.execute_input": "2022-10-19T14:19:11.009532Z",
     "iopub.status.busy": "2022-10-19T14:19:11.008455Z",
     "iopub.status.idle": "2022-10-19T14:19:11.019120Z",
     "shell.execute_reply": "2022-10-19T14:19:11.018096Z"
    },
    "papermill": {
     "duration": 0.032722,
     "end_time": "2022-10-19T14:19:11.021901",
     "exception": false,
     "start_time": "2022-10-19T14:19:10.989179",
     "status": "completed"
    },
    "tags": []
   },
   "outputs": [],
   "source": [
    "data_df=data.copy()\n",
    "df0=data[data['Fire Alarm']==0.0]\n",
    "df1=data[data['Fire Alarm']==1.0]"
   ]
  },
  {
   "cell_type": "code",
   "execution_count": null,
   "id": "642d68a7",
   "metadata": {
    "execution": {
     "iopub.execute_input": "2022-10-19T14:19:11.060245Z",
     "iopub.status.busy": "2022-10-19T14:19:11.059622Z",
     "iopub.status.idle": "2022-10-19T14:19:11.248043Z",
     "shell.execute_reply": "2022-10-19T14:19:11.246595Z"
    },
    "papermill": {
     "duration": 0.211639,
     "end_time": "2022-10-19T14:19:11.251408",
     "exception": false,
     "start_time": "2022-10-19T14:19:11.039769",
     "status": "completed"
    },
    "tags": []
   },
   "outputs": [],
   "source": [
    "dec={\"Colume\":[],\"outliers\":[],\"u_range\":[] , 'l_range':[] ,\"upper\":[] , 'lower':[] ,\n",
    "     \"Nu_range\":[] , 'Nl_range':[] ,\"N_upper\":[] , 'N_lower':[] \n",
    "    }\n",
    "for column in data.iloc[:,:-1].columns:\n",
    "    lr,ur=remove_outlier(df0[column])\n",
    "    u_data=(data_df[(data_df['Fire Alarm']==0)&(data_df[column] > ur)])[column]\n",
    "    l_data=(data_df[(data_df['Fire Alarm']==0)&(data_df[column] < lr)])[column]\n",
    "    dec['Colume'].append(column + \" 0\")\n",
    "    dec['outliers'].append(len(u_data)+len(l_data))\n",
    "    dec['upper'].append(len(u_data))\n",
    "    dec['lower'].append(len(l_data))\n",
    "    dec['u_range'].append(ur)\n",
    "    dec['l_range'].append(lr)\n",
    "    \n",
    "    if not u_data.empty:\n",
    "        u_data=sorted(u_data)\n",
    "        index=int(round(len(u_data)*0.7,0))\n",
    "        ur=u_data[index]\n",
    "        dec['N_upper'].append(len(u_data[index:]))\n",
    "    else:\n",
    "        dec['N_upper'].append(len(u_data))\n",
    "        \n",
    "    if not l_data.empty:\n",
    "        l_data=sorted(l_data)\n",
    "        index=int(round(len(l_data)*0.3,0))\n",
    "        lr=l_data[index]\n",
    "        dec['N_lower'].append(len(l_data[:index]))\n",
    "    else:\n",
    "        dec['N_lower'].append(len(l_data))\n",
    "        \n",
    "    index=(data_df[(data_df['Fire Alarm']==0)&((data_df[column] < lr)|(data_df[column] > ur))]).index\n",
    "    index=index.to_list()\n",
    "    \n",
    "    dec['Nu_range'].append(ur)\n",
    "    dec['Nl_range'].append(lr)\n",
    "    \n",
    "    data_df.drop(index,inplace=True)\n",
    "    \n",
    "    lr,ur=remove_outlier(df1[column])\n",
    "    u_data=(data_df[(data_df['Fire Alarm']==1)&(data_df[column] > ur)])[column]\n",
    "    l_data=(data_df[(data_df['Fire Alarm']==1)&(data_df[column] < lr)])[column]\n",
    "    dec['Colume'].append(column + \" 1\")\n",
    "    dec['outliers'].append(len(u_data)+len(l_data))\n",
    "    dec['upper'].append(len(u_data))\n",
    "    dec['lower'].append(len(l_data))\n",
    "    dec['u_range'].append(ur)\n",
    "    dec['l_range'].append(lr)\n",
    "    \n",
    "    if not u_data.empty:\n",
    "        u_data=sorted(u_data)\n",
    "        index=int(round(len(u_data)*0.7,0))\n",
    "        ur=u_data[index]\n",
    "        dec['N_upper'].append(len(u_data[index:]))\n",
    "    else:\n",
    "        dec['N_upper'].append(len(u_data))\n",
    "        \n",
    "    if not l_data.empty:\n",
    "        l_data=sorted(l_data)\n",
    "        index=int(round(len(l_data)*0.3,0))\n",
    "        lr=l_data[index]\n",
    "        dec['N_lower'].append(len(l_data[:index]))\n",
    "    else:\n",
    "        dec['N_lower'].append(len(l_data))\n",
    "        \n",
    "        \n",
    "    index=(data_df[(data_df['Fire Alarm']==1)&((data_df[column] < lr)|(data_df[column] > ur))]).index\n",
    "    index=index.to_list()\n",
    "    \n",
    "    dec['Nu_range'].append(ur)\n",
    "    dec['Nl_range'].append(lr)\n",
    "    \n",
    "    data_df.drop(index,inplace=True)\n",
    "    "
   ]
  },
  {
   "cell_type": "code",
   "execution_count": null,
   "id": "2ff9a949",
   "metadata": {
    "execution": {
     "iopub.execute_input": "2022-10-19T14:19:11.291648Z",
     "iopub.status.busy": "2022-10-19T14:19:11.290900Z",
     "iopub.status.idle": "2022-10-19T14:19:11.298178Z",
     "shell.execute_reply": "2022-10-19T14:19:11.296977Z"
    },
    "papermill": {
     "duration": 0.030451,
     "end_time": "2022-10-19T14:19:11.300843",
     "exception": false,
     "start_time": "2022-10-19T14:19:11.270392",
     "status": "completed"
    },
    "tags": []
   },
   "outputs": [
    {
     "data": {
      "text/plain": [
       "(57505, 6)"
      ]
     },
     "execution_count": 123,
     "metadata": {},
     "output_type": "execute_result"
    }
   ],
   "source": [
    "data_df.shape"
   ]
  },
  {
   "cell_type": "markdown",
   "id": "293ebfe3",
   "metadata": {
    "papermill": {
     "duration": 0.01934,
     "end_time": "2022-10-19T14:19:11.338827",
     "exception": false,
     "start_time": "2022-10-19T14:19:11.319487",
     "status": "completed"
    },
    "tags": []
   },
   "source": [
    "# EDA"
   ]
  },
  {
   "cell_type": "code",
   "execution_count": null,
   "id": "a957a103",
   "metadata": {
    "execution": {
     "iopub.execute_input": "2022-10-19T14:19:11.377942Z",
     "iopub.status.busy": "2022-10-19T14:19:11.377550Z",
     "iopub.status.idle": "2022-10-19T14:19:11.573773Z",
     "shell.execute_reply": "2022-10-19T14:19:11.572569Z"
    },
    "papermill": {
     "duration": 0.218536,
     "end_time": "2022-10-19T14:19:11.576873",
     "exception": false,
     "start_time": "2022-10-19T14:19:11.358337",
     "status": "completed"
    },
    "tags": []
   },
   "outputs": [
    {
     "data": {
      "text/plain": [
       "<AxesSubplot:xlabel='Fire Alarm', ylabel='count'>"
      ]
     },
     "execution_count": 124,
     "metadata": {},
     "output_type": "execute_result"
    },
    {
     "data": {
      "image/png": "[encoded data removed]",
      "text/plain": [
       "<Figure size 640x480 with 1 Axes>"
      ]
     },
     "metadata": {},
     "output_type": "display_data"
    }
   ],
   "source": [
    "sns.countplot(x='Fire Alarm',data=data)"
   ]
  },
  {
   "cell_type": "code",
   "execution_count": null,
   "id": "e7e52725",
   "metadata": {
    "execution": {
     "iopub.execute_input": "2022-10-19T14:19:11.615395Z",
     "iopub.status.busy": "2022-10-19T14:19:11.614971Z",
     "iopub.status.idle": "2022-10-19T14:19:12.534828Z",
     "shell.execute_reply": "2022-10-19T14:19:12.533477Z"
    },
    "papermill": {
     "duration": 0.941348,
     "end_time": "2022-10-19T14:19:12.537443",
     "exception": false,
     "start_time": "2022-10-19T14:19:11.596095",
     "status": "completed"
    },
    "tags": []
   },
   "outputs": [
    {
     "data": {
      "image/png": "[encoded data removed]",
      "text/plain": [
       "<Figure size 1000x3000 with 5 Axes>"
      ]
     },
     "metadata": {},
     "output_type": "display_data"
    }
   ],
   "source": [
    "cols = list(data_df.columns)\n",
    "cols_df=cols[1:]\n",
    "plt.figure(figsize=(10,30))\n",
    "for i in range(len(cols_df)):\n",
    "    plt.subplot(8,3,i+1)\n",
    "    plt.title(cols_df[i])\n",
    "    plt.xticks(rotation=45)\n",
    "    plt.hist(data[cols_df[i]])\n",
    "    \n",
    "plt.tight_layout()"
   ]
  },
  {
   "cell_type": "code",
   "execution_count": null,
   "id": "acf82800",
   "metadata": {
    "execution": {
     "iopub.execute_input": "2022-10-19T14:19:12.578248Z",
     "iopub.status.busy": "2022-10-19T14:19:12.576960Z",
     "iopub.status.idle": "2022-10-19T14:19:13.480014Z",
     "shell.execute_reply": "2022-10-19T14:19:13.478559Z"
    },
    "papermill": {
     "duration": 0.926417,
     "end_time": "2022-10-19T14:19:13.483238",
     "exception": false,
     "start_time": "2022-10-19T14:19:12.556821",
     "status": "completed"
    },
    "tags": []
   },
   "outputs": [
    {
     "data": {
      "image/png": "[encoded data removed]",
      "text/plain": [
       "<Figure size 1000x3000 with 5 Axes>"
      ]
     },
     "metadata": {},
     "output_type": "display_data"
    }
   ],
   "source": [
    "cols = list(data_df.columns)\n",
    "cols_df=cols[1:]\n",
    "plt.figure(figsize=(10,30))\n",
    "for i in range(len(cols_df)):\n",
    "    plt.subplot(8,3,i+1)\n",
    "    plt.title(cols_df[i])\n",
    "    plt.xticks(rotation=45)\n",
    "    plt.hist(data[cols_df[i]])\n",
    "    \n",
    "plt.tight_layout()"
   ]
  },
  {
   "cell_type": "code",
   "execution_count": null,
   "id": "a515de10",
   "metadata": {
    "execution": {
     "iopub.execute_input": "2022-10-19T14:19:13.523364Z",
     "iopub.status.busy": "2022-10-19T14:19:13.522051Z",
     "iopub.status.idle": "2022-10-19T14:19:16.089162Z",
     "shell.execute_reply": "2022-10-19T14:19:16.087726Z"
    },
    "papermill": {
     "duration": 2.58987,
     "end_time": "2022-10-19T14:19:16.092077",
     "exception": false,
     "start_time": "2022-10-19T14:19:13.502207",
     "status": "completed"
    },
    "tags": []
   },
   "outputs": [
    {
     "data": {
      "text/plain": [
       "<seaborn.axisgrid.JointGrid at 0x28e4bf3d0>"
      ]
     },
     "execution_count": 127,
     "metadata": {},
     "output_type": "execute_result"
    },
    {
     "data": {
      "image/png": "[encoded data removed]",
      "text/plain": [
       "<Figure size 600x600 with 3 Axes>"
      ]
     },
     "metadata": {},
     "output_type": "display_data"
    }
   ],
   "source": [
    "sns.jointplot(x=\"PM2.5\", y=\"Fire Alarm\",  data=data_df, height=6, ratio=2, color=\"yellow\")"
   ]
  },
  {
   "cell_type": "code",
   "execution_count": null,
   "id": "a9cc5f4c",
   "metadata": {
    "execution": {
     "iopub.execute_input": "2022-10-19T14:19:16.131173Z",
     "iopub.status.busy": "2022-10-19T14:19:16.130709Z",
     "iopub.status.idle": "2022-10-19T14:19:17.155157Z",
     "shell.execute_reply": "2022-10-19T14:19:17.153972Z"
    },
    "papermill": {
     "duration": 1.046812,
     "end_time": "2022-10-19T14:19:17.157752",
     "exception": false,
     "start_time": "2022-10-19T14:19:16.110940",
     "status": "completed"
    },
    "tags": []
   },
   "outputs": [
    {
     "data": {
      "text/plain": [
       "<seaborn.axisgrid.JointGrid at 0x28e182350>"
      ]
     },
     "execution_count": 128,
     "metadata": {},
     "output_type": "execute_result"
    },
    {
     "data": {
      "image/png": "[encoded data removed]",
      "text/plain": [
       "<Figure size 600x600 with 3 Axes>"
      ]
     },
     "metadata": {},
     "output_type": "display_data"
    }
   ],
   "source": [
    "sns.jointplot(x=\"Raw H2\", y=\"Fire Alarm\",  data=data_df, height=6, ratio=2, color=\"blue\")"
   ]
  },
  {
   "cell_type": "code",
   "execution_count": null,
   "id": "1991e087",
   "metadata": {
    "execution": {
     "iopub.execute_input": "2022-10-19T14:19:17.197272Z",
     "iopub.status.busy": "2022-10-19T14:19:17.196827Z",
     "iopub.status.idle": "2022-10-19T14:19:18.502822Z",
     "shell.execute_reply": "2022-10-19T14:19:18.501365Z"
    },
    "papermill": {
     "duration": 1.329282,
     "end_time": "2022-10-19T14:19:18.505915",
     "exception": false,
     "start_time": "2022-10-19T14:19:17.176633",
     "status": "completed"
    },
    "tags": []
   },
   "outputs": [
    {
     "data": {
      "text/plain": [
       "<seaborn.axisgrid.JointGrid at 0x28e134970>"
      ]
     },
     "execution_count": 129,
     "metadata": {},
     "output_type": "execute_result"
    },
    {
     "data": {
      "image/png": "[encoded data removed]",
      "text/plain": [
       "<Figure size 600x600 with 3 Axes>"
      ]
     },
     "metadata": {},
     "output_type": "display_data"
    }
   ],
   "source": [
    "sns.jointplot(x=\"eCO2[ppm]\", y=\"Fire Alarm\",  data=data_df, height=6, ratio=2, color=\"lime\")\n",
    "#Temperature[C]"
   ]
  },
  {
   "cell_type": "code",
   "execution_count": null,
   "id": "07d499e6",
   "metadata": {
    "execution": {
     "iopub.execute_input": "2022-10-19T14:19:18.547732Z",
     "iopub.status.busy": "2022-10-19T14:19:18.546018Z",
     "iopub.status.idle": "2022-10-19T14:19:20.172344Z",
     "shell.execute_reply": "2022-10-19T14:19:20.171428Z"
    },
    "papermill": {
     "duration": 1.64984,
     "end_time": "2022-10-19T14:19:20.175069",
     "exception": false,
     "start_time": "2022-10-19T14:19:18.525229",
     "status": "completed"
    },
    "tags": []
   },
   "outputs": [
    {
     "data": {
      "text/plain": [
       "<seaborn.axisgrid.JointGrid at 0x28ec1d540>"
      ]
     },
     "execution_count": 130,
     "metadata": {},
     "output_type": "execute_result"
    },
    {
     "data": {
      "image/png": "[encoded data removed]",
      "text/plain": [
       "<Figure size 600x600 with 3 Axes>"
      ]
     },
     "metadata": {},
     "output_type": "display_data"
    }
   ],
   "source": [
    "sns.jointplot(x=\"TVOC[ppb]\", y=\"Fire Alarm\",  data=data_df, height=6, ratio=2, color=\"lime\")"
   ]
  },
  {
   "cell_type": "code",
   "execution_count": null,
   "id": "29ec2a59",
   "metadata": {
    "execution": {
     "iopub.execute_input": "2022-10-19T14:19:20.215919Z",
     "iopub.status.busy": "2022-10-19T14:19:20.215208Z",
     "iopub.status.idle": "2022-10-19T14:19:20.658517Z",
     "shell.execute_reply": "2022-10-19T14:19:20.657204Z"
    },
    "papermill": {
     "duration": 0.46722,
     "end_time": "2022-10-19T14:19:20.661622",
     "exception": false,
     "start_time": "2022-10-19T14:19:20.194402",
     "status": "completed"
    },
    "tags": []
   },
   "outputs": [
    {
     "data": {
      "text/plain": [
       "<matplotlib.collections.PathCollection at 0x28ebefdf0>"
      ]
     },
     "execution_count": 131,
     "metadata": {},
     "output_type": "execute_result"
    },
    {
     "data": {
      "image/png": "[encoded data removed]",
      "text/plain": [
       "<Figure size 640x480 with 1 Axes>"
      ]
     },
     "metadata": {},
     "output_type": "display_data"
    }
   ],
   "source": [
    "plt.scatter(data_df[\"Raw H2\"], data_df[\"Fire Alarm\"])"
   ]
  },
  {
   "cell_type": "code",
   "execution_count": null,
   "id": "e6170956",
   "metadata": {
    "execution": {
     "iopub.execute_input": "2022-10-19T14:19:20.704870Z",
     "iopub.status.busy": "2022-10-19T14:19:20.704431Z",
     "iopub.status.idle": "2022-10-19T14:19:21.140191Z",
     "shell.execute_reply": "2022-10-19T14:19:21.138946Z"
    },
    "papermill": {
     "duration": 0.46033,
     "end_time": "2022-10-19T14:19:21.142964",
     "exception": false,
     "start_time": "2022-10-19T14:19:20.682634",
     "status": "completed"
    },
    "tags": []
   },
   "outputs": [
    {
     "data": {
      "text/plain": [
       "<matplotlib.collections.PathCollection at 0x28f928850>"
      ]
     },
     "execution_count": 132,
     "metadata": {},
     "output_type": "execute_result"
    },
    {
     "data": {
      "image/png": "[encoded data removed]",
      "text/plain": [
       "<Figure size 640x480 with 1 Axes>"
      ]
     },
     "metadata": {},
     "output_type": "display_data"
    }
   ],
   "source": [
    "plt.scatter(data_df[\"eCO2[ppm]\"], data_df[\"Fire Alarm\"])"
   ]
  },
  {
   "cell_type": "code",
   "execution_count": null,
   "id": "4f7c8455",
   "metadata": {
    "execution": {
     "iopub.execute_input": "2022-10-19T14:19:21.186439Z",
     "iopub.status.busy": "2022-10-19T14:19:21.185338Z",
     "iopub.status.idle": "2022-10-19T14:19:21.608517Z",
     "shell.execute_reply": "2022-10-19T14:19:21.607311Z"
    },
    "papermill": {
     "duration": 0.446888,
     "end_time": "2022-10-19T14:19:21.610981",
     "exception": false,
     "start_time": "2022-10-19T14:19:21.164093",
     "status": "completed"
    },
    "tags": []
   },
   "outputs": [
    {
     "data": {
      "text/plain": [
       "<matplotlib.collections.PathCollection at 0x28f9b16c0>"
      ]
     },
     "execution_count": 133,
     "metadata": {},
     "output_type": "execute_result"
    },
    {
     "data": {
      "image/png": "[encoded data removed]",
      "text/plain": [
       "<Figure size 640x480 with 1 Axes>"
      ]
     },
     "metadata": {},
     "output_type": "display_data"
    }
   ],
   "source": [
    "plt.scatter(data_df[\"TVOC[ppb]\"], data_df[\"Fire Alarm\"])"
   ]
  },
  {
   "cell_type": "code",
   "execution_count": null,
   "id": "12d2a94d",
   "metadata": {
    "execution": {
     "iopub.execute_input": "2022-10-19T14:19:21.655470Z",
     "iopub.status.busy": "2022-10-19T14:19:21.654236Z",
     "iopub.status.idle": "2022-10-19T14:19:22.071940Z",
     "shell.execute_reply": "2022-10-19T14:19:22.070698Z"
    },
    "papermill": {
     "duration": 0.443363,
     "end_time": "2022-10-19T14:19:22.074470",
     "exception": false,
     "start_time": "2022-10-19T14:19:21.631107",
     "status": "completed"
    },
    "tags": []
   },
   "outputs": [
    {
     "data": {
      "text/plain": [
       "<matplotlib.collections.PathCollection at 0x28fa12ce0>"
      ]
     },
     "execution_count": 134,
     "metadata": {},
     "output_type": "execute_result"
    },
    {
     "data": {
      "image/png": "[encoded data removed]",
      "text/plain": [
       "<Figure size 640x480 with 1 Axes>"
      ]
     },
     "metadata": {},
     "output_type": "display_data"
    }
   ],
   "source": [
    "plt.scatter(data_df[\"PM2.5\"], data_df[\"Fire Alarm\"])"
   ]
  },
  {
   "cell_type": "markdown",
   "id": "86143e0d",
   "metadata": {
    "papermill": {
     "duration": 0.020282,
     "end_time": "2022-10-19T14:19:22.115550",
     "exception": false,
     "start_time": "2022-10-19T14:19:22.095268",
     "status": "completed"
    },
    "tags": []
   },
   "source": [
    "# Split the data"
   ]
  },
  {
   "cell_type": "code",
   "execution_count": null,
   "id": "34fa4903",
   "metadata": {
    "execution": {
     "iopub.execute_input": "2022-10-19T14:19:22.159702Z",
     "iopub.status.busy": "2022-10-19T14:19:22.158569Z",
     "iopub.status.idle": "2022-10-19T14:19:22.168029Z",
     "shell.execute_reply": "2022-10-19T14:19:22.167213Z"
    },
    "papermill": {
     "duration": 0.034568,
     "end_time": "2022-10-19T14:19:22.170383",
     "exception": false,
     "start_time": "2022-10-19T14:19:22.135815",
     "status": "completed"
    },
    "tags": []
   },
   "outputs": [],
   "source": [
    "x = data_df.drop(\"Fire Alarm\", axis = 1).values\n",
    "y = data_df['Fire Alarm'].values "
   ]
  },
  {
   "cell_type": "code",
   "execution_count": null,
   "id": "cf698eb1",
   "metadata": {
    "execution": {
     "iopub.execute_input": "2022-10-19T14:19:22.213294Z",
     "iopub.status.busy": "2022-10-19T14:19:22.212696Z",
     "iopub.status.idle": "2022-10-19T14:19:22.223366Z",
     "shell.execute_reply": "2022-10-19T14:19:22.222214Z"
    },
    "papermill": {
     "duration": 0.035354,
     "end_time": "2022-10-19T14:19:22.226168",
     "exception": false,
     "start_time": "2022-10-19T14:19:22.190814",
     "status": "completed"
    },
    "tags": []
   },
   "outputs": [],
   "source": [
    "X_train,X_test,Y_train,Y_test = train_test_split(x,y,test_size=0.2,random_state=0)"
   ]
  },
  {
   "cell_type": "markdown",
   "id": "dcf8d089",
   "metadata": {
    "papermill": {
     "duration": 0.020311,
     "end_time": "2022-10-19T14:19:22.267220",
     "exception": false,
     "start_time": "2022-10-19T14:19:22.246909",
     "status": "completed"
    },
    "tags": []
   },
   "source": [
    "# Scale the data"
   ]
  },
  {
   "cell_type": "code",
   "execution_count": null,
   "id": "537eef7e",
   "metadata": {
    "execution": {
     "iopub.execute_input": "2022-10-19T14:19:22.311172Z",
     "iopub.status.busy": "2022-10-19T14:19:22.310202Z",
     "iopub.status.idle": "2022-10-19T14:19:22.326876Z",
     "shell.execute_reply": "2022-10-19T14:19:22.325632Z"
    },
    "papermill": {
     "duration": 0.041563,
     "end_time": "2022-10-19T14:19:22.329823",
     "exception": false,
     "start_time": "2022-10-19T14:19:22.288260",
     "status": "completed"
    },
    "tags": []
   },
   "outputs": [],
   "source": [
    "sc = StandardScaler()\n",
    "X_train = sc.fit_transform(X_train)\n",
    "X_test = sc.transform(X_test)"
   ]
  },
  {
   "cell_type": "markdown",
   "id": "75857767",
   "metadata": {
    "papermill": {
     "duration": 0.020482,
     "end_time": "2022-10-19T14:19:22.371614",
     "exception": false,
     "start_time": "2022-10-19T14:19:22.351132",
     "status": "completed"
    },
    "tags": []
   },
   "source": [
    "# Initializing Artificial Neural Network\n"
   ]
  },
  {
   "cell_type": "code",
   "execution_count": null,
   "id": "a1176016",
   "metadata": {
    "execution": {
     "iopub.execute_input": "2022-10-19T14:19:22.414993Z",
     "iopub.status.busy": "2022-10-19T14:19:22.414565Z",
     "iopub.status.idle": "2022-10-19T14:19:23.664088Z",
     "shell.execute_reply": "2022-10-19T14:19:23.663048Z"
    },
    "papermill": {
     "duration": 1.273836,
     "end_time": "2022-10-19T14:19:23.666421",
     "exception": false,
     "start_time": "2022-10-19T14:19:22.392585",
     "status": "completed"
    },
    "tags": []
   },
   "outputs": [
    {
     "ename": "NameError",
     "evalue": "name 'keras' is not defined",
     "output_type": "error",
     "traceback": [
      "\u001b[0;31m---------------------------------------------------------------------------\u001b[0m",
      "\u001b[0;31mNameError\u001b[0m                                 Traceback (most recent call last)",
      "Cell \u001b[0;32mIn [138], line 1\u001b[0m\n\u001b[0;32m----> 1\u001b[0m ann \u001b[39m=\u001b[39m keras\u001b[39m.\u001b[39mmodels\u001b[39m.\u001b[39mSequential()\n",
      "\u001b[0;31mNameError\u001b[0m: name 'keras' is not defined"
     ]
    }
   ],
   "source": [
    "ann = tf.keras.models.Sequential()"
   ]
  },
  {
   "cell_type": "markdown",
   "id": "1367224f",
   "metadata": {
    "papermill": {
     "duration": 0.020165,
     "end_time": "2022-10-19T14:19:23.709092",
     "exception": false,
     "start_time": "2022-10-19T14:19:23.688927",
     "status": "completed"
    },
    "tags": []
   },
   "source": [
    "# Creating Hidden Layers"
   ]
  },
  {
   "cell_type": "code",
   "execution_count": null,
   "id": "43a7db4e",
   "metadata": {
    "execution": {
     "iopub.execute_input": "2022-10-19T14:19:23.752044Z",
     "iopub.status.busy": "2022-10-19T14:19:23.751313Z",
     "iopub.status.idle": "2022-10-19T14:19:23.762193Z",
     "shell.execute_reply": "2022-10-19T14:19:23.760561Z"
    },
    "papermill": {
     "duration": 0.035601,
     "end_time": "2022-10-19T14:19:23.765205",
     "exception": false,
     "start_time": "2022-10-19T14:19:23.729604",
     "status": "completed"
    },
    "tags": []
   },
   "outputs": [],
   "source": [
    "ann.add(tf.keras.layers.Dense(units=6,activation=\"relu\"))"
   ]
  },
  {
   "cell_type": "markdown",
   "id": "3326ad8c",
   "metadata": {
    "papermill": {
     "duration": 0.020476,
     "end_time": "2022-10-19T14:19:23.806729",
     "exception": false,
     "start_time": "2022-10-19T14:19:23.786253",
     "status": "completed"
    },
    "tags": []
   },
   "source": [
    "# Creating Output Layer"
   ]
  },
  {
   "cell_type": "code",
   "execution_count": null,
   "id": "c14fe237",
   "metadata": {
    "execution": {
     "iopub.execute_input": "2022-10-19T14:19:23.852598Z",
     "iopub.status.busy": "2022-10-19T14:19:23.852107Z",
     "iopub.status.idle": "2022-10-19T14:19:23.859648Z",
     "shell.execute_reply": "2022-10-19T14:19:23.858118Z"
    },
    "papermill": {
     "duration": 0.03383,
     "end_time": "2022-10-19T14:19:23.862326",
     "exception": false,
     "start_time": "2022-10-19T14:19:23.828496",
     "status": "completed"
    },
    "tags": []
   },
   "outputs": [],
   "source": [
    "ann.add(tf.keras.layers.Dense(units=1,activation=\"sigmoid\"))"
   ]
  },
  {
   "cell_type": "markdown",
   "id": "38e24584",
   "metadata": {
    "papermill": {
     "duration": 0.021172,
     "end_time": "2022-10-19T14:19:23.904856",
     "exception": false,
     "start_time": "2022-10-19T14:19:23.883684",
     "status": "completed"
    },
    "tags": []
   },
   "source": [
    " # Creating Output Layer"
   ]
  },
  {
   "cell_type": "code",
   "execution_count": null,
   "id": "8ebd51a9",
   "metadata": {
    "execution": {
     "iopub.execute_input": "2022-10-19T14:19:23.947417Z",
     "iopub.status.busy": "2022-10-19T14:19:23.946976Z",
     "iopub.status.idle": "2022-10-19T14:19:23.973378Z",
     "shell.execute_reply": "2022-10-19T14:19:23.971740Z"
    },
    "papermill": {
     "duration": 0.050763,
     "end_time": "2022-10-19T14:19:23.976101",
     "exception": false,
     "start_time": "2022-10-19T14:19:23.925338",
     "status": "completed"
    },
    "tags": []
   },
   "outputs": [],
   "source": [
    "ann.compile(optimizer=\"adam\",loss=\"binary_crossentropy\",metrics=['accuracy'])"
   ]
  },
  {
   "cell_type": "markdown",
   "id": "580bf9d9",
   "metadata": {
    "papermill": {
     "duration": 0.021321,
     "end_time": "2022-10-19T14:19:24.018444",
     "exception": false,
     "start_time": "2022-10-19T14:19:23.997123",
     "status": "completed"
    },
    "tags": []
   },
   "source": [
    "# Fitting Artificial Neural Network"
   ]
  },
  {
   "cell_type": "code",
   "execution_count": null,
   "id": "cf3f32af",
   "metadata": {
    "execution": {
     "iopub.execute_input": "2022-10-19T14:19:24.061950Z",
     "iopub.status.busy": "2022-10-19T14:19:24.061219Z",
     "iopub.status.idle": "2022-10-19T14:20:24.157243Z",
     "shell.execute_reply": "2022-10-19T14:20:24.155735Z"
    },
    "papermill": {
     "duration": 60.120884,
     "end_time": "2022-10-19T14:20:24.160019",
     "exception": false,
     "start_time": "2022-10-19T14:19:24.039135",
     "status": "completed"
    },
    "tags": []
   },
   "outputs": [
    {
     "name": "stderr",
     "output_type": "stream",
     "text": [
      "2022-10-19 14:19:24.164857: I tensorflow/compiler/mlir/mlir_graph_optimization_pass.cc:185] None of the MLIR Optimization Passes are enabled (registered 2)\n"
     ]
    },
    {
     "name": "stdout",
     "output_type": "stream",
     "text": [
      "Epoch 1/15\n",
      "2301/2301 [==============================] - 5s 2ms/step - loss: 0.2431 - accuracy: 0.9130 - val_loss: 0.1132 - val_accuracy: 0.9402\n",
      "Epoch 2/15\n",
      "2301/2301 [==============================] - 4s 2ms/step - loss: 0.0972 - accuracy: 0.9716 - val_loss: 0.0824 - val_accuracy: 0.9739\n",
      "Epoch 3/15\n",
      "2301/2301 [==============================] - 4s 2ms/step - loss: 0.0770 - accuracy: 0.9822 - val_loss: 0.0681 - val_accuracy: 0.9810\n",
      "Epoch 4/15\n",
      "2301/2301 [==============================] - 4s 2ms/step - loss: 0.0649 - accuracy: 0.9846 - val_loss: 0.0591 - val_accuracy: 0.9791\n",
      "Epoch 5/15\n",
      "2301/2301 [==============================] - 4s 2ms/step - loss: 0.0569 - accuracy: 0.9862 - val_loss: 0.0509 - val_accuracy: 0.9836\n",
      "Epoch 6/15\n",
      "2301/2301 [==============================] - 4s 2ms/step - loss: 0.0510 - accuracy: 0.9880 - val_loss: 0.0462 - val_accuracy: 0.9903\n",
      "Epoch 7/15\n",
      "2301/2301 [==============================] - 4s 2ms/step - loss: 0.0451 - accuracy: 0.9896 - val_loss: 0.0417 - val_accuracy: 0.9884\n",
      "Epoch 8/15\n",
      "2301/2301 [==============================] - 4s 2ms/step - loss: 0.0413 - accuracy: 0.9905 - val_loss: 0.0388 - val_accuracy: 0.9911\n",
      "Epoch 9/15\n",
      "2301/2301 [==============================] - 4s 2ms/step - loss: 0.0388 - accuracy: 0.9909 - val_loss: 0.0359 - val_accuracy: 0.9897\n",
      "Epoch 10/15\n",
      "2301/2301 [==============================] - 4s 2ms/step - loss: 0.0370 - accuracy: 0.9912 - val_loss: 0.0347 - val_accuracy: 0.9898\n",
      "Epoch 11/15\n",
      "2301/2301 [==============================] - 4s 2ms/step - loss: 0.0356 - accuracy: 0.9916 - val_loss: 0.0338 - val_accuracy: 0.9892\n",
      "Epoch 12/15\n",
      "2301/2301 [==============================] - 4s 2ms/step - loss: 0.0345 - accuracy: 0.9919 - val_loss: 0.0325 - val_accuracy: 0.9919\n",
      "Epoch 13/15\n",
      "2301/2301 [==============================] - 4s 2ms/step - loss: 0.0336 - accuracy: 0.9922 - val_loss: 0.0312 - val_accuracy: 0.9903\n",
      "Epoch 14/15\n",
      "2301/2301 [==============================] - 4s 2ms/step - loss: 0.0330 - accuracy: 0.9920 - val_loss: 0.0309 - val_accuracy: 0.9923\n",
      "Epoch 15/15\n",
      "2301/2301 [==============================] - 4s 2ms/step - loss: 0.0323 - accuracy: 0.9924 - val_loss: 0.0301 - val_accuracy: 0.9923\n"
     ]
    }
   ],
   "source": [
    "history=ann.fit(x=X_train,y=Y_train,validation_data=(X_test,Y_test),batch_size=20,epochs=15)"
   ]
  },
  {
   "cell_type": "code",
   "execution_count": null,
   "id": "7d3e5708",
   "metadata": {
    "execution": {
     "iopub.execute_input": "2022-10-19T14:20:24.338005Z",
     "iopub.status.busy": "2022-10-19T14:20:24.337219Z",
     "iopub.status.idle": "2022-10-19T14:20:24.840822Z",
     "shell.execute_reply": "2022-10-19T14:20:24.839825Z"
    },
    "papermill": {
     "duration": 0.597373,
     "end_time": "2022-10-19T14:20:24.843328",
     "exception": false,
     "start_time": "2022-10-19T14:20:24.245955",
     "status": "completed"
    },
    "tags": []
   },
   "outputs": [],
   "source": [
    "y_pred=ann.predict(X_test)"
   ]
  },
  {
   "cell_type": "code",
   "execution_count": null,
   "id": "0eefc7ff",
   "metadata": {
    "execution": {
     "iopub.execute_input": "2022-10-19T14:20:25.016579Z",
     "iopub.status.busy": "2022-10-19T14:20:25.016117Z",
     "iopub.status.idle": "2022-10-19T14:20:25.024455Z",
     "shell.execute_reply": "2022-10-19T14:20:25.023187Z"
    },
    "papermill": {
     "duration": 0.09863,
     "end_time": "2022-10-19T14:20:25.026699",
     "exception": false,
     "start_time": "2022-10-19T14:20:24.928069",
     "status": "completed"
    },
    "tags": []
   },
   "outputs": [
    {
     "data": {
      "text/plain": [
       "array([[1.        ],\n",
       "       [0.99993265],\n",
       "       [0.2962346 ],\n",
       "       ...,\n",
       "       [1.        ],\n",
       "       [0.9999924 ],\n",
       "       [0.99791014]], dtype=float32)"
      ]
     },
     "execution_count": 40,
     "metadata": {},
     "output_type": "execute_result"
    }
   ],
   "source": [
    "y_pred"
   ]
  },
  {
   "cell_type": "code",
   "execution_count": null,
   "id": "f676cba8",
   "metadata": {
    "execution": {
     "iopub.execute_input": "2022-10-19T14:20:25.196846Z",
     "iopub.status.busy": "2022-10-19T14:20:25.196383Z",
     "iopub.status.idle": "2022-10-19T14:20:25.203898Z",
     "shell.execute_reply": "2022-10-19T14:20:25.202579Z"
    },
    "papermill": {
     "duration": 0.096105,
     "end_time": "2022-10-19T14:20:25.206544",
     "exception": false,
     "start_time": "2022-10-19T14:20:25.110439",
     "status": "completed"
    },
    "tags": []
   },
   "outputs": [
    {
     "data": {
      "text/plain": [
       "numpy.ndarray"
      ]
     },
     "execution_count": 41,
     "metadata": {},
     "output_type": "execute_result"
    }
   ],
   "source": [
    "type(y_pred)"
   ]
  },
  {
   "cell_type": "code",
   "execution_count": null,
   "id": "196f2272",
   "metadata": {
    "execution": {
     "iopub.execute_input": "2022-10-19T14:20:25.379518Z",
     "iopub.status.busy": "2022-10-19T14:20:25.379069Z",
     "iopub.status.idle": "2022-10-19T14:20:25.387219Z",
     "shell.execute_reply": "2022-10-19T14:20:25.385824Z"
    },
    "papermill": {
     "duration": 0.098848,
     "end_time": "2022-10-19T14:20:25.389730",
     "exception": false,
     "start_time": "2022-10-19T14:20:25.290882",
     "status": "completed"
    },
    "tags": []
   },
   "outputs": [],
   "source": [
    "y_pred=list(y_pred)"
   ]
  },
  {
   "cell_type": "code",
   "execution_count": null,
   "id": "630c4a74",
   "metadata": {
    "execution": {
     "iopub.execute_input": "2022-10-19T14:20:25.560425Z",
     "iopub.status.busy": "2022-10-19T14:20:25.560006Z",
     "iopub.status.idle": "2022-10-19T14:20:25.584422Z",
     "shell.execute_reply": "2022-10-19T14:20:25.583346Z"
    },
    "papermill": {
     "duration": 0.1131,
     "end_time": "2022-10-19T14:20:25.587007",
     "exception": false,
     "start_time": "2022-10-19T14:20:25.473907",
     "status": "completed"
    },
    "tags": []
   },
   "outputs": [],
   "source": [
    "for i in range(len(y_pred)):\n",
    "    if y_pred[i] >= .5:\n",
    "        y_pred[i]=1\n",
    "    else : y_pred[i]=0"
   ]
  },
  {
   "cell_type": "markdown",
   "id": "8043f22d",
   "metadata": {
    "papermill": {
     "duration": 0.082466,
     "end_time": "2022-10-19T14:20:25.754244",
     "exception": false,
     "start_time": "2022-10-19T14:20:25.671778",
     "status": "completed"
    },
    "tags": []
   },
   "source": [
    "# Evaluate Artificial Neural Network"
   ]
  },
  {
   "cell_type": "code",
   "execution_count": null,
   "id": "03a8a4a4",
   "metadata": {
    "execution": {
     "iopub.execute_input": "2022-10-19T14:20:25.925338Z",
     "iopub.status.busy": "2022-10-19T14:20:25.924899Z",
     "iopub.status.idle": "2022-10-19T14:20:26.477674Z",
     "shell.execute_reply": "2022-10-19T14:20:26.476737Z"
    },
    "papermill": {
     "duration": 0.641202,
     "end_time": "2022-10-19T14:20:26.479846",
     "exception": false,
     "start_time": "2022-10-19T14:20:25.838644",
     "status": "completed"
    },
    "tags": []
   },
   "outputs": [
    {
     "name": "stdout",
     "output_type": "stream",
     "text": [
      "360/360 [==============================] - 1s 1ms/step - loss: 0.0301 - accuracy: 0.9923\n"
     ]
    },
    {
     "data": {
      "text/plain": [
       "[0.030144473537802696, 0.9923484921455383]"
      ]
     },
     "execution_count": 44,
     "metadata": {},
     "output_type": "execute_result"
    }
   ],
   "source": [
    "ann.evaluate(X_test,Y_test)"
   ]
  },
  {
   "cell_type": "code",
   "execution_count": null,
   "id": "b0e5fe01",
   "metadata": {
    "execution": {
     "iopub.execute_input": "2022-10-19T14:20:26.651832Z",
     "iopub.status.busy": "2022-10-19T14:20:26.651185Z",
     "iopub.status.idle": "2022-10-19T14:20:26.658370Z",
     "shell.execute_reply": "2022-10-19T14:20:26.657487Z"
    },
    "papermill": {
     "duration": 0.095576,
     "end_time": "2022-10-19T14:20:26.660443",
     "exception": false,
     "start_time": "2022-10-19T14:20:26.564867",
     "status": "completed"
    },
    "tags": []
   },
   "outputs": [
    {
     "data": {
      "text/plain": [
       "{'loss': [0.24309778213500977,\n",
       "  0.09723441302776337,\n",
       "  0.07699643820524216,\n",
       "  0.06492576748132706,\n",
       "  0.05687633901834488,\n",
       "  0.05095677077770233,\n",
       "  0.04510675370693207,\n",
       "  0.04129965975880623,\n",
       "  0.038782138377428055,\n",
       "  0.03700737655162811,\n",
       "  0.035608015954494476,\n",
       "  0.03445173054933548,\n",
       "  0.03361913189291954,\n",
       "  0.032974857836961746,\n",
       "  0.03234211355447769],\n",
       " 'accuracy': [0.9129858016967773,\n",
       "  0.9715894460678101,\n",
       "  0.9822406768798828,\n",
       "  0.9845883250236511,\n",
       "  0.9862185716629028,\n",
       "  0.9880445003509521,\n",
       "  0.9895878434181213,\n",
       "  0.990522563457489,\n",
       "  0.9908703565597534,\n",
       "  0.9912181496620178,\n",
       "  0.9915659427642822,\n",
       "  0.9918919801712036,\n",
       "  0.9921963214874268,\n",
       "  0.9920441508293152,\n",
       "  0.9923702478408813],\n",
       " 'val_loss': [0.11317571252584457,\n",
       "  0.08243729174137115,\n",
       "  0.06813739985227585,\n",
       "  0.059147849678993225,\n",
       "  0.05091346800327301,\n",
       "  0.04616902768611908,\n",
       "  0.041739217936992645,\n",
       "  0.03876226022839546,\n",
       "  0.03589104861021042,\n",
       "  0.034745000302791595,\n",
       "  0.033776696771383286,\n",
       "  0.03245752304792404,\n",
       "  0.03120272606611252,\n",
       "  0.030912145972251892,\n",
       "  0.030144475400447845],\n",
       " 'val_accuracy': [0.9401791095733643,\n",
       "  0.9739153385162354,\n",
       "  0.981045126914978,\n",
       "  0.9791322350502014,\n",
       "  0.9835666418075562,\n",
       "  0.9903486371040344,\n",
       "  0.9884358048439026,\n",
       "  0.9911311864852905,\n",
       "  0.9897400140762329,\n",
       "  0.9898269772529602,\n",
       "  0.9892183542251587,\n",
       "  0.9919137358665466,\n",
       "  0.9903486371040344,\n",
       "  0.9923484921455383,\n",
       "  0.9923484921455383]}"
      ]
     },
     "execution_count": 45,
     "metadata": {},
     "output_type": "execute_result"
    }
   ],
   "source": [
    "history.history"
   ]
  },
  {
   "cell_type": "code",
   "execution_count": null,
   "id": "a83e6fea",
   "metadata": {
    "execution": {
     "iopub.execute_input": "2022-10-19T14:20:26.830912Z",
     "iopub.status.busy": "2022-10-19T14:20:26.829804Z",
     "iopub.status.idle": "2022-10-19T14:20:27.057392Z",
     "shell.execute_reply": "2022-10-19T14:20:27.055917Z"
    },
    "papermill": {
     "duration": 0.315604,
     "end_time": "2022-10-19T14:20:27.059963",
     "exception": false,
     "start_time": "2022-10-19T14:20:26.744359",
     "status": "completed"
    },
    "tags": []
   },
   "outputs": [
    {
     "data": {
      "image/png": "[encoded data removed]",
      "text/plain": [
       "<Figure size 432x288 with 1 Axes>"
      ]
     },
     "metadata": {
      "needs_background": "light"
     },
     "output_type": "display_data"
    }
   ],
   "source": [
    "plt.title('Loss / Mean Squared Error')\n",
    "plt.plot(history.history['loss'], label='train')\n",
    "plt.plot(history.history['val_loss'], label='test')\n",
    "plt.legend()\n",
    "plt.show()"
   ]
  },
  {
   "cell_type": "markdown",
   "id": "99470777",
   "metadata": {
    "papermill": {
     "duration": 0.083471,
     "end_time": "2022-10-19T14:20:27.228260",
     "exception": false,
     "start_time": "2022-10-19T14:20:27.144789",
     "status": "completed"
    },
    "tags": []
   },
   "source": [
    "# Classification Report"
   ]
  },
  {
   "cell_type": "code",
   "execution_count": null,
   "id": "8bbc6b37",
   "metadata": {
    "execution": {
     "iopub.execute_input": "2022-10-19T14:20:27.399599Z",
     "iopub.status.busy": "2022-10-19T14:20:27.399202Z",
     "iopub.status.idle": "2022-10-19T14:20:27.411431Z",
     "shell.execute_reply": "2022-10-19T14:20:27.410019Z"
    },
    "papermill": {
     "duration": 0.101495,
     "end_time": "2022-10-19T14:20:27.413993",
     "exception": false,
     "start_time": "2022-10-19T14:20:27.312498",
     "status": "completed"
    },
    "tags": []
   },
   "outputs": [
    {
     "name": "stdout",
     "output_type": "stream",
     "text": [
      "[[3156   68]\n",
      " [  20 8257]]\n"
     ]
    }
   ],
   "source": [
    "print(confusion_matrix(Y_test,y_pred))"
   ]
  },
  {
   "cell_type": "code",
   "execution_count": null,
   "id": "0f075004",
   "metadata": {
    "execution": {
     "iopub.execute_input": "2022-10-19T14:20:27.586609Z",
     "iopub.status.busy": "2022-10-19T14:20:27.585858Z",
     "iopub.status.idle": "2022-10-19T14:20:27.618593Z",
     "shell.execute_reply": "2022-10-19T14:20:27.616943Z"
    },
    "papermill": {
     "duration": 0.122899,
     "end_time": "2022-10-19T14:20:27.622737",
     "exception": false,
     "start_time": "2022-10-19T14:20:27.499838",
     "status": "completed"
    },
    "tags": []
   },
   "outputs": [
    {
     "name": "stdout",
     "output_type": "stream",
     "text": [
      "              precision    recall  f1-score   support\n",
      "\n",
      "       Alarm       0.99      0.98      0.99      3224\n",
      "    No Alarm       0.99      1.00      0.99      8277\n",
      "\n",
      "    accuracy                           0.99     11501\n",
      "   macro avg       0.99      0.99      0.99     11501\n",
      "weighted avg       0.99      0.99      0.99     11501\n",
      "\n"
     ]
    }
   ],
   "source": [
    "print(classification_report(Y_test, y_pred, target_names=[\"Alarm\", \"No Alarm\"]))"
   ]
  },
  {
   "cell_type": "code",
   "execution_count": null,
   "id": "e4f5c10a",
   "metadata": {
    "papermill": {
     "duration": 0.086692,
     "end_time": "2022-10-19T14:20:27.797373",
     "exception": false,
     "start_time": "2022-10-19T14:20:27.710681",
     "status": "completed"
    },
    "tags": []
   },
   "outputs": [],
   "source": []
  }
 ],
 "metadata": {
  "kernelspec": {
   "display_name": "Python 3.10.8 64-bit",
   "language": "python",
   "name": "python3"
  },
  "language_info": {
   "codemirror_mode": {
    "name": "ipython",
    "version": 3
   },
   "file_extension": ".py",
   "mimetype": "text/x-python",
   "name": "python",
   "nbconvert_exporter": "python",
   "pygments_lexer": "ipython3",
   "version": "3.10.8"
  },
  "papermill": {
   "default_parameters": {},
   "duration": 102.351109,
   "end_time": "2022-10-19T14:20:30.659577",
   "environment_variables": {},
   "exception": null,
   "input_path": "__notebook__.ipynb",
   "output_path": "__notebook__.ipynb",
   "parameters": {},
   "start_time": "2022-10-19T14:18:48.308468",
   "version": "2.3.4"
  },
  "vscode": {
   "interpreter": {
    "hash": "b0fa6594d8f4cbf19f97940f81e996739fb7646882a419484c72d19e05852a7e"
   }
  }
 },
 "nbformat": 4,
 "nbformat_minor": 5
}
